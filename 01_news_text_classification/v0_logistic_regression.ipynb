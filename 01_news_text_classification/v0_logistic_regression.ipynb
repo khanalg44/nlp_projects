{
 "cells": [
  {
   "cell_type": "markdown",
   "metadata": {},
   "source": [
    "\n",
    "# News Text Classification\n",
    "\n",
    "* News Category Dataset set from [Kaggle competition](https://www.kaggle.com/rmisra/news-category-dataset).\n",
    "* Nice [sklearn tutorial](https://scikit-learn.org/stable/tutorial/text_analytics/working_with_text_data.html).\n",
    "\n",
    "\n",
    "\n",
    "## 1. Understanding the data\n",
    "\n"
   ]
  },
  {
   "cell_type": "code",
   "execution_count": 1,
   "metadata": {},
   "outputs": [],
   "source": [
    "import pandas as pd\n",
    "import numpy as np\n",
    "import pylab as plt\n",
    " \n",
    "#this assumes one json item per line in json file\n",
    "df=pd.read_json(\"./data/news_category_dataset.json\", lines=True)"
   ]
  },
  {
   "cell_type": "code",
   "execution_count": 2,
   "metadata": {},
   "outputs": [
    {
     "name": "stdout",
     "output_type": "stream",
     "text": [
      "df.types:\n",
      " short_description            object\n",
      "headline                     object\n",
      "date                 datetime64[ns]\n",
      "link                         object\n",
      "authors                      object\n",
      "category                     object\n",
      "dtype: object\n",
      "\n",
      " df.shape:  (124989, 6)\n"
     ]
    }
   ],
   "source": [
    "print ( 'df.types:\\n',df.dtypes)\n",
    "print ( '\\n df.shape: ',df.shape)"
   ]
  },
  {
   "cell_type": "code",
   "execution_count": 3,
   "metadata": {},
   "outputs": [
    {
     "data": {
      "text/html": [
       "<div>\n",
       "<style scoped>\n",
       "    .dataframe tbody tr th:only-of-type {\n",
       "        vertical-align: middle;\n",
       "    }\n",
       "\n",
       "    .dataframe tbody tr th {\n",
       "        vertical-align: top;\n",
       "    }\n",
       "\n",
       "    .dataframe thead th {\n",
       "        text-align: right;\n",
       "    }\n",
       "</style>\n",
       "<table border=\"1\" class=\"dataframe\">\n",
       "  <thead>\n",
       "    <tr style=\"text-align: right;\">\n",
       "      <th></th>\n",
       "      <th>short_description</th>\n",
       "      <th>headline</th>\n",
       "      <th>date</th>\n",
       "      <th>link</th>\n",
       "      <th>authors</th>\n",
       "      <th>category</th>\n",
       "    </tr>\n",
       "  </thead>\n",
       "  <tbody>\n",
       "    <tr>\n",
       "      <th>34920</th>\n",
       "      <td>\"We never lost hope,\" an uncle in Chicago says.</td>\n",
       "      <td>Syrian Refugees Halted By Trump’s Travel Ban M...</td>\n",
       "      <td>2017-02-08</td>\n",
       "      <td>https://www.huffingtonpost.com/entry/syrian-re...</td>\n",
       "      <td>Kim Bellware</td>\n",
       "      <td>POLITICS</td>\n",
       "    </tr>\n",
       "    <tr>\n",
       "      <th>102627</th>\n",
       "      <td></td>\n",
       "      <td>Teen Accused Of Threatening Police On Twitter</td>\n",
       "      <td>2014-12-31</td>\n",
       "      <td>https://www.huffingtonpost.com/entry/texas-tee...</td>\n",
       "      <td></td>\n",
       "      <td>CRIME</td>\n",
       "    </tr>\n",
       "    <tr>\n",
       "      <th>77087</th>\n",
       "      <td>But the partisan divide on gun control is even...</td>\n",
       "      <td>Support For Stricter Gun Laws Has Jumped Since...</td>\n",
       "      <td>2015-10-19</td>\n",
       "      <td>https://www.huffingtonpost.com/entry/gun-contr...</td>\n",
       "      <td>Ariel Edwards-Levy</td>\n",
       "      <td>POLITICS</td>\n",
       "    </tr>\n",
       "    <tr>\n",
       "      <th>106383</th>\n",
       "      <td>While a host of progressive issues are dear to...</td>\n",
       "      <td>Democrats Need to Coalesce Around Hillary Clin...</td>\n",
       "      <td>2014-11-18</td>\n",
       "      <td>https://www.huffingtonpost.com/entry/democrats...</td>\n",
       "      <td>Jeza Belle, ContributorDrag queen, comedian an...</td>\n",
       "      <td>POLITICS</td>\n",
       "    </tr>\n",
       "  </tbody>\n",
       "</table>\n",
       "</div>"
      ],
      "text/plain": [
       "                                        short_description  \\\n",
       "34920     \"We never lost hope,\" an uncle in Chicago says.   \n",
       "102627                                                      \n",
       "77087   But the partisan divide on gun control is even...   \n",
       "106383  While a host of progressive issues are dear to...   \n",
       "\n",
       "                                                 headline       date  \\\n",
       "34920   Syrian Refugees Halted By Trump’s Travel Ban M... 2017-02-08   \n",
       "102627      Teen Accused Of Threatening Police On Twitter 2014-12-31   \n",
       "77087   Support For Stricter Gun Laws Has Jumped Since... 2015-10-19   \n",
       "106383  Democrats Need to Coalesce Around Hillary Clin... 2014-11-18   \n",
       "\n",
       "                                                     link  \\\n",
       "34920   https://www.huffingtonpost.com/entry/syrian-re...   \n",
       "102627  https://www.huffingtonpost.com/entry/texas-tee...   \n",
       "77087   https://www.huffingtonpost.com/entry/gun-contr...   \n",
       "106383  https://www.huffingtonpost.com/entry/democrats...   \n",
       "\n",
       "                                                  authors  category  \n",
       "34920                                        Kim Bellware  POLITICS  \n",
       "102627                                                        CRIME  \n",
       "77087                                  Ariel Edwards-Levy  POLITICS  \n",
       "106383  Jeza Belle, ContributorDrag queen, comedian an...  POLITICS  "
      ]
     },
     "execution_count": 3,
     "metadata": {},
     "output_type": "execute_result"
    }
   ],
   "source": [
    "df.sample(4)"
   ]
  },
  {
   "cell_type": "code",
   "execution_count": 4,
   "metadata": {},
   "outputs": [
    {
     "data": {
      "text/plain": [
       "Index(['short_description', 'headline', 'date', 'link', 'authors', 'category'], dtype='object')"
      ]
     },
     "execution_count": 4,
     "metadata": {},
     "output_type": "execute_result"
    }
   ],
   "source": [
    "df.columns"
   ]
  },
  {
   "cell_type": "markdown",
   "metadata": {},
   "source": [
    "### 1.1 Date in the Data"
   ]
  },
  {
   "cell_type": "code",
   "execution_count": 5,
   "metadata": {},
   "outputs": [
    {
     "name": "stdout",
     "output_type": "stream",
     "text": [
      "Date ranges from  2014-04-18 to 2018-05-26\n"
     ]
    }
   ],
   "source": [
    "print ('Date ranges from ', df.date.min().strftime('%Y-%m-%d'), 'to', df.date.max().strftime('%Y-%m-%d') )"
   ]
  },
  {
   "cell_type": "code",
   "execution_count": 6,
   "metadata": {},
   "outputs": [
    {
     "data": {
      "image/png": "[encoded data removed]",
      "text/plain": [
       "<Figure size 864x288 with 1 Axes>"
      ]
     },
     "metadata": {
      "needs_background": "light"
     },
     "output_type": "display_data"
    }
   ],
   "source": [
    "df.date.hist(color='steelblue', figsize=(12,4)) # lightskyblue\n",
    "plt.title('Histogram of Dates',fontsize=16)\n",
    "plt.xticks(fontsize=16, rotation=90);\n",
    "plt.yticks(fontsize=16); #, color='maroon'\n"
   ]
  },
  {
   "cell_type": "markdown",
   "metadata": {},
   "source": [
    "### 1.2 News Category"
   ]
  },
  {
   "cell_type": "code",
   "execution_count": 7,
   "metadata": {},
   "outputs": [
    {
     "name": "stdout",
     "output_type": "stream",
     "text": [
      "Unique Catagories:\n",
      " ['CRIME' 'ENTERTAINMENT' 'WORLD NEWS' 'IMPACT' 'POLITICS' 'WEIRD NEWS'\n",
      " 'BLACK VOICES' 'WOMEN' 'COMEDY' 'QUEER VOICES' 'SPORTS' 'BUSINESS'\n",
      " 'TRAVEL' 'MEDIA' 'TECH' 'RELIGION' 'SCIENCE' 'LATINO VOICES' 'EDUCATION'\n",
      " 'COLLEGE' 'PARENTS' 'ARTS & CULTURE' 'STYLE' 'GREEN' 'TASTE'\n",
      " 'HEALTHY LIVING' 'THE WORLDPOST' 'GOOD NEWS' 'WORLDPOST' 'FIFTY' 'ARTS']\n",
      "\n",
      "There are Total: 31 categories \n"
     ]
    }
   ],
   "source": [
    "print ('Unique Catagories:\\n', df.category.unique() )\n",
    "print (f\"\\nThere are Total: {len(df.category.unique())} categories \")"
   ]
  },
  {
   "cell_type": "code",
   "execution_count": 8,
   "metadata": {},
   "outputs": [
    {
     "data": {
      "image/png": "[encoded data removed]",
      "text/plain": [
       "<Figure size 1152x288 with 1 Axes>"
      ]
     },
     "metadata": {
      "needs_background": "light"
     },
     "output_type": "display_data"
    }
   ],
   "source": [
    "df.category.hist(color='steelblue', figsize=(16, 4)) # lightskyblue\n",
    "plt.title('Histogram of Categories',fontsize=18)\n",
    "plt.xticks(fontsize=16, rotation=90, color='maroon');"
   ]
  },
  {
   "cell_type": "markdown",
   "metadata": {},
   "source": [
    "<font size=\"4\" color='red'> NOTE: Be careful </font> in plotting the histogram as it gets the axes the wrong way round i.e. it tries to partition the y-axis (counts) into bins, and then plots the number of string labels in each bin."
   ]
  },
  {
   "cell_type": "code",
   "execution_count": 9,
   "metadata": {},
   "outputs": [
    {
     "data": {
      "image/png": "[encoded data removed]",
      "text/plain": [
       "<Figure size 1152x288 with 1 Axes>"
      ]
     },
     "metadata": {
      "needs_background": "light"
     },
     "output_type": "display_data"
    }
   ],
   "source": [
    "df.category.value_counts().plot(kind='bar', color='steelblue', figsize=(16, 4))\n",
    "plt.title('Value Counts of Categories',fontsize=18)\n",
    "plt.xticks(fontsize=16, rotation=90, color='maroon');"
   ]
  },
  {
   "cell_type": "markdown",
   "metadata": {},
   "source": [
    "Politics has the highest number of articles and education has the least number (as expected) who cares about education!."
   ]
  },
  {
   "cell_type": "markdown",
   "metadata": {},
   "source": [
    "### 1.3  Words Count"
   ]
  },
  {
   "cell_type": "code",
   "execution_count": 10,
   "metadata": {},
   "outputs": [
    {
     "name": "stdout",
     "output_type": "stream",
     "text": [
      "dict_items([('CRIME', 2893), ('ENTERTAINMENT', 14257), ('WORLD NEWS', 2177), ('IMPACT', 2602), ('POLITICS', 32739), ('WEIRD NEWS', 2670), ('BLACK VOICES', 3858), ('WOMEN', 3490), ('COMEDY', 3971), ('QUEER VOICES', 4995), ('SPORTS', 4167), ('BUSINESS', 4254), ('TRAVEL', 2145), ('MEDIA', 2815), ('TECH', 1231), ('RELIGION', 2556), ('SCIENCE', 1381), ('LATINO VOICES', 1129), ('EDUCATION', 1004), ('COLLEGE', 1144), ('PARENTS', 3955), ('ARTS & CULTURE', 1339), ('STYLE', 2254), ('GREEN', 2622), ('TASTE', 2096), ('HEALTHY LIVING', 6694), ('THE WORLDPOST', 3664), ('GOOD NEWS', 1398), ('WORLDPOST', 2579), ('FIFTY', 1401), ('ARTS', 1509)])\n",
      "POLITICS          32739\n",
      "ENTERTAINMENT     14257\n",
      "HEALTHY LIVING     6694\n",
      "QUEER VOICES       4995\n",
      "BUSINESS           4254\n",
      "SPORTS             4167\n",
      "COMEDY             3971\n",
      "PARENTS            3955\n",
      "BLACK VOICES       3858\n",
      "THE WORLDPOST      3664\n",
      "WOMEN              3490\n",
      "CRIME              2893\n",
      "MEDIA              2815\n",
      "WEIRD NEWS         2670\n",
      "GREEN              2622\n",
      "IMPACT             2602\n",
      "WORLDPOST          2579\n",
      "RELIGION           2556\n",
      "STYLE              2254\n",
      "WORLD NEWS         2177\n",
      "TRAVEL             2145\n",
      "TASTE              2096\n",
      "ARTS               1509\n",
      "FIFTY              1401\n",
      "GOOD NEWS          1398\n",
      "SCIENCE            1381\n",
      "ARTS & CULTURE     1339\n",
      "TECH               1231\n",
      "COLLEGE            1144\n",
      "LATINO VOICES      1129\n",
      "EDUCATION          1004\n",
      "Name: category, dtype: int64\n"
     ]
    }
   ],
   "source": [
    "from collections import Counter\n",
    "all_cats = df.category.values\n",
    "cc= Counter(all_cats)\n",
    "print ( cc.items() )\n",
    "\n",
    "print ( df.category.value_counts() )"
   ]
  },
  {
   "cell_type": "markdown",
   "metadata": {},
   "source": [
    "## 2. Texts for Classification\n",
    "\n",
    "These are some of the fields we can use for the classification task. We create 3 different versions.\n",
    "\n",
    "**tokenize_url**"
   ]
  },
  {
   "cell_type": "code",
   "execution_count": 11,
   "metadata": {},
   "outputs": [
    {
     "name": "stdout",
     "output_type": "stream",
     "text": [
      "actual link: https://www.huffingtonpost.com/entry/texas-amanda-painter-mass-shooting_us_5b081ab4e4b0802d69caad89\n",
      "processed link: texas amanda painter mass shooting us 5b081ab4e4b0802d69caad89\n"
     ]
    }
   ],
   "source": [
    "import re\n",
    "\n",
    "link1 = df['link'][0]\n",
    "print (\"actual link:\", link1)\n",
    "# replace part of the link by space\n",
    "link1 = link1.replace(\"https://www.huffingtonpost.com/entry/\",\"\")\n",
    "link1 = re.sub(\"(\\W|_)+\",\" \",link1)\n",
    "print (\"processed link:\", link1)"
   ]
  },
  {
   "cell_type": "code",
   "execution_count": 12,
   "metadata": {},
   "outputs": [],
   "source": [
    "def Tokenize(url):   \n",
    "    url=url.replace(\"https://www.huffingtonpost.com/entry/\",\"\")\n",
    "    url=re.sub(\"(\\W|_)+\",\" \",url)\n",
    "    return url\n",
    "\n",
    "df['tokenized_url']=df['link'].apply(lambda x:Tokenize(x))\n",
    "\n",
    "#just the description\n",
    "df['text_desc'] = df['short_description']\n",
    "\n",
    "#description + headline\n",
    "df['text_desc_headline'] = df['short_description'] + ' '+ df['headline']\n",
    "\n",
    "#description + headline + tokenized url\n",
    "df['text_desc_headline_url'] = df['short_description'] + ' '+ df['headline']+\" \" + df['tokenized_url']\n"
   ]
  },
  {
   "cell_type": "code",
   "execution_count": 13,
   "metadata": {},
   "outputs": [
    {
     "data": {
      "text/html": [
       "<div>\n",
       "<style scoped>\n",
       "    .dataframe tbody tr th:only-of-type {\n",
       "        vertical-align: middle;\n",
       "    }\n",
       "\n",
       "    .dataframe tbody tr th {\n",
       "        vertical-align: top;\n",
       "    }\n",
       "\n",
       "    .dataframe thead th {\n",
       "        text-align: right;\n",
       "    }\n",
       "</style>\n",
       "<table border=\"1\" class=\"dataframe\">\n",
       "  <thead>\n",
       "    <tr style=\"text-align: right;\">\n",
       "      <th></th>\n",
       "      <th>short_description</th>\n",
       "      <th>headline</th>\n",
       "      <th>date</th>\n",
       "      <th>link</th>\n",
       "      <th>authors</th>\n",
       "      <th>category</th>\n",
       "      <th>tokenized_url</th>\n",
       "      <th>text_desc</th>\n",
       "      <th>text_desc_headline</th>\n",
       "      <th>text_desc_headline_url</th>\n",
       "    </tr>\n",
       "  </thead>\n",
       "  <tbody>\n",
       "    <tr>\n",
       "      <th>0</th>\n",
       "      <td>She left her husband. He killed their children...</td>\n",
       "      <td>There Were 2 Mass Shootings In Texas Last Week...</td>\n",
       "      <td>2018-05-26</td>\n",
       "      <td>https://www.huffingtonpost.com/entry/texas-ama...</td>\n",
       "      <td>Melissa Jeltsen</td>\n",
       "      <td>CRIME</td>\n",
       "      <td>texas amanda painter mass shooting us 5b081ab4...</td>\n",
       "      <td>She left her husband. He killed their children...</td>\n",
       "      <td>She left her husband. He killed their children...</td>\n",
       "      <td>She left her husband. He killed their children...</td>\n",
       "    </tr>\n",
       "  </tbody>\n",
       "</table>\n",
       "</div>"
      ],
      "text/plain": [
       "                                   short_description  \\\n",
       "0  She left her husband. He killed their children...   \n",
       "\n",
       "                                            headline       date  \\\n",
       "0  There Were 2 Mass Shootings In Texas Last Week... 2018-05-26   \n",
       "\n",
       "                                                link          authors  \\\n",
       "0  https://www.huffingtonpost.com/entry/texas-ama...  Melissa Jeltsen   \n",
       "\n",
       "  category                                      tokenized_url  \\\n",
       "0    CRIME  texas amanda painter mass shooting us 5b081ab4...   \n",
       "\n",
       "                                           text_desc  \\\n",
       "0  She left her husband. He killed their children...   \n",
       "\n",
       "                                  text_desc_headline  \\\n",
       "0  She left her husband. He killed their children...   \n",
       "\n",
       "                              text_desc_headline_url  \n",
       "0  She left her husband. He killed their children...  "
      ]
     },
     "execution_count": 13,
     "metadata": {},
     "output_type": "execute_result"
    }
   ],
   "source": [
    "df.head(1)"
   ]
  },
  {
   "cell_type": "code",
   "execution_count": 14,
   "metadata": {},
   "outputs": [
    {
     "data": {
      "text/plain": [
       "'texas amanda painter mass shooting us 5b081ab4e4b0802d69caad89'"
      ]
     },
     "execution_count": 14,
     "metadata": {},
     "output_type": "execute_result"
    }
   ],
   "source": [
    "df['tokenized_url'][0]"
   ]
  },
  {
   "cell_type": "markdown",
   "metadata": {},
   "source": [
    "## 3. Training Logistic Regression Model\n",
    "\n",
    "### 3.1 Extract Features, Top k prediction"
   ]
  },
  {
   "cell_type": "code",
   "execution_count": 15,
   "metadata": {},
   "outputs": [],
   "source": [
    "from sklearn.metrics import precision_recall_fscore_support\n",
    "from sklearn.model_selection import train_test_split\n",
    "from sklearn.linear_model import LogisticRegression\n",
    "from sklearn.feature_extraction.text import CountVectorizer,TfidfVectorizer"
   ]
  },
  {
   "cell_type": "code",
   "execution_count": 16,
   "metadata": {},
   "outputs": [],
   "source": [
    "def ExtractFeatures(df, field, feature):\n",
    "    # train, test, validation split (60%, 20%, 20%)\n",
    "    df_train_val, df_test  = train_test_split(df, test_size=0.2, random_state = 8848)\n",
    "    df_train    , df_valid = train_test_split(df_train_val, test_size=0.25, random_state = 8848)\n",
    "\n",
    "    \"\"\"Extract features for given field and using different methods\"\"\"\n",
    "    # otain vectorizer for different methods\n",
    "    if feature in [\"binary\", \"counts\"]:\n",
    "        binary = (feature==\"binary\")\n",
    "        vectorizer = CountVectorizer(max_df=0.95, min_df=0.05)\n",
    "    else:\n",
    "        vectorizer = TfidfVectorizer(use_idf=True, max_df=0.95, min_df=0.05)\n",
    "    vectorizer.fit_transform(df_train[field].values)\n",
    "    \n",
    "    X_train = vectorizer.transform(df_train[field].values)\n",
    "    X_valid = vectorizer.transform(df_valid[field].values)\n",
    "    X_test  = vectorizer.transform( df_test[field].values)\n",
    "    \n",
    "    y_train = df_train['category'].values\n",
    "    y_test  =  df_test['category'].values\n",
    "    y_valid = df_valid['category'].values\n",
    "\n",
    "    return X_train, X_valid, X_test, y_train, y_valid, y_test, vectorizer\n"
   ]
  },
  {
   "cell_type": "code",
   "execution_count": 17,
   "metadata": {},
   "outputs": [],
   "source": [
    "def TopKPrediction(model, X, k):\n",
    "    # get probabilities for all the labels\n",
    "    probs = model.predict_proba(X) #; print (probs.shape)\n",
    "    # find the Top k values\n",
    "    # Note1: np.argsort sorts starting the smallest so pick last k values for the biggest ones\n",
    "    best_n = np.argsort(probs, axis=1)[:, -k:]\n",
    "    # Note2: we pick the last three in that order meaning the last one is the biggest one.\n",
    "    # So reverse each item so that first prediction is the top prediction\n",
    "    best_n = [ item[::-1] for item in best_n]\n",
    "    #convert the numbers to class using model.classes_\n",
    "    preds_topk = [[model.classes_[predicted_cat] for predicted_cat in prediction] for prediction in best_n]\n",
    "    return preds_topk\n",
    "\n",
    "def ComputeAccuracy(y , y_preds_topk):\n",
    "    # Check if the actual label is among the top-k prediction\n",
    "    return sum( [ y[i] in y_preds_topk[i] for i in range(len(y))]  ) / (len(y)+0.)"
   ]
  },
  {
   "cell_type": "markdown",
   "metadata": {},
   "source": [
    "### Mean Reciprocal Rank\n",
    "\n",
    "Here is a [nice presentation on MRR](https://dibt.unimol.it/TAinSM2012/slides/dawn.pdf). Also check my notes for more on this."
   ]
  },
  {
   "cell_type": "code",
   "execution_count": 18,
   "metadata": {},
   "outputs": [],
   "source": [
    "def ReciprocalRank(y_t, y_p):\n",
    "    # add index to list only if true label is in predicted label \n",
    "    y_true_pos = [(idx+1) for idx, p in enumerate(y_p) if p ==y_t]\n",
    "    # find the inverse of the position if y_true in y_pred\n",
    "    if len(y_true_pos) >0:\n",
    "        return 1./(y_true_pos[0])\n",
    "    \n",
    "    return 0.\n",
    "        \n",
    "def MRR(y_true, y_pred):\n",
    "    rr_tot = 0.\n",
    "    for i in range(len(y_true)):\n",
    "        rr_tot += ReciprocalRank(y_true[i], y_pred[i])\n",
    "    mrr = rr_tot / (len(y_true)+0.)\n",
    "    return mrr    "
   ]
  },
  {
   "cell_type": "code",
   "execution_count": 19,
   "metadata": {},
   "outputs": [
    {
     "name": "stdout",
     "output_type": "stream",
     "text": [
      "[LibLinear]"
     ]
    },
    {
     "name": "stderr",
     "output_type": "stream",
     "text": [
      "/usr/local/lib/python3.8/site-packages/sklearn/svm/_base.py:976: ConvergenceWarning: Liblinear failed to converge, increase the number of iterations.\n",
      "  warnings.warn(\"Liblinear failed to converge, increase \"\n"
     ]
    },
    {
     "name": "stdout",
     "output_type": "stream",
     "text": [
      "Training set: accuracy= 41.0 % MRR=41.0         Validation set accuracy: 38.0 % MRR=38.0 \n"
     ]
    }
   ],
   "source": [
    "def TrainModel(df, field=\"text_desc\", feature=\"binary\", k=3):\n",
    "    X_train, X_valid, X_test, y_train, y_valid, y_test, vectorizer = ExtractFeatures(df, field, feature)\n",
    "    log_reg = LogisticRegression(verbose=1, solver='liblinear',random_state=8848,max_iter=5)\n",
    "    model   = log_reg.fit(X_train, y_train)\n",
    "    \n",
    "    preds_top_k = TopKPrediction(model, X_train, k)\n",
    "    accuracy_train = ComputeAccuracy(y_train, preds_top_k)\n",
    "    mrr_train = MRR(y_train, preds_top_k)\n",
    "    #print (f\"Training set accuracy: {100*np.round(accuracy_train, 2)} %\")\n",
    "    \n",
    "    preds_top_k = TopKPrediction(model, X_valid, k)\n",
    "    accuracy_valid = ComputeAccuracy(y_valid, preds_top_k)\n",
    "    mrr_valid = MRR(y_valid, preds_top_k)\n",
    "    #print (f\"Validation set accuracy: {100*np.round(accuracy_valid, 2)} %\")\n",
    "    \n",
    "    return model, vectorizer, [accuracy_train, accuracy_valid], [mrr_train, mrr_valid]\n",
    "\n",
    "field=\"text_desc\"\n",
    "feature=\"binary\"\n",
    "k=1;\n",
    "\n",
    "\n",
    "model, vectorizer, acc, mrr = TrainModel(df, field=field, feature=feature, k=k)\n",
    "print (f\"Training set: accuracy= {100*np.round(acc[0], 2)} % MRR={100*np.round(mrr[0], 2)} \\\n",
    "        Validation set accuracy: {100*np.round(acc[1], 2)} % MRR={100*np.round(mrr[1], 2)} \")\n"
   ]
  },
  {
   "cell_type": "markdown",
   "metadata": {},
   "source": [
    "### Model Evaluation: only Text description"
   ]
  },
  {
   "cell_type": "code",
   "execution_count": 21,
   "metadata": {
    "scrolled": true
   },
   "outputs": [
    {
     "name": "stdout",
     "output_type": "stream",
     "text": [
      "[LibLinear]Training set: accuracy= 41.0 %,  MRR=41.0         Validation set: accuracy= 38.0 %,  MRR=38.0 \n",
      "[LibLinear]Training set: accuracy= 64.0 %,  MRR=51.0         Validation set: accuracy= 57.99999999999999 %,  MRR=47.0 \n",
      "[LibLinear]Training set: accuracy= 41.0 %,  MRR=41.0         Validation set: accuracy= 37.0 %,  MRR=37.0 \n",
      "[LibLinear]Training set: accuracy= 63.0 %,  MRR=51.0         Validation set: accuracy= 57.99999999999999 %,  MRR=46.0 \n",
      "[LibLinear]"
     ]
    },
    {
     "name": "stderr",
     "output_type": "stream",
     "text": [
      "/usr/local/lib/python3.8/site-packages/sklearn/svm/_base.py:976: ConvergenceWarning: Liblinear failed to converge, increase the number of iterations.\n",
      "  warnings.warn(\"Liblinear failed to converge, increase \"\n"
     ]
    },
    {
     "name": "stdout",
     "output_type": "stream",
     "text": [
      "Training set: accuracy= 32.0 %,  MRR=32.0         Validation set: accuracy= 32.0 %,  MRR=32.0 \n",
      "[LibLinear]"
     ]
    },
    {
     "name": "stderr",
     "output_type": "stream",
     "text": [
      "/usr/local/lib/python3.8/site-packages/sklearn/svm/_base.py:976: ConvergenceWarning: Liblinear failed to converge, increase the number of iterations.\n",
      "  warnings.warn(\"Liblinear failed to converge, increase \"\n"
     ]
    },
    {
     "name": "stdout",
     "output_type": "stream",
     "text": [
      "Training set: accuracy= 51.0 %,  MRR=40.0         Validation set: accuracy= 49.0 %,  MRR=40.0 \n"
     ]
    }
   ],
   "source": [
    "field=\"text_desc\"\n",
    "\n",
    "results1=[]\n",
    "\n",
    "for feature in [\"binary\", \"counts\", \"tfidf\"]:\n",
    "    for k in [1, 3]:\n",
    "        model, vectorizer, acc, mrr = TrainModel(df, field=field, feature=feature, k=k)\n",
    "        \n",
    "        print (f\"Training set: accuracy= {100*np.round(acc[0], 2)} %,  MRR={100*np.round(mrr[0], 2)} \\\n",
    "        Validation set: accuracy= {100*np.round(acc[1], 2)} %,  MRR={100*np.round(mrr[1], 2)} \")\n",
    "        results1.append([field, feature, k, acc[0], acc[1], mrr[0], mrr[1] ])\n",
    "\n",
    "        #print (f\"feature: {feature} k={k} : Training set accuracy: {100*np.round(accuracy_train, 2)} % and Validation set accuracy: {100*np.round(accuracy_valid, 2)} %\")\n"
   ]
  },
  {
   "cell_type": "code",
   "execution_count": 22,
   "metadata": {},
   "outputs": [
    {
     "name": "stdout",
     "output_type": "stream",
     "text": [
      "[['text_desc', 'binary', 1, 0.41375861747096393, 0.37591007280582445, 0.41375861747096393, 0.37591007280582445], ['text_desc', 'binary', 3, 0.6421399330604189, 0.582086566925354, 0.5142724432058072, 0.46661066218631486], ['text_desc', 'counts', 1, 0.4076780499513288, 0.3732698615889271, 0.4076780499513288, 0.3732698615889271], ['text_desc', 'counts', 3, 0.6330457509367541, 0.580046403712297, 0.5063828179518919, 0.4641838013707831], ['text_desc', 'tfidf', 1, 0.3240435774005574, 0.3210656852548204, 0.3240435774005574, 0.3210656852548204], ['text_desc', 'tfidf', 3, 0.5053538330244156, 0.49323945915673256, 0.40233088421582963, 0.3961316905352438]]\n"
     ]
    }
   ],
   "source": [
    "print (results1)"
   ]
  },
  {
   "cell_type": "markdown",
   "metadata": {},
   "source": [
    "### Model Evaluation: Text description plus headline"
   ]
  },
  {
   "cell_type": "code",
   "execution_count": 23,
   "metadata": {},
   "outputs": [
    {
     "name": "stdout",
     "output_type": "stream",
     "text": [
      "[LibLinear]"
     ]
    },
    {
     "name": "stderr",
     "output_type": "stream",
     "text": [
      "/usr/local/lib/python3.8/site-packages/sklearn/svm/_base.py:976: ConvergenceWarning: Liblinear failed to converge, increase the number of iterations.\n",
      "  warnings.warn(\"Liblinear failed to converge, increase \"\n"
     ]
    },
    {
     "name": "stdout",
     "output_type": "stream",
     "text": [
      "feature: binary k=1 : Training set accuracy: [55. 52.] % and Validation set accuracy: [55. 52.] %\n",
      "[LibLinear]feature: binary k=3 : Training set accuracy: [78. 73.] % and Validation set accuracy: [65. 61.] %\n",
      "[LibLinear]feature: counts k=1 : Training set accuracy: [55. 52.] % and Validation set accuracy: [55. 52.] %\n",
      "[LibLinear]feature: counts k=3 : Training set accuracy: [78. 74.] % and Validation set accuracy: [65. 61.] %\n",
      "[LibLinear]"
     ]
    },
    {
     "name": "stderr",
     "output_type": "stream",
     "text": [
      "/usr/local/lib/python3.8/site-packages/sklearn/svm/_base.py:976: ConvergenceWarning: Liblinear failed to converge, increase the number of iterations.\n",
      "  warnings.warn(\"Liblinear failed to converge, increase \"\n"
     ]
    },
    {
     "name": "stdout",
     "output_type": "stream",
     "text": [
      "feature: tfidf k=1 : Training set accuracy: [43. 42.] % and Validation set accuracy: [43. 42.] %\n",
      "[LibLinear]"
     ]
    },
    {
     "name": "stderr",
     "output_type": "stream",
     "text": [
      "/usr/local/lib/python3.8/site-packages/sklearn/svm/_base.py:976: ConvergenceWarning: Liblinear failed to converge, increase the number of iterations.\n",
      "  warnings.warn(\"Liblinear failed to converge, increase \"\n"
     ]
    },
    {
     "name": "stdout",
     "output_type": "stream",
     "text": [
      "feature: tfidf k=3 : Training set accuracy: [62. 61.] % and Validation set accuracy: [51. 51.] %\n"
     ]
    }
   ],
   "source": [
    "\n",
    "field = \"text_desc_headline\"\n",
    "results2=[]\n",
    "for feature in [\"binary\", \"counts\", \"tfidf\"]:\n",
    "    for k in [1, 3]:\n",
    "        model, vectorizer, accuracy_train, accuracy_valid = TrainModel(df, field=field, feature=feature, k=k)\n",
    "        print (f\"feature: {feature} k={k} : Training set accuracy: {100*np.round(accuracy_train, 2)} % and Validation set accuracy: {100*np.round(accuracy_valid, 2)} %\")\n",
    "        results2.append([field, feature, k, acc[0], acc[1], mrr[0], mrr[1] ])"
   ]
  },
  {
   "cell_type": "markdown",
   "metadata": {},
   "source": [
    "### Model Evaluation: Text description plus headline plus url"
   ]
  },
  {
   "cell_type": "code",
   "execution_count": 24,
   "metadata": {},
   "outputs": [
    {
     "name": "stdout",
     "output_type": "stream",
     "text": [
      "[LibLinear]feature: binary k=1 : Training set accuracy: [57. 54.] % and Validation set accuracy: [57. 54.] %\n",
      "[LibLinear]feature: binary k=3 : Training set accuracy: [79. 75.] % and Validation set accuracy: [67. 63.] %\n",
      "[LibLinear]feature: counts k=1 : Training set accuracy: [62. 57.] % and Validation set accuracy: [62. 57.] %\n",
      "[LibLinear]feature: counts k=3 : Training set accuracy: [83. 79.] % and Validation set accuracy: [71. 67.] %\n",
      "[LibLinear]"
     ]
    },
    {
     "name": "stderr",
     "output_type": "stream",
     "text": [
      "/usr/local/lib/python3.8/site-packages/sklearn/svm/_base.py:976: ConvergenceWarning: Liblinear failed to converge, increase the number of iterations.\n",
      "  warnings.warn(\"Liblinear failed to converge, increase \"\n"
     ]
    },
    {
     "name": "stdout",
     "output_type": "stream",
     "text": [
      "feature: tfidf k=1 : Training set accuracy: [43. 43.] % and Validation set accuracy: [43. 43.] %\n",
      "[LibLinear]"
     ]
    },
    {
     "name": "stderr",
     "output_type": "stream",
     "text": [
      "/usr/local/lib/python3.8/site-packages/sklearn/svm/_base.py:976: ConvergenceWarning: Liblinear failed to converge, increase the number of iterations.\n",
      "  warnings.warn(\"Liblinear failed to converge, increase \"\n"
     ]
    },
    {
     "name": "stdout",
     "output_type": "stream",
     "text": [
      "feature: tfidf k=3 : Training set accuracy: [62. 62.] % and Validation set accuracy: [52. 51.] %\n"
     ]
    }
   ],
   "source": [
    "field=\"text_desc_headline_url\"\n",
    "\n",
    "results3=[]\n",
    "for feature in [\"binary\", \"counts\", \"tfidf\"]:\n",
    "    for k in [1, 3]:\n",
    "        model, vectorizer, accuracy_train, accuracy_valid = TrainModel(df, field=field, feature=feature, k=k)\n",
    "        print (f\"feature: {feature} k={k} : Training set accuracy: {100*np.round(accuracy_train, 2)} % and Validation set accuracy: {100*np.round(accuracy_valid, 2)} %\")\n",
    "        \n",
    "        results3.append([field, feature, k, acc[0], acc[1], mrr[0], mrr[1] ])\n"
   ]
  },
  {
   "cell_type": "code",
   "execution_count": 25,
   "metadata": {},
   "outputs": [
    {
     "name": "stdout",
     "output_type": "stream",
     "text": [
      "[['text_desc_headline_url', 'binary', 1, 0.5053538330244156, 0.49323945915673256, 0.40233088421582963, 0.3961316905352438], ['text_desc_headline_url', 'binary', 3, 0.5053538330244156, 0.49323945915673256, 0.40233088421582963, 0.3961316905352438], ['text_desc_headline_url', 'counts', 1, 0.5053538330244156, 0.49323945915673256, 0.40233088421582963, 0.3961316905352438], ['text_desc_headline_url', 'counts', 3, 0.5053538330244156, 0.49323945915673256, 0.40233088421582963, 0.3961316905352438], ['text_desc_headline_url', 'tfidf', 1, 0.5053538330244156, 0.49323945915673256, 0.40233088421582963, 0.3961316905352438], ['text_desc_headline_url', 'tfidf', 3, 0.5053538330244156, 0.49323945915673256, 0.40233088421582963, 0.3961316905352438]]\n"
     ]
    }
   ],
   "source": [
    "print (results3)"
   ]
  },
  {
   "cell_type": "markdown",
   "metadata": {},
   "source": [
    "# Compiling the results"
   ]
  },
  {
   "cell_type": "code",
   "execution_count": 26,
   "metadata": {},
   "outputs": [
    {
     "data": {
      "text/html": [
       "<div>\n",
       "<style scoped>\n",
       "    .dataframe tbody tr th:only-of-type {\n",
       "        vertical-align: middle;\n",
       "    }\n",
       "\n",
       "    .dataframe tbody tr th {\n",
       "        vertical-align: top;\n",
       "    }\n",
       "\n",
       "    .dataframe thead th {\n",
       "        text-align: right;\n",
       "    }\n",
       "</style>\n",
       "<table border=\"1\" class=\"dataframe\">\n",
       "  <thead>\n",
       "    <tr style=\"text-align: right;\">\n",
       "      <th></th>\n",
       "      <th>text_fields</th>\n",
       "      <th>feature</th>\n",
       "      <th>top_k</th>\n",
       "      <th>training_accuracy</th>\n",
       "      <th>validation_accuracy</th>\n",
       "      <th>training_mrr</th>\n",
       "      <th>validation_mrr</th>\n",
       "    </tr>\n",
       "  </thead>\n",
       "  <tbody>\n",
       "    <tr>\n",
       "      <th>12</th>\n",
       "      <td>text_desc_headline_url</td>\n",
       "      <td>binary</td>\n",
       "      <td>1</td>\n",
       "      <td>0.505354</td>\n",
       "      <td>0.493239</td>\n",
       "      <td>0.402331</td>\n",
       "      <td>0.396132</td>\n",
       "    </tr>\n",
       "    <tr>\n",
       "      <th>13</th>\n",
       "      <td>text_desc_headline_url</td>\n",
       "      <td>binary</td>\n",
       "      <td>3</td>\n",
       "      <td>0.505354</td>\n",
       "      <td>0.493239</td>\n",
       "      <td>0.402331</td>\n",
       "      <td>0.396132</td>\n",
       "    </tr>\n",
       "    <tr>\n",
       "      <th>14</th>\n",
       "      <td>text_desc_headline_url</td>\n",
       "      <td>counts</td>\n",
       "      <td>1</td>\n",
       "      <td>0.505354</td>\n",
       "      <td>0.493239</td>\n",
       "      <td>0.402331</td>\n",
       "      <td>0.396132</td>\n",
       "    </tr>\n",
       "    <tr>\n",
       "      <th>15</th>\n",
       "      <td>text_desc_headline_url</td>\n",
       "      <td>counts</td>\n",
       "      <td>3</td>\n",
       "      <td>0.505354</td>\n",
       "      <td>0.493239</td>\n",
       "      <td>0.402331</td>\n",
       "      <td>0.396132</td>\n",
       "    </tr>\n",
       "    <tr>\n",
       "      <th>16</th>\n",
       "      <td>text_desc_headline_url</td>\n",
       "      <td>tfidf</td>\n",
       "      <td>1</td>\n",
       "      <td>0.505354</td>\n",
       "      <td>0.493239</td>\n",
       "      <td>0.402331</td>\n",
       "      <td>0.396132</td>\n",
       "    </tr>\n",
       "    <tr>\n",
       "      <th>17</th>\n",
       "      <td>text_desc_headline_url</td>\n",
       "      <td>tfidf</td>\n",
       "      <td>3</td>\n",
       "      <td>0.505354</td>\n",
       "      <td>0.493239</td>\n",
       "      <td>0.402331</td>\n",
       "      <td>0.396132</td>\n",
       "    </tr>\n",
       "    <tr>\n",
       "      <th>6</th>\n",
       "      <td>text_desc_headline</td>\n",
       "      <td>binary</td>\n",
       "      <td>1</td>\n",
       "      <td>0.505354</td>\n",
       "      <td>0.493239</td>\n",
       "      <td>0.402331</td>\n",
       "      <td>0.396132</td>\n",
       "    </tr>\n",
       "    <tr>\n",
       "      <th>7</th>\n",
       "      <td>text_desc_headline</td>\n",
       "      <td>binary</td>\n",
       "      <td>3</td>\n",
       "      <td>0.505354</td>\n",
       "      <td>0.493239</td>\n",
       "      <td>0.402331</td>\n",
       "      <td>0.396132</td>\n",
       "    </tr>\n",
       "    <tr>\n",
       "      <th>8</th>\n",
       "      <td>text_desc_headline</td>\n",
       "      <td>counts</td>\n",
       "      <td>1</td>\n",
       "      <td>0.505354</td>\n",
       "      <td>0.493239</td>\n",
       "      <td>0.402331</td>\n",
       "      <td>0.396132</td>\n",
       "    </tr>\n",
       "    <tr>\n",
       "      <th>9</th>\n",
       "      <td>text_desc_headline</td>\n",
       "      <td>counts</td>\n",
       "      <td>3</td>\n",
       "      <td>0.505354</td>\n",
       "      <td>0.493239</td>\n",
       "      <td>0.402331</td>\n",
       "      <td>0.396132</td>\n",
       "    </tr>\n",
       "    <tr>\n",
       "      <th>10</th>\n",
       "      <td>text_desc_headline</td>\n",
       "      <td>tfidf</td>\n",
       "      <td>1</td>\n",
       "      <td>0.505354</td>\n",
       "      <td>0.493239</td>\n",
       "      <td>0.402331</td>\n",
       "      <td>0.396132</td>\n",
       "    </tr>\n",
       "    <tr>\n",
       "      <th>11</th>\n",
       "      <td>text_desc_headline</td>\n",
       "      <td>tfidf</td>\n",
       "      <td>3</td>\n",
       "      <td>0.505354</td>\n",
       "      <td>0.493239</td>\n",
       "      <td>0.402331</td>\n",
       "      <td>0.396132</td>\n",
       "    </tr>\n",
       "    <tr>\n",
       "      <th>1</th>\n",
       "      <td>text_desc</td>\n",
       "      <td>binary</td>\n",
       "      <td>3</td>\n",
       "      <td>0.642140</td>\n",
       "      <td>0.582087</td>\n",
       "      <td>0.514272</td>\n",
       "      <td>0.466611</td>\n",
       "    </tr>\n",
       "    <tr>\n",
       "      <th>3</th>\n",
       "      <td>text_desc</td>\n",
       "      <td>counts</td>\n",
       "      <td>3</td>\n",
       "      <td>0.633046</td>\n",
       "      <td>0.580046</td>\n",
       "      <td>0.506383</td>\n",
       "      <td>0.464184</td>\n",
       "    </tr>\n",
       "    <tr>\n",
       "      <th>5</th>\n",
       "      <td>text_desc</td>\n",
       "      <td>tfidf</td>\n",
       "      <td>3</td>\n",
       "      <td>0.505354</td>\n",
       "      <td>0.493239</td>\n",
       "      <td>0.402331</td>\n",
       "      <td>0.396132</td>\n",
       "    </tr>\n",
       "    <tr>\n",
       "      <th>0</th>\n",
       "      <td>text_desc</td>\n",
       "      <td>binary</td>\n",
       "      <td>1</td>\n",
       "      <td>0.413759</td>\n",
       "      <td>0.375910</td>\n",
       "      <td>0.413759</td>\n",
       "      <td>0.375910</td>\n",
       "    </tr>\n",
       "    <tr>\n",
       "      <th>2</th>\n",
       "      <td>text_desc</td>\n",
       "      <td>counts</td>\n",
       "      <td>1</td>\n",
       "      <td>0.407678</td>\n",
       "      <td>0.373270</td>\n",
       "      <td>0.407678</td>\n",
       "      <td>0.373270</td>\n",
       "    </tr>\n",
       "    <tr>\n",
       "      <th>4</th>\n",
       "      <td>text_desc</td>\n",
       "      <td>tfidf</td>\n",
       "      <td>1</td>\n",
       "      <td>0.324044</td>\n",
       "      <td>0.321066</td>\n",
       "      <td>0.324044</td>\n",
       "      <td>0.321066</td>\n",
       "    </tr>\n",
       "  </tbody>\n",
       "</table>\n",
       "</div>"
      ],
      "text/plain": [
       "               text_fields feature  top_k  training_accuracy  \\\n",
       "12  text_desc_headline_url  binary      1           0.505354   \n",
       "13  text_desc_headline_url  binary      3           0.505354   \n",
       "14  text_desc_headline_url  counts      1           0.505354   \n",
       "15  text_desc_headline_url  counts      3           0.505354   \n",
       "16  text_desc_headline_url   tfidf      1           0.505354   \n",
       "17  text_desc_headline_url   tfidf      3           0.505354   \n",
       "6       text_desc_headline  binary      1           0.505354   \n",
       "7       text_desc_headline  binary      3           0.505354   \n",
       "8       text_desc_headline  counts      1           0.505354   \n",
       "9       text_desc_headline  counts      3           0.505354   \n",
       "10      text_desc_headline   tfidf      1           0.505354   \n",
       "11      text_desc_headline   tfidf      3           0.505354   \n",
       "1                text_desc  binary      3           0.642140   \n",
       "3                text_desc  counts      3           0.633046   \n",
       "5                text_desc   tfidf      3           0.505354   \n",
       "0                text_desc  binary      1           0.413759   \n",
       "2                text_desc  counts      1           0.407678   \n",
       "4                text_desc   tfidf      1           0.324044   \n",
       "\n",
       "    validation_accuracy  training_mrr  validation_mrr  \n",
       "12             0.493239      0.402331        0.396132  \n",
       "13             0.493239      0.402331        0.396132  \n",
       "14             0.493239      0.402331        0.396132  \n",
       "15             0.493239      0.402331        0.396132  \n",
       "16             0.493239      0.402331        0.396132  \n",
       "17             0.493239      0.402331        0.396132  \n",
       "6              0.493239      0.402331        0.396132  \n",
       "7              0.493239      0.402331        0.396132  \n",
       "8              0.493239      0.402331        0.396132  \n",
       "9              0.493239      0.402331        0.396132  \n",
       "10             0.493239      0.402331        0.396132  \n",
       "11             0.493239      0.402331        0.396132  \n",
       "1              0.582087      0.514272        0.466611  \n",
       "3              0.580046      0.506383        0.464184  \n",
       "5              0.493239      0.402331        0.396132  \n",
       "0              0.375910      0.413759        0.375910  \n",
       "2              0.373270      0.407678        0.373270  \n",
       "4              0.321066      0.324044        0.321066  "
      ]
     },
     "execution_count": 26,
     "metadata": {},
     "output_type": "execute_result"
    }
   ],
   "source": [
    "results_all = results1 + results2 + results3\n",
    "\n",
    "columns=['text_fields','feature','top_k','training_accuracy','validation_accuracy', 'training_mrr','validation_mrr'] \n",
    "df_results=pd.DataFrame(results_all,columns=columns)\n",
    "df_results.sort_values(by=['text_fields','validation_accuracy'],ascending=False)"
   ]
  },
  {
   "cell_type": "markdown",
   "metadata": {},
   "source": [
    "## Check Predictions on Unseen Articles from CNN (not HuffPost our training data)"
   ]
  },
  {
   "cell_type": "code",
   "execution_count": 27,
   "metadata": {},
   "outputs": [
    {
     "data": {
      "text/plain": [
       "[['POLITICS', 'ENTERTAINMENT']]"
      ]
     },
     "execution_count": 27,
     "metadata": {},
     "output_type": "execute_result"
    }
   ],
   "source": [
    "# https://www.cnn.com/2019/07/19/politics/george-nader-child-porn-sex-charges/index.html\n",
    "X_features=vectorizer.transform([\"George Aref Nader, who was a key witness in special counsel Robert Mueller's Russia investigation, faces new charges of transporting a minor with intent to engage in criminal sexual activity and child pornography\"])\n",
    "TopKPrediction(model, X_features, 2)"
   ]
  },
  {
   "cell_type": "code",
   "execution_count": 28,
   "metadata": {},
   "outputs": [
    {
     "data": {
      "text/plain": [
       "[['ENTERTAINMENT', 'THE WORLDPOST']]"
      ]
     },
     "execution_count": 28,
     "metadata": {},
     "output_type": "execute_result"
    }
   ],
   "source": [
    "# https://www.cnn.com/2019/07/18/entertainment/khloe-kardashian-true-thompson-video-trnd/index.html\n",
    "X_features=vectorizer.transform([\"True Thompson makes an adorable cameo in Khloe Kardashian's new makeup tutorial video\"])\n",
    "TopKPrediction(model, X_features, 2)"
   ]
  },
  {
   "cell_type": "code",
   "execution_count": 29,
   "metadata": {},
   "outputs": [
    {
     "data": {
      "text/plain": [
       "[['POLITICS', 'ENTERTAINMENT']]"
      ]
     },
     "execution_count": 29,
     "metadata": {},
     "output_type": "execute_result"
    }
   ],
   "source": [
    "# https://www.cnn.com/2019/07/12/entertainment/heidi-klum-tom-kaulitz/\n",
    "X_features=vectorizer.transform([\"Heidi Klum is apparently the latest celeb to get married and not tell us\"])\n",
    "TopKPrediction(model, X_features, 2)"
   ]
  },
  {
   "cell_type": "code",
   "execution_count": 30,
   "metadata": {},
   "outputs": [
    {
     "data": {
      "text/plain": [
       "[['POLITICS', 'ENTERTAINMENT']]"
      ]
     },
     "execution_count": 30,
     "metadata": {},
     "output_type": "execute_result"
    }
   ],
   "source": [
    "# https://www.cnn.com/2019/07/19/investing/dow-stock-market-today/index.html\n",
    "X_features=vectorizer.transform([\"Stocks end lower as geopolitical fears rise. The Dow and US markets closed lower on Friday, as geopolitical worries overshadowed the hopes of interest rate cuts by the Federal Reserve.\"])\n",
    "TopKPrediction(model, X_features, 2)"
   ]
  },
  {
   "cell_type": "code",
   "execution_count": 31,
   "metadata": {},
   "outputs": [
    {
     "data": {
      "text/plain": [
       "[['POLITICS', 'ENTERTAINMENT']]"
      ]
     },
     "execution_count": 31,
     "metadata": {},
     "output_type": "execute_result"
    }
   ],
   "source": [
    "# https://www.cnn.com/2019/07/19/health/astronaut-exercise-iv-faint-scn/index.html\n",
    "X_features=vectorizer.transform([\"Exercise in space keeps astronauts from fainting when they return to Earth, study says. \"])\n",
    "TopKPrediction(model, X_features, 2)"
   ]
  },
  {
   "cell_type": "markdown",
   "metadata": {},
   "source": [
    "## Save Model"
   ]
  },
  {
   "cell_type": "code",
   "execution_count": 32,
   "metadata": {},
   "outputs": [],
   "source": [
    "import os, pickle\n",
    "\n",
    "pkl_dir = \"./pickle_files/\"\n",
    "\n",
    "model_pkl=os.path.join(pkl_dir, \"model.pkl\")\n",
    "vectorizer_pkl = os.path.join(pkl_dir, \"vectorizer.pkl\")\n",
    "\n",
    "pickle.dump(model,open(model_pkl, 'wb'))\n",
    "pickle.dump(vectorizer,open(vectorizer_pkl,'wb'))\n"
   ]
  },
  {
   "cell_type": "markdown",
   "metadata": {},
   "source": [
    "## Use Loaded Model"
   ]
  },
  {
   "cell_type": "code",
   "execution_count": 33,
   "metadata": {},
   "outputs": [
    {
     "data": {
      "text/plain": [
       "[['POLITICS', 'COMEDY']]"
      ]
     },
     "execution_count": 33,
     "metadata": {},
     "output_type": "execute_result"
    }
   ],
   "source": [
    "model_loaded = pickle.load(open(model_pkl, 'rb'))\n",
    "vectorizer_loaded = pickle.load(open(vectorizer_pkl, 'rb'))\n",
    "\n",
    "X_features=vectorizer_loaded.transform([\"President Trump AND THE impeachment story !!!\"])\n",
    "TopKPrediction(model_loaded, X_features, 2)\n"
   ]
  },
  {
   "cell_type": "markdown",
   "metadata": {},
   "source": [
    "## Future works\n",
    "\n",
    "* Use  RandomForestClassifier,  from sklearn\n",
    "* xgboost\n",
    "* May be Tensorflow "
   ]
  },
  {
   "cell_type": "code",
   "execution_count": null,
   "metadata": {},
   "outputs": [],
   "source": []
  }
 ],
 "metadata": {
  "kernelspec": {
   "display_name": "Python 3",
   "language": "python",
   "name": "python3"
  },
  "language_info": {
   "codemirror_mode": {
    "name": "ipython",
    "version": 3
   },
   "file_extension": ".py",
   "mimetype": "text/x-python",
   "name": "python",
   "nbconvert_exporter": "python",
   "pygments_lexer": "ipython3",
   "version": "3.8.5"
  }
 },
 "nbformat": 4,
 "nbformat_minor": 2
}
