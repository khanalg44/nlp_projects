{
 "cells": [
  {
   "cell_type": "code",
   "execution_count": 21,
   "metadata": {},
   "outputs": [],
   "source": [
    "import pandas as pd\n",
    "import numpy as np\n",
    "import pylab as plt\n",
    " \n",
    "#this assumes one json item per line in json file\n",
    "df=pd.read_json(\"./data/news_category_dataset.json\", lines=True)"
   ]
  },
  {
   "cell_type": "code",
   "execution_count": 22,
   "metadata": {},
   "outputs": [],
   "source": [
    "import re\n",
    "\n",
    "def tokenize_url(url:str):   \n",
    "    url=url.replace(\"https://www.huffingtonpost.com/entry/\",\"\")\n",
    "    url=re.sub(\"(\\W|_)+\",\" \",url)\n",
    "    return url\n",
    "\n",
    "df['tokenized_url']=df['link'].apply(lambda x:tokenize_url(x))\n",
    "\n",
    "#just the description\n",
    "df['text_desc'] = df['short_description']\n",
    "\n",
    "#description + headline\n",
    "df['text_desc_headline'] = df['short_description'] + ' '+ df['headline']\n",
    "\n",
    "#description + headline + tokenized url\n",
    "df['text_desc_headline_url'] = df['short_description'] + ' '+ df['headline']+\" \" + df['tokenized_url']\n"
   ]
  },
  {
   "cell_type": "code",
   "execution_count": 23,
   "metadata": {},
   "outputs": [
    {
     "data": {
      "text/html": [
       "<div>\n",
       "<style scoped>\n",
       "    .dataframe tbody tr th:only-of-type {\n",
       "        vertical-align: middle;\n",
       "    }\n",
       "\n",
       "    .dataframe tbody tr th {\n",
       "        vertical-align: top;\n",
       "    }\n",
       "\n",
       "    .dataframe thead th {\n",
       "        text-align: right;\n",
       "    }\n",
       "</style>\n",
       "<table border=\"1\" class=\"dataframe\">\n",
       "  <thead>\n",
       "    <tr style=\"text-align: right;\">\n",
       "      <th></th>\n",
       "      <th>short_description</th>\n",
       "      <th>headline</th>\n",
       "      <th>date</th>\n",
       "      <th>link</th>\n",
       "      <th>authors</th>\n",
       "      <th>category</th>\n",
       "      <th>tokenized_url</th>\n",
       "      <th>text_desc</th>\n",
       "      <th>text_desc_headline</th>\n",
       "      <th>text_desc_headline_url</th>\n",
       "    </tr>\n",
       "  </thead>\n",
       "  <tbody>\n",
       "    <tr>\n",
       "      <th>0</th>\n",
       "      <td>She left her husband. He killed their children...</td>\n",
       "      <td>There Were 2 Mass Shootings In Texas Last Week...</td>\n",
       "      <td>2018-05-26</td>\n",
       "      <td>https://www.huffingtonpost.com/entry/texas-ama...</td>\n",
       "      <td>Melissa Jeltsen</td>\n",
       "      <td>CRIME</td>\n",
       "      <td>texas amanda painter mass shooting us 5b081ab4...</td>\n",
       "      <td>She left her husband. He killed their children...</td>\n",
       "      <td>She left her husband. He killed their children...</td>\n",
       "      <td>She left her husband. He killed their children...</td>\n",
       "    </tr>\n",
       "  </tbody>\n",
       "</table>\n",
       "</div>"
      ],
      "text/plain": [
       "                                   short_description  \\\n",
       "0  She left her husband. He killed their children...   \n",
       "\n",
       "                                            headline       date  \\\n",
       "0  There Were 2 Mass Shootings In Texas Last Week... 2018-05-26   \n",
       "\n",
       "                                                link          authors  \\\n",
       "0  https://www.huffingtonpost.com/entry/texas-ama...  Melissa Jeltsen   \n",
       "\n",
       "  category                                      tokenized_url  \\\n",
       "0    CRIME  texas amanda painter mass shooting us 5b081ab4...   \n",
       "\n",
       "                                           text_desc  \\\n",
       "0  She left her husband. He killed their children...   \n",
       "\n",
       "                                  text_desc_headline  \\\n",
       "0  She left her husband. He killed their children...   \n",
       "\n",
       "                              text_desc_headline_url  \n",
       "0  She left her husband. He killed their children...  "
      ]
     },
     "execution_count": 23,
     "metadata": {},
     "output_type": "execute_result"
    }
   ],
   "source": [
    "df.head(1)"
   ]
  },
  {
   "cell_type": "markdown",
   "metadata": {},
   "source": [
    "# Model Building"
   ]
  },
  {
   "cell_type": "code",
   "execution_count": 24,
   "metadata": {},
   "outputs": [],
   "source": [
    "from sklearn.metrics import precision_recall_fscore_support\n",
    "from sklearn.model_selection import train_test_split\n",
    "from sklearn.linear_model import LogisticRegression\n",
    "from sklearn.feature_extraction.text import CountVectorizer,TfidfVectorizer\n"
   ]
  },
  {
   "cell_type": "code",
   "execution_count": 25,
   "metadata": {},
   "outputs": [],
   "source": [
    "df_train, df_test = train_test_split(df,random_state = 8848)\n",
    "\n",
    "Y_train= df_train['category'].values\n",
    "Y_test = df_test['category'].values\n",
    "     \n",
    "vectorizer = CountVectorizer(binary=True, max_df=0.95)\n",
    "\n",
    "field=\"text_desc\"\n",
    "\n",
    "vectorizer.fit_transform(df_train[field].values)\n",
    "X_train = vectorizer.transform(df_train[field].values)\n",
    "X_test  = vectorizer.transform(df_test[field].values)\n"
   ]
  },
  {
   "cell_type": "code",
   "execution_count": 26,
   "metadata": {},
   "outputs": [
    {
     "name": "stdout",
     "output_type": "stream",
     "text": [
      "X_train.shape: (93741, 47041); X_test.shape: (31248, 47041) \n",
      "Y_train.shape: (93741,); Y_test.shape: (31248,) \n"
     ]
    }
   ],
   "source": [
    "print (f\"X_train.shape: {X_train.shape}; X_test.shape: {X_test.shape} \" )\n",
    "print (f\"Y_train.shape: {Y_train.shape}; Y_test.shape: {Y_test.shape} \" )"
   ]
  },
  {
   "cell_type": "code",
   "execution_count": 27,
   "metadata": {},
   "outputs": [
    {
     "name": "stdout",
     "output_type": "stream",
     "text": [
      "[LibLinear]"
     ]
    },
    {
     "name": "stderr",
     "output_type": "stream",
     "text": [
      "/usr/local/lib/python3.8/site-packages/sklearn/svm/_base.py:976: ConvergenceWarning: Liblinear failed to converge, increase the number of iterations.\n",
      "  warnings.warn(\"Liblinear failed to converge, increase \"\n"
     ]
    }
   ],
   "source": [
    "#log_reg = LogisticRegression(verbose=1, solver='liblinear',random_state=0, C=5, penalty='l2',max_iter=100)\n",
    "log_reg = LogisticRegression(verbose=1, solver='liblinear',random_state=0, penalty='l2',max_iter=10)\n",
    "model = log_reg.fit(X_train,Y_train)"
   ]
  },
  {
   "cell_type": "code",
   "execution_count": 28,
   "metadata": {
    "scrolled": true
   },
   "outputs": [],
   "source": [
    "\n",
    "def TopKPrediction(model, X, k=3):\n",
    "    # get probabilities for all the labels\n",
    "    probs = model.predict_proba(X)\n",
    "    #print (probs.shape)\n",
    "    # find the Top k values\n",
    "    # Note1: np.argsort sorts starting the smallest so pick last k values for the biggest ones\n",
    "    best_n = np.argsort(probs, axis=1)[:, -k:]\n",
    "    # Note2: we pick the last three in that order meaning the last one is the biggest one.\n",
    "    # So reverse each item so that first prediction is the top prediction\n",
    "    best_n = [ item[::-1] for item in best_n]\n",
    "    #convert the numbers to class using model.classes_\n",
    "    preds=[[model.classes_[predicted_cat] for predicted_cat in prediction] for prediction in best_n]\n",
    "    return preds\n",
    "\n",
    "#preds = TopKPrediction(model, X_test, k)\n",
    "\n",
    "#print (model.classes_)"
   ]
  },
  {
   "cell_type": "code",
   "execution_count": 29,
   "metadata": {},
   "outputs": [],
   "source": [
    "def ComputeAccuracy(y , y_preds_topk):\n",
    "    # Check if the actual label is among the top-k prediction\n",
    "    return sum( [ y[i] in y_preds_topk[i] for i in range(len(y))]  ) / (len(y)+0.)"
   ]
  },
  {
   "cell_type": "code",
   "execution_count": 30,
   "metadata": {},
   "outputs": [
    {
     "name": "stdout",
     "output_type": "stream",
     "text": [
      "Train set accuracy: 82.0 %\n",
      "Test set accuracy: 62.0 %\n"
     ]
    }
   ],
   "source": [
    "# \n",
    "\n",
    "Y_pred_topk= TopKPrediction(model, X_train, k=3)\n",
    "accuracy = ComputeAccuracy(Y_train , Y_pred_topk)\n",
    "print (f\"Train set accuracy: {100*np.round(accuracy, 2)} %\")\n",
    "\n",
    "Y_pred_topk= TopKPrediction(model, X_test, k=3)\n",
    "accuracy = ComputeAccuracy(Y_test , Y_pred_topk)\n",
    "print (f\"Test set accuracy: {100*np.round(accuracy, 2)} %\")"
   ]
  },
  {
   "cell_type": "code",
   "execution_count": 38,
   "metadata": {},
   "outputs": [],
   "source": [
    "\n",
    "def ReciprocalRank(y_t, y_p):\n",
    "    # add index to list only if true label is in predicted label \n",
    "    y_true_pos = [(idx+1) for idx, p in enumerate(y_p) if p ==y_t]\n",
    "    # find the inverse of the position if y_true in y_pred\n",
    "    if len(y_true_pos) >0:\n",
    "        # for RR we need position of first correct item\n",
    "        return 1./(y_true_pos[0])\n",
    "    \n",
    "    return 0.\n",
    "        \n",
    "def MRR(y_true, y_pred):\n",
    "    rr_tot = 0.\n",
    "    for i in range(len(y_true)):\n",
    "        rr_tot += ReciprocalRank(y_true[i], y_pred[i])\n",
    "    mrr = rr_tot / (len(y_true)+0.)    \n",
    "    return mrr    "
   ]
  },
  {
   "cell_type": "code",
   "execution_count": 36,
   "metadata": {},
   "outputs": [],
   "source": [
    "def _reciprocal_rank(true_labels: list, machine_preds: list):\n",
    "    \"\"\"Compute the reciprocal rank at cutoff k\"\"\"\n",
    "    \n",
    "    # add index to list only if machine predicted label exists in true labels\n",
    "    tp_pos_list = [(idx + 1) for idx, r in enumerate(machine_preds) if r in true_labels]\n",
    "\n",
    "    rr = 0\n",
    "    if len(tp_pos_list) > 0:\n",
    "        # for RR we need position of first correct item\n",
    "        first_pos_list = tp_pos_list[0]\n",
    "        rr = 1 / float(first_pos_list)\n",
    "    return rr\n",
    "\n",
    "def compute_mrr_at_k(item0, item1):\n",
    "    \"\"\"Compute the MRR (average RR) at cutoff k\"\"\"\n",
    "    rr_total = 0\n",
    "    \n",
    "    for i in range(len(item0)):\n",
    "        rr_at_k = _reciprocal_rank(item0[0],item1[i])\n",
    "        rr_total = rr_total + rr_at_k\n",
    "        mrr = rr_total / 1/float(len(item0))\n",
    "\n",
    "    return mrr"
   ]
  },
  {
   "cell_type": "code",
   "execution_count": 39,
   "metadata": {},
   "outputs": [
    {
     "name": "stdout",
     "output_type": "stream",
     "text": [
      "0.039629202935654514\n",
      "0.5024534903567329\n"
     ]
    }
   ],
   "source": [
    "\n",
    "mrr= compute_mrr_at_k(Y_test , Y_pred_topk)\n",
    "print (mrr)\n",
    "\n",
    "print (MRR(Y_test , Y_pred_topk))"
   ]
  },
  {
   "cell_type": "code",
   "execution_count": null,
   "metadata": {},
   "outputs": [],
   "source": []
  }
 ],
 "metadata": {
  "kernelspec": {
   "display_name": "Python 3",
   "language": "python",
   "name": "python3"
  },
  "language_info": {
   "codemirror_mode": {
    "name": "ipython",
    "version": 3
   },
   "file_extension": ".py",
   "mimetype": "text/x-python",
   "name": "python",
   "nbconvert_exporter": "python",
   "pygments_lexer": "ipython3",
   "version": "3.8.4"
  }
 },
 "nbformat": 4,
 "nbformat_minor": 4
}
