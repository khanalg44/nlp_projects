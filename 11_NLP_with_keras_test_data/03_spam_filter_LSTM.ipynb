{
 "cells": [
  {
   "cell_type": "markdown",
   "metadata": {},
   "source": [
    "## NLP with LSTM on Keras\n",
    "\n",
    "- https://machinelearningmastery.com/sequence-classification-lstm-recurrent-neural-networks-python-keras/"
   ]
  },
  {
   "cell_type": "code",
   "execution_count": 1,
   "metadata": {},
   "outputs": [],
   "source": [
    "import numpy as np\n",
    "import pylab as plt\n",
    "import pandas as pd\n",
    "\n",
    "import re\n",
    "import string\n",
    "\n",
    "from nltk.stem import SnowballStemmer\n",
    "from nltk.corpus import stopwords\n",
    "from nltk.stem import PorterStemmer\n",
    "\n",
    "from sklearn.model_selection import train_test_split\n",
    "from sklearn.metrics import accuracy_score, classification_report\n",
    "from sklearn.metrics import precision_recall_fscore_support as score\n",
    "\n",
    "np.random.seed(7)\n",
    "\n",
    "data_dir = './data/'"
   ]
  },
  {
   "cell_type": "markdown",
   "metadata": {},
   "source": [
    "## Loading and preprocessing the data\n",
    "\n",
    "- Load imdb data from keras.datasets\n",
    "- Join the train and test (both equal) to make one big data\n",
    "- Pad the data (Since different reviews have different length)\n",
    "- split the data into train/test/val\n"
   ]
  },
  {
   "cell_type": "code",
   "execution_count": 2,
   "metadata": {},
   "outputs": [
    {
     "name": "stdout",
     "output_type": "stream",
     "text": [
      "Index(['v1', 'v2', 'Unnamed: 2', 'Unnamed: 3', 'Unnamed: 4'], dtype='object')\n"
     ]
    },
    {
     "data": {
      "text/html": [
       "<div>\n",
       "<style scoped>\n",
       "    .dataframe tbody tr th:only-of-type {\n",
       "        vertical-align: middle;\n",
       "    }\n",
       "\n",
       "    .dataframe tbody tr th {\n",
       "        vertical-align: top;\n",
       "    }\n",
       "\n",
       "    .dataframe thead th {\n",
       "        text-align: right;\n",
       "    }\n",
       "</style>\n",
       "<table border=\"1\" class=\"dataframe\">\n",
       "  <thead>\n",
       "    <tr style=\"text-align: right;\">\n",
       "      <th></th>\n",
       "      <th>target</th>\n",
       "      <th>email</th>\n",
       "      <th>label</th>\n",
       "    </tr>\n",
       "  </thead>\n",
       "  <tbody>\n",
       "    <tr>\n",
       "      <th>0</th>\n",
       "      <td>ham</td>\n",
       "      <td>Go until jurong point, crazy.. Available only ...</td>\n",
       "      <td>0</td>\n",
       "    </tr>\n",
       "    <tr>\n",
       "      <th>1</th>\n",
       "      <td>ham</td>\n",
       "      <td>Ok lar... Joking wif u oni...</td>\n",
       "      <td>0</td>\n",
       "    </tr>\n",
       "    <tr>\n",
       "      <th>2</th>\n",
       "      <td>spam</td>\n",
       "      <td>Free entry in 2 a wkly comp to win FA Cup fina...</td>\n",
       "      <td>1</td>\n",
       "    </tr>\n",
       "  </tbody>\n",
       "</table>\n",
       "</div>"
      ],
      "text/plain": [
       "  target                                              email  label\n",
       "0    ham  Go until jurong point, crazy.. Available only ...      0\n",
       "1    ham                      Ok lar... Joking wif u oni...      0\n",
       "2   spam  Free entry in 2 a wkly comp to win FA Cup fina...      1"
      ]
     },
     "execution_count": 2,
     "metadata": {},
     "output_type": "execute_result"
    }
   ],
   "source": [
    "email_data = pd.read_csv(data_dir+\"spam.csv\",encoding ='latin1')\n",
    "print (email_data.columns)\n",
    "email_data.drop(['Unnamed: 2', 'Unnamed: 3', 'Unnamed: 4'], axis=1, inplace=True)\n",
    "email_data.rename(columns={\"v1\":\"target\", \"v2\":\"email\"}, inplace=True)\n",
    "email_data['label'] = email_data['target'].apply(lambda x: int(x=='spam'))\n",
    "email_data.head(3)"
   ]
  },
  {
   "cell_type": "markdown",
   "metadata": {},
   "source": [
    "### process the email text\n",
    "\n",
    "- lower the email\n",
    "- remove the stopwords\n",
    "- Stemmize the words\n",
    "- Tokenize the email whenever necessary\n"
   ]
  },
  {
   "cell_type": "code",
   "execution_count": 3,
   "metadata": {},
   "outputs": [
    {
     "data": {
      "text/html": [
       "<div>\n",
       "<style scoped>\n",
       "    .dataframe tbody tr th:only-of-type {\n",
       "        vertical-align: middle;\n",
       "    }\n",
       "\n",
       "    .dataframe tbody tr th {\n",
       "        vertical-align: top;\n",
       "    }\n",
       "\n",
       "    .dataframe thead th {\n",
       "        text-align: right;\n",
       "    }\n",
       "</style>\n",
       "<table border=\"1\" class=\"dataframe\">\n",
       "  <thead>\n",
       "    <tr style=\"text-align: right;\">\n",
       "      <th></th>\n",
       "      <th>target</th>\n",
       "      <th>email</th>\n",
       "      <th>label</th>\n",
       "      <th>email_processed</th>\n",
       "    </tr>\n",
       "  </thead>\n",
       "  <tbody>\n",
       "    <tr>\n",
       "      <th>0</th>\n",
       "      <td>ham</td>\n",
       "      <td>Go until jurong point, crazy.. Available only ...</td>\n",
       "      <td>0</td>\n",
       "      <td>go jurong point crazi avail bugi n great world...</td>\n",
       "    </tr>\n",
       "    <tr>\n",
       "      <th>1</th>\n",
       "      <td>ham</td>\n",
       "      <td>Ok lar... Joking wif u oni...</td>\n",
       "      <td>0</td>\n",
       "      <td>ok lar joke wif u oni</td>\n",
       "    </tr>\n",
       "  </tbody>\n",
       "</table>\n",
       "</div>"
      ],
      "text/plain": [
       "  target                                              email  label  \\\n",
       "0    ham  Go until jurong point, crazy.. Available only ...      0   \n",
       "1    ham                      Ok lar... Joking wif u oni...      0   \n",
       "\n",
       "                                     email_processed  \n",
       "0  go jurong point crazi avail bugi n great world...  \n",
       "1                              ok lar joke wif u oni  "
      ]
     },
     "execution_count": 3,
     "metadata": {},
     "output_type": "execute_result"
    }
   ],
   "source": [
    "\n",
    "REPLACE_BY_SPACE_RE = re.compile('[/(){}\\[\\]\\|@,;]')\n",
    "BAD_SYMBOLS_RE = re.compile('[^0-9a-z #+_]')\n",
    "STOPWORDS = set(stopwords.words('english'))\n",
    "\n",
    "st =  PorterStemmer()\n",
    "\n",
    "def process_email(email):\n",
    "    #lower email\n",
    "    email = email.lower()\n",
    "    email = REPLACE_BY_SPACE_RE.sub(' ',email)\n",
    "    email = BAD_SYMBOLS_RE.sub(' ', email)\n",
    "    \n",
    "    #remove stopwords and stemmize\n",
    "    email=\" \".join(st.stem(w) for w in email.split() if w not in STOPWORDS)\n",
    "    return email\n",
    "\n",
    "email_data['email_processed'] = email_data['email'].apply(process_email)\n",
    "email_data.head(2)"
   ]
  },
  {
   "cell_type": "code",
   "execution_count": 4,
   "metadata": {},
   "outputs": [],
   "source": [
    "def split_data(data):\n",
    "    X_train_, X_test, y_train_, y_test = train_test_split(data['email_processed'].values, data['label'].values, test_size=0.2)\n",
    "    X_train,  X_val, y_train, y_val = train_test_split(X_train_, y_train_, test_size=0.25)\n",
    "    return X_train, X_val, X_test, y_train, y_val, y_test\n",
    "\n",
    "X_train, X_val, X_test, y_train, y_val, y_test = split_data(email_data)"
   ]
  },
  {
   "cell_type": "code",
   "execution_count": 5,
   "metadata": {},
   "outputs": [],
   "source": [
    "from tensorflow.keras.preprocessing.text import Tokenizer\n",
    "from tensorflow.keras.preprocessing.sequence import pad_sequences"
   ]
  },
  {
   "cell_type": "code",
   "execution_count": 6,
   "metadata": {},
   "outputs": [
    {
     "name": "stdout",
     "output_type": "stream",
     "text": [
      "X_train.shape: (3342, 300) y_train.shape:(3342,)\n",
      "X_test.shape: (1115, 300) y_test.shape:(1115,)\n",
      "X_val.shape: (1115, 300) y_val.shape:(1115,)\n"
     ]
    }
   ],
   "source": [
    "from tensorflow.keras.preprocessing.text import Tokenizer\n",
    "\n",
    "MAX_SEQ_LEN = 300   # length of each email\n",
    "MAX_WORDS   = 2000  # use only this many max used words\n",
    "\n",
    "def prepare_data_for_model(X_train, X_val, X_test):\n",
    "    tokenizer = Tokenizer(num_words=MAX_WORDS)\n",
    "    tokenizer.fit_on_texts(X_train)\n",
    "    X_train = tokenizer.texts_to_sequences(X_train)\n",
    "    X_val   = tokenizer.texts_to_sequences(X_val)    \n",
    "    X_test  = tokenizer.texts_to_sequences(X_test)\n",
    "    \n",
    "    X_train = pad_sequences(X_train, maxlen=MAX_SEQ_LEN)\n",
    "    X_val   = pad_sequences(X_val,   maxlen=MAX_SEQ_LEN)\n",
    "    X_test  = pad_sequences(X_test,  maxlen=MAX_SEQ_LEN)\n",
    "    \n",
    "    print (f\"X_train.shape: {X_train.shape} y_train.shape:{y_train.shape}\" )\n",
    "    print (f\"X_test.shape: {X_test.shape} y_test.shape:{y_test.shape}\" )\n",
    "    print (f\"X_val.shape: {X_val.shape} y_val.shape:{y_val.shape}\" )\n",
    "    \n",
    "    return (X_train, X_val, X_test, tokenizer)\n",
    "\n",
    "    \n",
    "(X_train, X_val, X_test, tokenizer) = prepare_data_for_model(X_train, X_val, X_test)"
   ]
  },
  {
   "cell_type": "code",
   "execution_count": 7,
   "metadata": {},
   "outputs": [
    {
     "data": {
      "text/plain": [
       "5569"
      ]
     },
     "execution_count": 7,
     "metadata": {},
     "output_type": "execute_result"
    }
   ],
   "source": [
    "word_index = tokenizer.word_index\n",
    "len(word_index)"
   ]
  },
  {
   "cell_type": "markdown",
   "metadata": {},
   "source": [
    "## Model Building with LSTM\n",
    "\n",
    "- First: Embedded layer that uses 32 length vectors to represent each word.\n",
    "- Add LSTM with 100 neurons.\n",
    "- Finally add a Dense layer with sigmoid activation as this is a binary classification problem ( Hence just a single neuron).\n"
   ]
  },
  {
   "cell_type": "code",
   "execution_count": 8,
   "metadata": {},
   "outputs": [],
   "source": [
    "\n",
    "# Keras module\n",
    "from keras.preprocessing.text import Tokenizer\n",
    "from keras.preprocessing.sequence import pad_sequences\n",
    "\n",
    "from keras.models import Sequential\n",
    "from keras.layers import Dense, Dropout, Flatten, LSTM, Bidirectional\n",
    "from keras.layers import Conv1D, MaxPooling1D, GlobalMaxPool1D, BatchNormalization\n",
    "from keras.layers.embeddings import Embedding"
   ]
  },
  {
   "cell_type": "code",
   "execution_count": 9,
   "metadata": {},
   "outputs": [
    {
     "name": "stdout",
     "output_type": "stream",
     "text": [
      "Model: \"sequential\"\n",
      "_________________________________________________________________\n",
      "Layer (type)                 Output Shape              Param #   \n",
      "=================================================================\n",
      "embedding (Embedding)        (None, 300, 16)           32000     \n",
      "_________________________________________________________________\n",
      "lstm (LSTM)                  (None, 300, 16)           2112      \n",
      "_________________________________________________________________\n",
      "dropout (Dropout)            (None, 300, 16)           0         \n",
      "_________________________________________________________________\n",
      "batch_normalization (BatchNo (None, 300, 16)           64        \n",
      "_________________________________________________________________\n",
      "flatten (Flatten)            (None, 4800)              0         \n",
      "_________________________________________________________________\n",
      "dense (Dense)                (None, 1)                 4801      \n",
      "=================================================================\n",
      "Total params: 38,977\n",
      "Trainable params: 38,945\n",
      "Non-trainable params: 32\n",
      "_________________________________________________________________\n"
     ]
    }
   ],
   "source": [
    "def make_model(X, y, embedding_length = 16):\n",
    "    model = Sequential()\n",
    "    \n",
    "    model.add(Embedding(MAX_WORDS, embedding_length, input_length=X.shape[1]))\n",
    "    model.add(LSTM(16, activation='relu', return_sequences=True))\n",
    "    model.add(Dropout(0.2))\n",
    "    model.add(BatchNormalization())\n",
    "    model.add(Flatten())\n",
    "    model.add(Dense(1, activation='sigmoid'))\n",
    "    model.compile(loss='binary_crossentropy', optimizer='adam', metrics=['accuracy'])\n",
    "    return model\n",
    "\n",
    "model1 = make_model(X_train, y_train)\n",
    "model1.summary()"
   ]
  },
  {
   "cell_type": "code",
   "execution_count": 10,
   "metadata": {},
   "outputs": [
    {
     "name": "stdout",
     "output_type": "stream",
     "text": [
      "Epoch 1/8\n",
      "209/209 [==============================] - 17s 80ms/step - loss: 0.2559 - accuracy: 0.9039 - val_loss: 0.3149 - val_accuracy: 0.8726\n",
      "Epoch 2/8\n",
      "209/209 [==============================] - 16s 76ms/step - loss: 0.0566 - accuracy: 0.9838 - val_loss: 0.1351 - val_accuracy: 0.9489\n",
      "Epoch 3/8\n",
      "209/209 [==============================] - 17s 81ms/step - loss: 0.0227 - accuracy: 0.9952 - val_loss: 0.0689 - val_accuracy: 0.9803\n",
      "Epoch 4/8\n",
      "209/209 [==============================] - 17s 79ms/step - loss: 0.0173 - accuracy: 0.9964 - val_loss: 0.0817 - val_accuracy: 0.9830\n",
      "Epoch 5/8\n",
      "209/209 [==============================] - 14s 69ms/step - loss: 0.0112 - accuracy: 0.9976 - val_loss: 0.0562 - val_accuracy: 0.9874\n",
      "Epoch 6/8\n",
      "209/209 [==============================] - 15s 70ms/step - loss: 0.0074 - accuracy: 0.9982 - val_loss: 0.0738 - val_accuracy: 0.9865\n",
      "Epoch 7/8\n",
      "209/209 [==============================] - 14s 69ms/step - loss: 0.0084 - accuracy: 0.9982 - val_loss: 0.0588 - val_accuracy: 0.9865\n",
      "Epoch 8/8\n",
      "209/209 [==============================] - 14s 69ms/step - loss: 0.0064 - accuracy: 0.9988 - val_loss: 0.0759 - val_accuracy: 0.9865\n"
     ]
    }
   ],
   "source": [
    "history1 = model1.fit(X_train, y_train,\n",
    "                    validation_data=(X_val, y_val), \n",
    "                    epochs=8,\n",
    "                    batch_size=16,\n",
    "                    verbose=1)"
   ]
  },
  {
   "cell_type": "code",
   "execution_count": 11,
   "metadata": {},
   "outputs": [
    {
     "name": "stdout",
     "output_type": "stream",
     "text": [
      "35/35 [==============================] - 0s 12ms/step - loss: 0.0791 - accuracy: 0.9848\n",
      "Test accuracy: 98.48%\n"
     ]
    },
    {
     "data": {
      "image/png": "[encoded data removed]",
      "text/plain": [
       "<Figure size 864x288 with 2 Axes>"
      ]
     },
     "metadata": {
      "needs_background": "light"
     },
     "output_type": "display_data"
    }
   ],
   "source": [
    "from helper import plot_history\n",
    "\n",
    "score = model1.evaluate(X_test, y_test)\n",
    "print(\"Test accuracy: %.2f%%\" % (score[1]*100))\n",
    "plot_history(history1)"
   ]
  },
  {
   "cell_type": "code",
   "execution_count": 12,
   "metadata": {},
   "outputs": [
    {
     "name": "stdout",
     "output_type": "stream",
     "text": [
      "Model: \"sequential_1\"\n",
      "_________________________________________________________________\n",
      "Layer (type)                 Output Shape              Param #   \n",
      "=================================================================\n",
      "embedding_1 (Embedding)      (None, 300, 16)           32000     \n",
      "_________________________________________________________________\n",
      "bidirectional (Bidirectional (None, 300, 32)           4224      \n",
      "_________________________________________________________________\n",
      "conv1d (Conv1D)              (None, 298, 16)           1552      \n",
      "_________________________________________________________________\n",
      "global_max_pooling1d (Global (None, 16)                0         \n",
      "_________________________________________________________________\n",
      "dense_1 (Dense)              (None, 1)                 17        \n",
      "=================================================================\n",
      "Total params: 37,793\n",
      "Trainable params: 37,793\n",
      "Non-trainable params: 0\n",
      "_________________________________________________________________\n"
     ]
    }
   ],
   "source": [
    "def make_model_bidirectional(X, y, embedding_length = 16):\n",
    "    model = Sequential()\n",
    "    model.add(Embedding(MAX_WORDS, embedding_length, input_length=X.shape[1]))\n",
    "    model.add(Bidirectional(LSTM(16, return_sequences=True, dropout=0.2, recurrent_dropout=0.2)))\n",
    "    model.add(Conv1D(16, kernel_size = 3, padding = \"valid\"))\n",
    "    model.add(GlobalMaxPool1D())\n",
    "    #model.add(Dense(16, activation='sigmoid'))\n",
    "    model.add(Dense(1, activation='sigmoid'))\n",
    "    model.compile(loss='binary_crossentropy', optimizer='adam', metrics=['accuracy'])\n",
    "    return model\n",
    "\n",
    "model2 = make_model_bidirectional(X_train, y_train)\n",
    "model2.summary()"
   ]
  },
  {
   "cell_type": "code",
   "execution_count": 13,
   "metadata": {},
   "outputs": [
    {
     "name": "stdout",
     "output_type": "stream",
     "text": [
      "Epoch 1/8\n",
      "209/209 [==============================] - 59s 283ms/step - loss: 0.2551 - accuracy: 0.9105 - val_loss: 0.0504 - val_accuracy: 0.9830\n",
      "Epoch 2/8\n",
      "209/209 [==============================] - 58s 276ms/step - loss: 0.0378 - accuracy: 0.9889 - val_loss: 0.0395 - val_accuracy: 0.9910\n",
      "Epoch 3/8\n",
      "209/209 [==============================] - 59s 281ms/step - loss: 0.0199 - accuracy: 0.9952 - val_loss: 0.0405 - val_accuracy: 0.9901\n",
      "Epoch 4/8\n",
      "209/209 [==============================] - 58s 280ms/step - loss: 0.0116 - accuracy: 0.9973 - val_loss: 0.0424 - val_accuracy: 0.9883\n",
      "Epoch 5/8\n",
      "209/209 [==============================] - 58s 275ms/step - loss: 0.0079 - accuracy: 0.9985 - val_loss: 0.0484 - val_accuracy: 0.9865\n",
      "Epoch 6/8\n",
      "209/209 [==============================] - 58s 276ms/step - loss: 0.0064 - accuracy: 0.9985 - val_loss: 0.0540 - val_accuracy: 0.9865\n",
      "Epoch 7/8\n",
      "209/209 [==============================] - 58s 276ms/step - loss: 0.0039 - accuracy: 0.9988 - val_loss: 0.0571 - val_accuracy: 0.9883\n",
      "Epoch 8/8\n",
      "209/209 [==============================] - 58s 277ms/step - loss: 0.0039 - accuracy: 0.9985 - val_loss: 0.0596 - val_accuracy: 0.9874\n"
     ]
    }
   ],
   "source": [
    "history2 = model2.fit(X_train, y_train,\n",
    "                      validation_data=(X_val, y_val), \n",
    "                      epochs=8,\n",
    "                      batch_size=16,\n",
    "                      verbose=1)"
   ]
  },
  {
   "cell_type": "code",
   "execution_count": 14,
   "metadata": {},
   "outputs": [
    {
     "name": "stdout",
     "output_type": "stream",
     "text": [
      "35/35 [==============================] - 1s 35ms/step - loss: 0.0651 - accuracy: 0.9848\n",
      "Test accuracy: 98.48%\n"
     ]
    },
    {
     "data": {
      "image/png": "[encoded data removed]",
      "text/plain": [
       "<Figure size 864x288 with 2 Axes>"
      ]
     },
     "metadata": {
      "needs_background": "light"
     },
     "output_type": "display_data"
    }
   ],
   "source": [
    "from helper import plot_history\n",
    "\n",
    "score = model2.evaluate(X_test, y_test)\n",
    "print(\"Test accuracy: %.2f%%\" % (score[1]*100))\n",
    "plot_history(history1)"
   ]
  },
  {
   "cell_type": "code",
   "execution_count": 15,
   "metadata": {},
   "outputs": [
    {
     "name": "stdout",
     "output_type": "stream",
     "text": [
      "precision: [0.98672114 0.97058824]\n",
      "recall: [0.99587629 0.91034483]\n",
      "fscore: [0.99127758 0.93950178]\n",
      "support: [970 145]\n",
      "############################\n",
      "              precision    recall  f1-score   support\n",
      "\n",
      "           0       0.99      1.00      0.99       970\n",
      "           1       0.97      0.91      0.94       145\n",
      "\n",
      "    accuracy                           0.98      1115\n",
      "   macro avg       0.98      0.95      0.97      1115\n",
      "weighted avg       0.98      0.98      0.98      1115\n",
      "\n"
     ]
    }
   ],
   "source": [
    "y_pred_blstm=model2.predict(X_test)\n",
    "\n",
    "precision, recall, fscore, support = score(y_test, y_pred_blstm.round())\n",
    "print('precision: {}'.format(precision))\n",
    "print('recall: {}'.format(recall)) \n",
    "print('fscore: {}'.format(fscore)) \n",
    "print('support: {}'.format(support))\n",
    "print(\"############################\")\n",
    "print(classification_report(y_test, y_pred_blstm.round()))"
   ]
  },
  {
   "cell_type": "code",
   "execution_count": null,
   "metadata": {},
   "outputs": [],
   "source": []
  }
 ],
 "metadata": {
  "kernelspec": {
   "display_name": "Python 3",
   "language": "python",
   "name": "python3"
  },
  "language_info": {
   "codemirror_mode": {
    "name": "ipython",
    "version": 3
   },
   "file_extension": ".py",
   "mimetype": "text/x-python",
   "name": "python",
   "nbconvert_exporter": "python",
   "pygments_lexer": "ipython3",
   "version": "3.8.5"
  }
 },
 "nbformat": 4,
 "nbformat_minor": 4
}
