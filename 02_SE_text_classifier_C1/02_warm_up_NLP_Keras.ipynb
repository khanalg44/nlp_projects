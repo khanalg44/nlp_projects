{
 "cells": [
  {
   "cell_type": "markdown",
   "metadata": {},
   "source": [
    "## Texts_to_matrix vs Texts_to_sequences"
   ]
  },
  {
   "cell_type": "code",
   "execution_count": 7,
   "metadata": {},
   "outputs": [],
   "source": [
    "import pandas as pd\n",
    "from tensorflow.keras.preprocessing.text import Tokenizer"
   ]
  },
  {
   "cell_type": "code",
   "execution_count": 41,
   "metadata": {},
   "outputs": [],
   "source": [
    "def text_to_mat(doc):\n",
    "    df = pd.Series(doc)\n",
    "    tok = Tokenizer(num_words=10)\n",
    "    tok.fit_on_texts(df)\n",
    "    print ( \"index_docs\",tok.index_docs); print ()\n",
    "    print ( \"index_words\",tok.index_word); print ()\n",
    "    print ( \"word_index\",tok.word_index); print ()\n",
    "\n",
    "    print ( \"word_docs\",tok.word_docs); print ()\n",
    "\n",
    "    mat_texts = tok.texts_to_matrix(doc, mode='count')\n",
    "    print (mat_texts)"
   ]
  },
  {
   "cell_type": "code",
   "execution_count": 42,
   "metadata": {},
   "outputs": [
    {
     "name": "stdout",
     "output_type": "stream",
     "text": [
      "index_docs defaultdict(<class 'int'>, {7: 1, 3: 1, 2: 3, 1: 3, 6: 1, 5: 2, 8: 1, 4: 2, 9: 1})\n",
      "\n",
      "index_words {1: 'python', 2: 'is', 3: 'great', 4: 'easy', 5: 'to', 6: 'and', 7: 'useful', 8: 'learn', 9: 'implement'}\n",
      "\n",
      "word_index {'python': 1, 'is': 2, 'great': 3, 'easy': 4, 'to': 5, 'and': 6, 'useful': 7, 'learn': 8, 'implement': 9}\n",
      "\n",
      "word_docs defaultdict(<class 'int'>, {'useful': 1, 'great': 1, 'is': 3, 'python': 3, 'and': 1, 'to': 2, 'learn': 1, 'easy': 2, 'implement': 1})\n",
      "\n",
      "[[0. 1. 1. 2. 0. 0. 1. 1. 0. 0.]\n",
      " [0. 1. 1. 0. 1. 1. 0. 0. 1. 0.]\n",
      " [0. 1. 1. 0. 1. 1. 0. 0. 0. 1.]]\n"
     ]
    }
   ],
   "source": [
    "doc = ['Python is great great and useful',\n",
    "       'Python is easy to learn',\n",
    "       'Python is easy to implement']\n",
    "text_to_mat(doc)"
   ]
  },
  {
   "cell_type": "code",
   "execution_count": 64,
   "metadata": {},
   "outputs": [],
   "source": [
    "def text_to_seq(doc, Print=True):\n",
    "    df = pd.Series(doc)\n",
    "    tok = Tokenizer(num_words=10)\n",
    "    tok.fit_on_texts(df)\n",
    "    \n",
    "    texts_mat = tok.texts_to_matrix(doc, mode='count')\n",
    "    texts_seq = tok.texts_to_sequences(doc)\n",
    "\n",
    "    if Print:\n",
    "        print ( \"index_docs\",tok.index_docs); print ()\n",
    "        print ( \"index_words\",tok.index_word); print ()\n",
    "        print ( \"word_index\",tok.word_index); print ()\n",
    "        print ( \"word_docs\",tok.word_docs); print ()\n",
    "        print (\"texts_to_Matrix:\\n\",texts_mat); print()\n",
    "        print (\"texts_to_Seq:\\n\",texts_seq)\n",
    "    \n",
    "    return texts_seq\n"
   ]
  },
  {
   "cell_type": "code",
   "execution_count": 65,
   "metadata": {},
   "outputs": [
    {
     "name": "stdout",
     "output_type": "stream",
     "text": [
      "index_docs defaultdict(<class 'int'>, {7: 1, 3: 1, 2: 3, 1: 3, 6: 1, 5: 2, 8: 1, 4: 2, 9: 1})\n",
      "\n",
      "index_words {1: 'python', 2: 'is', 3: 'great', 4: 'easy', 5: 'to', 6: 'and', 7: 'useful', 8: 'learn', 9: 'implement'}\n",
      "\n",
      "word_index {'python': 1, 'is': 2, 'great': 3, 'easy': 4, 'to': 5, 'and': 6, 'useful': 7, 'learn': 8, 'implement': 9}\n",
      "\n",
      "word_docs defaultdict(<class 'int'>, {'useful': 1, 'great': 1, 'is': 3, 'python': 3, 'and': 1, 'to': 2, 'learn': 1, 'easy': 2, 'implement': 1})\n",
      "\n",
      "texts_to_Matrix:\n",
      " [[0. 1. 1. 2. 0. 0. 1. 1. 0. 0.]\n",
      " [0. 1. 1. 0. 1. 1. 0. 0. 1. 0.]\n",
      " [0. 1. 1. 0. 1. 1. 0. 0. 0. 1.]]\n",
      "\n",
      "texts_to_Seq:\n",
      " [[1, 2, 3, 3, 6, 7], [1, 2, 4, 5, 8], [1, 2, 4, 5, 9]]\n"
     ]
    },
    {
     "data": {
      "text/plain": [
       "[[1, 2, 3, 3, 6, 7], [1, 2, 4, 5, 8], [1, 2, 4, 5, 9]]"
      ]
     },
     "execution_count": 65,
     "metadata": {},
     "output_type": "execute_result"
    }
   ],
   "source": [
    "doc = ['Python is great great and useful',\n",
    "       'Python is easy to learn',\n",
    "       'Python is easy to implement']\n",
    "text_to_seq(doc, Print=True)"
   ]
  },
  {
   "cell_type": "markdown",
   "metadata": {},
   "source": [
    "## Pad_Sequences"
   ]
  },
  {
   "cell_type": "code",
   "execution_count": 71,
   "metadata": {},
   "outputs": [
    {
     "name": "stdout",
     "output_type": "stream",
     "text": [
      "[[2, 1, 7], [2, 1, 4, 3, 5], [2, 1, 4, 3, 8], [9, 1, 6, 6, 3, 5]]\n"
     ]
    }
   ],
   "source": [
    "doc = ['Python is nice',\n",
    "       'Python is easy to learn',\n",
    "       'Python is easy to implement',\n",
    "       'c++ is very very hard to learn'\n",
    "      ]\n",
    "\n",
    "seq = text_to_seq(doc, Print=False)\n",
    "print (seq)"
   ]
  },
  {
   "cell_type": "code",
   "execution_count": 72,
   "metadata": {},
   "outputs": [
    {
     "name": "stdout",
     "output_type": "stream",
     "text": [
      "actual doc:\n",
      " ['Python is nice', 'Python is easy to learn', 'Python is easy to implement', 'c++ is very very hard to learn']\n",
      "\n",
      "document to sequence: [[2, 1, 7], [2, 1, 4, 3, 5], [2, 1, 4, 3, 8], [9, 1, 6, 6, 3, 5]]\n",
      "\n",
      "max length of the sequence: 3\n",
      "Padded Sequence with maxlen=3: \n",
      "[[2 1 7]\n",
      " [2 1 4]\n",
      " [2 1 4]\n",
      " [9 1 6]]\n",
      "\n",
      "max length of the sequence: 8\n",
      "Padded Sequence with maxlen=8: \n",
      "[[2 1 7 0 0 0 0 0]\n",
      " [2 1 4 3 5 0 0 0]\n",
      " [2 1 4 3 8 0 0 0]\n",
      " [9 1 6 6 3 5 0 0]]\n",
      "\n"
     ]
    }
   ],
   "source": [
    "from tensorflow.keras.preprocessing.sequence import pad_sequences\n",
    "print (\"actual doc:\\n\", doc); print()\n",
    "print (\"document to sequence:\", seq); print ()\n",
    "for maxlen in [3,8]:  \n",
    "    seq_padded = pad_sequences(seq, maxlen=maxlen, padding='post', truncating='post')\n",
    "    print (\"max length of the sequence:\",maxlen)\n",
    "    print (f\"Padded Sequence with maxlen={maxlen}: \\n{seq_padded}\"); print()"
   ]
  },
  {
   "cell_type": "code",
   "execution_count": null,
   "metadata": {},
   "outputs": [],
   "source": []
  },
  {
   "cell_type": "code",
   "execution_count": null,
   "metadata": {},
   "outputs": [],
   "source": []
  },
  {
   "cell_type": "code",
   "execution_count": null,
   "metadata": {},
   "outputs": [],
   "source": []
  }
 ],
 "metadata": {
  "kernelspec": {
   "display_name": "Python 3",
   "language": "python",
   "name": "python3"
  },
  "language_info": {
   "codemirror_mode": {
    "name": "ipython",
    "version": 3
   },
   "file_extension": ".py",
   "mimetype": "text/x-python",
   "name": "python",
   "nbconvert_exporter": "python",
   "pygments_lexer": "ipython3",
   "version": "3.8.5"
  }
 },
 "nbformat": 4,
 "nbformat_minor": 4
}
