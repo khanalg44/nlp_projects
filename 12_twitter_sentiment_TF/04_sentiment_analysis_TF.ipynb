{
 "cells": [
  {
   "cell_type": "markdown",
   "metadata": {},
   "source": [
    "# Sentiment Analysis on StockTwits"
   ]
  },
  {
   "cell_type": "code",
   "execution_count": 1,
   "metadata": {},
   "outputs": [],
   "source": [
    "import numpy as np\n",
    "import pandas as pd\n",
    "import pylab as plt\n",
    "\n",
    "import json, re\n",
    "from nltk.corpus import stopwords\n",
    "from nltk.stem import PorterStemmer\n",
    "\n",
    "from sklearn.model_selection import train_test_split\n",
    "\n",
    "from helper import plot_history\n",
    "\n",
    "from tensorflow.keras.preprocessing.text import Tokenizer\n",
    "from tensorflow.keras.preprocessing.sequence import pad_sequences\n",
    "from tensorflow.keras.utils import to_categorical\n",
    "\n",
    "\n",
    "data_dir = '../nlp_datasets/12_twitter_sentiment/'"
   ]
  },
  {
   "cell_type": "code",
   "execution_count": 2,
   "metadata": {},
   "outputs": [],
   "source": [
    "def load_data():\n",
    "    with open(data_dir+'train_twits.json', 'r') as f:\n",
    "        twits = json.load(f)\n",
    "    df = pd.DataFrame(twits['data'])\n",
    "    return df\n",
    "    \n",
    "data = load_data()"
   ]
  },
  {
   "cell_type": "code",
   "execution_count": 3,
   "metadata": {},
   "outputs": [
    {
     "name": "stdout",
     "output_type": "stream",
     "text": [
      "data shape:(1548010, 3)\n"
     ]
    },
    {
     "data": {
      "text/html": [
       "<div>\n",
       "<style scoped>\n",
       "    .dataframe tbody tr th:only-of-type {\n",
       "        vertical-align: middle;\n",
       "    }\n",
       "\n",
       "    .dataframe tbody tr th {\n",
       "        vertical-align: top;\n",
       "    }\n",
       "\n",
       "    .dataframe thead th {\n",
       "        text-align: right;\n",
       "    }\n",
       "</style>\n",
       "<table border=\"1\" class=\"dataframe\">\n",
       "  <thead>\n",
       "    <tr style=\"text-align: right;\">\n",
       "      <th></th>\n",
       "      <th>message_body</th>\n",
       "      <th>sentiment</th>\n",
       "      <th>timestamp</th>\n",
       "    </tr>\n",
       "  </thead>\n",
       "  <tbody>\n",
       "    <tr>\n",
       "      <th>0</th>\n",
       "      <td>$FITB great buy at 26.00...ill wait</td>\n",
       "      <td>2</td>\n",
       "      <td>2018-07-01T00:00:09Z</td>\n",
       "    </tr>\n",
       "    <tr>\n",
       "      <th>1</th>\n",
       "      <td>@StockTwits $MSFT</td>\n",
       "      <td>1</td>\n",
       "      <td>2018-07-01T00:00:42Z</td>\n",
       "    </tr>\n",
       "  </tbody>\n",
       "</table>\n",
       "</div>"
      ],
      "text/plain": [
       "                          message_body  sentiment             timestamp\n",
       "0  $FITB great buy at 26.00...ill wait          2  2018-07-01T00:00:09Z\n",
       "1                    @StockTwits $MSFT          1  2018-07-01T00:00:42Z"
      ]
     },
     "execution_count": 3,
     "metadata": {},
     "output_type": "execute_result"
    }
   ],
   "source": [
    "print (f\"data shape:{data.shape}\")\n",
    "data.head(2)"
   ]
  },
  {
   "cell_type": "code",
   "execution_count": 4,
   "metadata": {},
   "outputs": [],
   "source": [
    "# cut the data short to make learning faster keep only 8010 of them\n",
    "#random_indices = np.random.choice(range(df.shape[0]), size=8010)\n",
    "#df = df.loc[random_indices]\n",
    "df_top = data.loc[:5000]"
   ]
  },
  {
   "cell_type": "code",
   "execution_count": 5,
   "metadata": {},
   "outputs": [
    {
     "data": {
      "text/plain": [
       "array([ 2,  1,  0, -2, -1])"
      ]
     },
     "execution_count": 5,
     "metadata": {},
     "output_type": "execute_result"
    }
   ],
   "source": [
    "df= df_top.copy()\n",
    "df.sentiment.unique()"
   ]
  },
  {
   "cell_type": "code",
   "execution_count": 6,
   "metadata": {},
   "outputs": [],
   "source": [
    "# convert the labels to [0-4] instead of [-2, 2]\n",
    "df['sentiment'] = df['sentiment'].apply(lambda x:x+2)"
   ]
  },
  {
   "cell_type": "code",
   "execution_count": 7,
   "metadata": {},
   "outputs": [
    {
     "name": "stdout",
     "output_type": "stream",
     "text": [
      "unique sentiments: [4 3 2 0 1]\n",
      "data shape:(5001, 3)\n"
     ]
    },
    {
     "data": {
      "text/html": [
       "<div>\n",
       "<style scoped>\n",
       "    .dataframe tbody tr th:only-of-type {\n",
       "        vertical-align: middle;\n",
       "    }\n",
       "\n",
       "    .dataframe tbody tr th {\n",
       "        vertical-align: top;\n",
       "    }\n",
       "\n",
       "    .dataframe thead th {\n",
       "        text-align: right;\n",
       "    }\n",
       "</style>\n",
       "<table border=\"1\" class=\"dataframe\">\n",
       "  <thead>\n",
       "    <tr style=\"text-align: right;\">\n",
       "      <th></th>\n",
       "      <th>message_body</th>\n",
       "      <th>sentiment</th>\n",
       "      <th>timestamp</th>\n",
       "    </tr>\n",
       "  </thead>\n",
       "  <tbody>\n",
       "    <tr>\n",
       "      <th>0</th>\n",
       "      <td>$FITB great buy at 26.00...ill wait</td>\n",
       "      <td>4</td>\n",
       "      <td>2018-07-01T00:00:09Z</td>\n",
       "    </tr>\n",
       "    <tr>\n",
       "      <th>1</th>\n",
       "      <td>@StockTwits $MSFT</td>\n",
       "      <td>3</td>\n",
       "      <td>2018-07-01T00:00:42Z</td>\n",
       "    </tr>\n",
       "    <tr>\n",
       "      <th>2</th>\n",
       "      <td>#STAAnalystAlert for $TDG : Jefferies Maintain...</td>\n",
       "      <td>4</td>\n",
       "      <td>2018-07-01T00:01:24Z</td>\n",
       "    </tr>\n",
       "    <tr>\n",
       "      <th>3</th>\n",
       "      <td>$AMD I heard there’s a guy who knows someone w...</td>\n",
       "      <td>3</td>\n",
       "      <td>2018-07-01T00:01:47Z</td>\n",
       "    </tr>\n",
       "    <tr>\n",
       "      <th>4</th>\n",
       "      <td>$AMD reveal yourself!</td>\n",
       "      <td>2</td>\n",
       "      <td>2018-07-01T00:02:13Z</td>\n",
       "    </tr>\n",
       "  </tbody>\n",
       "</table>\n",
       "</div>"
      ],
      "text/plain": [
       "                                        message_body  sentiment  \\\n",
       "0                $FITB great buy at 26.00...ill wait          4   \n",
       "1                                  @StockTwits $MSFT          3   \n",
       "2  #STAAnalystAlert for $TDG : Jefferies Maintain...          4   \n",
       "3  $AMD I heard there’s a guy who knows someone w...          3   \n",
       "4                              $AMD reveal yourself!          2   \n",
       "\n",
       "              timestamp  \n",
       "0  2018-07-01T00:00:09Z  \n",
       "1  2018-07-01T00:00:42Z  \n",
       "2  2018-07-01T00:01:24Z  \n",
       "3  2018-07-01T00:01:47Z  \n",
       "4  2018-07-01T00:02:13Z  "
      ]
     },
     "execution_count": 7,
     "metadata": {},
     "output_type": "execute_result"
    }
   ],
   "source": [
    "print ( \"unique sentiments:\",df.sentiment.unique() )\n",
    "print (f\"data shape:{df.shape}\")\n",
    "df.head(5)"
   ]
  },
  {
   "cell_type": "code",
   "execution_count": 8,
   "metadata": {},
   "outputs": [
    {
     "name": "stdout",
     "output_type": "stream",
     "text": [
      " new data shape:(5001, 3)\n"
     ]
    },
    {
     "data": {
      "text/html": [
       "<div>\n",
       "<style scoped>\n",
       "    .dataframe tbody tr th:only-of-type {\n",
       "        vertical-align: middle;\n",
       "    }\n",
       "\n",
       "    .dataframe tbody tr th {\n",
       "        vertical-align: top;\n",
       "    }\n",
       "\n",
       "    .dataframe thead th {\n",
       "        text-align: right;\n",
       "    }\n",
       "</style>\n",
       "<table border=\"1\" class=\"dataframe\">\n",
       "  <thead>\n",
       "    <tr style=\"text-align: right;\">\n",
       "      <th></th>\n",
       "      <th>message_body</th>\n",
       "      <th>sentiment</th>\n",
       "      <th>timestamp</th>\n",
       "    </tr>\n",
       "  </thead>\n",
       "  <tbody>\n",
       "    <tr>\n",
       "      <th>0</th>\n",
       "      <td>$FITB great buy at 26.00...ill wait</td>\n",
       "      <td>4</td>\n",
       "      <td>2018-07-01T00:00:09Z</td>\n",
       "    </tr>\n",
       "    <tr>\n",
       "      <th>1</th>\n",
       "      <td>@StockTwits $MSFT</td>\n",
       "      <td>3</td>\n",
       "      <td>2018-07-01T00:00:42Z</td>\n",
       "    </tr>\n",
       "  </tbody>\n",
       "</table>\n",
       "</div>"
      ],
      "text/plain": [
       "                          message_body  sentiment             timestamp\n",
       "0  $FITB great buy at 26.00...ill wait          4  2018-07-01T00:00:09Z\n",
       "1                    @StockTwits $MSFT          3  2018-07-01T00:00:42Z"
      ]
     },
     "execution_count": 8,
     "metadata": {},
     "output_type": "execute_result"
    }
   ],
   "source": [
    "print (f\" new data shape:{df.shape}\")\n",
    "df.head(2)"
   ]
  },
  {
   "cell_type": "code",
   "execution_count": 9,
   "metadata": {},
   "outputs": [
    {
     "name": "stdout",
     "output_type": "stream",
     "text": [
      "Tweets with sentiment:  4\n",
      "#QuestDiagnosticsOrporated has a strong trend according to its ADX 14 of 32.81 #DGX $DGX \n",
      "https://wallmine.com/nyse/dgx?utm_source=stocktwits\n",
      "\n",
      "#Levermann #Global #BigCap #Buy WK26 $SAF.PA (6), $TROW (6), $2881.TW (6), $LEA (6), $GPS (6), $QAN.AX (6), $CWN.AX  http://tradeflags.com\n",
      "\n",
      "$FB is currently trading in the upper part of its 52 week range, outperforming the market. https://www.chartmill.com/analyze.php?utm_source=stocktwits&amp;utm_medium=TA&amp;utm_content=TA&amp;utm_campaign=social_tracking#/FB?key=131a58de-6f11-4987-976d-55bb2ea98644\n",
      "\n",
      "===================\n",
      "\n",
      "Tweets with sentiment:  3\n",
      "$INTC totally\n",
      "\n",
      "$MO https://steemit.com/investorsclub/@alexmorenoec/altria-group-inc. Esta vez les traigo una de esas acciones que toca\n",
      "\n",
      "$FCX Smart money betting on Calls. Deal update....  https://uk.reuters.com/article/uk-indonesia-rio-tinto-grasberg/indonesias-inalum-close-to-acquiring-rio-interest-in-grasberg-copper-mine-official-idUKKBN1JQ05H\n",
      "\n",
      "===================\n",
      "\n",
      "Tweets with sentiment:  2\n",
      "Negative Expectations, But.. $QQQ $AAPL $AMZN $SPX $DJI https://goo.gl/HaPfCh\n",
      "\n",
      "Can’t wait to see what  $hmny $aapl $sdrl $nete do this week but most exited for snobAr and $pacv 🙈🙈🙈🙈\n",
      "\n",
      "$F $TSLA Hahaha this guy has been consistently losing money here Lol\n",
      "\n",
      "===================\n",
      "\n",
      "Tweets with sentiment:  0\n",
      "$KHC bears have 1 reason on 06-29 to pay more attention https://dividendbot.com?s=KHC\n",
      "\n",
      "$F 7,000 cars, circa 4 Hours \n",
      " \n",
      "$TSLA = joke company\n",
      "\n",
      "$CMG Sub $400 today if selloff continues through day. Loaded with this weeks 405 and 400 puts.\n",
      "\n",
      "===================\n",
      "\n",
      "Tweets with sentiment:  1\n",
      "$CLF price action telling me under 8 by the End of the week\n",
      "\n",
      "B. Riley Lowers BB&amp;T Q1 2019 Earnings Estimates to $0.98 EPS (Previously $0.99). http://www.marketbeat.com/x/502262 $BBT\n",
      "\n",
      "Short sale volume (not short interest) for $BK on 2018-06-28 is 48%. http://shortvolumes.com/?t=BK via @shortvolumes\n",
      "\n",
      "===================\n",
      "\n"
     ]
    }
   ],
   "source": [
    "def print_twts():\n",
    "    for i in df.sentiment.unique():\n",
    "        print (\"Tweets with sentiment: \", i)\n",
    "        twt=df[df['sentiment']==i].sample(3)['message_body'].values\n",
    "        for i in range(3):\n",
    "            print (twt[i])\n",
    "            print ()\n",
    "        print (\"===================\")\n",
    "        print ()\n",
    "        \n",
    "print_twts()"
   ]
  },
  {
   "cell_type": "code",
   "execution_count": 10,
   "metadata": {},
   "outputs": [
    {
     "name": "stdout",
     "output_type": "stream",
     "text": [
      "original  twt: \t $TSLA $DIS BMW, Hyundai Join GM in Pressing U.S. to Forgo Auto Tariffs via http://www.hvper.com/?ref=stw\n",
      "processed twt:\t bmw hyundai join gm press u forgo auto tariff via\n"
     ]
    }
   ],
   "source": [
    "STOPWORDS = set(stopwords.words('english'))\n",
    "\n",
    "st =  PorterStemmer()\n",
    "\n",
    "def process_twt(twt):\n",
    "    twt = twt.lower()                   # Lowercase the twit message\n",
    "    twt = re.sub(r'https?://\\S+', ' ', twt)# Replace URLs with a space\n",
    "    twt = re.sub(r'\\$\\S+', ' ', twt)       # Replace ticker symbols with a space\n",
    "    twt = re.sub(r'\\@\\S+', ' ', twt)       # Replace StockTwits usernames with a space.\n",
    "    twt = re.sub(r'[^a-zA-Z]', ' ', twt)   # Replace everything not a letter with a space    \n",
    "    #remove stopwords and stemmize\n",
    "    twt=\" \".join(st.stem(w) for w in twt.split() if w not in STOPWORDS)\n",
    "    return twt\n",
    "\n",
    "\n",
    "txt=df.message_body.values[1112]\n",
    "print (\"original  twt: \\t\", txt)\n",
    "print (\"processed twt:\\t\", process_twt(txt) )\n"
   ]
  },
  {
   "cell_type": "code",
   "execution_count": 11,
   "metadata": {},
   "outputs": [
    {
     "data": {
      "text/html": [
       "<div>\n",
       "<style scoped>\n",
       "    .dataframe tbody tr th:only-of-type {\n",
       "        vertical-align: middle;\n",
       "    }\n",
       "\n",
       "    .dataframe tbody tr th {\n",
       "        vertical-align: top;\n",
       "    }\n",
       "\n",
       "    .dataframe thead th {\n",
       "        text-align: right;\n",
       "    }\n",
       "</style>\n",
       "<table border=\"1\" class=\"dataframe\">\n",
       "  <thead>\n",
       "    <tr style=\"text-align: right;\">\n",
       "      <th></th>\n",
       "      <th>sentiment</th>\n",
       "      <th>message_body</th>\n",
       "      <th>message_processed</th>\n",
       "    </tr>\n",
       "  </thead>\n",
       "  <tbody>\n",
       "    <tr>\n",
       "      <th>0</th>\n",
       "      <td>4</td>\n",
       "      <td>$FITB great buy at 26.00...ill wait</td>\n",
       "      <td>great buy ill wait</td>\n",
       "    </tr>\n",
       "    <tr>\n",
       "      <th>2</th>\n",
       "      <td>4</td>\n",
       "      <td>#STAAnalystAlert for $TDG : Jefferies Maintain...</td>\n",
       "      <td>staanalystalert jefferi maintain rate hold set...</td>\n",
       "    </tr>\n",
       "    <tr>\n",
       "      <th>3</th>\n",
       "      <td>3</td>\n",
       "      <td>$AMD I heard there’s a guy who knows someone w...</td>\n",
       "      <td>heard guy know someon think somebodi know some...</td>\n",
       "    </tr>\n",
       "    <tr>\n",
       "      <th>4</th>\n",
       "      <td>2</td>\n",
       "      <td>$AMD reveal yourself!</td>\n",
       "      <td>reveal</td>\n",
       "    </tr>\n",
       "  </tbody>\n",
       "</table>\n",
       "</div>"
      ],
      "text/plain": [
       "   sentiment                                       message_body  \\\n",
       "0          4                $FITB great buy at 26.00...ill wait   \n",
       "2          4  #STAAnalystAlert for $TDG : Jefferies Maintain...   \n",
       "3          3  $AMD I heard there’s a guy who knows someone w...   \n",
       "4          2                              $AMD reveal yourself!   \n",
       "\n",
       "                                   message_processed  \n",
       "0                                 great buy ill wait  \n",
       "2  staanalystalert jefferi maintain rate hold set...  \n",
       "3  heard guy know someon think somebodi know some...  \n",
       "4                                             reveal  "
      ]
     },
     "execution_count": 11,
     "metadata": {},
     "output_type": "execute_result"
    }
   ],
   "source": [
    "df['message_processed'] = df[\"message_body\"].apply(process_twt)\n",
    "# remove columns with empty message after processing\n",
    "df = df[df['message_processed']!='']\n",
    "# drop unneccessary columns\n",
    "df = df[['sentiment', 'message_body', 'message_processed']]\n",
    "df.head(4)"
   ]
  },
  {
   "cell_type": "code",
   "execution_count": 12,
   "metadata": {},
   "outputs": [
    {
     "data": {
      "text/html": [
       "<div>\n",
       "<style scoped>\n",
       "    .dataframe tbody tr th:only-of-type {\n",
       "        vertical-align: middle;\n",
       "    }\n",
       "\n",
       "    .dataframe tbody tr th {\n",
       "        vertical-align: top;\n",
       "    }\n",
       "\n",
       "    .dataframe thead th {\n",
       "        text-align: right;\n",
       "    }\n",
       "</style>\n",
       "<table border=\"1\" class=\"dataframe\">\n",
       "  <thead>\n",
       "    <tr style=\"text-align: right;\">\n",
       "      <th></th>\n",
       "      <th>message_body</th>\n",
       "      <th>message_processed</th>\n",
       "      <th>ratio (pct)</th>\n",
       "    </tr>\n",
       "    <tr>\n",
       "      <th>sentiment</th>\n",
       "      <th></th>\n",
       "      <th></th>\n",
       "      <th></th>\n",
       "    </tr>\n",
       "  </thead>\n",
       "  <tbody>\n",
       "    <tr>\n",
       "      <th>0</th>\n",
       "      <td>531</td>\n",
       "      <td>531</td>\n",
       "      <td>11.074035</td>\n",
       "    </tr>\n",
       "    <tr>\n",
       "      <th>1</th>\n",
       "      <td>581</td>\n",
       "      <td>581</td>\n",
       "      <td>12.116788</td>\n",
       "    </tr>\n",
       "    <tr>\n",
       "      <th>2</th>\n",
       "      <td>2211</td>\n",
       "      <td>2211</td>\n",
       "      <td>46.110532</td>\n",
       "    </tr>\n",
       "    <tr>\n",
       "      <th>3</th>\n",
       "      <td>841</td>\n",
       "      <td>841</td>\n",
       "      <td>17.539103</td>\n",
       "    </tr>\n",
       "    <tr>\n",
       "      <th>4</th>\n",
       "      <td>631</td>\n",
       "      <td>631</td>\n",
       "      <td>13.159541</td>\n",
       "    </tr>\n",
       "  </tbody>\n",
       "</table>\n",
       "</div>"
      ],
      "text/plain": [
       "           message_body  message_processed  ratio (pct)\n",
       "sentiment                                              \n",
       "0                   531                531    11.074035\n",
       "1                   581                581    12.116788\n",
       "2                  2211               2211    46.110532\n",
       "3                   841                841    17.539103\n",
       "4                   631                631    13.159541"
      ]
     },
     "execution_count": 12,
     "metadata": {},
     "output_type": "execute_result"
    }
   ],
   "source": [
    "def find_counts(df):\n",
    "    df_counts =df.groupby(\"sentiment\", axis=0).count()\n",
    "    df_counts[\"ratio (pct)\"] = 100*df_counts[\"message_body\"]/sum(df_counts[\"message_body\"])\n",
    "    return df_counts\n",
    "\n",
    "find_counts(df)"
   ]
  },
  {
   "cell_type": "code",
   "execution_count": 13,
   "metadata": {
    "scrolled": true
   },
   "outputs": [
    {
     "data": {
      "text/html": [
       "<div>\n",
       "<style scoped>\n",
       "    .dataframe tbody tr th:only-of-type {\n",
       "        vertical-align: middle;\n",
       "    }\n",
       "\n",
       "    .dataframe tbody tr th {\n",
       "        vertical-align: top;\n",
       "    }\n",
       "\n",
       "    .dataframe thead th {\n",
       "        text-align: right;\n",
       "    }\n",
       "</style>\n",
       "<table border=\"1\" class=\"dataframe\">\n",
       "  <thead>\n",
       "    <tr style=\"text-align: right;\">\n",
       "      <th></th>\n",
       "      <th>sentiment</th>\n",
       "      <th>message_body</th>\n",
       "      <th>message_processed</th>\n",
       "    </tr>\n",
       "  </thead>\n",
       "  <tbody>\n",
       "    <tr>\n",
       "      <th>0</th>\n",
       "      <td>4</td>\n",
       "      <td>$FITB great buy at 26.00...ill wait</td>\n",
       "      <td>great buy ill wait</td>\n",
       "    </tr>\n",
       "    <tr>\n",
       "      <th>2</th>\n",
       "      <td>4</td>\n",
       "      <td>#STAAnalystAlert for $TDG : Jefferies Maintain...</td>\n",
       "      <td>staanalystalert jefferi maintain rate hold set...</td>\n",
       "    </tr>\n",
       "  </tbody>\n",
       "</table>\n",
       "</div>"
      ],
      "text/plain": [
       "   sentiment                                       message_body  \\\n",
       "0          4                $FITB great buy at 26.00...ill wait   \n",
       "2          4  #STAAnalystAlert for $TDG : Jefferies Maintain...   \n",
       "\n",
       "                                   message_processed  \n",
       "0                                 great buy ill wait  \n",
       "2  staanalystalert jefferi maintain rate hold set...  "
      ]
     },
     "execution_count": 13,
     "metadata": {},
     "output_type": "execute_result"
    }
   ],
   "source": [
    "df.head(2)"
   ]
  },
  {
   "cell_type": "code",
   "execution_count": 14,
   "metadata": {},
   "outputs": [
    {
     "name": "stdout",
     "output_type": "stream",
     "text": [
      "initial counts for each classes: {2: 2211, 3: 841, 4: 631, 1: 581, 0: 531}\n",
      "min_index: 0 min count: 531\n"
     ]
    },
    {
     "data": {
      "text/html": [
       "<div>\n",
       "<style scoped>\n",
       "    .dataframe tbody tr th:only-of-type {\n",
       "        vertical-align: middle;\n",
       "    }\n",
       "\n",
       "    .dataframe tbody tr th {\n",
       "        vertical-align: top;\n",
       "    }\n",
       "\n",
       "    .dataframe thead th {\n",
       "        text-align: right;\n",
       "    }\n",
       "</style>\n",
       "<table border=\"1\" class=\"dataframe\">\n",
       "  <thead>\n",
       "    <tr style=\"text-align: right;\">\n",
       "      <th></th>\n",
       "      <th>message_body</th>\n",
       "      <th>message_processed</th>\n",
       "      <th>ratio (pct)</th>\n",
       "    </tr>\n",
       "    <tr>\n",
       "      <th>sentiment</th>\n",
       "      <th></th>\n",
       "      <th></th>\n",
       "      <th></th>\n",
       "    </tr>\n",
       "  </thead>\n",
       "  <tbody>\n",
       "    <tr>\n",
       "      <th>0</th>\n",
       "      <td>531</td>\n",
       "      <td>531</td>\n",
       "      <td>20.0</td>\n",
       "    </tr>\n",
       "    <tr>\n",
       "      <th>1</th>\n",
       "      <td>531</td>\n",
       "      <td>531</td>\n",
       "      <td>20.0</td>\n",
       "    </tr>\n",
       "    <tr>\n",
       "      <th>2</th>\n",
       "      <td>531</td>\n",
       "      <td>531</td>\n",
       "      <td>20.0</td>\n",
       "    </tr>\n",
       "    <tr>\n",
       "      <th>3</th>\n",
       "      <td>531</td>\n",
       "      <td>531</td>\n",
       "      <td>20.0</td>\n",
       "    </tr>\n",
       "    <tr>\n",
       "      <th>4</th>\n",
       "      <td>531</td>\n",
       "      <td>531</td>\n",
       "      <td>20.0</td>\n",
       "    </tr>\n",
       "  </tbody>\n",
       "</table>\n",
       "</div>"
      ],
      "text/plain": [
       "           message_body  message_processed  ratio (pct)\n",
       "sentiment                                              \n",
       "0                   531                531         20.0\n",
       "1                   531                531         20.0\n",
       "2                   531                531         20.0\n",
       "3                   531                531         20.0\n",
       "4                   531                531         20.0"
      ]
     },
     "execution_count": 14,
     "metadata": {},
     "output_type": "execute_result"
    }
   ],
   "source": [
    "def balance_class(df, col='sentiment'):\n",
    "    dfb=df.copy()\n",
    "    counts = dict(dfb[col].value_counts())\n",
    "    print (\"initial counts for each classes:\", counts)\n",
    "    min_count = min(counts.values())\n",
    "    min_indx  = [k for k in counts.keys() if counts[k]==min_count][0]\n",
    "    print (\"min_index:\", min_indx, \"min count:\", min_count)\n",
    "\n",
    "    for s in dfb[col].unique():\n",
    "        delete_after = dfb[dfb[col]==min_indx].shape[0] \n",
    "        indices_to_delete = dfb[dfb[col]==s].index.values[delete_after:]\n",
    "        dfb = dfb.drop(index=indices_to_delete, axis=0)\n",
    "    return dfb\n",
    "\n",
    "df=balance_class(df, col='sentiment')\n",
    "find_counts(df)\n"
   ]
  },
  {
   "cell_type": "markdown",
   "metadata": {},
   "source": [
    "## Prepare input for Model\n",
    "- train, test, val split\n",
    "- tokenize the text\n",
    "- Pad the Sequences to a certain length\n",
    "- convert the y labels to categorical"
   ]
  },
  {
   "cell_type": "code",
   "execution_count": 15,
   "metadata": {},
   "outputs": [],
   "source": [
    "def split_data(data):\n",
    "    X_train_, X_test, y_train_, y_test = train_test_split(data['message_processed'].values, data['sentiment'].values, test_size=0.2)\n",
    "    X_train,  X_val, y_train, y_val = train_test_split(X_train_, y_train_, test_size=0.25)\n",
    "    return X_train, X_val, X_test, y_train, y_val, y_test\n",
    "\n",
    "X_train, X_val, X_test, y_train, y_val, y_test = split_data(df)"
   ]
  },
  {
   "cell_type": "code",
   "execution_count": 16,
   "metadata": {},
   "outputs": [
    {
     "name": "stdout",
     "output_type": "stream",
     "text": [
      "X_train.shape: (1593, 30) y_train.shape:(1593, 5)\n",
      "X_test.shape: (531, 30) y_test.shape:(531, 5)\n",
      "X_val.shape: (531, 30) y_val.shape:(531, 5)\n"
     ]
    }
   ],
   "source": [
    "MAX_SEQ_LEN = 30   # length of each twt\n",
    "MAX_WORDS   = 3000  # use only this many max used words\n",
    "\n",
    "def prepare_data_for_model(X_train, X_val, X_test, y_train, y_val, y_test):\n",
    "    tokenizer = Tokenizer(num_words=MAX_WORDS)\n",
    "    tokenizer.fit_on_texts(X_train)\n",
    "    X_train = tokenizer.texts_to_sequences(X_train)\n",
    "    X_val   = tokenizer.texts_to_sequences(X_val)    \n",
    "    X_test  = tokenizer.texts_to_sequences(X_test)\n",
    "    \n",
    "    X_train = pad_sequences(X_train, maxlen=MAX_SEQ_LEN, padding='post', truncating='post')\n",
    "    X_val   = pad_sequences(X_val,   maxlen=MAX_SEQ_LEN, padding='post', truncating='post')\n",
    "    X_test  = pad_sequences(X_test,  maxlen=MAX_SEQ_LEN, padding='post', truncating='post')\n",
    "    \n",
    "    y_train = to_categorical(y_train)\n",
    "    y_val   = to_categorical(y_val)\n",
    "    y_test  = to_categorical(y_test)\n",
    "\n",
    "    print (f\"X_train.shape: {X_train.shape} y_train.shape:{y_train.shape}\" )\n",
    "    print (f\"X_test.shape: {X_test.shape} y_test.shape:{y_test.shape}\" )\n",
    "    print (f\"X_val.shape: {X_val.shape} y_val.shape:{y_val.shape}\" )\n",
    "    \n",
    "    return (X_train, X_val, X_test, y_train, y_val, y_test, tokenizer)\n",
    "\n",
    "    \n",
    "(X_train, X_val, X_test, y_train, y_val, y_test, tokenizer) = prepare_data_for_model(X_train, X_val, X_test, \n",
    "                                                             y_train, y_val, y_test)"
   ]
  },
  {
   "cell_type": "code",
   "execution_count": 17,
   "metadata": {},
   "outputs": [],
   "source": [
    "from keras.models import Sequential\n",
    "from keras.layers import Dense, Dropout, Flatten, LSTM, Bidirectional\n",
    "from keras.layers import Conv1D, MaxPooling1D, GlobalMaxPool1D, BatchNormalization\n",
    "from keras.layers.embeddings import Embedding"
   ]
  },
  {
   "cell_type": "code",
   "execution_count": 18,
   "metadata": {},
   "outputs": [
    {
     "name": "stdout",
     "output_type": "stream",
     "text": [
      "Model: \"sequential\"\n",
      "_________________________________________________________________\n",
      "Layer (type)                 Output Shape              Param #   \n",
      "=================================================================\n",
      "embedding (Embedding)        (None, 30, 16)            48000     \n",
      "_________________________________________________________________\n",
      "lstm (LSTM)                  (None, 16)                2112      \n",
      "_________________________________________________________________\n",
      "dropout (Dropout)            (None, 16)                0         \n",
      "_________________________________________________________________\n",
      "batch_normalization (BatchNo (None, 16)                64        \n",
      "_________________________________________________________________\n",
      "dense (Dense)                (None, 5)                 85        \n",
      "=================================================================\n",
      "Total params: 50,261\n",
      "Trainable params: 50,229\n",
      "Non-trainable params: 32\n",
      "_________________________________________________________________\n"
     ]
    }
   ],
   "source": [
    "def make_model(X, y, embedding_length = 16):\n",
    "    model = Sequential()\n",
    "    \n",
    "    model.add(Embedding(MAX_WORDS, embedding_length, input_length=X.shape[1]))\n",
    "    model.add(LSTM(16, activation='relu'))#, return_sequences=True))\n",
    "    model.add(Dropout(0.2))\n",
    "    model.add(BatchNormalization())\n",
    "    #model.add(Flatten())\n",
    "    model.add(Dense(y.shape[1], activation='softmax'))\n",
    "    model.compile(loss='categorical_crossentropy', optimizer='adam', metrics=['accuracy'])\n",
    "    return model\n",
    "\n",
    "model1 = make_model(X_train, y_train)\n",
    "model1.summary()"
   ]
  },
  {
   "cell_type": "code",
   "execution_count": 19,
   "metadata": {
    "scrolled": true
   },
   "outputs": [
    {
     "name": "stdout",
     "output_type": "stream",
     "text": [
      "Epoch 1/10\n",
      "100/100 [==============================] - 1s 13ms/step - loss: 1.6124 - accuracy: 0.1852 - val_loss: 1.6108 - val_accuracy: 0.2015\n",
      "Epoch 2/10\n",
      "100/100 [==============================] - 1s 9ms/step - loss: 1.5997 - accuracy: 0.2128 - val_loss: 1.5315 - val_accuracy: 0.2072\n",
      "Epoch 3/10\n",
      "100/100 [==============================] - 1s 9ms/step - loss: 1.5515 - accuracy: 0.2643 - val_loss: 1.5886 - val_accuracy: 0.2863\n",
      "Epoch 4/10\n",
      "100/100 [==============================] - 1s 9ms/step - loss: 1.3940 - accuracy: 0.3377 - val_loss: 1.4419 - val_accuracy: 0.3296\n",
      "Epoch 5/10\n",
      "100/100 [==============================] - 1s 9ms/step - loss: 1.2454 - accuracy: 0.3917 - val_loss: 1.9406 - val_accuracy: 0.2881\n",
      "Epoch 6/10\n",
      "100/100 [==============================] - 1s 10ms/step - loss: 1.2173 - accuracy: 0.3741 - val_loss: 1.7478 - val_accuracy: 0.3107\n",
      "Epoch 7/10\n",
      "100/100 [==============================] - 1s 10ms/step - loss: 1.1388 - accuracy: 0.3879 - val_loss: 1.6623 - val_accuracy: 0.3070\n",
      "Epoch 8/10\n",
      "100/100 [==============================] - 1s 9ms/step - loss: 1.0765 - accuracy: 0.4024 - val_loss: 1.6566 - val_accuracy: 0.3202\n",
      "Epoch 9/10\n",
      "100/100 [==============================] - 1s 8ms/step - loss: 1.0551 - accuracy: 0.4482 - val_loss: 1.6615 - val_accuracy: 0.3258\n",
      "Epoch 10/10\n",
      "100/100 [==============================] - 1s 8ms/step - loss: 1.0241 - accuracy: 0.4815 - val_loss: 1.8148 - val_accuracy: 0.3032\n"
     ]
    }
   ],
   "source": [
    "history1 = model1.fit(X_train, y_train,\n",
    "                    validation_data=(X_val, y_val), \n",
    "                    epochs=10,\n",
    "                    batch_size=16,\n",
    "                    verbose=1)"
   ]
  },
  {
   "cell_type": "code",
   "execution_count": 20,
   "metadata": {},
   "outputs": [
    {
     "name": "stdout",
     "output_type": "stream",
     "text": [
      "Model: \"sequential_1\"\n",
      "_________________________________________________________________\n",
      "Layer (type)                 Output Shape              Param #   \n",
      "=================================================================\n",
      "embedding_1 (Embedding)      (None, 30, 16)            48000     \n",
      "_________________________________________________________________\n",
      "bidirectional (Bidirectional (None, 30, 64)            12544     \n",
      "_________________________________________________________________\n",
      "conv1d (Conv1D)              (None, 28, 32)            6176      \n",
      "_________________________________________________________________\n",
      "global_max_pooling1d (Global (None, 32)                0         \n",
      "_________________________________________________________________\n",
      "dense_1 (Dense)              (None, 5)                 165       \n",
      "=================================================================\n",
      "Total params: 66,885\n",
      "Trainable params: 66,885\n",
      "Non-trainable params: 0\n",
      "_________________________________________________________________\n"
     ]
    }
   ],
   "source": [
    "def make_model_bidirectional(X, y, embedding_length = 16):\n",
    "    model = Sequential()\n",
    "    model.add(Embedding(MAX_WORDS, embedding_length, input_length=X.shape[1]))\n",
    "    model.add(Bidirectional(LSTM(32, return_sequences=True, dropout=0.2, recurrent_dropout=0.2)))\n",
    "    model.add(Conv1D(32, kernel_size = 3, padding = \"valid\"))\n",
    "    model.add(GlobalMaxPool1D())\n",
    "    #model.add(Dense(16, activation='sigmoid'))\n",
    "    model.add(Dense(y.shape[1], activation='softmax'))\n",
    "    model.compile(loss='categorical_crossentropy', optimizer='adam', metrics=['accuracy'])\n",
    "    return model\n",
    "\n",
    "model2 = make_model_bidirectional(X_train, y_train)\n",
    "model2.summary()"
   ]
  },
  {
   "cell_type": "code",
   "execution_count": 21,
   "metadata": {},
   "outputs": [
    {
     "name": "stdout",
     "output_type": "stream",
     "text": [
      "Epoch 1/10\n",
      "100/100 [==============================] - 4s 40ms/step - loss: 1.5901 - accuracy: 0.2756 - val_loss: 1.4791 - val_accuracy: 0.2618\n",
      "Epoch 2/10\n",
      "100/100 [==============================] - 3s 33ms/step - loss: 1.3852 - accuracy: 0.3729 - val_loss: 1.3215 - val_accuracy: 0.4896\n",
      "Epoch 3/10\n",
      "100/100 [==============================] - 3s 33ms/step - loss: 1.0665 - accuracy: 0.5593 - val_loss: 1.2804 - val_accuracy: 0.5104\n",
      "Epoch 4/10\n",
      "100/100 [==============================] - 3s 33ms/step - loss: 0.7503 - accuracy: 0.7326 - val_loss: 1.2969 - val_accuracy: 0.5292\n",
      "Epoch 5/10\n",
      "100/100 [==============================] - 3s 34ms/step - loss: 0.5223 - accuracy: 0.8167 - val_loss: 1.4357 - val_accuracy: 0.5330\n",
      "Epoch 6/10\n",
      "100/100 [==============================] - 4s 35ms/step - loss: 0.3781 - accuracy: 0.8807 - val_loss: 1.6679 - val_accuracy: 0.5443\n",
      "Epoch 7/10\n",
      "100/100 [==============================] - 3s 34ms/step - loss: 0.3045 - accuracy: 0.8989 - val_loss: 1.7578 - val_accuracy: 0.5443\n",
      "Epoch 8/10\n",
      "100/100 [==============================] - 3s 35ms/step - loss: 0.2452 - accuracy: 0.9178 - val_loss: 1.8448 - val_accuracy: 0.5405\n",
      "Epoch 9/10\n",
      "100/100 [==============================] - 4s 35ms/step - loss: 0.2029 - accuracy: 0.9410 - val_loss: 1.9405 - val_accuracy: 0.5499\n",
      "Epoch 10/10\n",
      "100/100 [==============================] - 4s 36ms/step - loss: 0.1911 - accuracy: 0.9441 - val_loss: 2.0674 - val_accuracy: 0.5461\n"
     ]
    }
   ],
   "source": [
    "history2 = model2.fit(X_train, y_train,\n",
    "                    validation_data=(X_val, y_val), \n",
    "                    epochs=10,\n",
    "                    batch_size=16,\n",
    "                    verbose=1)"
   ]
  },
  {
   "cell_type": "code",
   "execution_count": 22,
   "metadata": {},
   "outputs": [
    {
     "name": "stdout",
     "output_type": "stream",
     "text": [
      "17/17 [==============================] - 0s 9ms/step - loss: 2.0987 - accuracy: 0.5443\n",
      "Test accuracy: 54.43%\n"
     ]
    },
    {
     "data": {
      "image/png": "[encoded data removed]",
      "text/plain": [
       "<Figure size 864x288 with 2 Axes>"
      ]
     },
     "metadata": {
      "needs_background": "light"
     },
     "output_type": "display_data"
    }
   ],
   "source": [
    "from helper import plot_history\n",
    "\n",
    "score = model2.evaluate(X_test, y_test)\n",
    "print(\"Test accuracy: %.2f%%\" % (score[1]*100))\n",
    "plot_history(history1)"
   ]
  },
  {
   "cell_type": "code",
   "execution_count": 23,
   "metadata": {},
   "outputs": [],
   "source": [
    "from sklearn.metrics import confusion_matrix"
   ]
  },
  {
   "cell_type": "code",
   "execution_count": 24,
   "metadata": {},
   "outputs": [],
   "source": [
    "ypred = model2.predict(X_test)"
   ]
  },
  {
   "cell_type": "code",
   "execution_count": 25,
   "metadata": {},
   "outputs": [
    {
     "data": {
      "text/plain": [
       "array([1, 4, 1, 1, 2, 4, 0, 0, 4, 0, 2, 0, 0, 3, 4, 0, 2, 2, 0, 1, 3, 0,\n",
       "       4, 4, 3, 4, 0, 2, 3, 1, 0, 0, 0, 0, 1, 3, 0, 0, 4, 1, 3, 0, 1, 2,\n",
       "       2, 0, 0, 0, 1, 3, 1, 3, 4, 1, 4, 1, 1, 0, 4, 3, 0, 1, 2, 4, 3, 3,\n",
       "       2, 1, 3, 1, 4, 1, 2, 1, 0, 1, 4, 3, 2, 4, 4, 1, 0, 1, 1, 0, 4, 2,\n",
       "       2, 2, 2, 0, 3, 0, 2, 3, 2, 4, 1, 3, 2, 4, 4, 0, 4, 3, 2, 4, 0, 0,\n",
       "       3, 1, 4, 3, 4, 4, 1, 4, 2, 1, 2, 4, 3, 2, 0, 4, 4, 1, 2, 2, 2, 0,\n",
       "       3, 3, 2, 3, 4, 1, 0, 1, 2, 4, 3, 1, 2, 4, 0, 4, 3, 1, 0, 3, 3, 2,\n",
       "       3, 1, 2, 1, 3, 4, 3, 3, 3, 2, 2, 0, 0, 4, 0, 4, 1, 1, 1, 0, 3, 4,\n",
       "       0, 2, 2, 3, 3, 4, 3, 1, 1, 0, 4, 3, 0, 3, 1, 2, 3, 3, 2, 1, 3, 1,\n",
       "       0, 1, 0, 0, 4, 0, 4, 0, 3, 0, 4, 3, 0, 4, 3, 0, 3, 3, 3, 1, 1, 3,\n",
       "       3, 3, 2, 0, 2, 1, 3, 2, 3, 4, 1, 3, 3, 0, 1, 0, 4, 0, 1, 2, 2, 4,\n",
       "       4, 4, 3, 3, 2, 0, 0, 1, 2, 1, 2, 3, 2, 1, 2, 3, 1, 3, 3, 3, 2, 0,\n",
       "       0, 4, 0, 3, 4, 0, 1, 4, 2, 2, 2, 1, 0, 1, 2, 2, 0, 3, 4, 4, 1, 3,\n",
       "       1, 0, 1, 2, 2, 4, 4, 3, 4, 4, 0, 0, 2, 3, 3, 0, 4, 2, 0, 2, 3, 3,\n",
       "       1, 1, 4, 4, 0, 4, 2, 1, 4, 4, 0, 4, 1, 2, 2, 2, 0, 3, 3, 3, 2, 1,\n",
       "       1, 0, 2, 3, 1, 1, 1, 3, 1, 4, 3, 2, 2, 4, 3, 0, 3, 4, 0, 2, 0, 4,\n",
       "       0, 1, 4, 0, 1, 1, 0, 4, 1, 1, 1, 3, 2, 2, 3, 2, 4, 2, 1, 0, 2, 4,\n",
       "       3, 0, 2, 3, 3, 2, 1, 2, 1, 3, 3, 2, 3, 4, 1, 0, 3, 3, 0, 1, 3, 0,\n",
       "       3, 2, 4, 1, 1, 2, 1, 0, 2, 1, 2, 0, 2, 4, 2, 0, 4, 1, 4, 0, 1, 2,\n",
       "       3, 1, 0, 2, 2, 4, 3, 3, 3, 2, 3, 0, 4, 4, 2, 1, 4, 2, 3, 3, 4, 4,\n",
       "       0, 4, 0, 1, 1, 0, 3, 0, 3, 0, 0, 4, 1, 2, 3, 1, 1, 1, 2, 2, 4, 1,\n",
       "       2, 2, 0, 0, 0, 4, 1, 3, 1, 1, 3, 0, 0, 1, 0, 2, 3, 4, 1, 4, 3, 4,\n",
       "       1, 4, 3, 4, 3, 0, 4, 0, 1, 2, 4, 4, 4, 3, 0, 4, 3, 1, 1, 4, 4, 4,\n",
       "       2, 3, 4, 0, 3, 0, 4, 3, 3, 1, 4, 1, 4, 0, 4, 3, 4, 0, 2, 4, 1, 2,\n",
       "       2, 0, 1])"
      ]
     },
     "execution_count": 25,
     "metadata": {},
     "output_type": "execute_result"
    }
   ],
   "source": [
    "np.argmax(y_test,axis=1)"
   ]
  },
  {
   "cell_type": "code",
   "execution_count": 26,
   "metadata": {},
   "outputs": [],
   "source": [
    "confusionmatrix=confusion_matrix(np.argmax(y_test,axis=1),np.argmax(ypred,axis=1))"
   ]
  },
  {
   "cell_type": "code",
   "execution_count": 27,
   "metadata": {},
   "outputs": [
    {
     "data": {
      "text/plain": [
       "array([[71, 13,  4, 12,  7],\n",
       "       [17, 52,  9, 16, 13],\n",
       "       [ 8,  4, 57, 19, 10],\n",
       "       [23, 11, 11, 49, 18],\n",
       "       [ 8,  1,  7, 31, 60]])"
      ]
     },
     "execution_count": 27,
     "metadata": {},
     "output_type": "execute_result"
    }
   ],
   "source": [
    "confusionmatrix"
   ]
  },
  {
   "cell_type": "code",
   "execution_count": 28,
   "metadata": {},
   "outputs": [
    {
     "data": {
      "text/plain": [
       "<matplotlib.image.AxesImage at 0x15be10ee0>"
      ]
     },
     "execution_count": 28,
     "metadata": {},
     "output_type": "execute_result"
    },
    {
     "data": {
      "image/png": "[encoded data removed]",
      "text/plain": [
       "<Figure size 432x288 with 1 Axes>"
      ]
     },
     "metadata": {
      "needs_background": "light"
     },
     "output_type": "display_data"
    }
   ],
   "source": [
    "plt.imshow(confusionmatrix)"
   ]
  },
  {
   "cell_type": "markdown",
   "metadata": {},
   "source": [
    "## Save the Model, tokenizer and configs"
   ]
  },
  {
   "cell_type": "code",
   "execution_count": 29,
   "metadata": {},
   "outputs": [
    {
     "name": "stdout",
     "output_type": "stream",
     "text": [
      "WARNING:tensorflow:From /usr/local/lib/python3.8/site-packages/tensorflow/python/training/tracking/tracking.py:111: Model.state_updates (from tensorflow.python.keras.engine.training) is deprecated and will be removed in a future version.\n",
      "Instructions for updating:\n",
      "This property should not be used in TensorFlow 2.0, as updates are applied automatically.\n",
      "WARNING:tensorflow:From /usr/local/lib/python3.8/site-packages/tensorflow/python/training/tracking/tracking.py:111: Layer.updates (from tensorflow.python.keras.engine.base_layer) is deprecated and will be removed in a future version.\n",
      "Instructions for updating:\n",
      "This property should not be used in TensorFlow 2.0, as updates are applied automatically.\n",
      "INFO:tensorflow:Assets written to: model_biLSTM/assets\n"
     ]
    }
   ],
   "source": [
    "import pickle\n",
    "import json\n",
    "\n",
    "model2.save('model_biLSTM')\n",
    "\n",
    "\n",
    "with open('tokenizer.pkl', 'wb') as fp:\n",
    "    pickle.dump(tokenizer, fp)\n",
    "\n",
    "config = {\"MAX_WORDS\": MAX_WORDS, \n",
    "          'MAX_SEQ_LEN': MAX_SEQ_LEN}\n",
    "\n",
    "with open('config.json', 'w') as fp:\n",
    "    json.dump(config, fp, indent = 4)"
   ]
  },
  {
   "cell_type": "markdown",
   "metadata": {},
   "source": [
    "## Load the saved Model, tokenizer and configs"
   ]
  },
  {
   "cell_type": "code",
   "execution_count": 40,
   "metadata": {},
   "outputs": [
    {
     "name": "stdout",
     "output_type": "stream",
     "text": [
      "Model Loaded.\n"
     ]
    }
   ],
   "source": [
    "# loading the saved model, vocab, filtered_words\n",
    "from tensorflow.keras.models import load_model\n",
    "model = load_model('./model_biLSTM')\n",
    "\n",
    "with open('tokenizer.pkl', 'rb') as fp:\n",
    "    tokenizer=pickle.load(fp) \n",
    "    \n",
    "with open('config.json', 'r') as fp:\n",
    "    config=json.load(fp)\n",
    "    MAX_SEQ_LEN = config['MAX_SEQ_LEN']\n",
    "    MAX_WORDS = config['MAX_WORDS']\n",
    "\n",
    "print (\"Model Loaded.\")"
   ]
  },
  {
   "cell_type": "markdown",
   "metadata": {},
   "source": [
    "## Predictions"
   ]
  },
  {
   "cell_type": "code",
   "execution_count": 50,
   "metadata": {},
   "outputs": [
    {
     "name": "stdout",
     "output_type": "stream",
     "text": [
      "The following Tweet\n",
      "\n",
      "  $AAPL had a big increase. I am really happy for this. \n",
      "\n",
      "    has a sentiment \n",
      " 4 (very_good)\n",
      "\n",
      " on the following scale\n",
      "\n",
      "    {0: 'very_bad', 1: 'bad', 2: 'neutral', 3: 'good', 4: 'very_good'}\n"
     ]
    }
   ],
   "source": [
    "def Prediction(txt_orig, model=model, tokenizer=tokenizer, MAX_SEQ_LEN=MAX_SEQ_LEN):\n",
    "    sent_dict={0:'very_bad', 1:'bad', 2:'neutral', 3:'good', 4:'very_good'}\n",
    "    txt = process_twt(txt_orig)\n",
    "    X_in = tokenizer.texts_to_sequences([txt])\n",
    "    X_in = pad_sequences(X_in, maxlen=MAX_SEQ_LEN, padding='post', truncating='post')\n",
    "    y_out = model.predict(X_in)\n",
    "    sent = np.argmax(y_out,axis=1)[0]\n",
    "\n",
    "    print (f\"The following text\\n\\n {txt_orig} \\n\\n\\\n",
    "    has a sentiment \\n {sent} ({sent_dict[sent]})\\n\\n on the following scale\\n\\n\\\n",
    "    {sent_dict}\")\n",
    "\n",
    "text = \" $AAPL had a big increase. I am really happy for this.\"\n",
    "Prediction(text)"
   ]
  },
  {
   "cell_type": "code",
   "execution_count": null,
   "metadata": {},
   "outputs": [],
   "source": []
  },
  {
   "cell_type": "code",
   "execution_count": null,
   "metadata": {},
   "outputs": [],
   "source": []
  }
 ],
 "metadata": {
  "kernelspec": {
   "display_name": "Python 3",
   "language": "python",
   "name": "python3"
  },
  "language_info": {
   "codemirror_mode": {
    "name": "ipython",
    "version": 3
   },
   "file_extension": ".py",
   "mimetype": "text/x-python",
   "name": "python",
   "nbconvert_exporter": "python",
   "pygments_lexer": "ipython3",
   "version": "3.8.5"
  }
 },
 "nbformat": 4,
 "nbformat_minor": 4
}
