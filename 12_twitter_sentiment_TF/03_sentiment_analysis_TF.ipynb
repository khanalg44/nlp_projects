{
 "cells": [
  {
   "cell_type": "markdown",
   "metadata": {},
   "source": [
    "# Sentiment Analysis on Twiter data on Stocks"
   ]
  },
  {
   "cell_type": "code",
   "execution_count": 1,
   "metadata": {},
   "outputs": [],
   "source": [
    "import numpy as np\n",
    "import pandas as pd\n",
    "import pylab as plt\n",
    "import json, nltk\n",
    "import re\n",
    "\n",
    "from helper import plot_history\n",
    "data_dir = '../data/'"
   ]
  },
  {
   "cell_type": "code",
   "execution_count": 2,
   "metadata": {},
   "outputs": [],
   "source": [
    "def load_data():\n",
    "    with open(data_dir+'pr_06_twits.json', 'r') as f:\n",
    "        twits = json.load(f)\n",
    "    df = pd.DataFrame(twits['data'])\n",
    "    return df\n",
    "    \n",
    "data = load_data()"
   ]
  },
  {
   "cell_type": "code",
   "execution_count": 3,
   "metadata": {},
   "outputs": [
    {
     "name": "stdout",
     "output_type": "stream",
     "text": [
      "data shape:(1548010, 3)\n"
     ]
    },
    {
     "data": {
      "text/html": [
       "<div>\n",
       "<style scoped>\n",
       "    .dataframe tbody tr th:only-of-type {\n",
       "        vertical-align: middle;\n",
       "    }\n",
       "\n",
       "    .dataframe tbody tr th {\n",
       "        vertical-align: top;\n",
       "    }\n",
       "\n",
       "    .dataframe thead th {\n",
       "        text-align: right;\n",
       "    }\n",
       "</style>\n",
       "<table border=\"1\" class=\"dataframe\">\n",
       "  <thead>\n",
       "    <tr style=\"text-align: right;\">\n",
       "      <th></th>\n",
       "      <th>message_body</th>\n",
       "      <th>sentiment</th>\n",
       "      <th>timestamp</th>\n",
       "    </tr>\n",
       "  </thead>\n",
       "  <tbody>\n",
       "    <tr>\n",
       "      <th>0</th>\n",
       "      <td>$FITB great buy at 26.00...ill wait</td>\n",
       "      <td>2</td>\n",
       "      <td>2018-07-01T00:00:09Z</td>\n",
       "    </tr>\n",
       "    <tr>\n",
       "      <th>1</th>\n",
       "      <td>@StockTwits $MSFT</td>\n",
       "      <td>1</td>\n",
       "      <td>2018-07-01T00:00:42Z</td>\n",
       "    </tr>\n",
       "  </tbody>\n",
       "</table>\n",
       "</div>"
      ],
      "text/plain": [
       "                          message_body  sentiment             timestamp\n",
       "0  $FITB great buy at 26.00...ill wait          2  2018-07-01T00:00:09Z\n",
       "1                    @StockTwits $MSFT          1  2018-07-01T00:00:42Z"
      ]
     },
     "execution_count": 3,
     "metadata": {},
     "output_type": "execute_result"
    }
   ],
   "source": [
    "print (f\"data shape:{data.shape}\")\n",
    "data.head(2)"
   ]
  },
  {
   "cell_type": "code",
   "execution_count": 4,
   "metadata": {},
   "outputs": [],
   "source": [
    "# cut the data short to make learning faster keep only 8010 of them\n",
    "#random_indices = np.random.choice(range(df.shape[0]), size=8010)\n",
    "#df = df.loc[random_indices]\n",
    "df = data.loc[:10000]"
   ]
  },
  {
   "cell_type": "code",
   "execution_count": 5,
   "metadata": {},
   "outputs": [
    {
     "data": {
      "text/plain": [
       "array([ 2,  1,  0, -2, -1])"
      ]
     },
     "execution_count": 5,
     "metadata": {},
     "output_type": "execute_result"
    }
   ],
   "source": [
    "df.sentiment.unique()"
   ]
  },
  {
   "cell_type": "code",
   "execution_count": 6,
   "metadata": {},
   "outputs": [
    {
     "name": "stderr",
     "output_type": "stream",
     "text": [
      "<ipython-input-6-b0dffd00bd87>:2: SettingWithCopyWarning: \n",
      "A value is trying to be set on a copy of a slice from a DataFrame.\n",
      "Try using .loc[row_indexer,col_indexer] = value instead\n",
      "\n",
      "See the caveats in the documentation: https://pandas.pydata.org/pandas-docs/stable/user_guide/indexing.html#returning-a-view-versus-a-copy\n",
      "  df['sentiment'] = df['sentiment']+2\n"
     ]
    },
    {
     "data": {
      "text/plain": [
       "array([4, 3, 2, 0, 1])"
      ]
     },
     "execution_count": 6,
     "metadata": {},
     "output_type": "execute_result"
    }
   ],
   "source": [
    "# convert the labels from -2 to 2 to 0 to 4\n",
    "df['sentiment'] = df['sentiment']+2\n",
    "df.sentiment.unique()"
   ]
  },
  {
   "cell_type": "code",
   "execution_count": 7,
   "metadata": {},
   "outputs": [
    {
     "name": "stdout",
     "output_type": "stream",
     "text": [
      " new data shape:(10001, 3)\n"
     ]
    },
    {
     "data": {
      "text/html": [
       "<div>\n",
       "<style scoped>\n",
       "    .dataframe tbody tr th:only-of-type {\n",
       "        vertical-align: middle;\n",
       "    }\n",
       "\n",
       "    .dataframe tbody tr th {\n",
       "        vertical-align: top;\n",
       "    }\n",
       "\n",
       "    .dataframe thead th {\n",
       "        text-align: right;\n",
       "    }\n",
       "</style>\n",
       "<table border=\"1\" class=\"dataframe\">\n",
       "  <thead>\n",
       "    <tr style=\"text-align: right;\">\n",
       "      <th></th>\n",
       "      <th>message_body</th>\n",
       "      <th>sentiment</th>\n",
       "      <th>timestamp</th>\n",
       "    </tr>\n",
       "  </thead>\n",
       "  <tbody>\n",
       "    <tr>\n",
       "      <th>0</th>\n",
       "      <td>$FITB great buy at 26.00...ill wait</td>\n",
       "      <td>4</td>\n",
       "      <td>2018-07-01T00:00:09Z</td>\n",
       "    </tr>\n",
       "    <tr>\n",
       "      <th>1</th>\n",
       "      <td>@StockTwits $MSFT</td>\n",
       "      <td>3</td>\n",
       "      <td>2018-07-01T00:00:42Z</td>\n",
       "    </tr>\n",
       "  </tbody>\n",
       "</table>\n",
       "</div>"
      ],
      "text/plain": [
       "                          message_body  sentiment             timestamp\n",
       "0  $FITB great buy at 26.00...ill wait          4  2018-07-01T00:00:09Z\n",
       "1                    @StockTwits $MSFT          3  2018-07-01T00:00:42Z"
      ]
     },
     "execution_count": 7,
     "metadata": {},
     "output_type": "execute_result"
    }
   ],
   "source": [
    "print (f\" new data shape:{df.shape}\")\n",
    "df.head(2)"
   ]
  },
  {
   "cell_type": "code",
   "execution_count": 9,
   "metadata": {},
   "outputs": [
    {
     "name": "stdout",
     "output_type": "stream",
     "text": [
      "Tweets with sentiment 1\n",
      "$AMD here comes the crash\n",
      "\n",
      "$NFLX love that spread action as soon as it hits 390 lol\n",
      "\n",
      "Compared to an average industry PE Ratio of 17.19, $JPM is valued rather cheaply. https://www.chartmill.com/analyze.php?utm_source=stocktwits&amp;utm_medium=FA&amp;utm_content=VALUATION&amp;utm_campaign=social_tracking#/JPM?r=fa&amp;key=e6dcd9f6-799c-4c85-8072-8a229a321bd0\n",
      "\n",
      "===================\n",
      "\n",
      "Tweets with sentiment 2\n",
      "$MNK Cup-and-Holder Inverse (bearish) with 48.20% CONFIDENCE TO REACH TARGET PRICE 16.16USD\n",
      "\n",
      "$SPY wow @ the spike in $VIX sell while u can folks enjoy your holiday sheesh. $QQQ $AAPL\n",
      "\n",
      "$NVDA Sellers exhausted here, forming a reversal on the monthly. A prime swing set-up. $SPY $QQQ\n",
      "\n",
      "===================\n",
      "\n",
      "Tweets with sentiment 3\n",
      "Recent $BKNG technical alerts: 180 Bearish Setup plus 7 more alerts... https://swingtradebot.com/equities/BKNG\n",
      "\n",
      "According to data reported to FINRA, short volume percent for $WYNN clocked in at 34.91% on 06-28-18 https://volumebot.com/?s=WYNN\n",
      "\n",
      "$AAPL we had Bush f us up, now we got Donald fduck!\n",
      "\n",
      "===================\n",
      "\n",
      "Tweets with sentiment 4\n",
      "$MU gap down!!!!\n",
      "\n",
      "$XLF $C $GS $MS $BAC $JPM below 26.30 buy puts on financials\n",
      "\n",
      "EBay&#39;s Stock Is Going on Sale -- Wait for Better Prices $EBAY http://dlvr.it/QZDqGt\n",
      "\n",
      "===================\n",
      "\n",
      "Tweets with sentiment 5\n",
      "Short volume percent for $SPGI was 43.76% on 06-28-18 and 20 day rank was ~35th percentile  https://volumebot.com/?s=SPGI\n",
      "\n",
      "$AMD Had trouble all day with 15.09\n",
      "\n",
      "$T #IntegratedTelecomServices sector comp is now available https://link.scoutfin.com/c6cHzEvztN\n",
      "\n",
      "===================\n",
      "\n"
     ]
    }
   ],
   "source": [
    "def Print_random_tweets(df):\n",
    "    for i in range(5):\n",
    "        print (f\"Tweets with sentiment {i+1}\" )\n",
    "        for i in range(3):            \n",
    "            twt1 = df[df['sentiment']==i].sample(1)['message_body'].values[0]\n",
    "            print (twt1)\n",
    "            print ()\n",
    "        print (\"===================\")\n",
    "        print ()\n",
    "\n",
    "        \n",
    "Print_random_tweets(df)"
   ]
  },
  {
   "cell_type": "code",
   "execution_count": 10,
   "metadata": {},
   "outputs": [
    {
     "name": "stderr",
     "output_type": "stream",
     "text": [
      "<ipython-input-10-1999f57a38e0>:17: SettingWithCopyWarning: \n",
      "A value is trying to be set on a copy of a slice from a DataFrame.\n",
      "Try using .loc[row_indexer,col_indexer] = value instead\n",
      "\n",
      "See the caveats in the documentation: https://pandas.pydata.org/pandas-docs/stable/user_guide/indexing.html#returning-a-view-versus-a-copy\n",
      "  df['message_tokenized'] = df[\"message_body\"].apply(preprocess)\n"
     ]
    }
   ],
   "source": [
    "def preprocess(message):    \n",
    "    text = message.lower()                   # Lowercase the twit message\n",
    "    text = re.sub(r'https?://\\S+', ' ', text)# Replace URLs with a space\n",
    "    text = re.sub(r'\\$\\S+', ' ', text)       # Replace ticker symbols with a space\n",
    "    text = re.sub(r'\\@\\S+', ' ', text)       # Replace StockTwits usernames with a space.\n",
    "    text = re.sub(r'[^a-zA-Z]', ' ', text)   # Replace everything not a letter with a space\n",
    "    \n",
    "    # Tokenize\n",
    "    tokens = nltk.tokenize.word_tokenize(text)\n",
    "\n",
    "    # Lemmatize words using the WordNetLemmatizer. You can ignore any word that is not longer than one character.\n",
    "    wnl = nltk.stem.WordNetLemmatizer()\n",
    "    tokens = [wnl.lemmatize(token) for token in tokens if len(token) > 1]\n",
    "    \n",
    "    return tokens\n",
    "\n",
    "df['message_tokenized'] = df[\"message_body\"].apply(preprocess)"
   ]
  },
  {
   "cell_type": "code",
   "execution_count": 11,
   "metadata": {},
   "outputs": [
    {
     "data": {
      "text/html": [
       "<div>\n",
       "<style scoped>\n",
       "    .dataframe tbody tr th:only-of-type {\n",
       "        vertical-align: middle;\n",
       "    }\n",
       "\n",
       "    .dataframe tbody tr th {\n",
       "        vertical-align: top;\n",
       "    }\n",
       "\n",
       "    .dataframe thead th {\n",
       "        text-align: right;\n",
       "    }\n",
       "</style>\n",
       "<table border=\"1\" class=\"dataframe\">\n",
       "  <thead>\n",
       "    <tr style=\"text-align: right;\">\n",
       "      <th></th>\n",
       "      <th>message_body</th>\n",
       "      <th>sentiment</th>\n",
       "      <th>timestamp</th>\n",
       "      <th>message_tokenized</th>\n",
       "    </tr>\n",
       "  </thead>\n",
       "  <tbody>\n",
       "    <tr>\n",
       "      <th>0</th>\n",
       "      <td>$FITB great buy at 26.00...ill wait</td>\n",
       "      <td>4</td>\n",
       "      <td>2018-07-01T00:00:09Z</td>\n",
       "      <td>[great, buy, at, ill, wait]</td>\n",
       "    </tr>\n",
       "    <tr>\n",
       "      <th>1</th>\n",
       "      <td>@StockTwits $MSFT</td>\n",
       "      <td>3</td>\n",
       "      <td>2018-07-01T00:00:42Z</td>\n",
       "      <td>[]</td>\n",
       "    </tr>\n",
       "  </tbody>\n",
       "</table>\n",
       "</div>"
      ],
      "text/plain": [
       "                          message_body  sentiment             timestamp  \\\n",
       "0  $FITB great buy at 26.00...ill wait          4  2018-07-01T00:00:09Z   \n",
       "1                    @StockTwits $MSFT          3  2018-07-01T00:00:42Z   \n",
       "\n",
       "             message_tokenized  \n",
       "0  [great, buy, at, ill, wait]  \n",
       "1                           []  "
      ]
     },
     "execution_count": 11,
     "metadata": {},
     "output_type": "execute_result"
    }
   ],
   "source": [
    "df.head(2)"
   ]
  },
  {
   "cell_type": "code",
   "execution_count": 12,
   "metadata": {},
   "outputs": [],
   "source": [
    "from collections import Counter\n",
    "\n",
    "\"\"\"\n",
    "Create a vocabulary by using Bag of words\n",
    "\"\"\"\n",
    "tokenized_words = [word for twit in df.message_tokenized for word in twit]\n",
    "bow = Counter(tokenized_words)"
   ]
  },
  {
   "cell_type": "code",
   "execution_count": 14,
   "metadata": {},
   "outputs": [
    {
     "data": {
      "text/plain": [
       "[('the', 2590),\n",
       " ('to', 2458),\n",
       " ('is', 2191),\n",
       " ('for', 1966),\n",
       " ('on', 1760),\n",
       " ('of', 1522),\n",
       " ('in', 1418),\n",
       " ('and', 1297),\n",
       " ('this', 1268),\n",
       " ('it', 1113),\n",
       " ('will', 833),\n",
       " ('are', 797),\n",
       " ('at', 775),\n",
       " ('short', 760),\n",
       " ('up', 718)]"
      ]
     },
     "execution_count": 14,
     "metadata": {},
     "output_type": "execute_result"
    }
   ],
   "source": [
    "bow.most_common(15)"
   ]
  },
  {
   "cell_type": "code",
   "execution_count": 15,
   "metadata": {},
   "outputs": [],
   "source": [
    "def remove_words(bow, low_cutoff=1e-5, high_cutoff=10):\n",
    "    # remove the words which are outside the cutoff range\n",
    "    # they usually are too common or too rare to make any big impact on the analysis\n",
    "    total_cnt = sum(bow.values())\n",
    "    \n",
    "    freqs = dict(bow)\n",
    "    for key in freqs:\n",
    "        freqs[key] = freqs[key]/total_cnt\n",
    "        \n",
    "    K_most_common = [word[0] for word in bow.most_common(high_cutoff)]\n",
    "    \n",
    "    filtered_words = [word for word in freqs if (freqs[word] > low_cutoff and word not in K_most_common)]\n",
    "    \n",
    "    return freqs, filtered_words\n"
   ]
  },
  {
   "cell_type": "code",
   "execution_count": 16,
   "metadata": {},
   "outputs": [],
   "source": [
    "freqs, filtered_words= remove_words(bow)"
   ]
  },
  {
   "cell_type": "code",
   "execution_count": 17,
   "metadata": {},
   "outputs": [],
   "source": [
    "def prepare_vocab_dict(filtered_words):\n",
    "    # A dictionary for the `filtered_words`.\n",
    "    vocab = {word:idx+1 for idx, word in enumerate(filtered_words)}\n",
    "    # reverse the vocab dictionary\n",
    "    id2vocab = {idx:word for word, idx in vocab.items()}\n",
    "    return vocab, id2vocab\n",
    "\n",
    "vocab, id2vocab = prepare_vocab_dict(filtered_words)"
   ]
  },
  {
   "cell_type": "code",
   "execution_count": 18,
   "metadata": {},
   "outputs": [
    {
     "name": "stdout",
     "output_type": "stream",
     "text": [
      "Top 5 word to index items\n",
      "('great', 1)\n",
      "('buy', 2)\n",
      "('at', 3)\n",
      "('ill', 4)\n",
      "('wait', 5)\n",
      "\n",
      "Top 5 index to words items\n",
      "(1, 'great')\n",
      "(2, 'buy')\n",
      "(3, 'at')\n",
      "(4, 'ill')\n",
      "(5, 'wait')\n"
     ]
    }
   ],
   "source": [
    "print (\"Top 5 word to index items\")\n",
    "for item in list(vocab.items())[:5]:\n",
    "    print (item)\n",
    "    \n",
    "print (\"\\nTop 5 index to words items\")\n",
    "for item in list(id2vocab.items())[:5]:\n",
    "    print (item)\n"
   ]
  },
  {
   "cell_type": "code",
   "execution_count": 19,
   "metadata": {},
   "outputs": [
    {
     "name": "stdout",
     "output_type": "stream",
     "text": [
      "['how', 'expect', 'the', 'earnings']\n"
     ]
    },
    {
     "data": {
      "text/plain": [
       "['how', 'expect', 'earnings']"
      ]
     },
     "execution_count": 19,
     "metadata": {},
     "output_type": "execute_result"
    }
   ],
   "source": [
    "def filter_twit(words, filtered_words):\n",
    "     return [word for word in words if word in filtered_words]\n",
    "\n",
    "tmp = df['message_tokenized'].values[50]\n",
    "print (tmp)\n",
    "filter_twit(tmp, filtered_words)"
   ]
  },
  {
   "cell_type": "code",
   "execution_count": 20,
   "metadata": {},
   "outputs": [
    {
     "name": "stderr",
     "output_type": "stream",
     "text": [
      "<ipython-input-20-987fad6bb275>:1: SettingWithCopyWarning: \n",
      "A value is trying to be set on a copy of a slice from a DataFrame.\n",
      "Try using .loc[row_indexer,col_indexer] = value instead\n",
      "\n",
      "See the caveats in the documentation: https://pandas.pydata.org/pandas-docs/stable/user_guide/indexing.html#returning-a-view-versus-a-copy\n",
      "  df['filtered'] = df['message_tokenized'].apply(filter_twit, filtered_words=filtered_words)\n"
     ]
    }
   ],
   "source": [
    "df['filtered'] = df['message_tokenized'].apply(filter_twit, filtered_words=filtered_words)"
   ]
  },
  {
   "cell_type": "code",
   "execution_count": 22,
   "metadata": {},
   "outputs": [
    {
     "data": {
      "text/html": [
       "<div>\n",
       "<style scoped>\n",
       "    .dataframe tbody tr th:only-of-type {\n",
       "        vertical-align: middle;\n",
       "    }\n",
       "\n",
       "    .dataframe tbody tr th {\n",
       "        vertical-align: top;\n",
       "    }\n",
       "\n",
       "    .dataframe thead th {\n",
       "        text-align: right;\n",
       "    }\n",
       "</style>\n",
       "<table border=\"1\" class=\"dataframe\">\n",
       "  <thead>\n",
       "    <tr style=\"text-align: right;\">\n",
       "      <th></th>\n",
       "      <th>message_body</th>\n",
       "      <th>sentiment</th>\n",
       "      <th>timestamp</th>\n",
       "      <th>message_tokenized</th>\n",
       "      <th>filtered</th>\n",
       "    </tr>\n",
       "  </thead>\n",
       "  <tbody>\n",
       "    <tr>\n",
       "      <th>0</th>\n",
       "      <td>$FITB great buy at 26.00...ill wait</td>\n",
       "      <td>4</td>\n",
       "      <td>2018-07-01T00:00:09Z</td>\n",
       "      <td>[great, buy, at, ill, wait]</td>\n",
       "      <td>[great, buy, at, ill, wait]</td>\n",
       "    </tr>\n",
       "    <tr>\n",
       "      <th>1</th>\n",
       "      <td>@StockTwits $MSFT</td>\n",
       "      <td>3</td>\n",
       "      <td>2018-07-01T00:00:42Z</td>\n",
       "      <td>[]</td>\n",
       "      <td>[]</td>\n",
       "    </tr>\n",
       "    <tr>\n",
       "      <th>2</th>\n",
       "      <td>#STAAnalystAlert for $TDG : Jefferies Maintain...</td>\n",
       "      <td>4</td>\n",
       "      <td>2018-07-01T00:01:24Z</td>\n",
       "      <td>[staanalystalert, for, jefferies, maintains, w...</td>\n",
       "      <td>[staanalystalert, jefferies, maintains, with, ...</td>\n",
       "    </tr>\n",
       "    <tr>\n",
       "      <th>3</th>\n",
       "      <td>$AMD I heard there’s a guy who knows someone w...</td>\n",
       "      <td>3</td>\n",
       "      <td>2018-07-01T00:01:47Z</td>\n",
       "      <td>[heard, there, guy, who, know, someone, who, t...</td>\n",
       "      <td>[heard, there, guy, who, know, someone, who, t...</td>\n",
       "    </tr>\n",
       "    <tr>\n",
       "      <th>4</th>\n",
       "      <td>$AMD reveal yourself!</td>\n",
       "      <td>2</td>\n",
       "      <td>2018-07-01T00:02:13Z</td>\n",
       "      <td>[reveal, yourself]</td>\n",
       "      <td>[reveal, yourself]</td>\n",
       "    </tr>\n",
       "  </tbody>\n",
       "</table>\n",
       "</div>"
      ],
      "text/plain": [
       "                                        message_body  sentiment  \\\n",
       "0                $FITB great buy at 26.00...ill wait          4   \n",
       "1                                  @StockTwits $MSFT          3   \n",
       "2  #STAAnalystAlert for $TDG : Jefferies Maintain...          4   \n",
       "3  $AMD I heard there’s a guy who knows someone w...          3   \n",
       "4                              $AMD reveal yourself!          2   \n",
       "\n",
       "              timestamp                                  message_tokenized  \\\n",
       "0  2018-07-01T00:00:09Z                        [great, buy, at, ill, wait]   \n",
       "1  2018-07-01T00:00:42Z                                                 []   \n",
       "2  2018-07-01T00:01:24Z  [staanalystalert, for, jefferies, maintains, w...   \n",
       "3  2018-07-01T00:01:47Z  [heard, there, guy, who, know, someone, who, t...   \n",
       "4  2018-07-01T00:02:13Z                                 [reveal, yourself]   \n",
       "\n",
       "                                            filtered  \n",
       "0                        [great, buy, at, ill, wait]  \n",
       "1                                                 []  \n",
       "2  [staanalystalert, jefferies, maintains, with, ...  \n",
       "3  [heard, there, guy, who, know, someone, who, t...  \n",
       "4                                 [reveal, yourself]  "
      ]
     },
     "execution_count": 22,
     "metadata": {},
     "output_type": "execute_result"
    }
   ],
   "source": [
    "df.head(5)"
   ]
  },
  {
   "cell_type": "markdown",
   "metadata": {},
   "source": [
    "### Balancing the classes"
   ]
  },
  {
   "cell_type": "code",
   "execution_count": 23,
   "metadata": {},
   "outputs": [
    {
     "name": "stdout",
     "output_type": "stream",
     "text": [
      "[4 3 2 0 1]\n"
     ]
    }
   ],
   "source": [
    "print ( df.sentiment.unique() )"
   ]
  },
  {
   "cell_type": "code",
   "execution_count": 24,
   "metadata": {},
   "outputs": [
    {
     "data": {
      "text/html": [
       "<div>\n",
       "<style scoped>\n",
       "    .dataframe tbody tr th:only-of-type {\n",
       "        vertical-align: middle;\n",
       "    }\n",
       "\n",
       "    .dataframe tbody tr th {\n",
       "        vertical-align: top;\n",
       "    }\n",
       "\n",
       "    .dataframe thead th {\n",
       "        text-align: right;\n",
       "    }\n",
       "</style>\n",
       "<table border=\"1\" class=\"dataframe\">\n",
       "  <thead>\n",
       "    <tr style=\"text-align: right;\">\n",
       "      <th></th>\n",
       "      <th>message_body</th>\n",
       "      <th>timestamp</th>\n",
       "      <th>message_tokenized</th>\n",
       "      <th>filtered</th>\n",
       "      <th>ratio (pct)</th>\n",
       "    </tr>\n",
       "    <tr>\n",
       "      <th>sentiment</th>\n",
       "      <th></th>\n",
       "      <th></th>\n",
       "      <th></th>\n",
       "      <th></th>\n",
       "      <th></th>\n",
       "    </tr>\n",
       "  </thead>\n",
       "  <tbody>\n",
       "    <tr>\n",
       "      <th>0</th>\n",
       "      <td>902</td>\n",
       "      <td>902</td>\n",
       "      <td>902</td>\n",
       "      <td>902</td>\n",
       "      <td>9.019098</td>\n",
       "    </tr>\n",
       "    <tr>\n",
       "      <th>1</th>\n",
       "      <td>1127</td>\n",
       "      <td>1127</td>\n",
       "      <td>1127</td>\n",
       "      <td>1127</td>\n",
       "      <td>11.268873</td>\n",
       "    </tr>\n",
       "    <tr>\n",
       "      <th>2</th>\n",
       "      <td>4799</td>\n",
       "      <td>4799</td>\n",
       "      <td>4799</td>\n",
       "      <td>4799</td>\n",
       "      <td>47.985201</td>\n",
       "    </tr>\n",
       "    <tr>\n",
       "      <th>3</th>\n",
       "      <td>1806</td>\n",
       "      <td>1806</td>\n",
       "      <td>1806</td>\n",
       "      <td>1806</td>\n",
       "      <td>18.058194</td>\n",
       "    </tr>\n",
       "    <tr>\n",
       "      <th>4</th>\n",
       "      <td>1367</td>\n",
       "      <td>1367</td>\n",
       "      <td>1367</td>\n",
       "      <td>1367</td>\n",
       "      <td>13.668633</td>\n",
       "    </tr>\n",
       "  </tbody>\n",
       "</table>\n",
       "</div>"
      ],
      "text/plain": [
       "           message_body  timestamp  message_tokenized  filtered  ratio (pct)\n",
       "sentiment                                                                   \n",
       "0                   902        902                902       902     9.019098\n",
       "1                  1127       1127               1127      1127    11.268873\n",
       "2                  4799       4799               4799      4799    47.985201\n",
       "3                  1806       1806               1806      1806    18.058194\n",
       "4                  1367       1367               1367      1367    13.668633"
      ]
     },
     "execution_count": 24,
     "metadata": {},
     "output_type": "execute_result"
    }
   ],
   "source": [
    "def find_counts(df):\n",
    "    df_counts =df.groupby(\"sentiment\", axis=0).count()\n",
    "    df_counts[\"ratio (pct)\"] = 100*df_counts[\"message_body\"]/sum(df_counts[\"message_body\"])\n",
    "    return df_counts\n",
    "\n",
    "find_counts(df)"
   ]
  },
  {
   "cell_type": "markdown",
   "metadata": {},
   "source": [
    "this means almost half of the tweets are neutral in the sentiment. a classic example of unbalanced data set. One way to treat this is to remove the neutral data so that the class becomes more or less neutral. Here we'll make the counts of sentiment 2 and sentiment 3 equal."
   ]
  },
  {
   "cell_type": "code",
   "execution_count": 25,
   "metadata": {},
   "outputs": [],
   "source": [
    "def balance_classes(df):\n",
    "    delete_after = df[df['sentiment']==3].shape[0] \n",
    "    indices_to_delete = df[df['sentiment']==2].index.values[delete_after:]\n",
    "    #indices_to_delete = np.random.choice(df[df['sentiment']==2].index.values,\n",
    "    #                                     len(df[df['sentiment']==2].index.values)-val)\n",
    "    df = df.drop(index=indices_to_delete, axis=0)\n",
    "    return df\n",
    "    \n",
    "df = balance_classes(df)"
   ]
  },
  {
   "cell_type": "code",
   "execution_count": 26,
   "metadata": {},
   "outputs": [
    {
     "data": {
      "text/html": [
       "<div>\n",
       "<style scoped>\n",
       "    .dataframe tbody tr th:only-of-type {\n",
       "        vertical-align: middle;\n",
       "    }\n",
       "\n",
       "    .dataframe tbody tr th {\n",
       "        vertical-align: top;\n",
       "    }\n",
       "\n",
       "    .dataframe thead th {\n",
       "        text-align: right;\n",
       "    }\n",
       "</style>\n",
       "<table border=\"1\" class=\"dataframe\">\n",
       "  <thead>\n",
       "    <tr style=\"text-align: right;\">\n",
       "      <th></th>\n",
       "      <th>message_body</th>\n",
       "      <th>timestamp</th>\n",
       "      <th>message_tokenized</th>\n",
       "      <th>filtered</th>\n",
       "      <th>ratio (pct)</th>\n",
       "    </tr>\n",
       "    <tr>\n",
       "      <th>sentiment</th>\n",
       "      <th></th>\n",
       "      <th></th>\n",
       "      <th></th>\n",
       "      <th></th>\n",
       "      <th></th>\n",
       "    </tr>\n",
       "  </thead>\n",
       "  <tbody>\n",
       "    <tr>\n",
       "      <th>0</th>\n",
       "      <td>902</td>\n",
       "      <td>902</td>\n",
       "      <td>902</td>\n",
       "      <td>902</td>\n",
       "      <td>12.871005</td>\n",
       "    </tr>\n",
       "    <tr>\n",
       "      <th>1</th>\n",
       "      <td>1127</td>\n",
       "      <td>1127</td>\n",
       "      <td>1127</td>\n",
       "      <td>1127</td>\n",
       "      <td>16.081621</td>\n",
       "    </tr>\n",
       "    <tr>\n",
       "      <th>2</th>\n",
       "      <td>1806</td>\n",
       "      <td>1806</td>\n",
       "      <td>1806</td>\n",
       "      <td>1806</td>\n",
       "      <td>25.770548</td>\n",
       "    </tr>\n",
       "    <tr>\n",
       "      <th>3</th>\n",
       "      <td>1806</td>\n",
       "      <td>1806</td>\n",
       "      <td>1806</td>\n",
       "      <td>1806</td>\n",
       "      <td>25.770548</td>\n",
       "    </tr>\n",
       "    <tr>\n",
       "      <th>4</th>\n",
       "      <td>1367</td>\n",
       "      <td>1367</td>\n",
       "      <td>1367</td>\n",
       "      <td>1367</td>\n",
       "      <td>19.506279</td>\n",
       "    </tr>\n",
       "  </tbody>\n",
       "</table>\n",
       "</div>"
      ],
      "text/plain": [
       "           message_body  timestamp  message_tokenized  filtered  ratio (pct)\n",
       "sentiment                                                                   \n",
       "0                   902        902                902       902    12.871005\n",
       "1                  1127       1127               1127      1127    16.081621\n",
       "2                  1806       1806               1806      1806    25.770548\n",
       "3                  1806       1806               1806      1806    25.770548\n",
       "4                  1367       1367               1367      1367    19.506279"
      ]
     },
     "execution_count": 26,
     "metadata": {},
     "output_type": "execute_result"
    }
   ],
   "source": [
    "find_counts(df)"
   ]
  },
  {
   "cell_type": "code",
   "execution_count": 27,
   "metadata": {},
   "outputs": [
    {
     "data": {
      "text/html": [
       "<div>\n",
       "<style scoped>\n",
       "    .dataframe tbody tr th:only-of-type {\n",
       "        vertical-align: middle;\n",
       "    }\n",
       "\n",
       "    .dataframe tbody tr th {\n",
       "        vertical-align: top;\n",
       "    }\n",
       "\n",
       "    .dataframe thead th {\n",
       "        text-align: right;\n",
       "    }\n",
       "</style>\n",
       "<table border=\"1\" class=\"dataframe\">\n",
       "  <thead>\n",
       "    <tr style=\"text-align: right;\">\n",
       "      <th></th>\n",
       "      <th>message_body</th>\n",
       "      <th>sentiment</th>\n",
       "      <th>timestamp</th>\n",
       "      <th>message_tokenized</th>\n",
       "      <th>filtered</th>\n",
       "      <th>counts</th>\n",
       "    </tr>\n",
       "  </thead>\n",
       "  <tbody>\n",
       "    <tr>\n",
       "      <th>0</th>\n",
       "      <td>$FITB great buy at 26.00...ill wait</td>\n",
       "      <td>4</td>\n",
       "      <td>2018-07-01T00:00:09Z</td>\n",
       "      <td>[great, buy, at, ill, wait]</td>\n",
       "      <td>[great, buy, at, ill, wait]</td>\n",
       "      <td>5</td>\n",
       "    </tr>\n",
       "    <tr>\n",
       "      <th>1</th>\n",
       "      <td>@StockTwits $MSFT</td>\n",
       "      <td>3</td>\n",
       "      <td>2018-07-01T00:00:42Z</td>\n",
       "      <td>[]</td>\n",
       "      <td>[]</td>\n",
       "      <td>0</td>\n",
       "    </tr>\n",
       "    <tr>\n",
       "      <th>2</th>\n",
       "      <td>#STAAnalystAlert for $TDG : Jefferies Maintain...</td>\n",
       "      <td>4</td>\n",
       "      <td>2018-07-01T00:01:24Z</td>\n",
       "      <td>[staanalystalert, for, jefferies, maintains, w...</td>\n",
       "      <td>[staanalystalert, jefferies, maintains, with, ...</td>\n",
       "      <td>15</td>\n",
       "    </tr>\n",
       "    <tr>\n",
       "      <th>3</th>\n",
       "      <td>$AMD I heard there’s a guy who knows someone w...</td>\n",
       "      <td>3</td>\n",
       "      <td>2018-07-01T00:01:47Z</td>\n",
       "      <td>[heard, there, guy, who, know, someone, who, t...</td>\n",
       "      <td>[heard, there, guy, who, know, someone, who, t...</td>\n",
       "      <td>12</td>\n",
       "    </tr>\n",
       "    <tr>\n",
       "      <th>4</th>\n",
       "      <td>$AMD reveal yourself!</td>\n",
       "      <td>2</td>\n",
       "      <td>2018-07-01T00:02:13Z</td>\n",
       "      <td>[reveal, yourself]</td>\n",
       "      <td>[reveal, yourself]</td>\n",
       "      <td>2</td>\n",
       "    </tr>\n",
       "  </tbody>\n",
       "</table>\n",
       "</div>"
      ],
      "text/plain": [
       "                                        message_body  sentiment  \\\n",
       "0                $FITB great buy at 26.00...ill wait          4   \n",
       "1                                  @StockTwits $MSFT          3   \n",
       "2  #STAAnalystAlert for $TDG : Jefferies Maintain...          4   \n",
       "3  $AMD I heard there’s a guy who knows someone w...          3   \n",
       "4                              $AMD reveal yourself!          2   \n",
       "\n",
       "              timestamp                                  message_tokenized  \\\n",
       "0  2018-07-01T00:00:09Z                        [great, buy, at, ill, wait]   \n",
       "1  2018-07-01T00:00:42Z                                                 []   \n",
       "2  2018-07-01T00:01:24Z  [staanalystalert, for, jefferies, maintains, w...   \n",
       "3  2018-07-01T00:01:47Z  [heard, there, guy, who, know, someone, who, t...   \n",
       "4  2018-07-01T00:02:13Z                                 [reveal, yourself]   \n",
       "\n",
       "                                            filtered  counts  \n",
       "0                        [great, buy, at, ill, wait]       5  \n",
       "1                                                 []       0  \n",
       "2  [staanalystalert, jefferies, maintains, with, ...      15  \n",
       "3  [heard, there, guy, who, know, someone, who, t...      12  \n",
       "4                                 [reveal, yourself]       2  "
      ]
     },
     "execution_count": 27,
     "metadata": {},
     "output_type": "execute_result"
    }
   ],
   "source": [
    "# delete texts with zero length\n",
    "df['counts'] = df.filtered.apply(len)\n",
    "df.head()"
   ]
  },
  {
   "cell_type": "code",
   "execution_count": 28,
   "metadata": {},
   "outputs": [
    {
     "data": {
      "text/html": [
       "<div>\n",
       "<style scoped>\n",
       "    .dataframe tbody tr th:only-of-type {\n",
       "        vertical-align: middle;\n",
       "    }\n",
       "\n",
       "    .dataframe tbody tr th {\n",
       "        vertical-align: top;\n",
       "    }\n",
       "\n",
       "    .dataframe thead th {\n",
       "        text-align: right;\n",
       "    }\n",
       "</style>\n",
       "<table border=\"1\" class=\"dataframe\">\n",
       "  <thead>\n",
       "    <tr style=\"text-align: right;\">\n",
       "      <th></th>\n",
       "      <th>message_body</th>\n",
       "      <th>sentiment</th>\n",
       "      <th>timestamp</th>\n",
       "      <th>message_tokenized</th>\n",
       "      <th>filtered</th>\n",
       "      <th>counts</th>\n",
       "    </tr>\n",
       "  </thead>\n",
       "  <tbody>\n",
       "    <tr>\n",
       "      <th>0</th>\n",
       "      <td>$FITB great buy at 26.00...ill wait</td>\n",
       "      <td>4</td>\n",
       "      <td>2018-07-01T00:00:09Z</td>\n",
       "      <td>[great, buy, at, ill, wait]</td>\n",
       "      <td>[great, buy, at, ill, wait]</td>\n",
       "      <td>5</td>\n",
       "    </tr>\n",
       "    <tr>\n",
       "      <th>2</th>\n",
       "      <td>#STAAnalystAlert for $TDG : Jefferies Maintain...</td>\n",
       "      <td>4</td>\n",
       "      <td>2018-07-01T00:01:24Z</td>\n",
       "      <td>[staanalystalert, for, jefferies, maintains, w...</td>\n",
       "      <td>[staanalystalert, jefferies, maintains, with, ...</td>\n",
       "      <td>15</td>\n",
       "    </tr>\n",
       "    <tr>\n",
       "      <th>3</th>\n",
       "      <td>$AMD I heard there’s a guy who knows someone w...</td>\n",
       "      <td>3</td>\n",
       "      <td>2018-07-01T00:01:47Z</td>\n",
       "      <td>[heard, there, guy, who, know, someone, who, t...</td>\n",
       "      <td>[heard, there, guy, who, know, someone, who, t...</td>\n",
       "      <td>12</td>\n",
       "    </tr>\n",
       "    <tr>\n",
       "      <th>4</th>\n",
       "      <td>$AMD reveal yourself!</td>\n",
       "      <td>2</td>\n",
       "      <td>2018-07-01T00:02:13Z</td>\n",
       "      <td>[reveal, yourself]</td>\n",
       "      <td>[reveal, yourself]</td>\n",
       "      <td>2</td>\n",
       "    </tr>\n",
       "    <tr>\n",
       "      <th>5</th>\n",
       "      <td>$AAPL Why the drop? I warren Buffet taking out...</td>\n",
       "      <td>3</td>\n",
       "      <td>2018-07-01T00:03:10Z</td>\n",
       "      <td>[why, the, drop, warren, buffet, taking, out, ...</td>\n",
       "      <td>[why, drop, warren, buffet, taking, out, his, ...</td>\n",
       "      <td>8</td>\n",
       "    </tr>\n",
       "  </tbody>\n",
       "</table>\n",
       "</div>"
      ],
      "text/plain": [
       "                                        message_body  sentiment  \\\n",
       "0                $FITB great buy at 26.00...ill wait          4   \n",
       "2  #STAAnalystAlert for $TDG : Jefferies Maintain...          4   \n",
       "3  $AMD I heard there’s a guy who knows someone w...          3   \n",
       "4                              $AMD reveal yourself!          2   \n",
       "5  $AAPL Why the drop? I warren Buffet taking out...          3   \n",
       "\n",
       "              timestamp                                  message_tokenized  \\\n",
       "0  2018-07-01T00:00:09Z                        [great, buy, at, ill, wait]   \n",
       "2  2018-07-01T00:01:24Z  [staanalystalert, for, jefferies, maintains, w...   \n",
       "3  2018-07-01T00:01:47Z  [heard, there, guy, who, know, someone, who, t...   \n",
       "4  2018-07-01T00:02:13Z                                 [reveal, yourself]   \n",
       "5  2018-07-01T00:03:10Z  [why, the, drop, warren, buffet, taking, out, ...   \n",
       "\n",
       "                                            filtered  counts  \n",
       "0                        [great, buy, at, ill, wait]       5  \n",
       "2  [staanalystalert, jefferies, maintains, with, ...      15  \n",
       "3  [heard, there, guy, who, know, someone, who, t...      12  \n",
       "4                                 [reveal, yourself]       2  \n",
       "5  [why, drop, warren, buffet, taking, out, his, ...       8  "
      ]
     },
     "execution_count": 28,
     "metadata": {},
     "output_type": "execute_result"
    }
   ],
   "source": [
    "df = df[df['counts']>0]\n",
    "df.head()"
   ]
  },
  {
   "cell_type": "code",
   "execution_count": 29,
   "metadata": {},
   "outputs": [
    {
     "data": {
      "text/html": [
       "<div>\n",
       "<style scoped>\n",
       "    .dataframe tbody tr th:only-of-type {\n",
       "        vertical-align: middle;\n",
       "    }\n",
       "\n",
       "    .dataframe tbody tr th {\n",
       "        vertical-align: top;\n",
       "    }\n",
       "\n",
       "    .dataframe thead th {\n",
       "        text-align: right;\n",
       "    }\n",
       "</style>\n",
       "<table border=\"1\" class=\"dataframe\">\n",
       "  <thead>\n",
       "    <tr style=\"text-align: right;\">\n",
       "      <th></th>\n",
       "      <th>message_body</th>\n",
       "      <th>timestamp</th>\n",
       "      <th>message_tokenized</th>\n",
       "      <th>filtered</th>\n",
       "      <th>counts</th>\n",
       "      <th>ratio (pct)</th>\n",
       "    </tr>\n",
       "    <tr>\n",
       "      <th>sentiment</th>\n",
       "      <th></th>\n",
       "      <th></th>\n",
       "      <th></th>\n",
       "      <th></th>\n",
       "      <th></th>\n",
       "      <th></th>\n",
       "    </tr>\n",
       "  </thead>\n",
       "  <tbody>\n",
       "    <tr>\n",
       "      <th>0</th>\n",
       "      <td>894</td>\n",
       "      <td>894</td>\n",
       "      <td>894</td>\n",
       "      <td>894</td>\n",
       "      <td>894</td>\n",
       "      <td>13.209220</td>\n",
       "    </tr>\n",
       "    <tr>\n",
       "      <th>1</th>\n",
       "      <td>1112</td>\n",
       "      <td>1112</td>\n",
       "      <td>1112</td>\n",
       "      <td>1112</td>\n",
       "      <td>1112</td>\n",
       "      <td>16.430260</td>\n",
       "    </tr>\n",
       "    <tr>\n",
       "      <th>2</th>\n",
       "      <td>1676</td>\n",
       "      <td>1676</td>\n",
       "      <td>1676</td>\n",
       "      <td>1676</td>\n",
       "      <td>1676</td>\n",
       "      <td>24.763593</td>\n",
       "    </tr>\n",
       "    <tr>\n",
       "      <th>3</th>\n",
       "      <td>1729</td>\n",
       "      <td>1729</td>\n",
       "      <td>1729</td>\n",
       "      <td>1729</td>\n",
       "      <td>1729</td>\n",
       "      <td>25.546690</td>\n",
       "    </tr>\n",
       "    <tr>\n",
       "      <th>4</th>\n",
       "      <td>1357</td>\n",
       "      <td>1357</td>\n",
       "      <td>1357</td>\n",
       "      <td>1357</td>\n",
       "      <td>1357</td>\n",
       "      <td>20.050236</td>\n",
       "    </tr>\n",
       "  </tbody>\n",
       "</table>\n",
       "</div>"
      ],
      "text/plain": [
       "           message_body  timestamp  message_tokenized  filtered  counts  \\\n",
       "sentiment                                                                 \n",
       "0                   894        894                894       894     894   \n",
       "1                  1112       1112               1112      1112    1112   \n",
       "2                  1676       1676               1676      1676    1676   \n",
       "3                  1729       1729               1729      1729    1729   \n",
       "4                  1357       1357               1357      1357    1357   \n",
       "\n",
       "           ratio (pct)  \n",
       "sentiment               \n",
       "0            13.209220  \n",
       "1            16.430260  \n",
       "2            24.763593  \n",
       "3            25.546690  \n",
       "4            20.050236  "
      ]
     },
     "execution_count": 29,
     "metadata": {},
     "output_type": "execute_result"
    }
   ],
   "source": [
    "find_counts(df)"
   ]
  },
  {
   "cell_type": "markdown",
   "metadata": {},
   "source": [
    "## Prepare input for Model\n",
    "- convert the text entry to numerical values\n",
    "- Pad the numerical values to a certain length\n",
    "- convert the y labels to categorical \n",
    "- train, test, val split"
   ]
  },
  {
   "cell_type": "code",
   "execution_count": 30,
   "metadata": {},
   "outputs": [
    {
     "data": {
      "text/html": [
       "<div>\n",
       "<style scoped>\n",
       "    .dataframe tbody tr th:only-of-type {\n",
       "        vertical-align: middle;\n",
       "    }\n",
       "\n",
       "    .dataframe tbody tr th {\n",
       "        vertical-align: top;\n",
       "    }\n",
       "\n",
       "    .dataframe thead th {\n",
       "        text-align: right;\n",
       "    }\n",
       "</style>\n",
       "<table border=\"1\" class=\"dataframe\">\n",
       "  <thead>\n",
       "    <tr style=\"text-align: right;\">\n",
       "      <th></th>\n",
       "      <th>message_body</th>\n",
       "      <th>sentiment</th>\n",
       "      <th>timestamp</th>\n",
       "      <th>message_tokenized</th>\n",
       "      <th>filtered</th>\n",
       "      <th>counts</th>\n",
       "    </tr>\n",
       "  </thead>\n",
       "  <tbody>\n",
       "    <tr>\n",
       "      <th>0</th>\n",
       "      <td>$FITB great buy at 26.00...ill wait</td>\n",
       "      <td>4</td>\n",
       "      <td>2018-07-01T00:00:09Z</td>\n",
       "      <td>[great, buy, at, ill, wait]</td>\n",
       "      <td>[great, buy, at, ill, wait]</td>\n",
       "      <td>5</td>\n",
       "    </tr>\n",
       "    <tr>\n",
       "      <th>2</th>\n",
       "      <td>#STAAnalystAlert for $TDG : Jefferies Maintain...</td>\n",
       "      <td>4</td>\n",
       "      <td>2018-07-01T00:01:24Z</td>\n",
       "      <td>[staanalystalert, for, jefferies, maintains, w...</td>\n",
       "      <td>[staanalystalert, jefferies, maintains, with, ...</td>\n",
       "      <td>15</td>\n",
       "    </tr>\n",
       "  </tbody>\n",
       "</table>\n",
       "</div>"
      ],
      "text/plain": [
       "                                        message_body  sentiment  \\\n",
       "0                $FITB great buy at 26.00...ill wait          4   \n",
       "2  #STAAnalystAlert for $TDG : Jefferies Maintain...          4   \n",
       "\n",
       "              timestamp                                  message_tokenized  \\\n",
       "0  2018-07-01T00:00:09Z                        [great, buy, at, ill, wait]   \n",
       "2  2018-07-01T00:01:24Z  [staanalystalert, for, jefferies, maintains, w...   \n",
       "\n",
       "                                            filtered  counts  \n",
       "0                        [great, buy, at, ill, wait]       5  \n",
       "2  [staanalystalert, jefferies, maintains, with, ...      15  "
      ]
     },
     "execution_count": 30,
     "metadata": {},
     "output_type": "execute_result"
    }
   ],
   "source": [
    "df.head(2)"
   ]
  },
  {
   "cell_type": "code",
   "execution_count": 31,
   "metadata": {},
   "outputs": [
    {
     "data": {
      "text/plain": [
       "24"
      ]
     },
     "execution_count": 31,
     "metadata": {},
     "output_type": "execute_result"
    }
   ],
   "source": [
    "df.counts.max()"
   ]
  },
  {
   "cell_type": "code",
   "execution_count": 32,
   "metadata": {},
   "outputs": [
    {
     "name": "stdout",
     "output_type": "stream",
     "text": [
      "X_train.shape: (4060, 20) y_train.shape:(4060, 5)\n",
      "X_test.shape: (1354, 20) y_test.shape:(1354, 5)\n",
      "X_val.shape: (1354, 20) y_val.shape:(1354, 5)\n"
     ]
    }
   ],
   "source": [
    "from tensorflow.keras.utils import to_categorical\n",
    "from sklearn.model_selection import train_test_split\n",
    "\n",
    "MAX_SEQUENCE_LEN = 20\n",
    "\n",
    "def text_to_numerics(text, vocab):\n",
    "    return [vocab[word] for word in text]\n",
    "\n",
    "def pad_list(lst, max_len):\n",
    "    # pad a list with zeros at the end to make the length max_len\n",
    "    lst = lst+[0]*(max_len-len(lst))\n",
    "    return lst[:max_len]\n",
    "    \n",
    "def prepare_input_for_model(df, MAX_SEQUENCE_LEN=20):\n",
    "    df['text_to_number'] = df['filtered'].apply(text_to_numerics, vocab=vocab)\n",
    "    df[\"padded_x\"] = df['text_to_number'].apply(pad_list, max_len=MAX_SEQUENCE_LEN)\n",
    "\n",
    "    X = np.array(df[\"padded_x\"].values)\n",
    "    X = np.stack( X, axis=0 )\n",
    "    \n",
    "    y = df['sentiment'].values\n",
    "    y = to_categorical(y)\n",
    "    return (df, X, y)\n",
    "    \n",
    "def split_data(X, y):\n",
    "    X_train_, X_val, y_train_, y_val = train_test_split(X, y, test_size=0.2)\n",
    "    X_train, X_test, y_train, y_test = train_test_split(X_train_, y_train_, test_size=0.25)\n",
    "\n",
    "    print (f\"X_train.shape: {X_train.shape} y_train.shape:{y_train.shape}\" )\n",
    "    print (f\"X_test.shape: {X_test.shape} y_test.shape:{y_test.shape}\" )\n",
    "    print (f\"X_val.shape: {X_val.shape} y_val.shape:{y_val.shape}\" )\n",
    "\n",
    "    return X_train, X_test, X_val, y_train, y_test, y_val\n",
    "\n",
    "(df, X, y) = prepare_input_for_model(df, MAX_SEQUENCE_LEN=MAX_SEQUENCE_LEN)\n",
    "X_train, X_test, X_val, y_train, y_test, y_val =  split_data(X, y)\n"
   ]
  },
  {
   "cell_type": "code",
   "execution_count": 33,
   "metadata": {},
   "outputs": [
    {
     "data": {
      "text/plain": [
       "array([4, 3, 2, 0, 1])"
      ]
     },
     "execution_count": 33,
     "metadata": {},
     "output_type": "execute_result"
    }
   ],
   "source": [
    "df.sentiment.unique()"
   ]
  },
  {
   "cell_type": "markdown",
   "metadata": {},
   "source": [
    "## Model Training"
   ]
  },
  {
   "cell_type": "code",
   "execution_count": 50,
   "metadata": {},
   "outputs": [],
   "source": [
    "from tensorflow.keras.models import Sequential\n",
    "from tensorflow.keras.layers import Dense, LSTM, Dropout, Flatten\n",
    "from tensorflow.keras.layers import Conv1D, MaxPooling1D, BatchNormalization\n",
    "from tensorflow.keras.optimizers import Adam\n",
    "from tensorflow.keras import preprocessing\n",
    "from keras.layers.embeddings import Embedding\n",
    "from keras.preprocessing import sequence"
   ]
  },
  {
   "cell_type": "code",
   "execution_count": 58,
   "metadata": {},
   "outputs": [
    {
     "name": "stdout",
     "output_type": "stream",
     "text": [
      "Epoch 1/15\n",
      "254/254 [==============================] - 3s 12ms/step - loss: 1.6791 - accuracy: 0.2791 - val_loss: 1.5384 - val_accuracy: 0.3375\n",
      "Epoch 2/15\n",
      "254/254 [==============================] - 2s 8ms/step - loss: 1.3550 - accuracy: 0.4618 - val_loss: 1.3375 - val_accuracy: 0.4793\n",
      "Epoch 3/15\n",
      "254/254 [==============================] - 2s 7ms/step - loss: 1.0833 - accuracy: 0.6017 - val_loss: 1.2409 - val_accuracy: 0.5295\n",
      "Epoch 4/15\n",
      "254/254 [==============================] - 2s 7ms/step - loss: 0.9237 - accuracy: 0.6591 - val_loss: 1.2544 - val_accuracy: 0.5044\n",
      "Epoch 5/15\n",
      "254/254 [==============================] - 2s 7ms/step - loss: 0.8002 - accuracy: 0.7037 - val_loss: 1.3064 - val_accuracy: 0.5325\n",
      "Epoch 6/15\n",
      "254/254 [==============================] - 2s 7ms/step - loss: 0.7142 - accuracy: 0.7429 - val_loss: 1.3120 - val_accuracy: 0.5369\n",
      "Epoch 7/15\n",
      "254/254 [==============================] - 2s 8ms/step - loss: 0.6485 - accuracy: 0.7677 - val_loss: 1.2997 - val_accuracy: 0.5473\n",
      "Epoch 8/15\n",
      "254/254 [==============================] - 2s 10ms/step - loss: 0.5823 - accuracy: 0.8150 - val_loss: 1.3706 - val_accuracy: 0.5451\n",
      "Epoch 9/15\n",
      "254/254 [==============================] - 2s 7ms/step - loss: 0.5416 - accuracy: 0.8296 - val_loss: 1.4790 - val_accuracy: 0.5583\n",
      "Epoch 10/15\n",
      "254/254 [==============================] - 2s 8ms/step - loss: 0.4819 - accuracy: 0.8488 - val_loss: 1.5164 - val_accuracy: 0.5576\n",
      "Epoch 11/15\n",
      "254/254 [==============================] - 2s 7ms/step - loss: 0.4266 - accuracy: 0.8687 - val_loss: 1.5378 - val_accuracy: 0.5443\n",
      "Epoch 12/15\n",
      "254/254 [==============================] - 2s 8ms/step - loss: 0.4122 - accuracy: 0.8709 - val_loss: 1.5561 - val_accuracy: 0.5451\n",
      "Epoch 13/15\n",
      "254/254 [==============================] - 2s 9ms/step - loss: 0.4063 - accuracy: 0.8719 - val_loss: 1.5534 - val_accuracy: 0.5480\n",
      "Epoch 14/15\n",
      "254/254 [==============================] - 2s 8ms/step - loss: 0.3731 - accuracy: 0.8823 - val_loss: 1.7066 - val_accuracy: 0.5473\n",
      "Epoch 15/15\n",
      "254/254 [==============================] - 2s 7ms/step - loss: 0.3593 - accuracy: 0.8869 - val_loss: 1.7343 - val_accuracy: 0.5591\n"
     ]
    }
   ],
   "source": [
    "def make_model(X, y, vocab=vocab, embedding_length = 20):\n",
    "    model = Sequential()\n",
    "    model.add(Embedding(len(vocab.items())+1, embedding_length, input_length=X.shape[1]))\n",
    "    \n",
    "    # model-1\n",
    "    #model.add(LSTM(6, bias_regularizer=\"l2\", return_sequences=True))  # , dropout=.1\n",
    "    #model.add(LSTM(6, bias_regularizer=\"l2\")) #, dropout=.1\n",
    "    \n",
    "    # model-2\n",
    "    #model.add(Conv1D(filters=8, kernel_size=3, padding='same', activation='relu'))\n",
    "    #model.add(MaxPooling1D(pool_size=2))\n",
    "    #model.add(LSTM(6, activation='tanh', bias_regularizer=\"l2\",  return_sequences=True))\n",
    "    model.add(LSTM(16, activation='tanh', bias_regularizer=\"l2\")) #, dropout=.1\n",
    "\n",
    "    #model.add(Dropout(0.2))\n",
    "    model.add(Dense(y.shape[1], activation='softmax'))\n",
    "    opt = Adam(learning_rate=0.001)\n",
    "    model.compile(loss='categorical_crossentropy', optimizer=opt, metrics=['accuracy'])\n",
    "    return model\n",
    "\n",
    "model = make_model(X_train, y_train)\n",
    "history = model.fit(X_train, y_train, epochs=15, verbose=1, batch_size=16,\n",
    "                      validation_data=(X_val, y_val))"
   ]
  },
  {
   "cell_type": "code",
   "execution_count": 59,
   "metadata": {},
   "outputs": [
    {
     "data": {
      "image/png": "[encoded data removed]",
      "text/plain": [
       "<Figure size 864x288 with 2 Axes>"
      ]
     },
     "metadata": {
      "needs_background": "light"
     },
     "output_type": "display_data"
    }
   ],
   "source": [
    "plot_history(history1)"
   ]
  },
  {
   "cell_type": "code",
   "execution_count": 70,
   "metadata": {},
   "outputs": [],
   "source": [
    "from sklearn.metrics import confusion_matrix"
   ]
  },
  {
   "cell_type": "code",
   "execution_count": 71,
   "metadata": {},
   "outputs": [],
   "source": [
    "ypred = model.predict(X_test)"
   ]
  },
  {
   "cell_type": "code",
   "execution_count": 72,
   "metadata": {},
   "outputs": [
    {
     "data": {
      "text/plain": [
       "array([1, 3, 2, ..., 1, 2, 4])"
      ]
     },
     "execution_count": 72,
     "metadata": {},
     "output_type": "execute_result"
    }
   ],
   "source": [
    "np.argmax(y_test,axis=1)"
   ]
  },
  {
   "cell_type": "code",
   "execution_count": 73,
   "metadata": {},
   "outputs": [],
   "source": [
    "confusionmatrix=confusion_matrix(np.argmax(y_test,axis=1),np.argmax(ypred,axis=1))"
   ]
  },
  {
   "cell_type": "code",
   "execution_count": 74,
   "metadata": {},
   "outputs": [
    {
     "data": {
      "text/plain": [
       "array([[ 78,  20,  14,  27,  16],\n",
       "       [ 36,  93,  34,  38,  17],\n",
       "       [  5,  17, 206,  85,  24],\n",
       "       [ 25,  22,  51, 210,  57],\n",
       "       [  3,   9,  27,  87, 153]])"
      ]
     },
     "execution_count": 74,
     "metadata": {},
     "output_type": "execute_result"
    }
   ],
   "source": [
    "confusionmatrix"
   ]
  },
  {
   "cell_type": "code",
   "execution_count": 75,
   "metadata": {},
   "outputs": [
    {
     "data": {
      "text/plain": [
       "<matplotlib.image.AxesImage at 0x173da79d0>"
      ]
     },
     "execution_count": 75,
     "metadata": {},
     "output_type": "execute_result"
    },
    {
     "data": {
      "image/png": "[encoded data removed]",
      "text/plain": [
       "<Figure size 432x288 with 1 Axes>"
      ]
     },
     "metadata": {
      "needs_background": "light"
     },
     "output_type": "display_data"
    }
   ],
   "source": [
    "plt.imshow(confusionmatrix)"
   ]
  },
  {
   "cell_type": "code",
   "execution_count": null,
   "metadata": {},
   "outputs": [],
   "source": [
    "# save model and other important things\n",
    "model.save('model_multiclass')"
   ]
  },
  {
   "cell_type": "code",
   "execution_count": null,
   "metadata": {},
   "outputs": [],
   "source": [
    "import json\n",
    "with open('vocab.json', 'w') as fp:\n",
    "    json.dump(vocab, fp)"
   ]
  },
  {
   "cell_type": "code",
   "execution_count": null,
   "metadata": {},
   "outputs": [],
   "source": [
    "import json\n",
    "with open('words.json', 'w') as fp:\n",
    "    json.dump(filtered_words, fp)"
   ]
  },
  {
   "cell_type": "code",
   "execution_count": null,
   "metadata": {},
   "outputs": [],
   "source": [
    "# loading the saved model, vocab, filtered_words\n",
    "from tensorflow import keras\n",
    "model = keras.models.load_model('./model_multiclass')"
   ]
  },
  {
   "cell_type": "code",
   "execution_count": null,
   "metadata": {},
   "outputs": [],
   "source": [
    "with open('vocab.json', 'r') as fp:\n",
    "    vocab = json.load(fp)\n",
    "    \n",
    "with open('words.json', 'r') as fp:\n",
    "    filtered_words = json.load(fp)\n"
   ]
  },
  {
   "cell_type": "markdown",
   "metadata": {},
   "source": [
    "## Predictions"
   ]
  },
  {
   "cell_type": "code",
   "execution_count": 79,
   "metadata": {},
   "outputs": [],
   "source": [
    "def Prediction(text, model=model, vocab=vocab, filtered_words=filtered_words):\n",
    "    # prepare the input text\n",
    "    #text = \"Google is working on self driving cars, I'm bullish on $goog\"\n",
    "    tokens = preprocess(text)\n",
    "    tokens = [word for word in tokens if word in filtered_words]\n",
    "    tokens = [vocab[word] for word in tokens] \n",
    "    X_input = np.array(pad_list(tokens, 20)).reshape(1,-1)\n",
    "    \n",
    "    y_out = model.predict(X_input)\n",
    "    sentiment = np.argmax(y_out,axis=1)[0]+1 # to make it 1 to 5\n",
    "    \n",
    "    print (f\"The following Tweet\\n\\n {text} \\n\\n\\\n",
    "    has a number {sentiment} sentiment on a scale of 1 to 5\")\n"
   ]
  },
  {
   "cell_type": "code",
   "execution_count": 80,
   "metadata": {
    "scrolled": true
   },
   "outputs": [
    {
     "name": "stdout",
     "output_type": "stream",
     "text": [
      "The following Tweet\n",
      "\n",
      "  $AAPL had a big increase. I am really happy for this \n",
      "\n",
      "    has a number 4 sentiment on a scale of 1 to 5\n"
     ]
    }
   ],
   "source": [
    "#text = \"Google is working on self driving cars, I'm bullish on $goog\"\n",
    "text = \" $AAPL had a big increase. I am really happy for this.\"\n",
    "#text = \" Sad to see the stocks going down.\"\n",
    "\n",
    "Prediction(text)"
   ]
  },
  {
   "cell_type": "code",
   "execution_count": null,
   "metadata": {},
   "outputs": [],
   "source": []
  },
  {
   "cell_type": "code",
   "execution_count": null,
   "metadata": {},
   "outputs": [],
   "source": []
  }
 ],
 "metadata": {
  "kernelspec": {
   "display_name": "Python 3",
   "language": "python",
   "name": "python3"
  },
  "language_info": {
   "codemirror_mode": {
    "name": "ipython",
    "version": 3
   },
   "file_extension": ".py",
   "mimetype": "text/x-python",
   "name": "python",
   "nbconvert_exporter": "python",
   "pygments_lexer": "ipython3",
   "version": "3.8.5"
  }
 },
 "nbformat": 4,
 "nbformat_minor": 4
}
