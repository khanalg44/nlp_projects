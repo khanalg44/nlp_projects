{
 "cells": [
  {
   "cell_type": "code",
   "execution_count": null,
   "metadata": {},
   "outputs": [],
   "source": []
  },
  {
   "cell_type": "code",
   "execution_count": 65,
   "metadata": {},
   "outputs": [],
   "source": [
    "import numpy as np\n",
    "import pylab as plt\n",
    "\n",
    "import json \n",
    "import pickle \n",
    "\n",
    "# NLP imports\n",
    "import re\n",
    "import nltk, gensim\n",
    "from nltk.corpus import stopwords\n",
    "from nltk.stem import PorterStemmer\n",
    "\n",
    "from sklearn.model_selection import train_test_split\n",
    "from tensorflow.keras.preprocessing.text import Tokenizer\n",
    "from tensorflow.keras.layers import Embedding, LSTM, Dense\n",
    "from tensorflow.keras.models import Sequential\n",
    "from tensorflow.keras.utils import to_categorical\n",
    "from tensorflow.keras.optimizers import Adam\n",
    "\n",
    "data_dir = '../nlp_datasets/'"
   ]
  },
  {
   "cell_type": "code",
   "execution_count": 2,
   "metadata": {},
   "outputs": [
    {
     "name": "stdout",
     "output_type": "stream",
     "text": [
      "Loading the Full text.\n",
      "['project', 'gutenberg', 'ebook', 'metamorphosi', 'franz', 'kafka', 'translat', 'david', 'wylli', 'ebook']\n"
     ]
    }
   ],
   "source": [
    "def load_text_data():\n",
    "    file = open(data_dir + 'Metamorphosis_Franz_Kafka.txt', 'r', encoding = \"utf8\")\n",
    "    doc = ''\n",
    "    for line in file.readlines():\n",
    "        doc = doc + line\n",
    "    return doc\n",
    "\n",
    "def preprocess_text(raw_doc=None, return_raw_data=False):\n",
    "    \n",
    "    if raw_doc is None:\n",
    "        print (\"Loading the Full text.\")\n",
    "        raw_doc = load_text_data()\n",
    "    \n",
    "    REPLACE_BY_SPACE_RE = re.compile('[/(){}\\[\\]\\|@,;\\n]')\n",
    "    BAD_SYMBOLS_RE = re.compile('[^0-9a-z #+_]')\n",
    "    STOPWORDS = set(stopwords.words('english'))\n",
    "\n",
    "    doc = raw_doc.lower()\n",
    "    doc = REPLACE_BY_SPACE_RE.sub(' ',doc)\n",
    "    doc = BAD_SYMBOLS_RE.sub('', doc)\n",
    "    doc = ' '.join([word for word in doc.split() if word not in STOPWORDS])\n",
    "    \n",
    "    # remove the different form of the same word\n",
    "    doc = doc.split(' ')\n",
    "    stemmer = PorterStemmer()\n",
    "    doc = [stemmer.stem(d) for d in doc]\n",
    "    \n",
    "    if return_raw_data:\n",
    "        return raw_doc, doc\n",
    "    return doc\n",
    "\n",
    "data = preprocess_text()\n",
    "\n",
    "print (data[:10])"
   ]
  },
  {
   "cell_type": "code",
   "execution_count": 3,
   "metadata": {},
   "outputs": [],
   "source": [
    "from sklearn.feature_extraction.text import TfidfVectorizer\n",
    "vectorizer = TfidfVectorizer(min_df =5, max_df=0.9, ngram_range=(1,2), token_pattern='(\\S+)')\n",
    "X=vectorizer.fit_transform(data)"
   ]
  },
  {
   "cell_type": "code",
   "execution_count": 15,
   "metadata": {},
   "outputs": [
    {
     "name": "stdout",
     "output_type": "stream",
     "text": [
      "word: project \t Frequency:407\n",
      "word: gutenberg \t Frequency:234\n",
      "word: ebook \t Frequency:149\n",
      "word: metamorphosi \t Frequency:333\n",
      "word: david \t Frequency:115\n",
      "word: wylli \t Frequency:588\n",
      "word: use \t Frequency:550\n",
      "word: anyon \t Frequency:23\n",
      "word: cost \t Frequency:102\n",
      "word: almost \t Frequency:13\n"
     ]
    }
   ],
   "source": [
    "for k,v in list(vectorizer.vocabulary_.items())[:10]:\n",
    "    print (f\"word: {k} \\t Frequency:{v}\")"
   ]
  },
  {
   "cell_type": "code",
   "execution_count": 17,
   "metadata": {},
   "outputs": [
    {
     "name": "stdout",
     "output_type": "stream",
     "text": [
      "Found 2252 unique tokens.\n"
     ]
    }
   ],
   "source": [
    "tokenizer = Tokenizer(num_words=10000, filters='!\"#$%&()*+,-./:;<=>?@[\\]^_`{|}~\\n', lower=True)\n",
    "tokenizer.fit_on_texts(data)\n",
    "word_index = tokenizer.word_index\n",
    "print('Found %s unique tokens.' % len(word_index))"
   ]
  },
  {
   "cell_type": "code",
   "execution_count": 19,
   "metadata": {},
   "outputs": [
    {
     "name": "stdout",
     "output_type": "stream",
     "text": [
      "Token: gregor \t index:1\n",
      "Token: would \t index:2\n",
      "Token: room \t index:3\n",
      "Token: could \t index:4\n",
      "Token: work \t index:5\n",
      "Token: even \t index:6\n",
      "Token: father \t index:7\n",
      "Token: sister \t index:8\n",
      "Token: door \t index:9\n",
      "Token: mother \t index:10\n"
     ]
    }
   ],
   "source": [
    "for k,v in list(word_index.items())[:10]:\n",
    "    print (f\"Token: {k} \\t index:{v}\")"
   ]
  },
  {
   "cell_type": "code",
   "execution_count": 83,
   "metadata": {},
   "outputs": [
    {
     "data": {
      "text/plain": [
       "'project'"
      ]
     },
     "execution_count": 83,
     "metadata": {},
     "output_type": "execute_result"
    }
   ],
   "source": [
    "tokenizer.index_word[11]# 51] 118]"
   ]
  },
  {
   "cell_type": "code",
   "execution_count": 161,
   "metadata": {},
   "outputs": [
    {
     "name": "stdout",
     "output_type": "stream",
     "text": [
      "X.shape: (4384, 16), y.shape: (4384,)\n"
     ]
    }
   ],
   "source": [
    "def prepare_sequence(data, n_steps=16, num_words=10):\n",
    "    tokenizer = Tokenizer(num_words=num_words)\n",
    "    tokenizer.fit_on_texts(data)\n",
    "    vocab_size = len(tokenizer.word_index) + 1\n",
    "    seq = tokenizer.texts_to_sequences(data)\n",
    "    \n",
    "    # the following is same as flatten() but for lists with different lengths\n",
    "    import operator\n",
    "    from functools import reduce\n",
    "    seq = reduce(operator.concat, seq)\n",
    "    #seq = seq.flatten()\n",
    "    #seq = np.array(seq).flatten()\n",
    "\n",
    "    X, y = list(), list()\n",
    "    for i in range(len(seq)-n_steps-1):\n",
    "        X.append(seq[i:i+n_steps])\n",
    "        #X.append(seq[i])\n",
    "        y.append(seq[i+n_steps])\n",
    "    return (np.array(X), np.array(y), tokenizer, vocab_size)\n",
    "\n",
    "n_steps = 16;\n",
    "num_words=100\n",
    "(X, y, tokenizer, vocab_size) = prepare_sequence(data, n_steps, num_words)\n",
    "\n",
    "print (f\"X.shape: {X.shape}, y.shape: {y.shape}\")"
   ]
  },
  {
   "cell_type": "code",
   "execution_count": 162,
   "metadata": {},
   "outputs": [
    {
     "name": "stdout",
     "output_type": "stream",
     "text": [
      "X_train.shape: (3507, 16) y_train.shape:(3507,)\n",
      "X_test.shape: (877, 16) y_test.shape:(877,)\n"
     ]
    }
   ],
   "source": [
    "\n",
    "X_train, X_test, y_train, y_test = train_test_split(X, y, test_size=0.2, shuffle=True)\n",
    "\n",
    "print (f\"X_train.shape: {X_train.shape} y_train.shape:{y_train.shape}\" )\n",
    "print (f\"X_test.shape: {X_test.shape} y_test.shape:{y_test.shape}\" )\n"
   ]
  },
  {
   "cell_type": "code",
   "execution_count": 163,
   "metadata": {},
   "outputs": [
    {
     "name": "stdout",
     "output_type": "stream",
     "text": [
      "99\n"
     ]
    }
   ],
   "source": [
    "print (max(y_train))"
   ]
  },
  {
   "cell_type": "markdown",
   "metadata": {},
   "source": [
    "Printing some samples from X_train and y_train"
   ]
  },
  {
   "cell_type": "code",
   "execution_count": 164,
   "metadata": {},
   "outputs": [
    {
     "name": "stdout",
     "output_type": "stream",
     "text": [
      "X: [85 50 13 15 50  4 92  2 27 31  4 20  4 82 37  6] \t y: 1\n",
      "X: [57 11 51 11 17 62 66 11 17  5  5 11 51 11 51 66] \t y: 87\n",
      "X: [ 2 23  7  2 93  9  2 91 37  7 13 76 13  1 10 59] \t y: 25\n",
      "X: [23 28  1 28  1  2 92  2 10 54 36 16 36  4 59 34] \t y: 8\n",
      "X: [14 46 44 21 39 41 30 62 93 83 29 39 41 35 28  7] \t y: 9\n"
     ]
    }
   ],
   "source": [
    "for i in range(5):\n",
    "    print (f\"X: {X_train[i]} \\t y: {y_train[i]}\")"
   ]
  },
  {
   "cell_type": "markdown",
   "metadata": {},
   "source": [
    "The actual words can be found from the `tokenizer.index_word`"
   ]
  },
  {
   "cell_type": "code",
   "execution_count": 165,
   "metadata": {},
   "outputs": [
    {
     "name": "stdout",
     "output_type": "stream",
     "text": [
      "X: [85 50 13 15 50  4 92  2 27 31  4 20  4 82 37  6] \t y: 1\n",
      "X: ['help', 'famili', 'time', 'look', 'famili', 'could', 'think', 'would', 'want', 'made', 'could', 'get', 'could', 'take', 'thing', 'even'] \ty: gregor\n",
      "X: [57 11 51 11 17 62 66 11 17  5  5 11 51 11 51 66] \t y: 87\n",
      "X: ['state', 'project', 'gutenberg', 'project', 'gutenbergtm', 'must', 'copi', 'project', 'gutenbergtm', 'work', 'work', 'project', 'gutenberg', 'project', 'gutenberg', 'copi'] \ty: distribut\n",
      "X: [ 2 23  7  2 93  9  2 91 37  7 13 76 13  1 10 59] \t y: 25\n",
      "X: ['would', 'go', 'father', 'would', 'say', 'door', 'would', 'slowli', 'thing', 'father', 'time', 'long', 'time', 'gregor', 'mother', 'everyth'] \ty: first\n",
      "X: [23 28  1 28  1  2 92  2 10 54 36 16 36  4 59 34] \t y: 8\n",
      "X: ['go', 'see', 'gregor', 'see', 'gregor', 'would', 'think', 'would', 'mother', 'came', 'day', 'one', 'day', 'could', 'everyth', 'much'] \ty: sister\n",
      "X: [14 46 44 21 39 41 30 62 93 83 29 39 41 35 28  7] \t y: 9\n",
      "X: ['way', 'mr', 'samsa', 'said', 'chief', 'clerk', 'hand', 'must', 'say', 'becom', 'like', 'chief', 'clerk', 'come', 'see', 'father'] \ty: door\n"
     ]
    }
   ],
   "source": [
    "for i in range(5):\n",
    "    print (f\"X: {X_train[i]} \\t y: {y_train[i]}\")\n",
    "    print (\"X:\", [tokenizer.index_word[X_train[i][j]] for j in range(len(X_train[i]))], \"\\ty:\", tokenizer.index_word[y_train[i]]) "
   ]
  },
  {
   "cell_type": "code",
   "execution_count": 166,
   "metadata": {},
   "outputs": [
    {
     "name": "stdout",
     "output_type": "stream",
     "text": [
      "X_train.shape: (3507, 16) y_train.shape:(3507, 100)\n",
      "X_test.shape: (877, 16) y_test.shape:(877, 100)\n"
     ]
    }
   ],
   "source": [
    "# change y to categorical variable\n",
    "y_train = to_categorical(y_train, num_classes=num_words)\n",
    "y_test  = to_categorical(y_test,  num_classes=num_words)\n",
    "\n",
    "print (f\"X_train.shape: {X_train.shape} y_train.shape:{y_train.shape}\" )\n",
    "print (f\"X_test.shape: {X_test.shape} y_test.shape:{y_test.shape}\" )"
   ]
  },
  {
   "cell_type": "markdown",
   "metadata": {},
   "source": [
    "## Model Building"
   ]
  },
  {
   "cell_type": "code",
   "execution_count": 167,
   "metadata": {},
   "outputs": [
    {
     "name": "stdout",
     "output_type": "stream",
     "text": [
      "Model: \"sequential_10\"\n",
      "_________________________________________________________________\n",
      "Layer (type)                 Output Shape              Param #   \n",
      "=================================================================\n",
      "embedding_9 (Embedding)      (None, 16, 16)            1600      \n",
      "_________________________________________________________________\n",
      "lstm_9 (LSTM)                (None, 32)                6272      \n",
      "_________________________________________________________________\n",
      "dense_9 (Dense)              (None, 100)               3300      \n",
      "=================================================================\n",
      "Total params: 11,172\n",
      "Trainable params: 11,172\n",
      "Non-trainable params: 0\n",
      "_________________________________________________________________\n"
     ]
    }
   ],
   "source": [
    "def make_model(X, y, embedding_length = 16):\n",
    "    model = Sequential()\n",
    "    model.add(Embedding(100, embedding_length, input_length=X.shape[1]))\n",
    "    model.add(LSTM(32))\n",
    "    model.add(Dense(y.shape[1], activation='softmax'))\n",
    "    model.compile(loss='categorical_crossentropy', optimizer='adam', metrics=['accuracy'])\n",
    "    return model\n",
    "\n",
    "model = make_model(X_train, y_train, embedding_length = 16)\n",
    "model.summary()"
   ]
  },
  {
   "cell_type": "code",
   "execution_count": 168,
   "metadata": {},
   "outputs": [
    {
     "name": "stdout",
     "output_type": "stream",
     "text": [
      "Epoch 1/5\n",
      "55/55 [==============================] - 2s 30ms/step - loss: 4.5571 - accuracy: 0.0664 - val_loss: 4.4417 - val_accuracy: 0.0673\n",
      "Epoch 2/5\n",
      "55/55 [==============================] - 0s 7ms/step - loss: 4.3503 - accuracy: 0.0750 - val_loss: 4.2894 - val_accuracy: 0.0764\n",
      "Epoch 3/5\n",
      "55/55 [==============================] - 0s 7ms/step - loss: 4.2050 - accuracy: 0.0887 - val_loss: 4.1747 - val_accuracy: 0.0775\n",
      "Epoch 4/5\n",
      "55/55 [==============================] - 0s 7ms/step - loss: 4.1388 - accuracy: 0.0887 - val_loss: 4.1233 - val_accuracy: 0.0764\n",
      "Epoch 5/5\n",
      "55/55 [==============================] - 1s 10ms/step - loss: 4.1132 - accuracy: 0.0887 - val_loss: 4.1012 - val_accuracy: 0.0787\n"
     ]
    }
   ],
   "source": [
    "history = model.fit(X_train, y_train,\n",
    "                    validation_data=(X_test, y_test), \n",
    "                    epochs=5,\n",
    "                    batch_size=64,\n",
    "                    verbose=1)"
   ]
  },
  {
   "cell_type": "code",
   "execution_count": null,
   "metadata": {},
   "outputs": [],
   "source": []
  },
  {
   "cell_type": "code",
   "execution_count": null,
   "metadata": {},
   "outputs": [],
   "source": []
  },
  {
   "cell_type": "code",
   "execution_count": null,
   "metadata": {},
   "outputs": [],
   "source": []
  },
  {
   "cell_type": "code",
   "execution_count": null,
   "metadata": {},
   "outputs": [],
   "source": []
  },
  {
   "cell_type": "code",
   "execution_count": null,
   "metadata": {},
   "outputs": [],
   "source": []
  },
  {
   "cell_type": "code",
   "execution_count": null,
   "metadata": {},
   "outputs": [],
   "source": []
  },
  {
   "cell_type": "code",
   "execution_count": null,
   "metadata": {},
   "outputs": [],
   "source": []
  }
 ],
 "metadata": {
  "kernelspec": {
   "display_name": "Python 3",
   "language": "python",
   "name": "python3"
  },
  "language_info": {
   "codemirror_mode": {
    "name": "ipython",
    "version": 3
   },
   "file_extension": ".py",
   "mimetype": "text/x-python",
   "name": "python",
   "nbconvert_exporter": "python",
   "pygments_lexer": "ipython3",
   "version": "3.8.5"
  }
 },
 "nbformat": 4,
 "nbformat_minor": 4
}
