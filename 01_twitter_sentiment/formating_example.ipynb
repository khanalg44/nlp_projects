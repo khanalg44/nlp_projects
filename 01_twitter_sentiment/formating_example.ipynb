{
 "cells": [
  {
   "cell_type": "markdown",
   "metadata": {},
   "source": [
    "# nltk spacy basics\n",
    "\n",
    "**Reference**\n",
    "* https://myrepublica.nagariknetwork.com/news/mining-data-from-social-media-for-good/\n",
    "* https://github.com/kgyanwal/nltk_spacy\n",
    "\n",
    "\n",
    "## String formatting "
   ]
  },
  {
   "cell_type": "code",
   "execution_count": 1,
   "metadata": {},
   "outputs": [
    {
     "name": "stdout",
     "output_type": "stream",
     "text": [
      "name = ram\n"
     ]
    }
   ],
   "source": [
    "person = 'ram'\n",
    "print ('name = {}'.format(person))"
   ]
  },
  {
   "cell_type": "code",
   "execution_count": 2,
   "metadata": {},
   "outputs": [
    {
     "name": "stdout",
     "output_type": "stream",
     "text": [
      "author     book       Year\n",
      "Krishana   NLP        2021\n",
      "Jeremiah   CCA150     2019\n",
      "Joe        Economy    2020\n",
      "Raj        Sweet Home 2022\n"
     ]
    }
   ],
   "source": [
    "lib = [('author', 'book', 'Year' ),\n",
    "       ('Krishana', 'NLP', 2021 ),\n",
    "       ('Jeremiah', 'CCA150', 2019 ),\n",
    "       ('Joe', 'Economy', 2020 ),\n",
    "       ('Raj', 'Sweet Home', 2022 )]\n",
    "\n",
    "for author, book, year in lib:\n",
    "    print(f\"{author:{10}} {book:{10}} {year}\")"
   ]
  },
  {
   "cell_type": "markdown",
   "metadata": {},
   "source": [
    "## Date and Time Formatting "
   ]
  },
  {
   "cell_type": "code",
   "execution_count": 3,
   "metadata": {
    "scrolled": true
   },
   "outputs": [
    {
     "name": "stdout",
     "output_type": "stream",
     "text": [
      "2020-03-18 00:00:00\n",
      "March 18, 2020\n"
     ]
    },
    {
     "data": {
      "text/plain": [
       "'Check strftime for datetime formatting'"
      ]
     },
     "execution_count": 3,
     "metadata": {},
     "output_type": "execute_result"
    }
   ],
   "source": [
    "from datetime import datetime\n",
    "today = datetime(year=2020, month=3, day=18)\n",
    "print(today)\n",
    "print(f\"{today:%B %d, %Y}\")\n",
    "'''Check strftime for datetime formatting'''"
   ]
  },
  {
   "cell_type": "code",
   "execution_count": 4,
   "metadata": {},
   "outputs": [
    {
     "name": "stdout",
     "output_type": "stream",
     "text": [
      "2020-03-18 00:00:00\n",
      "March 18, 2020\n",
      "Today's date: 2020-03-29 19:05:47.848100\n",
      "29/03/2020\n",
      "March 29, 2020\n",
      "03/29/20\n",
      "Mar-29-2020\n",
      "29-03-2020 19:05:47\n"
     ]
    }
   ],
   "source": [
    "today = datetime(year=2020, month=3, day=18)\n",
    "print(today)\n",
    "print(f\"{today:%B %d, %Y}\")\n",
    "'''Check strftime for datetime formatting'''\n",
    "\n",
    "today = datetime.today()\n",
    "print(\"Today's date:\", today)\n",
    "\n",
    "today = datetime.today()\n",
    "\n",
    "# dd/mm/YY\n",
    "print (today.strftime(\"%d/%m/%Y\"))\n",
    "print (today.strftime(\"%B %d, %Y\"))\n",
    "print (today.strftime(\"%m/%d/%y\"))\n",
    "print (today.strftime(\"%b-%d-%Y\"))\n",
    "\n",
    "now = datetime.now()\n",
    "print (now.strftime(\"%d-%m-%Y %H:%M:%S\"))"
   ]
  },
  {
   "cell_type": "markdown",
   "metadata": {},
   "source": [
    "## Working with text file\n",
    "* Write a file using : %%writefile [options] filename \n",
    "    * options = -a    # to append the file.\n",
    "\n",
    "* View the file using : %less filename     to view the file.\n",
    "* Delete the file using : %rm ex_file.txt"
   ]
  },
  {
   "cell_type": "code",
   "execution_count": 5,
   "metadata": {},
   "outputs": [
    {
     "name": "stdout",
     "output_type": "stream",
     "text": [
      "Appending to test.txt\n"
     ]
    }
   ],
   "source": [
    "%%writefile -a test.txt\n",
    "Hello, this is a quick test file.\n",
    "this is a second line of the text file.\n",
    "this is another line"
   ]
  },
  {
   "cell_type": "code",
   "execution_count": 6,
   "metadata": {},
   "outputs": [],
   "source": [
    "%less test.txt\n",
    "##%rm ex_file.txt\n"
   ]
  },
  {
   "cell_type": "code",
   "execution_count": 7,
   "metadata": {},
   "outputs": [
    {
     "data": {
      "text/plain": [
       "'you can not call multiple read for the same file, \\nif you want to re-read the file you have to use \\nseek myfile.seek(0)'"
      ]
     },
     "execution_count": 7,
     "metadata": {},
     "output_type": "execute_result"
    }
   ],
   "source": [
    "myfile = open('test.txt')\n",
    "myfile.read()\n",
    "'''you can not call multiple read for the same file, \n",
    "if you want to re-read the file you have to use \n",
    "seek myfile.seek(0)'''"
   ]
  },
  {
   "cell_type": "code",
   "execution_count": 8,
   "metadata": {},
   "outputs": [],
   "source": [
    "%less test.txt"
   ]
  },
  {
   "cell_type": "markdown",
   "metadata": {},
   "source": [
    "# Working with pdf file"
   ]
  },
  {
   "cell_type": "code",
   "execution_count": 9,
   "metadata": {},
   "outputs": [
    {
     "name": "stdout",
     "output_type": "stream",
     "text": [
      "total # of pages: 11\n",
      "pdf info: \n",
      "  {'/CreationDate': \"D:20181015122325+08'00'\", '/Creator': 'Arbortext Advanced Print Publisher 9.1.440/W Unicode', '/ModDate': \"D:20191219094152-08'00'\", '/Producer': 'Acrobat Distiller 10.1.16 (Windows)', '/Title': 'Science Journals — AAAS'}\n"
     ]
    }
   ],
   "source": [
    "import PyPDF2\n",
    "pdf_filename='/Users/gshyam/projects/work_projects/machine_learning/ANPA_dataScience/QuantumComputing2020/Quantum-Internet-A-vision-for-the-road-ahead.pdf' \n",
    "pdf1=open(pdf_filename, mode='rb')\n",
    "pdf_file=PyPDF2.PdfFileReader(pdf1)\n",
    "info  = pdf_file.getDocumentInfo()\n",
    "numpage = pdf_file.getNumPages()\n",
    "print (\"total # of pages:\",numpage)\n",
    "print (\"pdf info: \\n \",info)"
   ]
  },
  {
   "cell_type": "markdown",
   "metadata": {},
   "source": [
    "## Merge PDFs"
   ]
  },
  {
   "cell_type": "code",
   "execution_count": 10,
   "metadata": {},
   "outputs": [],
   "source": [
    "import os\n",
    "from PyPDF2 import PdfFileReader, PdfFileWriter\n",
    "\n",
    "sample_dir='./sample'\n",
    "\n",
    "def MergePdfs(fils, outfile):  \n",
    "    pdf_writer= PdfFileWriter()\n",
    "    for fil in fils:\n",
    "        fpath=os.path.join(sample_dir, fil)\n",
    "        pdf_reader = PdfFileReader(fpath)\n",
    "        for page in range(pdf_reader.getNumPages()):\n",
    "            pdf_writer.addPage(pdf_reader.getPage(page) )\n",
    "            \n",
    "    out_fil_path=os.path.join(sample_dir, outfile)                            \n",
    "    fout=open(out_fil_path, 'wb')\n",
    "    pdf_writer.write(fout)\n",
    "    fout.close()\n",
    "\n",
    "paths = ['pdf1.pdf', 'pdf2.pdf']\n",
    "MergePdfs(paths, 'merged_pdf12.pdf')\n"
   ]
  },
  {
   "cell_type": "markdown",
   "metadata": {},
   "source": [
    "## Rotate PDFs"
   ]
  },
  {
   "cell_type": "code",
   "execution_count": 11,
   "metadata": {},
   "outputs": [],
   "source": [
    "sample_dir='./sample'\n",
    "\n",
    "def RotatePages(pdffile, outfile):\n",
    "    fpath=os.path.join(sample_dir, pdffile)\n",
    "    \n",
    "    pdf_writer= PdfFileWriter()\n",
    "    pdf_reader = PdfFileReader(fpath)\n",
    "    \n",
    "    page_1 = pdf_reader.getPage(0).rotateClockwise(90)  # add rotated page\n",
    "    pdf_writer.addPage(page_1)\n",
    "    \n",
    "    page_2 = pdf_reader.getPage(1).rotateCounterClockwise(90) # add rotated page\n",
    "    pdf_writer.addPage(page_2)\n",
    "    pdf_writer.addPage(pdf_reader.getPage(2)) # unrotated page\n",
    "    \n",
    "    out_fil_path=os.path.join(sample_dir, outfile)\n",
    "    fout=open(out_fil_path, 'wb')\n",
    "    pdf_writer.write(fout)\n",
    "    fout.close()\n",
    "\n",
    "pdf_in  ='pdf2.pdf'\n",
    "pdf_out ='pdf2_rotated.pdf'\n",
    "    \n",
    "RotatePages(pdf_in, pdf_out)\n",
    "    "
   ]
  },
  {
   "cell_type": "markdown",
   "metadata": {},
   "source": [
    "## Add Watermark\n",
    "\n",
    "### Add a seperate Picture as a watermark"
   ]
  },
  {
   "cell_type": "code",
   "execution_count": 12,
   "metadata": {},
   "outputs": [],
   "source": [
    "def addWatermark(pdffile, outfile, watermark):\n",
    "    \n",
    "    f_in  = os.path.join(sample_dir, pdffile)\n",
    "    f_out = os.path.join(sample_dir, outfile)\n",
    "    fwatermark = os.path.join(sample_dir, watermark)\n",
    "    \n",
    "    watermark_obj = PdfFileReader(fwatermark)\n",
    "    watermark_page = watermark_obj.getPage(0)\n",
    "    \n",
    "    pdf_writer = PdfFileWriter()\n",
    "    pdf_reader = PdfFileReader(f_in)\n",
    "    \n",
    "    for page in range(pdf_reader.getNumPages()):\n",
    "        page = pdf_reader.getPage(page)\n",
    "        page.mergePage(watermark_page)\n",
    "        pdf_writer.addPage(page)\n",
    "        \n",
    "    \n",
    "    fout=open(f_out, 'wb')\n",
    "    pdf_writer.write(fout)\n",
    "    fout.close()\n",
    "\n",
    "    \n",
    "pdf_in  ='pdf2.pdf'\n",
    "pdf_out ='pdf2_watermark.pdf'\n",
    "pdf_watermark = 'watermark.pdf'\n",
    "\n",
    "addWatermark(pdf_in, pdf_out, pdf_watermark)\n",
    "    "
   ]
  },
  {
   "cell_type": "markdown",
   "metadata": {},
   "source": [
    "### Add one of the pages as a watermark"
   ]
  },
  {
   "cell_type": "code",
   "execution_count": 13,
   "metadata": {},
   "outputs": [],
   "source": [
    "def addWatermark2(pdffile, outfile):\n",
    "    \n",
    "    f_in  = os.path.join(sample_dir, pdffile)\n",
    "    f_out = os.path.join(sample_dir, outfile)\n",
    "    \n",
    "    pdf_writer = PdfFileWriter()\n",
    "    pdf_reader = PdfFileReader(f_in)\n",
    "    \n",
    "    Npage=pdf_reader.getNumPages()    \n",
    "    watermark= pdf_reader.getPage( Npage - 1 )\n",
    "        \n",
    "    for page in range(Npage-1):\n",
    "        page = pdf_reader.getPage(page)\n",
    "        page.mergePage(watermark)\n",
    "        pdf_writer.addPage(page)\n",
    "    \n",
    "    fout=open(f_out, 'wb')\n",
    "    pdf_writer.write(fout)\n",
    "    fout.close()\n",
    "    \n",
    "pdf_in  ='pdf2.pdf'\n",
    "pdf_out ='pdf2_watermark2.pdf'\n",
    "\n",
    "addWatermark2(pdf_in, pdf_out)"
   ]
  },
  {
   "cell_type": "markdown",
   "metadata": {},
   "source": [
    "## Encrypt a PDF"
   ]
  },
  {
   "cell_type": "code",
   "execution_count": 14,
   "metadata": {},
   "outputs": [],
   "source": [
    "def EncryptPDF(pdffile, outfile, password):\n",
    "    \n",
    "    f_in  = os.path.join(sample_dir, pdffile)\n",
    "    f_out = os.path.join(sample_dir, outfile)\n",
    "    \n",
    "    \n",
    "    pdf_writer = PdfFileWriter()\n",
    "    pdf_reader = PdfFileReader(f_in)\n",
    "    \n",
    "    Npage=pdf_reader.getNumPages()\n",
    "    for page in range(Npage):\n",
    "        pdf_writer.addPage(pdf_reader.getPage(page))\n",
    "        \n",
    "    pdf_writer.encrypt(user_pwd=password, owner_pwd=None, use_128bit=True)\n",
    "\n",
    "    fout=open(f_out, 'wb')\n",
    "    pdf_writer.write(fout)\n",
    "    fout.close()\n",
    "    \n",
    "pdf_in  ='pdf2.pdf'\n",
    "pdf_out ='pdf2_encrypted.pdf'\n",
    "password='1234'\n",
    "    \n",
    "EncryptPDF(pdf_in, pdf_out, password)"
   ]
  },
  {
   "cell_type": "markdown",
   "metadata": {},
   "source": [
    "# Regular Expression\n",
    "\n",
    "**Syntax**: re.match(pattern, string, flags=0)\n",
    "\n",
    "Source: https://www.tutorialspoint.com/python/python_reg_expressions.htm\n",
    "\n",
    "* \\d : digit : [0-9]\n",
    "* \\D : non-digit [^0-9]\n",
    "* \\w : alphanumeric : [A-Za-z0-9_]\n",
    "* \\W : Non-alphanumeric  : [^A-Za-z0-9_]\n",
    "* \\s : whitespace : [ \\t\\r\\n\\f]\n",
    "* \\S : Non-whitespace : [^ \\t\\r\\n\\f]\n",
    "* re.I : case-insensitive matching."
   ]
  },
  {
   "cell_type": "code",
   "execution_count": 15,
   "metadata": {},
   "outputs": [
    {
     "name": "stdout",
     "output_type": "stream",
     "text": [
      "True\n",
      "False\n"
     ]
    }
   ],
   "source": [
    "text = \"The phone number of the agent is 408-099-0102. call soon in that phone number!\"\n",
    "print (\"408-099-0102\" in text)\n",
    "print (\"408-099-0103\" in text)"
   ]
  },
  {
   "cell_type": "code",
   "execution_count": 16,
   "metadata": {},
   "outputs": [
    {
     "name": "stdout",
     "output_type": "stream",
     "text": [
      "<re.Match object; span=(4, 9), match='phone'>\n",
      "None\n"
     ]
    }
   ],
   "source": [
    "import re\n",
    "\n",
    "pattern = 'phone'\n",
    "print (re.search(pattern, text) )\n",
    "print (re.match(pattern, text) )"
   ]
  },
  {
   "cell_type": "code",
   "execution_count": 17,
   "metadata": {},
   "outputs": [
    {
     "name": "stdout",
     "output_type": "stream",
     "text": [
      "['phone', 'phone'] 2\n"
     ]
    }
   ],
   "source": [
    "all_matches = re.findall(\"phone\", text)\n",
    "print (all_matches, len(all_matches))"
   ]
  },
  {
   "cell_type": "code",
   "execution_count": 18,
   "metadata": {},
   "outputs": [
    {
     "name": "stdout",
     "output_type": "stream",
     "text": [
      "(4, 9)\n",
      "(65, 70)\n"
     ]
    }
   ],
   "source": [
    "for match in re.finditer(\"phone\", text):\n",
    "    print(match.span())"
   ]
  },
  {
   "cell_type": "code",
   "execution_count": 19,
   "metadata": {},
   "outputs": [
    {
     "data": {
      "text/plain": [
       "'408-099-0102'"
      ]
     },
     "execution_count": 19,
     "metadata": {},
     "output_type": "execute_result"
    }
   ],
   "source": [
    "pattern = r'\\d\\d\\d-\\d\\d\\d-\\d\\d\\d\\d'\n",
    "\n",
    "phone_num=re.search(pattern, text) \n",
    "phone_num.group()"
   ]
  },
  {
   "cell_type": "code",
   "execution_count": 20,
   "metadata": {},
   "outputs": [
    {
     "name": "stdout",
     "output_type": "stream",
     "text": [
      "['408-099-2222', '408-199-0000', '408-299-1111']\n"
     ]
    }
   ],
   "source": [
    "text1 = \"phone number1 is 408-099-2222, phone number2 is 408-199-0000,  phone number3 is 408-299-1111,\"\n",
    "\n",
    "pattern = r'\\d\\d\\d-\\d\\d\\d-\\d\\d\\d\\d'\n",
    "group_phone = re.findall(pattern, text1)\n",
    "print (group_phone)\n"
   ]
  },
  {
   "cell_type": "markdown",
   "metadata": {},
   "source": [
    "## Quantifiers\n",
    "\n",
    "**Repetition Cases**\n",
    "* ruby+ : Match \"rub\" plus 1 or more ys\n",
    "* \\d{3} : Match exactly 3 digits\n",
    "* \\d{3,}:  Match 3 or more digits\n",
    "* \\d{3,5} :Match 3, 4, or 5 digits\n"
   ]
  },
  {
   "cell_type": "code",
   "execution_count": 21,
   "metadata": {},
   "outputs": [
    {
     "data": {
      "text/plain": [
       "'123-456-0989'"
      ]
     },
     "execution_count": 21,
     "metadata": {},
     "output_type": "execute_result"
    }
   ],
   "source": [
    "phone = '123-456-0989'\n",
    "quantifiers = re.search(r'\\d{3}-\\d{3}-\\d{4}', phone)\n",
    "quantifiers.group()"
   ]
  },
  {
   "cell_type": "code",
   "execution_count": 22,
   "metadata": {},
   "outputs": [
    {
     "data": {
      "text/plain": [
       "['There are ', ' numbers ', ' inside this ', ' sentences']"
      ]
     },
     "execution_count": 22,
     "metadata": {},
     "output_type": "execute_result"
    }
   ],
   "source": [
    "phrase = \"There are 3 numbers 34 inside this 5 sentences\"\n",
    "re.findall(r\"[^\\d]+\", phrase)"
   ]
  },
  {
   "cell_type": "code",
   "execution_count": 23,
   "metadata": {},
   "outputs": [
    {
     "name": "stdout",
     "output_type": "stream",
     "text": [
      "['This is a string', ' but it has a puncuation', ' How to remove it']\n",
      "This is a string but it has a puncuation How to remove it\n"
     ]
    }
   ],
   "source": [
    "test_phrase=\"This is a string! but it has a puncuation. How to remove it?\"\n",
    "mylist = re.findall(r\"[^!.?]+\", test_phrase)\n",
    "print (mylist)\n",
    "list2=''.join(mylist)\n",
    "print (list2)"
   ]
  },
  {
   "cell_type": "code",
   "execution_count": 24,
   "metadata": {},
   "outputs": [
    {
     "data": {
      "text/plain": [
       "['hyphon-words', 'long-ish']"
      ]
     },
     "execution_count": 24,
     "metadata": {},
     "output_type": "execute_result"
    }
   ],
   "source": [
    "text = \"only find the hyphon-words. Where are the long-ish dash words?\"\n",
    "re.findall(r\"[\\w]+-[\\w]+\", text)"
   ]
  },
  {
   "cell_type": "code",
   "execution_count": null,
   "metadata": {},
   "outputs": [],
   "source": []
  }
 ],
 "metadata": {
  "kernelspec": {
   "display_name": "Python 3",
   "language": "python",
   "name": "python3"
  },
  "language_info": {
   "codemirror_mode": {
    "name": "ipython",
    "version": 3
   },
   "file_extension": ".py",
   "mimetype": "text/x-python",
   "name": "python",
   "nbconvert_exporter": "python",
   "pygments_lexer": "ipython3",
   "version": "3.8.4"
  }
 },
 "nbformat": 4,
 "nbformat_minor": 2
}
