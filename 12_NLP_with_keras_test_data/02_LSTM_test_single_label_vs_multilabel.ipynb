{
 "cells": [
  {
   "cell_type": "code",
   "execution_count": 1,
   "metadata": {},
   "outputs": [],
   "source": [
    "import numpy as np\n",
    "import pylab as plt\n",
    "from sklearn.model_selection import train_test_split\n",
    "\n",
    "# Keras module\n",
    "from keras.models import Sequential\n",
    "from keras.layers import Dense, LSTM, Conv1D, MaxPooling1D\n",
    "from keras.optimizers import Adam\n",
    "from keras.layers.embeddings import Embedding\n",
    "from keras.utils import to_categorical\n",
    "from keras.preprocessing import sequence\n",
    "\n",
    "np.random.seed(7)"
   ]
  },
  {
   "cell_type": "code",
   "execution_count": 2,
   "metadata": {},
   "outputs": [
    {
     "name": "stdout",
     "output_type": "stream",
     "text": [
      "X_train.shape: (7500, 60) y_train.shape:(7500, 10)\n",
      "X_test.shape: (2500, 60) y_test.shape:(2500, 10)\n"
     ]
    }
   ],
   "source": [
    "def get_tmp_data(dim=[10000, 60], multilabel=False):\n",
    "    X = np.random.randint(0, 24, size=dim)\n",
    "    y = np.random.randint(0, 2, size=dim[0])\n",
    "    \n",
    "    if multilabel:\n",
    "        y = np.random.randint(0, 10, size=dim[0])\n",
    "        y = to_categorical(y, num_classes=10)\n",
    "    \n",
    "    X_train, X_test, y_train, y_test = train_test_split(X, y, test_size=0.25)\n",
    "\n",
    "    print (f\"X_train.shape: {X_train.shape} y_train.shape:{y_train.shape}\" )\n",
    "    print (f\"X_test.shape: {X_test.shape} y_test.shape:{y_test.shape}\" )\n",
    "    \n",
    "    return  X_train, X_test, np.array(y_train), np.array(y_test)\n",
    "\n",
    "X_train, X_test, y_train, y_test = get_tmp_data(multilabel=True)"
   ]
  },
  {
   "cell_type": "code",
   "execution_count": 3,
   "metadata": {},
   "outputs": [
    {
     "name": "stdout",
     "output_type": "stream",
     "text": [
      "[17  1 19 22 23  9 17 23  6 21] [1. 0. 0. 0. 0. 0. 0. 0. 0. 0.]\n"
     ]
    }
   ],
   "source": [
    "print (X_train[1][:10], y_train[0])"
   ]
  },
  {
   "cell_type": "markdown",
   "metadata": {},
   "source": [
    "# Dense model"
   ]
  },
  {
   "cell_type": "code",
   "execution_count": 4,
   "metadata": {},
   "outputs": [
    {
     "name": "stdout",
     "output_type": "stream",
     "text": [
      "X_train.shape: (7500, 60) y_train.shape:(7500,)\n",
      "X_test.shape: (2500, 60) y_test.shape:(2500,)\n"
     ]
    }
   ],
   "source": [
    "X_train, X_test, y_train, y_test = get_tmp_data(multilabel=False)"
   ]
  },
  {
   "cell_type": "code",
   "execution_count": 5,
   "metadata": {},
   "outputs": [
    {
     "name": "stdout",
     "output_type": "stream",
     "text": [
      "Model: \"sequential\"\n",
      "_________________________________________________________________\n",
      "Layer (type)                 Output Shape              Param #   \n",
      "=================================================================\n",
      "dense (Dense)                (None, 16)                976       \n",
      "_________________________________________________________________\n",
      "dense_1 (Dense)              (None, 1)                 17        \n",
      "=================================================================\n",
      "Total params: 993\n",
      "Trainable params: 993\n",
      "Non-trainable params: 0\n",
      "_________________________________________________________________\n"
     ]
    }
   ],
   "source": [
    "def make_model(X, y):\n",
    "    model = Sequential()\n",
    "    model.add(Dense(16, input_shape=(X.shape[1],), activation='relu'))\n",
    "    #model.add(Dropout(0.5))\n",
    "    model.add(Dense(1, activation='softmax'))\n",
    "    opt = Adam(learning_rate=0.001)\n",
    "    model.compile(loss='categorical_crossentropy', optimizer=opt, metrics=['accuracy'])\n",
    "    return model\n",
    "\n",
    "model1 = make_model(X_train, y_train)\n",
    "model1.summary()"
   ]
  },
  {
   "cell_type": "code",
   "execution_count": 6,
   "metadata": {},
   "outputs": [
    {
     "name": "stdout",
     "output_type": "stream",
     "text": [
      "Epoch 1/5\n",
      "118/118 [==============================] - 0s 3ms/step - loss: 0.0000e+00 - accuracy: 0.5016 - val_loss: 0.0000e+00 - val_accuracy: 0.5128\n",
      "Epoch 2/5\n",
      "118/118 [==============================] - 0s 1ms/step - loss: 0.0000e+00 - accuracy: 0.5016 - val_loss: 0.0000e+00 - val_accuracy: 0.5128\n",
      "Epoch 3/5\n",
      "118/118 [==============================] - 0s 1ms/step - loss: 0.0000e+00 - accuracy: 0.5016 - val_loss: 0.0000e+00 - val_accuracy: 0.5128\n",
      "Epoch 4/5\n",
      "118/118 [==============================] - 0s 1ms/step - loss: 0.0000e+00 - accuracy: 0.5016 - val_loss: 0.0000e+00 - val_accuracy: 0.5128\n",
      "Epoch 5/5\n",
      "118/118 [==============================] - 0s 3ms/step - loss: 0.0000e+00 - accuracy: 0.5016 - val_loss: 0.0000e+00 - val_accuracy: 0.5128\n"
     ]
    }
   ],
   "source": [
    "history1 = model1.fit(X_train, y_train,\n",
    "                    validation_data=(X_test, y_test), \n",
    "                    epochs=5,\n",
    "                    batch_size=64,\n",
    "                    verbose=1)"
   ]
  },
  {
   "cell_type": "code",
   "execution_count": 7,
   "metadata": {},
   "outputs": [
    {
     "name": "stdout",
     "output_type": "stream",
     "text": [
      "79/79 [==============================] - 0s 1ms/step - loss: 0.0000e+00 - accuracy: 0.5128\n",
      "Accuracy: 51.28%\n"
     ]
    },
    {
     "data": {
      "image/png": "[encoded data removed]",
      "text/plain": [
       "<Figure size 864x288 with 2 Axes>"
      ]
     },
     "metadata": {
      "needs_background": "light"
     },
     "output_type": "display_data"
    }
   ],
   "source": [
    "def plot_history(history):\n",
    "    \n",
    "    plt.figure(figsize=(12,4))\n",
    "    plt.subplot(121)\n",
    "    plt.plot(history.history['loss'], label='Training loss')\n",
    "    plt.plot(history.history['val_loss'], label='validation loss')\n",
    "    plt.legend()\n",
    "\n",
    "    plt.subplot(122)\n",
    "    plt.plot(history.history['accuracy'], label='Training accuracy')\n",
    "    plt.plot(history.history['val_accuracy'], label='validation accuracy')\n",
    "    plt.legend()\n",
    "\n",
    "plot_history(history1)\n",
    "score = model1.evaluate(X_test, y_test)\n",
    "print(\"Accuracy: %.2f%%\" % (score[1]*100))"
   ]
  },
  {
   "cell_type": "markdown",
   "metadata": {},
   "source": [
    "# LSTM+Dense model"
   ]
  },
  {
   "cell_type": "code",
   "execution_count": 8,
   "metadata": {},
   "outputs": [
    {
     "name": "stdout",
     "output_type": "stream",
     "text": [
      "X_train.shape: (7500, 60) y_train.shape:(7500, 10)\n",
      "X_test.shape: (2500, 60) y_test.shape:(2500, 10)\n"
     ]
    }
   ],
   "source": [
    "X_train, X_test, y_train, y_test = get_tmp_data(multilabel=True)"
   ]
  },
  {
   "cell_type": "code",
   "execution_count": 9,
   "metadata": {},
   "outputs": [
    {
     "name": "stdout",
     "output_type": "stream",
     "text": [
      "Model: \"sequential_1\"\n",
      "_________________________________________________________________\n",
      "Layer (type)                 Output Shape              Param #   \n",
      "=================================================================\n",
      "embedding (Embedding)        (None, 60, 16)            1600      \n",
      "_________________________________________________________________\n",
      "lstm (LSTM)                  (None, 4)                 336       \n",
      "_________________________________________________________________\n",
      "dense_2 (Dense)              (None, 10)                50        \n",
      "=================================================================\n",
      "Total params: 1,986\n",
      "Trainable params: 1,986\n",
      "Non-trainable params: 0\n",
      "_________________________________________________________________\n"
     ]
    }
   ],
   "source": [
    "def make_model(X, y, embedding_length = 16):\n",
    "    model = Sequential()\n",
    "    model.add(Embedding(100, embedding_length, input_length=X.shape[1]))\n",
    "    model.add(LSTM(4))\n",
    "    model.add(Dense(y.shape[1], activation='sigmoid'))\n",
    "    model.compile(loss='binary_crossentropy', optimizer='adam', metrics=['accuracy'])\n",
    "    return model\n",
    "\n",
    "model2 = make_model(X_train, y_train, embedding_length = 16)\n",
    "model2.summary()"
   ]
  },
  {
   "cell_type": "code",
   "execution_count": 10,
   "metadata": {},
   "outputs": [
    {
     "name": "stdout",
     "output_type": "stream",
     "text": [
      "Epoch 1/10\n",
      "118/118 [==============================] - 3s 26ms/step - loss: 0.5481 - accuracy: 0.1021 - val_loss: 0.4426 - val_accuracy: 0.0928\n",
      "Epoch 2/10\n",
      "118/118 [==============================] - 3s 24ms/step - loss: 0.3998 - accuracy: 0.1001 - val_loss: 0.3697 - val_accuracy: 0.0928\n",
      "Epoch 3/10\n",
      "118/118 [==============================] - 2s 21ms/step - loss: 0.3536 - accuracy: 0.1001 - val_loss: 0.3431 - val_accuracy: 0.0928\n",
      "Epoch 4/10\n",
      "118/118 [==============================] - 3s 27ms/step - loss: 0.3366 - accuracy: 0.1001 - val_loss: 0.3328 - val_accuracy: 0.0928\n",
      "Epoch 5/10\n",
      "118/118 [==============================] - 3s 21ms/step - loss: 0.3299 - accuracy: 0.1001 - val_loss: 0.3285 - val_accuracy: 0.0928\n",
      "Epoch 6/10\n",
      "118/118 [==============================] - 3s 21ms/step - loss: 0.3271 - accuracy: 0.1001 - val_loss: 0.3267 - val_accuracy: 0.0928\n",
      "Epoch 7/10\n",
      "118/118 [==============================] - 3s 23ms/step - loss: 0.3259 - accuracy: 0.1001 - val_loss: 0.3258 - val_accuracy: 0.0928\n",
      "Epoch 8/10\n",
      "118/118 [==============================] - 3s 23ms/step - loss: 0.3254 - accuracy: 0.1001 - val_loss: 0.3255 - val_accuracy: 0.0928\n",
      "Epoch 9/10\n",
      "118/118 [==============================] - 3s 23ms/step - loss: 0.3252 - accuracy: 0.1001 - val_loss: 0.3253 - val_accuracy: 0.0928\n",
      "Epoch 10/10\n",
      "118/118 [==============================] - 3s 23ms/step - loss: 0.3251 - accuracy: 0.1001 - val_loss: 0.3252 - val_accuracy: 0.0928\n"
     ]
    }
   ],
   "source": [
    "history2 = model2.fit(X_train, y_train,\n",
    "                    validation_data=(X_test, y_test), \n",
    "                    epochs=10,\n",
    "                    batch_size=64,\n",
    "                    verbose=1)"
   ]
  },
  {
   "cell_type": "code",
   "execution_count": 11,
   "metadata": {},
   "outputs": [
    {
     "name": "stdout",
     "output_type": "stream",
     "text": [
      "79/79 [==============================] - 1s 7ms/step - loss: 0.3252 - accuracy: 0.0928\n",
      "Accuracy: 9.28%\n"
     ]
    },
    {
     "data": {
      "image/png": "[encoded data removed]",
      "text/plain": [
       "<Figure size 864x288 with 2 Axes>"
      ]
     },
     "metadata": {
      "needs_background": "light"
     },
     "output_type": "display_data"
    }
   ],
   "source": [
    "plot_history(history2)\n",
    "score = model2.evaluate(X_test, y_test)\n",
    "print(\"Accuracy: %.2f%%\" % (score[1]*100))"
   ]
  },
  {
   "cell_type": "markdown",
   "metadata": {},
   "source": [
    "### Multilabel classification"
   ]
  },
  {
   "cell_type": "code",
   "execution_count": 12,
   "metadata": {},
   "outputs": [
    {
     "name": "stdout",
     "output_type": "stream",
     "text": [
      "X_train.shape: (7500, 60) y_train.shape:(7500, 10)\n",
      "X_test.shape: (2500, 60) y_test.shape:(2500, 10)\n"
     ]
    },
    {
     "data": {
      "text/plain": [
       "array([[0., 0., 0., 0., 0., 0., 0., 0., 0., 1.],\n",
       "       [0., 0., 0., 0., 0., 0., 0., 0., 0., 1.],\n",
       "       [0., 0., 0., 0., 0., 1., 0., 0., 0., 0.],\n",
       "       [0., 0., 0., 0., 0., 0., 0., 1., 0., 0.],\n",
       "       [0., 1., 0., 0., 0., 0., 0., 0., 0., 0.]], dtype=float32)"
      ]
     },
     "execution_count": 12,
     "metadata": {},
     "output_type": "execute_result"
    }
   ],
   "source": [
    "X_train, X_test, y_train, y_test = get_tmp_data(multilabel=True)\n",
    "y_train[:5]"
   ]
  },
  {
   "cell_type": "code",
   "execution_count": 13,
   "metadata": {},
   "outputs": [
    {
     "data": {
      "text/plain": [
       "(7500, 10)"
      ]
     },
     "execution_count": 13,
     "metadata": {},
     "output_type": "execute_result"
    }
   ],
   "source": [
    "y_train.shape"
   ]
  },
  {
   "cell_type": "code",
   "execution_count": 14,
   "metadata": {},
   "outputs": [
    {
     "name": "stdout",
     "output_type": "stream",
     "text": [
      "Model: \"sequential_2\"\n",
      "_________________________________________________________________\n",
      "Layer (type)                 Output Shape              Param #   \n",
      "=================================================================\n",
      "embedding_1 (Embedding)      (None, 60, 16)            1600      \n",
      "_________________________________________________________________\n",
      "lstm_1 (LSTM)                (None, 4)                 336       \n",
      "_________________________________________________________________\n",
      "dense_3 (Dense)              (None, 10)                50        \n",
      "=================================================================\n",
      "Total params: 1,986\n",
      "Trainable params: 1,986\n",
      "Non-trainable params: 0\n",
      "_________________________________________________________________\n"
     ]
    }
   ],
   "source": [
    "def make_model(X, y, embedding_length = 16):\n",
    "    model = Sequential()\n",
    "    model.add(Embedding(100, embedding_length, input_length=X.shape[1]))\n",
    "    model.add(LSTM(4))\n",
    "    model.add(Dense(y.shape[1], activation='softmax'))\n",
    "    model.compile(loss='categorical_crossentropy', optimizer='adam', metrics=['accuracy'])\n",
    "    return model\n",
    "\n",
    "model = make_model(X_train, y_train, embedding_length = 16)\n",
    "model.summary()"
   ]
  },
  {
   "cell_type": "code",
   "execution_count": 15,
   "metadata": {},
   "outputs": [
    {
     "name": "stdout",
     "output_type": "stream",
     "text": [
      "Epoch 1/10\n",
      "118/118 [==============================] - 3s 27ms/step - loss: 2.3029 - accuracy: 0.0977 - val_loss: 2.3025 - val_accuracy: 0.0976\n",
      "Epoch 2/10\n",
      "118/118 [==============================] - 3s 22ms/step - loss: 2.3022 - accuracy: 0.1047 - val_loss: 2.3028 - val_accuracy: 0.1020\n",
      "Epoch 3/10\n",
      "118/118 [==============================] - 3s 22ms/step - loss: 2.3016 - accuracy: 0.1060 - val_loss: 2.3034 - val_accuracy: 0.1028\n",
      "Epoch 4/10\n",
      "118/118 [==============================] - 3s 22ms/step - loss: 2.3010 - accuracy: 0.1105 - val_loss: 2.3040 - val_accuracy: 0.1052\n",
      "Epoch 5/10\n",
      "118/118 [==============================] - 2s 21ms/step - loss: 2.2999 - accuracy: 0.1076 - val_loss: 2.3039 - val_accuracy: 0.1076\n",
      "Epoch 6/10\n",
      "118/118 [==============================] - 2s 21ms/step - loss: 2.2993 - accuracy: 0.1124 - val_loss: 2.3052 - val_accuracy: 0.1100\n",
      "Epoch 7/10\n",
      "118/118 [==============================] - 3s 22ms/step - loss: 2.2985 - accuracy: 0.1120 - val_loss: 2.3076 - val_accuracy: 0.1064\n",
      "Epoch 8/10\n",
      "118/118 [==============================] - 2s 21ms/step - loss: 2.2976 - accuracy: 0.1157 - val_loss: 2.3075 - val_accuracy: 0.1048\n",
      "Epoch 9/10\n",
      "118/118 [==============================] - 2s 20ms/step - loss: 2.2971 - accuracy: 0.1176 - val_loss: 2.3090 - val_accuracy: 0.1032\n",
      "Epoch 10/10\n",
      "118/118 [==============================] - 3s 22ms/step - loss: 2.2963 - accuracy: 0.1167 - val_loss: 2.3079 - val_accuracy: 0.1104\n"
     ]
    }
   ],
   "source": [
    "history = model.fit(X_train, y_train,\n",
    "                    validation_data=(X_test, y_test), \n",
    "                    epochs=10,\n",
    "                    batch_size=64,\n",
    "                    verbose=1)"
   ]
  },
  {
   "cell_type": "code",
   "execution_count": 16,
   "metadata": {},
   "outputs": [
    {
     "name": "stdout",
     "output_type": "stream",
     "text": [
      "79/79 [==============================] - 0s 4ms/step - loss: 2.3079 - accuracy: 0.1104\n",
      "Accuracy: 11.04%\n"
     ]
    },
    {
     "data": {
      "image/png": "[encoded data removed]",
      "text/plain": [
       "<Figure size 864x288 with 2 Axes>"
      ]
     },
     "metadata": {
      "needs_background": "light"
     },
     "output_type": "display_data"
    }
   ],
   "source": [
    "plot_history(history)\n",
    "score = model.evaluate(X_test, y_test)\n",
    "print(\"Accuracy: %.2f%%\" % (score[1]*100))"
   ]
  },
  {
   "cell_type": "code",
   "execution_count": null,
   "metadata": {},
   "outputs": [],
   "source": []
  }
 ],
 "metadata": {
  "kernelspec": {
   "display_name": "Python 3",
   "language": "python",
   "name": "python3"
  },
  "language_info": {
   "codemirror_mode": {
    "name": "ipython",
    "version": 3
   },
   "file_extension": ".py",
   "mimetype": "text/x-python",
   "name": "python",
   "nbconvert_exporter": "python",
   "pygments_lexer": "ipython3",
   "version": "3.8.5"
  }
 },
 "nbformat": 4,
 "nbformat_minor": 4
}
