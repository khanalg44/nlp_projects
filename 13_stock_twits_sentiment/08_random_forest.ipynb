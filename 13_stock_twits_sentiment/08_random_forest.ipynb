{
 "cells": [
  {
   "cell_type": "markdown",
   "metadata": {},
   "source": [
    "# Sentiment Analysis on StockTwits"
   ]
  },
  {
   "cell_type": "code",
   "execution_count": 1,
   "metadata": {},
   "outputs": [],
   "source": [
    "import numpy as np\n",
    "import pandas as pd\n",
    "import pylab as plt\n",
    "import seaborn as sns\n",
    "\n",
    "import json, re\n",
    "from nltk.corpus import stopwords\n",
    "from nltk.stem import PorterStemmer\n",
    "\n",
    "from scipy import sparse as sp_sparse\n",
    "\n",
    "from sklearn.model_selection import train_test_split\n",
    "\n",
    "data_dir = '../nlp_datasets/13_twitter_sentiment/'"
   ]
  },
  {
   "cell_type": "code",
   "execution_count": 2,
   "metadata": {},
   "outputs": [],
   "source": [
    "def load_data():\n",
    "    with open(data_dir+'train_twits.json', 'r') as f:\n",
    "        twits = json.load(f)\n",
    "    df = pd.DataFrame(twits['data'])\n",
    "    return df\n",
    "    \n",
    "data = load_data()"
   ]
  },
  {
   "cell_type": "code",
   "execution_count": 3,
   "metadata": {},
   "outputs": [],
   "source": [
    "df_top = data.loc[:100000]"
   ]
  },
  {
   "cell_type": "code",
   "execution_count": 4,
   "metadata": {},
   "outputs": [
    {
     "name": "stdout",
     "output_type": "stream",
     "text": [
      "unique sentiments: [4 3 2 0 1]\n"
     ]
    }
   ],
   "source": [
    "df= df_top.copy()\n",
    "df['sentiment'] = df['sentiment'].apply(lambda x:x+2)\n",
    "print ('unique sentiments:', df.sentiment.unique() )"
   ]
  },
  {
   "cell_type": "markdown",
   "metadata": {},
   "source": [
    "## Class (Im)balance"
   ]
  },
  {
   "cell_type": "code",
   "execution_count": 5,
   "metadata": {},
   "outputs": [
    {
     "name": "stdout",
     "output_type": "stream",
     "text": [
      "initial counts for each classes: {2: 47646, 3: 20202, 4: 14097, 1: 10494, 0: 7562}\n",
      "min_index: 0 min count: 7562\n"
     ]
    }
   ],
   "source": [
    "def balance_class(df, col='sentiment'):\n",
    "    dfb=df.copy()\n",
    "    counts = dict(dfb[col].value_counts())\n",
    "    print (\"initial counts for each classes:\", counts)\n",
    "    min_count = min(counts.values())\n",
    "    min_indx  = [k for k in counts.keys() if counts[k]==min_count][0]\n",
    "    print (\"min_index:\", min_indx, \"min count:\", min_count)\n",
    "\n",
    "    for s in dfb[col].unique():\n",
    "        delete_after = dfb[dfb[col]==min_indx].shape[0] \n",
    "        indices_to_delete = dfb[dfb[col]==s].index.values[delete_after:]\n",
    "        dfb = dfb.drop(index=indices_to_delete, axis=0)\n",
    "    return dfb\n",
    "\n",
    "df=balance_class(df, col='sentiment')\n"
   ]
  },
  {
   "cell_type": "markdown",
   "metadata": {},
   "source": [
    "## Data Preprocessing\n"
   ]
  },
  {
   "cell_type": "code",
   "execution_count": 6,
   "metadata": {},
   "outputs": [],
   "source": [
    "import re\n",
    "\n",
    "STOPWORDS = set(stopwords.words('english'))\n",
    "\n",
    "def text_prepare(text):\n",
    "    text = text.lower() # lowercase text\n",
    "    text = re.sub(r'https?://\\S+', ' ', text)# Replace URLs with a space\n",
    "    text = re.sub(r'\\$\\S+', ' ', text)       # Replace ticker symbols with a space\n",
    "    text = re.sub(r'\\@\\S+', ' ', text)       # Replace StockTwits usernames with a space.\n",
    "    text = re.sub(r'[^a-zA-Z]', ' ', text)   # Replace everything not a letter with a space        \n",
    "    text = ' '.join([word for word in text.split() if word not in STOPWORDS]) # delete stopwors from text\n",
    "    return text"
   ]
  },
  {
   "cell_type": "code",
   "execution_count": 7,
   "metadata": {},
   "outputs": [
    {
     "data": {
      "text/html": [
       "<div>\n",
       "<style scoped>\n",
       "    .dataframe tbody tr th:only-of-type {\n",
       "        vertical-align: middle;\n",
       "    }\n",
       "\n",
       "    .dataframe tbody tr th {\n",
       "        vertical-align: top;\n",
       "    }\n",
       "\n",
       "    .dataframe thead th {\n",
       "        text-align: right;\n",
       "    }\n",
       "</style>\n",
       "<table border=\"1\" class=\"dataframe\">\n",
       "  <thead>\n",
       "    <tr style=\"text-align: right;\">\n",
       "      <th></th>\n",
       "      <th>message_body</th>\n",
       "      <th>sentiment</th>\n",
       "      <th>timestamp</th>\n",
       "      <th>message_processed</th>\n",
       "    </tr>\n",
       "  </thead>\n",
       "  <tbody>\n",
       "    <tr>\n",
       "      <th>0</th>\n",
       "      <td>$FITB great buy at 26.00...ill wait</td>\n",
       "      <td>4</td>\n",
       "      <td>2018-07-01T00:00:09Z</td>\n",
       "      <td>great buy ill wait</td>\n",
       "    </tr>\n",
       "    <tr>\n",
       "      <th>1</th>\n",
       "      <td>@StockTwits $MSFT</td>\n",
       "      <td>3</td>\n",
       "      <td>2018-07-01T00:00:42Z</td>\n",
       "      <td></td>\n",
       "    </tr>\n",
       "  </tbody>\n",
       "</table>\n",
       "</div>"
      ],
      "text/plain": [
       "                          message_body  sentiment             timestamp  \\\n",
       "0  $FITB great buy at 26.00...ill wait          4  2018-07-01T00:00:09Z   \n",
       "1                    @StockTwits $MSFT          3  2018-07-01T00:00:42Z   \n",
       "\n",
       "    message_processed  \n",
       "0  great buy ill wait  \n",
       "1                      "
      ]
     },
     "execution_count": 7,
     "metadata": {},
     "output_type": "execute_result"
    }
   ],
   "source": [
    "df['message_processed'] = df['message_body'].apply(text_prepare)\n",
    "df.head(2)"
   ]
  },
  {
   "cell_type": "code",
   "execution_count": 8,
   "metadata": {},
   "outputs": [],
   "source": [
    "def split_data(data):\n",
    "    df_train_, df_test = train_test_split(data, test_size=0.2)\n",
    "    df_train, df_val = train_test_split(data, test_size=0.25)\n",
    "    return df_train, df_val, df_test\n",
    "\n",
    "df_train, df_val, df_test = split_data(df)"
   ]
  },
  {
   "cell_type": "code",
   "execution_count": 9,
   "metadata": {},
   "outputs": [],
   "source": [
    "from collections import Counter\n",
    "\n",
    "ALL_WORDS = [word for message in df_train['message_processed'] for word in message.split()]\n",
    "words_counts = Counter(ALL_WORDS)\n",
    "\n",
    "words_counts_sorted = sorted(words_counts.items(), key=lambda x: x[1], reverse=True)\n",
    "\n",
    "DICT_SIZE = 1000\n",
    "VOCAB = words_counts.most_common(DICT_SIZE)  # already sorted\n",
    "WORDS_TO_INDEX = {item[0]:ii for ii, item in enumerate(VOCAB) }\n",
    "INDEX_TO_WORDS = {ii:word for word, ii in WORDS_TO_INDEX.items()}"
   ]
  },
  {
   "cell_type": "markdown",
   "metadata": {},
   "source": [
    "### Convert labels to categorical "
   ]
  },
  {
   "cell_type": "code",
   "execution_count": 10,
   "metadata": {},
   "outputs": [],
   "source": [
    "from sklearn.preprocessing import OneHotEncoder\n",
    "from sklearn.preprocessing import LabelEncoder\n",
    "\n",
    "onehot_encoder=OneHotEncoder(sparse=False)\n",
    "y_train = onehot_encoder.fit_transform(np.array(df_train['sentiment'].values).reshape(-1,1))\n",
    "y_val = onehot_encoder.transform(np.array(df_val['sentiment'].values).reshape(-1,1))\n",
    "y_test = onehot_encoder.transform(np.array(df_test['sentiment'].values).reshape(-1,1))\n"
   ]
  },
  {
   "cell_type": "markdown",
   "metadata": {},
   "source": [
    "## Bag of Words (BoW) method"
   ]
  },
  {
   "cell_type": "code",
   "execution_count": 11,
   "metadata": {},
   "outputs": [
    {
     "name": "stdout",
     "output_type": "stream",
     "text": [
      "Bow Method\n",
      "X_train shape  (28357, 1000)\n",
      "X_val shape  (9453, 1000)\n",
      "X_test shape  (7562, 1000)\n"
     ]
    }
   ],
   "source": [
    "def my_bag_of_words(text, words_to_index, dict_size):\n",
    "    result_vec = np.zeros(dict_size)\n",
    "    for word in text.split():\n",
    "        if word in words_to_index:\n",
    "            result_vec[words_to_index[word]] +=1\n",
    "    return result_vec\n",
    "        \n",
    "X_train_mybag = sp_sparse.vstack([sp_sparse.csr_matrix(my_bag_of_words(text, WORDS_TO_INDEX, DICT_SIZE)) for text in df_train['message_processed']])\n",
    "X_val_mybag = sp_sparse.vstack([sp_sparse.csr_matrix(my_bag_of_words(text, WORDS_TO_INDEX, DICT_SIZE)) for text in df_val['message_processed']])\n",
    "X_test_mybag = sp_sparse.vstack([sp_sparse.csr_matrix(my_bag_of_words(text, WORDS_TO_INDEX, DICT_SIZE)) for text in df_test['message_processed']])\n",
    "print (\"Bow Method\")\n",
    "print('X_train shape ', X_train_mybag.shape)\n",
    "print('X_val shape ', X_val_mybag.shape)\n",
    "print('X_test shape ', X_test_mybag.shape)"
   ]
  },
  {
   "cell_type": "markdown",
   "metadata": {},
   "source": [
    "## TF-IDF method"
   ]
  },
  {
   "cell_type": "code",
   "execution_count": 12,
   "metadata": {},
   "outputs": [],
   "source": [
    "from sklearn.feature_extraction.text import TfidfVectorizer\n",
    "\n",
    "def tfidf_features(X_train, X_val, X_test):\n",
    "    # max_df and min_df is to filter out too frequent and too rare words\n",
    "    tfidf_vectorizer = TfidfVectorizer(ngram_range=(1,2),\n",
    "                                 max_df=0.9, min_df=5,\n",
    "                                 token_pattern='(\\S+)' )\n",
    "\n",
    "    X_train_tfidf = tfidf_vectorizer.fit_transform(X_train)\n",
    "    X_val_tfidf = tfidf_vectorizer.transform(X_val)\n",
    "    X_test_tfidf = tfidf_vectorizer.transform(X_test)\n",
    "    \n",
    "    return (X_train_tfidf, X_val_tfidf, X_test_tfidf, tfidf_vectorizer )\n"
   ]
  },
  {
   "cell_type": "code",
   "execution_count": 13,
   "metadata": {},
   "outputs": [],
   "source": [
    "X_train_tfidf, X_val_tfidf, X_test_tfidf, tfidf_vectorizer = tfidf_features(df_train['message_processed'],\n",
    "                                           df_val['message_processed'],\n",
    "                                           df_test['message_processed'])"
   ]
  },
  {
   "cell_type": "code",
   "execution_count": 15,
   "metadata": {},
   "outputs": [],
   "source": [
    "from sklearn.multiclass import OneVsRestClassifier\n",
    "from sklearn.linear_model import LogisticRegression, RidgeClassifier\n",
    "from sklearn.ensemble import RandomForestClassifier\n",
    "\n",
    "def train_classifier(X_train, y_train):\n",
    "    model = OneVsRestClassifier(RandomForestClassifier())#penalty='l2', C=1.0, max_iter=500))\n",
    "    model.fit(X_train, y_train)\n",
    "    return model\n",
    "\n",
    "clf_bow = train_classifier(X_train_mybag, y_train)\n",
    "clf_tfidf = train_classifier(X_train_tfidf, y_train)\n"
   ]
  },
  {
   "cell_type": "code",
   "execution_count": 17,
   "metadata": {},
   "outputs": [],
   "source": [
    "y_val_predicted_labels_mybag = clf_bow.predict(X_val_mybag)\n",
    "y_val_predicted_labels_tfidf = clf_tfidf.predict(X_val_tfidf)"
   ]
  },
  {
   "cell_type": "code",
   "execution_count": 18,
   "metadata": {},
   "outputs": [
    {
     "data": {
      "text/plain": [
       "array([[1, 0, 0, 0, 0],\n",
       "       [1, 0, 0, 0, 0],\n",
       "       [0, 0, 0, 0, 1],\n",
       "       ...,\n",
       "       [0, 0, 0, 1, 0],\n",
       "       [0, 0, 0, 0, 0],\n",
       "       [0, 0, 1, 0, 0]])"
      ]
     },
     "execution_count": 18,
     "metadata": {},
     "output_type": "execute_result"
    }
   ],
   "source": [
    "y_val_predicted_labels_mybag"
   ]
  },
  {
   "cell_type": "code",
   "execution_count": 19,
   "metadata": {},
   "outputs": [],
   "source": [
    "y_val_labels_mybag = np.argmax(y_val_predicted_labels_mybag, axis=1)\n",
    "y_val_labels_tfidf = np.argmax(y_val_predicted_labels_tfidf, axis=1)"
   ]
  },
  {
   "cell_type": "code",
   "execution_count": 20,
   "metadata": {},
   "outputs": [],
   "source": [
    "# Accuracy measures\n",
    "y_val_actual = df_val['sentiment']"
   ]
  },
  {
   "cell_type": "code",
   "execution_count": 21,
   "metadata": {},
   "outputs": [
    {
     "name": "stdout",
     "output_type": "stream",
     "text": [
      "Bag of Words method:\n",
      "Accuracy score: 55.29 \n",
      "f1 score: 55.74\n",
      "\n",
      "TFIDF method:\n",
      "Accuracy score: 53.78 \n",
      "f1 score: 54.31\n"
     ]
    }
   ],
   "source": [
    "from sklearn.metrics import accuracy_score\n",
    "from sklearn.metrics import f1_score   #  extra arguement 'average' is required for multiclass/multilabel targets.\n",
    "from sklearn.metrics import roc_auc_score \n",
    "from sklearn.metrics import recall_score\n",
    "\n",
    "def print_evaluation_scores(y_actual, y_pred):\n",
    "    print ( f\"Accuracy score: %1.2f \" % (100*accuracy_score(y_actual, y_pred)) )\n",
    "    print ( f\"f1 score: %1.2f\" % (100*f1_score(y_actual, y_pred, average='macro')) )\n",
    "    \n",
    "print (\"Bag of Words method:\")\n",
    "print_evaluation_scores(y_val_actual, y_val_labels_mybag)\n",
    "\n",
    "print (\"\\nTFIDF method:\")\n",
    "print_evaluation_scores(y_val_actual, y_val_labels_tfidf)"
   ]
  },
  {
   "cell_type": "code",
   "execution_count": 22,
   "metadata": {},
   "outputs": [
    {
     "name": "stdout",
     "output_type": "stream",
     "text": [
      "7\n"
     ]
    },
    {
     "data": {
      "image/png": "[encoded data removed]",
      "text/plain": [
       "<Figure size 720x432 with 1 Axes>"
      ]
     },
     "metadata": {
      "needs_background": "light"
     },
     "output_type": "display_data"
    }
   ],
   "source": [
    "from sklearn.metrics import roc_curve, auc \n",
    "from numpy import interp\n",
    "from itertools import cycle\n",
    "\n",
    "def plot_roc_auc():\n",
    "    fpr = {}\n",
    "    tpr = {}\n",
    "    roc_auc = {}\n",
    "    n_classes = 5\n",
    "    for i in range(n_classes):\n",
    "        fpr[i], tpr[i], _ = roc_curve( y_val_predicted_labels_tfidf[:, i], y_val[:,i] ) \n",
    "        roc_auc[i] = auc(fpr[i], tpr[i] )\n",
    "\n",
    "    # Compute micro-average ROC curve and ROC area\n",
    "    fpr[\"micro\"], tpr[\"micro\"], _ = roc_curve(y_val_predicted_labels_tfidf.ravel(), y_val.ravel())\n",
    "    roc_auc[\"micro\"] = auc(fpr[\"micro\"], tpr[\"micro\"])\n",
    "\n",
    "    all_fpr  = np.unique(np.concatenate([fpr[i] for i in range(n_classes)]))\n",
    "    mean_tpr = np.zeros_like(all_fpr)\n",
    "\n",
    "    for i in range(n_classes):\n",
    "        mean_tpr += interp(all_fpr, fpr[i], tpr[i])\n",
    "\n",
    "    mean_tpr /= n_classes \n",
    "\n",
    "    print ( len(all_fpr) )\n",
    "\n",
    "    plt.figure(figsize=(10, 6))\n",
    "    plt.plot(all_fpr, mean_tpr, '-o',\n",
    "             label='micro-average ROC curve (area = {0:0.2f})'.format(roc_auc[\"micro\"]))\n",
    "    plt.plot([0,1], [0,1], ls='--', lw=2., color='k', label=\"area=0.5 Curve\")\n",
    "    plt.xlim(0,1)\n",
    "    plt.ylim(0,1)\n",
    "    plt.xlabel('all_fpr', fontsize=\"x-large\")\n",
    "    plt.ylabel('mean_tpr', fontsize=\"x-large\")\n",
    "    plt.legend(fontsize='x-large', frameon=False);\n",
    "    \n",
    "plot_roc_auc()"
   ]
  },
  {
   "cell_type": "code",
   "execution_count": 20,
   "metadata": {},
   "outputs": [],
   "source": [
    "# saving model\n",
    "import pickle\n",
    "\n",
    "with open('model_LR_bow.pkl', 'wb') as fw:\n",
    "    pickle.dump(clf_bow, fw)\n",
    "    \n",
    "with open('model_LR_tfidf.pkl', 'wb') as fw:\n",
    "    pickle.dump(clf_tfidf, fw)\n",
    "    \n",
    "with open('vectorizer_tfidf.pkl', 'wb') as fw:\n",
    "    pickle.dump(tfidf_vectorizer, fw)"
   ]
  },
  {
   "cell_type": "code",
   "execution_count": null,
   "metadata": {},
   "outputs": [],
   "source": []
  },
  {
   "cell_type": "markdown",
   "metadata": {},
   "source": [
    "## Predictions"
   ]
  },
  {
   "cell_type": "code",
   "execution_count": 21,
   "metadata": {},
   "outputs": [
    {
     "name": "stdout",
     "output_type": "stream",
     "text": [
      "The following tweet $AMD I heard there’s a guy who knows someone         who thinks somebody knows something - on StockTwits. \n",
      "\n",
      "has a neutral sentiment\n"
     ]
    }
   ],
   "source": [
    "def Prediction(txt, bow=True):\n",
    "    \n",
    "    model_tfidf = pickle.load(open('model_LR_tfidf.pkl', 'rb'))\n",
    "    model_bow = pickle.load(open('model_LR_bow.pkl', 'rb'))\n",
    "    tfidf_vec = pickle.load(open('vectorizer_tfidf.pkl', 'rb'))\n",
    "    \n",
    "    sentiment_dict = {0:'very bad', 1:'bad', 2:'neutral', \n",
    "                     3:'good', 4:'very good'}\n",
    "    \n",
    "    processed_text = text_prepare(txt)\n",
    "    #print (processed_text)\n",
    "    if bow:\n",
    "        x = my_bag_of_words(processed_text, WORDS_TO_INDEX, DICT_SIZE).reshape(1,-1)\n",
    "        pred = model_bow.predict(x)\n",
    "        \n",
    "    else:\n",
    "        x = tfidf_vectorizer.transform([processed_text])\n",
    "        VOCAB=tfidf_vec.vocabulary_\n",
    "        pred = model_tfidf.predict(x)\n",
    "        print (pred)\n",
    "\n",
    "    print (f\"The following tweet {txt} \\n\\nhas a {sentiment_dict[np.argmax(pred)]} sentiment\")\n",
    "    \n",
    "txt = \"$AMD I heard there’s a guy who knows someone \\\n",
    "        who thinks somebody knows something - on StockTwits.\"\n",
    "\n",
    "Prediction(txt, bow=True)"
   ]
  },
  {
   "cell_type": "code",
   "execution_count": null,
   "metadata": {},
   "outputs": [],
   "source": []
  }
 ],
 "metadata": {
  "kernelspec": {
   "display_name": "Python 3",
   "language": "python",
   "name": "python3"
  },
  "language_info": {
   "codemirror_mode": {
    "name": "ipython",
    "version": 3
   },
   "file_extension": ".py",
   "mimetype": "text/x-python",
   "name": "python",
   "nbconvert_exporter": "python",
   "pygments_lexer": "ipython3",
   "version": "3.8.5"
  }
 },
 "nbformat": 4,
 "nbformat_minor": 4
}
