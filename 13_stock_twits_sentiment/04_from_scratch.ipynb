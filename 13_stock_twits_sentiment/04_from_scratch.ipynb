{
 "cells": [
  {
   "cell_type": "markdown",
   "metadata": {},
   "source": [
    "# Sentiment Analysis on Twiter data on Stocks"
   ]
  },
  {
   "cell_type": "code",
   "execution_count": 1,
   "metadata": {},
   "outputs": [],
   "source": [
    "import numpy as np\n",
    "import pandas as pd\n",
    "import pylab as plt\n",
    "import seaborn as sns\n",
    "\n",
    "import json, nltk\n",
    "import re\n",
    "\n",
    "from helper import plot_history\n",
    "\n",
    "data_dir = '../nlp_datasets/12_twitter_sentiment/'"
   ]
  },
  {
   "cell_type": "code",
   "execution_count": 2,
   "metadata": {},
   "outputs": [],
   "source": [
    "def load_data():\n",
    "    with open(data_dir+'train_twits.json', 'r') as f:\n",
    "        twits = json.load(f)\n",
    "    df = pd.DataFrame(twits['data'])\n",
    "    return df\n",
    "    \n",
    "data = load_data()"
   ]
  },
  {
   "cell_type": "code",
   "execution_count": 3,
   "metadata": {},
   "outputs": [
    {
     "name": "stdout",
     "output_type": "stream",
     "text": [
      "data shape:(1548010, 3)\n"
     ]
    },
    {
     "data": {
      "text/html": [
       "<div>\n",
       "<style scoped>\n",
       "    .dataframe tbody tr th:only-of-type {\n",
       "        vertical-align: middle;\n",
       "    }\n",
       "\n",
       "    .dataframe tbody tr th {\n",
       "        vertical-align: top;\n",
       "    }\n",
       "\n",
       "    .dataframe thead th {\n",
       "        text-align: right;\n",
       "    }\n",
       "</style>\n",
       "<table border=\"1\" class=\"dataframe\">\n",
       "  <thead>\n",
       "    <tr style=\"text-align: right;\">\n",
       "      <th></th>\n",
       "      <th>message_body</th>\n",
       "      <th>sentiment</th>\n",
       "      <th>timestamp</th>\n",
       "    </tr>\n",
       "  </thead>\n",
       "  <tbody>\n",
       "    <tr>\n",
       "      <th>0</th>\n",
       "      <td>$FITB great buy at 26.00...ill wait</td>\n",
       "      <td>2</td>\n",
       "      <td>2018-07-01T00:00:09Z</td>\n",
       "    </tr>\n",
       "    <tr>\n",
       "      <th>1</th>\n",
       "      <td>@StockTwits $MSFT</td>\n",
       "      <td>1</td>\n",
       "      <td>2018-07-01T00:00:42Z</td>\n",
       "    </tr>\n",
       "  </tbody>\n",
       "</table>\n",
       "</div>"
      ],
      "text/plain": [
       "                          message_body  sentiment             timestamp\n",
       "0  $FITB great buy at 26.00...ill wait          2  2018-07-01T00:00:09Z\n",
       "1                    @StockTwits $MSFT          1  2018-07-01T00:00:42Z"
      ]
     },
     "execution_count": 3,
     "metadata": {},
     "output_type": "execute_result"
    }
   ],
   "source": [
    "print (f\"data shape:{data.shape}\")\n",
    "data.head(2)"
   ]
  },
  {
   "cell_type": "code",
   "execution_count": 4,
   "metadata": {},
   "outputs": [],
   "source": [
    "# cut the data short to make learning faster keep only 8010 of them\n",
    "#random_indices = np.random.choice(range(df.shape[0]), size=8010)\n",
    "#df = df.loc[random_indices]\n",
    "df_top = data.loc[:10000]"
   ]
  },
  {
   "cell_type": "code",
   "execution_count": 5,
   "metadata": {},
   "outputs": [
    {
     "data": {
      "text/plain": [
       "array([ 2,  1,  0, -2, -1])"
      ]
     },
     "execution_count": 5,
     "metadata": {},
     "output_type": "execute_result"
    }
   ],
   "source": [
    "df= df_top.copy()\n",
    "df.sentiment.unique()"
   ]
  },
  {
   "cell_type": "code",
   "execution_count": 6,
   "metadata": {},
   "outputs": [
    {
     "data": {
      "image/png": "[encoded data removed]",
      "text/plain": [
       "<Figure size 576x288 with 1 Axes>"
      ]
     },
     "metadata": {
      "needs_background": "light"
     },
     "output_type": "display_data"
    }
   ],
   "source": [
    "def Countplot(df, col):    \n",
    "    fig, ax = plt.subplots(1,1,figsize=(8,4));\n",
    "    sns.countplot(df[col], ax=ax);\n",
    "    plt.xticks(fontsize='x-large');\n",
    "    \n",
    "Countplot(df, 'sentiment')"
   ]
  },
  {
   "cell_type": "markdown",
   "metadata": {},
   "source": [
    "this means almost half of the tweets are neutral in the sentiment. a classic example of unbalanced data set. One way to treat this is to remove the neutral data so that the class becomes more or less neutral. Here we'll make the counts of sentiment 2 and sentiment 3 equal."
   ]
  },
  {
   "cell_type": "markdown",
   "metadata": {},
   "source": [
    "## Class (Im)balance"
   ]
  },
  {
   "cell_type": "code",
   "execution_count": 7,
   "metadata": {},
   "outputs": [
    {
     "name": "stdout",
     "output_type": "stream",
     "text": [
      "initial counts for each classes: {0: 4799, 1: 1806, 2: 1367, -1: 1127, -2: 902}\n",
      "min_index: -2 min count: 902\n"
     ]
    },
    {
     "data": {
      "image/png": "[encoded data removed]",
      "text/plain": [
       "<Figure size 576x288 with 1 Axes>"
      ]
     },
     "metadata": {
      "needs_background": "light"
     },
     "output_type": "display_data"
    }
   ],
   "source": [
    "def balance_class(df, col='sentiment'):\n",
    "    dfb=df.copy()\n",
    "    counts = dict(dfb[col].value_counts())\n",
    "    print (\"initial counts for each classes:\", counts)\n",
    "    min_count = min(counts.values())\n",
    "    min_indx  = [k for k in counts.keys() if counts[k]==min_count][0]\n",
    "    print (\"min_index:\", min_indx, \"min count:\", min_count)\n",
    "\n",
    "    for s in dfb[col].unique():\n",
    "        delete_after = dfb[dfb[col]==min_indx].shape[0] \n",
    "        indices_to_delete = dfb[dfb[col]==s].index.values[delete_after:]\n",
    "        dfb = dfb.drop(index=indices_to_delete, axis=0)\n",
    "    return dfb\n",
    "\n",
    "df=balance_class(df, col='sentiment')\n",
    "Countplot(df, 'sentiment')"
   ]
  },
  {
   "cell_type": "code",
   "execution_count": 8,
   "metadata": {},
   "outputs": [],
   "source": [
    "# convert the labels to [1-5] instead of [-2, 2]\n",
    "df['sentiment'] = df['sentiment'].apply(lambda x:x+2)"
   ]
  },
  {
   "cell_type": "code",
   "execution_count": 9,
   "metadata": {},
   "outputs": [
    {
     "name": "stdout",
     "output_type": "stream",
     "text": [
      "unique sentiments: [4 3 2 0 1]\n",
      "data shape:(4510, 3)\n"
     ]
    },
    {
     "data": {
      "text/html": [
       "<div>\n",
       "<style scoped>\n",
       "    .dataframe tbody tr th:only-of-type {\n",
       "        vertical-align: middle;\n",
       "    }\n",
       "\n",
       "    .dataframe tbody tr th {\n",
       "        vertical-align: top;\n",
       "    }\n",
       "\n",
       "    .dataframe thead th {\n",
       "        text-align: right;\n",
       "    }\n",
       "</style>\n",
       "<table border=\"1\" class=\"dataframe\">\n",
       "  <thead>\n",
       "    <tr style=\"text-align: right;\">\n",
       "      <th></th>\n",
       "      <th>message_body</th>\n",
       "      <th>sentiment</th>\n",
       "      <th>timestamp</th>\n",
       "    </tr>\n",
       "  </thead>\n",
       "  <tbody>\n",
       "    <tr>\n",
       "      <th>0</th>\n",
       "      <td>$FITB great buy at 26.00...ill wait</td>\n",
       "      <td>4</td>\n",
       "      <td>2018-07-01T00:00:09Z</td>\n",
       "    </tr>\n",
       "    <tr>\n",
       "      <th>1</th>\n",
       "      <td>@StockTwits $MSFT</td>\n",
       "      <td>3</td>\n",
       "      <td>2018-07-01T00:00:42Z</td>\n",
       "    </tr>\n",
       "    <tr>\n",
       "      <th>2</th>\n",
       "      <td>#STAAnalystAlert for $TDG : Jefferies Maintain...</td>\n",
       "      <td>4</td>\n",
       "      <td>2018-07-01T00:01:24Z</td>\n",
       "    </tr>\n",
       "    <tr>\n",
       "      <th>3</th>\n",
       "      <td>$AMD I heard there’s a guy who knows someone w...</td>\n",
       "      <td>3</td>\n",
       "      <td>2018-07-01T00:01:47Z</td>\n",
       "    </tr>\n",
       "    <tr>\n",
       "      <th>4</th>\n",
       "      <td>$AMD reveal yourself!</td>\n",
       "      <td>2</td>\n",
       "      <td>2018-07-01T00:02:13Z</td>\n",
       "    </tr>\n",
       "  </tbody>\n",
       "</table>\n",
       "</div>"
      ],
      "text/plain": [
       "                                        message_body  sentiment  \\\n",
       "0                $FITB great buy at 26.00...ill wait          4   \n",
       "1                                  @StockTwits $MSFT          3   \n",
       "2  #STAAnalystAlert for $TDG : Jefferies Maintain...          4   \n",
       "3  $AMD I heard there’s a guy who knows someone w...          3   \n",
       "4                              $AMD reveal yourself!          2   \n",
       "\n",
       "              timestamp  \n",
       "0  2018-07-01T00:00:09Z  \n",
       "1  2018-07-01T00:00:42Z  \n",
       "2  2018-07-01T00:01:24Z  \n",
       "3  2018-07-01T00:01:47Z  \n",
       "4  2018-07-01T00:02:13Z  "
      ]
     },
     "execution_count": 9,
     "metadata": {},
     "output_type": "execute_result"
    }
   ],
   "source": [
    "print ( \"unique sentiments:\",df.sentiment.unique() )\n",
    "print (f\"data shape:{df.shape}\")\n",
    "df.head(5)"
   ]
  },
  {
   "cell_type": "code",
   "execution_count": 10,
   "metadata": {},
   "outputs": [
    {
     "name": "stdout",
     "output_type": "stream",
     "text": [
      " new data shape:(4510, 3)\n"
     ]
    },
    {
     "data": {
      "text/html": [
       "<div>\n",
       "<style scoped>\n",
       "    .dataframe tbody tr th:only-of-type {\n",
       "        vertical-align: middle;\n",
       "    }\n",
       "\n",
       "    .dataframe tbody tr th {\n",
       "        vertical-align: top;\n",
       "    }\n",
       "\n",
       "    .dataframe thead th {\n",
       "        text-align: right;\n",
       "    }\n",
       "</style>\n",
       "<table border=\"1\" class=\"dataframe\">\n",
       "  <thead>\n",
       "    <tr style=\"text-align: right;\">\n",
       "      <th></th>\n",
       "      <th>message_body</th>\n",
       "      <th>sentiment</th>\n",
       "      <th>timestamp</th>\n",
       "    </tr>\n",
       "  </thead>\n",
       "  <tbody>\n",
       "    <tr>\n",
       "      <th>0</th>\n",
       "      <td>$FITB great buy at 26.00...ill wait</td>\n",
       "      <td>4</td>\n",
       "      <td>2018-07-01T00:00:09Z</td>\n",
       "    </tr>\n",
       "    <tr>\n",
       "      <th>1</th>\n",
       "      <td>@StockTwits $MSFT</td>\n",
       "      <td>3</td>\n",
       "      <td>2018-07-01T00:00:42Z</td>\n",
       "    </tr>\n",
       "  </tbody>\n",
       "</table>\n",
       "</div>"
      ],
      "text/plain": [
       "                          message_body  sentiment             timestamp\n",
       "0  $FITB great buy at 26.00...ill wait          4  2018-07-01T00:00:09Z\n",
       "1                    @StockTwits $MSFT          3  2018-07-01T00:00:42Z"
      ]
     },
     "execution_count": 10,
     "metadata": {},
     "output_type": "execute_result"
    }
   ],
   "source": [
    "print (f\" new data shape:{df.shape}\")\n",
    "df.head(2)"
   ]
  },
  {
   "cell_type": "code",
   "execution_count": 12,
   "metadata": {},
   "outputs": [
    {
     "name": "stdout",
     "output_type": "stream",
     "text": [
      "Tweets with sentiment:  4\n",
      "$WYNN 200 shares holding till ER\n",
      "\n",
      "$MU last year same time, 12 months price targets reached $75. So there is hope for a rebound if China trade issue is resolved quickly .\n",
      "\n",
      "$MU the hell with it. This is a cheap stock and I’m sticking with it. Patience my fellow bulls. Either my bet is going to make me money or .\n",
      "\n",
      "===================\n",
      "\n",
      "Tweets with sentiment:  3\n",
      "@StockTwits I think $AMZN In my opinion,it is the most consolidated,&amp; with the greatest business support in different areas and strategies.\n",
      "\n",
      "$MU Congrats to those who bought the dip!\n",
      "\n",
      "$MU hell no, this stock is impossible to move upwards.  Maybe high 50’s at most\n",
      "\n",
      "===================\n",
      "\n",
      "Tweets with sentiment:  2\n",
      "Today&#39;s insight on $RRD https://app.seasonaledge.com/tools/I/RRD\n",
      "\n",
      "$AAPL has a Return On Assets of 14.51%. This is amongst the best returns in the industry. https://www.chartmill.com/analyze.php?utm_source=stocktwits&amp;utm_medium=FA&amp;utm_content=PROFITABILITY&amp;utm_campaign=social_tracking#/AAPL?r=fa&amp;key=bb853040-a4ac-41c6-b549-d218d2f21b32\n",
      "\n",
      "$WYNN Despite World Cup soccer 2018, Macau’s revenues up 13% for June. Awesome 👍🏼👍🏼👍🏼\n",
      "\n",
      "===================\n",
      "\n",
      "Tweets with sentiment:  0\n",
      "$NFLX retarded dip buyers won’t let this bubble stock drop just yet. waiting for Reed hastings to dump all his shares on stupid retail 1st\n",
      "\n",
      "$TSLA $AMZN $GOOG $NFLX $NVDA $AAPL $FB tesla is the most shorted stock. $13.3b in short. more than 25% of the float is short\n",
      "\n",
      "$TIF nice short on dividend payable\n",
      "\n",
      "===================\n",
      "\n",
      "Tweets with sentiment:  1\n",
      "$NFLX $GOOGL Flash down.\n",
      "\n",
      "The short sale volume (not short interest) for $MYL on 2018-06-28 is 37%. http://shortvolumes.com/?t=MYL via @shortvolumes\n",
      "\n",
      "$WIN  hate to have told you so, but Reap it. Illegal price changes to contracts failed to find fast buyer. Now fallout and company burns\n",
      "\n",
      "===================\n",
      "\n"
     ]
    }
   ],
   "source": [
    "def print_twts():\n",
    "    for i in df.sentiment.unique():\n",
    "        print (\"Tweets with sentiment: \", i)\n",
    "        twt=df[df['sentiment']==i].sample(3)['message_body'].values\n",
    "        for i in range(3):\n",
    "            print (twt[i])\n",
    "            print ()\n",
    "        print (\"===================\")\n",
    "        print ()\n",
    "        \n",
    "print_twts()"
   ]
  },
  {
   "cell_type": "code",
   "execution_count": 13,
   "metadata": {},
   "outputs": [],
   "source": [
    "\n",
    "def preprocess_twt(message):\n",
    "    text = message.lower()                   # Lowercase the twit message\n",
    "    text = re.sub(r'https?://\\S+', ' ', text)# Replace URLs with a space\n",
    "    text = re.sub(r'\\$\\S+', ' ', text)       # Replace ticker symbols with a space\n",
    "    text = re.sub(r'\\@\\S+', ' ', text)       # Replace StockTwits usernames with a space.\n",
    "    text = re.sub(r'[^a-zA-Z]', ' ', text)   # Replace everything not a letter with a space\n",
    "    \n",
    "    # Tokenize    \n",
    "    tokens = nltk.tokenize.word_tokenize(text)\n",
    "\n",
    "    # Lemmatize words using the WordNetLemmatizer.\n",
    "    # Ignore any word that is not longer than one character.\n",
    "    wnl = nltk.stem.WordNetLemmatizer()\n",
    "    tokens = [wnl.lemmatize(token) for token in tokens if len(token) > 1]\n",
    "    \n",
    "    return tokens\n",
    "\n",
    "df['message_tokenized'] = df[\"message_body\"].apply(preprocess_twt)"
   ]
  },
  {
   "cell_type": "code",
   "execution_count": 14,
   "metadata": {},
   "outputs": [
    {
     "data": {
      "text/html": [
       "<div>\n",
       "<style scoped>\n",
       "    .dataframe tbody tr th:only-of-type {\n",
       "        vertical-align: middle;\n",
       "    }\n",
       "\n",
       "    .dataframe tbody tr th {\n",
       "        vertical-align: top;\n",
       "    }\n",
       "\n",
       "    .dataframe thead th {\n",
       "        text-align: right;\n",
       "    }\n",
       "</style>\n",
       "<table border=\"1\" class=\"dataframe\">\n",
       "  <thead>\n",
       "    <tr style=\"text-align: right;\">\n",
       "      <th></th>\n",
       "      <th>message_body</th>\n",
       "      <th>sentiment</th>\n",
       "      <th>timestamp</th>\n",
       "      <th>message_tokenized</th>\n",
       "    </tr>\n",
       "  </thead>\n",
       "  <tbody>\n",
       "    <tr>\n",
       "      <th>0</th>\n",
       "      <td>$FITB great buy at 26.00...ill wait</td>\n",
       "      <td>4</td>\n",
       "      <td>2018-07-01T00:00:09Z</td>\n",
       "      <td>[great, buy, at, ill, wait]</td>\n",
       "    </tr>\n",
       "    <tr>\n",
       "      <th>1</th>\n",
       "      <td>@StockTwits $MSFT</td>\n",
       "      <td>3</td>\n",
       "      <td>2018-07-01T00:00:42Z</td>\n",
       "      <td>[]</td>\n",
       "    </tr>\n",
       "  </tbody>\n",
       "</table>\n",
       "</div>"
      ],
      "text/plain": [
       "                          message_body  sentiment             timestamp  \\\n",
       "0  $FITB great buy at 26.00...ill wait          4  2018-07-01T00:00:09Z   \n",
       "1                    @StockTwits $MSFT          3  2018-07-01T00:00:42Z   \n",
       "\n",
       "             message_tokenized  \n",
       "0  [great, buy, at, ill, wait]  \n",
       "1                           []  "
      ]
     },
     "execution_count": 14,
     "metadata": {},
     "output_type": "execute_result"
    }
   ],
   "source": [
    "df.head(2)"
   ]
  },
  {
   "cell_type": "code",
   "execution_count": 15,
   "metadata": {},
   "outputs": [],
   "source": [
    "from collections import Counter\n",
    "\n",
    "\"\"\"\n",
    "Create a vocabulary by using Bag of words\n",
    "\"\"\"\n",
    "\n",
    "tokenized_words = [word for twit in df.message_tokenized for word in twit]\n",
    "bow = Counter(tokenized_words)"
   ]
  },
  {
   "cell_type": "code",
   "execution_count": 16,
   "metadata": {},
   "outputs": [
    {
     "data": {
      "text/plain": [
       "[('to', 1307),\n",
       " ('the', 1254),\n",
       " ('is', 1106),\n",
       " ('on', 951),\n",
       " ('for', 922),\n",
       " ('of', 875),\n",
       " ('in', 782),\n",
       " ('and', 670),\n",
       " ('short', 635),\n",
       " ('this', 632),\n",
       " ('it', 547),\n",
       " ('at', 450),\n",
       " ('are', 376),\n",
       " ('down', 367),\n",
       " ('will', 354)]"
      ]
     },
     "execution_count": 16,
     "metadata": {},
     "output_type": "execute_result"
    }
   ],
   "source": [
    "bow.most_common(15)"
   ]
  },
  {
   "cell_type": "code",
   "execution_count": 17,
   "metadata": {},
   "outputs": [],
   "source": [
    "def remove_words(bow, low_cutoff=1e-5, high_cutoff=10):\n",
    "    # remove the words which are outside the cutoff range\n",
    "    # they usually are too common or too rare to make any big impact on the analysis\n",
    "    total_cnt = sum(bow.values())\n",
    "    \n",
    "    freqs = dict(bow)\n",
    "    for key in freqs:\n",
    "        freqs[key] = freqs[key]/total_cnt\n",
    "        \n",
    "    K_most_common = [word[0] for word in bow.most_common(high_cutoff)]\n",
    "    \n",
    "    filtered_words = [word for word in freqs if (freqs[word] > low_cutoff and word not in K_most_common)]\n",
    "    \n",
    "    return freqs, filtered_words\n"
   ]
  },
  {
   "cell_type": "code",
   "execution_count": 18,
   "metadata": {},
   "outputs": [],
   "source": [
    "freqs, filtered_words= remove_words(bow)"
   ]
  },
  {
   "cell_type": "code",
   "execution_count": 19,
   "metadata": {},
   "outputs": [],
   "source": [
    "def prepare_vocab_dict(filtered_words):\n",
    "    # A dictionary for the `filtered_words`.\n",
    "    vocab = {word:idx+1 for idx, word in enumerate(filtered_words)}\n",
    "    # reverse the vocab dictionary\n",
    "    id2vocab = {idx:word for word, idx in vocab.items()}\n",
    "    return vocab, id2vocab\n",
    "\n",
    "vocab, id2vocab = prepare_vocab_dict(filtered_words)"
   ]
  },
  {
   "cell_type": "code",
   "execution_count": 20,
   "metadata": {},
   "outputs": [
    {
     "name": "stdout",
     "output_type": "stream",
     "text": [
      "Top 5 word to index items\n",
      "('great', 1)\n",
      "('buy', 2)\n",
      "('at', 3)\n",
      "('ill', 4)\n",
      "('wait', 5)\n",
      "\n",
      "Top 5 index to words items\n",
      "(1, 'great')\n",
      "(2, 'buy')\n",
      "(3, 'at')\n",
      "(4, 'ill')\n",
      "(5, 'wait')\n"
     ]
    }
   ],
   "source": [
    "print (\"Top 5 word to index items\")\n",
    "for item in list(vocab.items())[:5]:\n",
    "    print (item)\n",
    "    \n",
    "print (\"\\nTop 5 index to words items\")\n",
    "for item in list(id2vocab.items())[:5]:\n",
    "    print (item)\n"
   ]
  },
  {
   "cell_type": "code",
   "execution_count": 21,
   "metadata": {},
   "outputs": [
    {
     "name": "stdout",
     "output_type": "stream",
     "text": [
      "['how', 'expect', 'the', 'earnings']\n"
     ]
    },
    {
     "data": {
      "text/plain": [
       "['how', 'expect', 'earnings']"
      ]
     },
     "execution_count": 21,
     "metadata": {},
     "output_type": "execute_result"
    }
   ],
   "source": [
    "def filter_twit(words, filtered_words):\n",
    "     return [word for word in words if word in filtered_words]\n",
    "\n",
    "tmp = df['message_tokenized'].values[50]\n",
    "print (tmp)\n",
    "filter_twit(tmp, filtered_words)"
   ]
  },
  {
   "cell_type": "code",
   "execution_count": 22,
   "metadata": {},
   "outputs": [],
   "source": [
    "df['filtered'] = df['message_tokenized'].apply(filter_twit, filtered_words=filtered_words)"
   ]
  },
  {
   "cell_type": "code",
   "execution_count": 23,
   "metadata": {},
   "outputs": [
    {
     "data": {
      "text/html": [
       "<div>\n",
       "<style scoped>\n",
       "    .dataframe tbody tr th:only-of-type {\n",
       "        vertical-align: middle;\n",
       "    }\n",
       "\n",
       "    .dataframe tbody tr th {\n",
       "        vertical-align: top;\n",
       "    }\n",
       "\n",
       "    .dataframe thead th {\n",
       "        text-align: right;\n",
       "    }\n",
       "</style>\n",
       "<table border=\"1\" class=\"dataframe\">\n",
       "  <thead>\n",
       "    <tr style=\"text-align: right;\">\n",
       "      <th></th>\n",
       "      <th>message_body</th>\n",
       "      <th>sentiment</th>\n",
       "      <th>timestamp</th>\n",
       "      <th>message_tokenized</th>\n",
       "      <th>filtered</th>\n",
       "    </tr>\n",
       "  </thead>\n",
       "  <tbody>\n",
       "    <tr>\n",
       "      <th>0</th>\n",
       "      <td>$FITB great buy at 26.00...ill wait</td>\n",
       "      <td>4</td>\n",
       "      <td>2018-07-01T00:00:09Z</td>\n",
       "      <td>[great, buy, at, ill, wait]</td>\n",
       "      <td>[great, buy, at, ill, wait]</td>\n",
       "    </tr>\n",
       "    <tr>\n",
       "      <th>1</th>\n",
       "      <td>@StockTwits $MSFT</td>\n",
       "      <td>3</td>\n",
       "      <td>2018-07-01T00:00:42Z</td>\n",
       "      <td>[]</td>\n",
       "      <td>[]</td>\n",
       "    </tr>\n",
       "    <tr>\n",
       "      <th>2</th>\n",
       "      <td>#STAAnalystAlert for $TDG : Jefferies Maintain...</td>\n",
       "      <td>4</td>\n",
       "      <td>2018-07-01T00:01:24Z</td>\n",
       "      <td>[staanalystalert, for, jefferies, maintains, w...</td>\n",
       "      <td>[staanalystalert, jefferies, maintains, with, ...</td>\n",
       "    </tr>\n",
       "    <tr>\n",
       "      <th>3</th>\n",
       "      <td>$AMD I heard there’s a guy who knows someone w...</td>\n",
       "      <td>3</td>\n",
       "      <td>2018-07-01T00:01:47Z</td>\n",
       "      <td>[heard, there, guy, who, know, someone, who, t...</td>\n",
       "      <td>[heard, there, guy, who, know, someone, who, t...</td>\n",
       "    </tr>\n",
       "    <tr>\n",
       "      <th>4</th>\n",
       "      <td>$AMD reveal yourself!</td>\n",
       "      <td>2</td>\n",
       "      <td>2018-07-01T00:02:13Z</td>\n",
       "      <td>[reveal, yourself]</td>\n",
       "      <td>[reveal, yourself]</td>\n",
       "    </tr>\n",
       "  </tbody>\n",
       "</table>\n",
       "</div>"
      ],
      "text/plain": [
       "                                        message_body  sentiment  \\\n",
       "0                $FITB great buy at 26.00...ill wait          4   \n",
       "1                                  @StockTwits $MSFT          3   \n",
       "2  #STAAnalystAlert for $TDG : Jefferies Maintain...          4   \n",
       "3  $AMD I heard there’s a guy who knows someone w...          3   \n",
       "4                              $AMD reveal yourself!          2   \n",
       "\n",
       "              timestamp                                  message_tokenized  \\\n",
       "0  2018-07-01T00:00:09Z                        [great, buy, at, ill, wait]   \n",
       "1  2018-07-01T00:00:42Z                                                 []   \n",
       "2  2018-07-01T00:01:24Z  [staanalystalert, for, jefferies, maintains, w...   \n",
       "3  2018-07-01T00:01:47Z  [heard, there, guy, who, know, someone, who, t...   \n",
       "4  2018-07-01T00:02:13Z                                 [reveal, yourself]   \n",
       "\n",
       "                                            filtered  \n",
       "0                        [great, buy, at, ill, wait]  \n",
       "1                                                 []  \n",
       "2  [staanalystalert, jefferies, maintains, with, ...  \n",
       "3  [heard, there, guy, who, know, someone, who, t...  \n",
       "4                                 [reveal, yourself]  "
      ]
     },
     "execution_count": 23,
     "metadata": {},
     "output_type": "execute_result"
    }
   ],
   "source": [
    "df.head(5)"
   ]
  },
  {
   "cell_type": "code",
   "execution_count": 24,
   "metadata": {},
   "outputs": [
    {
     "data": {
      "text/html": [
       "<div>\n",
       "<style scoped>\n",
       "    .dataframe tbody tr th:only-of-type {\n",
       "        vertical-align: middle;\n",
       "    }\n",
       "\n",
       "    .dataframe tbody tr th {\n",
       "        vertical-align: top;\n",
       "    }\n",
       "\n",
       "    .dataframe thead th {\n",
       "        text-align: right;\n",
       "    }\n",
       "</style>\n",
       "<table border=\"1\" class=\"dataframe\">\n",
       "  <thead>\n",
       "    <tr style=\"text-align: right;\">\n",
       "      <th></th>\n",
       "      <th>message_body</th>\n",
       "      <th>sentiment</th>\n",
       "      <th>timestamp</th>\n",
       "      <th>message_tokenized</th>\n",
       "      <th>filtered</th>\n",
       "      <th>counts</th>\n",
       "    </tr>\n",
       "  </thead>\n",
       "  <tbody>\n",
       "    <tr>\n",
       "      <th>0</th>\n",
       "      <td>$FITB great buy at 26.00...ill wait</td>\n",
       "      <td>4</td>\n",
       "      <td>2018-07-01T00:00:09Z</td>\n",
       "      <td>[great, buy, at, ill, wait]</td>\n",
       "      <td>[great, buy, at, ill, wait]</td>\n",
       "      <td>5</td>\n",
       "    </tr>\n",
       "    <tr>\n",
       "      <th>1</th>\n",
       "      <td>@StockTwits $MSFT</td>\n",
       "      <td>3</td>\n",
       "      <td>2018-07-01T00:00:42Z</td>\n",
       "      <td>[]</td>\n",
       "      <td>[]</td>\n",
       "      <td>0</td>\n",
       "    </tr>\n",
       "    <tr>\n",
       "      <th>2</th>\n",
       "      <td>#STAAnalystAlert for $TDG : Jefferies Maintain...</td>\n",
       "      <td>4</td>\n",
       "      <td>2018-07-01T00:01:24Z</td>\n",
       "      <td>[staanalystalert, for, jefferies, maintains, w...</td>\n",
       "      <td>[staanalystalert, jefferies, maintains, with, ...</td>\n",
       "      <td>15</td>\n",
       "    </tr>\n",
       "    <tr>\n",
       "      <th>3</th>\n",
       "      <td>$AMD I heard there’s a guy who knows someone w...</td>\n",
       "      <td>3</td>\n",
       "      <td>2018-07-01T00:01:47Z</td>\n",
       "      <td>[heard, there, guy, who, know, someone, who, t...</td>\n",
       "      <td>[heard, there, guy, who, know, someone, who, t...</td>\n",
       "      <td>12</td>\n",
       "    </tr>\n",
       "    <tr>\n",
       "      <th>4</th>\n",
       "      <td>$AMD reveal yourself!</td>\n",
       "      <td>2</td>\n",
       "      <td>2018-07-01T00:02:13Z</td>\n",
       "      <td>[reveal, yourself]</td>\n",
       "      <td>[reveal, yourself]</td>\n",
       "      <td>2</td>\n",
       "    </tr>\n",
       "  </tbody>\n",
       "</table>\n",
       "</div>"
      ],
      "text/plain": [
       "                                        message_body  sentiment  \\\n",
       "0                $FITB great buy at 26.00...ill wait          4   \n",
       "1                                  @StockTwits $MSFT          3   \n",
       "2  #STAAnalystAlert for $TDG : Jefferies Maintain...          4   \n",
       "3  $AMD I heard there’s a guy who knows someone w...          3   \n",
       "4                              $AMD reveal yourself!          2   \n",
       "\n",
       "              timestamp                                  message_tokenized  \\\n",
       "0  2018-07-01T00:00:09Z                        [great, buy, at, ill, wait]   \n",
       "1  2018-07-01T00:00:42Z                                                 []   \n",
       "2  2018-07-01T00:01:24Z  [staanalystalert, for, jefferies, maintains, w...   \n",
       "3  2018-07-01T00:01:47Z  [heard, there, guy, who, know, someone, who, t...   \n",
       "4  2018-07-01T00:02:13Z                                 [reveal, yourself]   \n",
       "\n",
       "                                            filtered  counts  \n",
       "0                        [great, buy, at, ill, wait]       5  \n",
       "1                                                 []       0  \n",
       "2  [staanalystalert, jefferies, maintains, with, ...      15  \n",
       "3  [heard, there, guy, who, know, someone, who, t...      12  \n",
       "4                                 [reveal, yourself]       2  "
      ]
     },
     "execution_count": 24,
     "metadata": {},
     "output_type": "execute_result"
    }
   ],
   "source": [
    "# delete texts with zero length\n",
    "df['counts'] = df.filtered.apply(len)\n",
    "df.head()"
   ]
  },
  {
   "cell_type": "code",
   "execution_count": 25,
   "metadata": {},
   "outputs": [
    {
     "data": {
      "text/html": [
       "<div>\n",
       "<style scoped>\n",
       "    .dataframe tbody tr th:only-of-type {\n",
       "        vertical-align: middle;\n",
       "    }\n",
       "\n",
       "    .dataframe tbody tr th {\n",
       "        vertical-align: top;\n",
       "    }\n",
       "\n",
       "    .dataframe thead th {\n",
       "        text-align: right;\n",
       "    }\n",
       "</style>\n",
       "<table border=\"1\" class=\"dataframe\">\n",
       "  <thead>\n",
       "    <tr style=\"text-align: right;\">\n",
       "      <th></th>\n",
       "      <th>message_body</th>\n",
       "      <th>sentiment</th>\n",
       "      <th>timestamp</th>\n",
       "      <th>message_tokenized</th>\n",
       "      <th>filtered</th>\n",
       "      <th>counts</th>\n",
       "    </tr>\n",
       "  </thead>\n",
       "  <tbody>\n",
       "    <tr>\n",
       "      <th>0</th>\n",
       "      <td>$FITB great buy at 26.00...ill wait</td>\n",
       "      <td>4</td>\n",
       "      <td>2018-07-01T00:00:09Z</td>\n",
       "      <td>[great, buy, at, ill, wait]</td>\n",
       "      <td>[great, buy, at, ill, wait]</td>\n",
       "      <td>5</td>\n",
       "    </tr>\n",
       "    <tr>\n",
       "      <th>2</th>\n",
       "      <td>#STAAnalystAlert for $TDG : Jefferies Maintain...</td>\n",
       "      <td>4</td>\n",
       "      <td>2018-07-01T00:01:24Z</td>\n",
       "      <td>[staanalystalert, for, jefferies, maintains, w...</td>\n",
       "      <td>[staanalystalert, jefferies, maintains, with, ...</td>\n",
       "      <td>15</td>\n",
       "    </tr>\n",
       "    <tr>\n",
       "      <th>3</th>\n",
       "      <td>$AMD I heard there’s a guy who knows someone w...</td>\n",
       "      <td>3</td>\n",
       "      <td>2018-07-01T00:01:47Z</td>\n",
       "      <td>[heard, there, guy, who, know, someone, who, t...</td>\n",
       "      <td>[heard, there, guy, who, know, someone, who, t...</td>\n",
       "      <td>12</td>\n",
       "    </tr>\n",
       "    <tr>\n",
       "      <th>4</th>\n",
       "      <td>$AMD reveal yourself!</td>\n",
       "      <td>2</td>\n",
       "      <td>2018-07-01T00:02:13Z</td>\n",
       "      <td>[reveal, yourself]</td>\n",
       "      <td>[reveal, yourself]</td>\n",
       "      <td>2</td>\n",
       "    </tr>\n",
       "    <tr>\n",
       "      <th>5</th>\n",
       "      <td>$AAPL Why the drop? I warren Buffet taking out...</td>\n",
       "      <td>3</td>\n",
       "      <td>2018-07-01T00:03:10Z</td>\n",
       "      <td>[why, the, drop, warren, buffet, taking, out, ...</td>\n",
       "      <td>[why, drop, warren, buffet, taking, out, his, ...</td>\n",
       "      <td>8</td>\n",
       "    </tr>\n",
       "  </tbody>\n",
       "</table>\n",
       "</div>"
      ],
      "text/plain": [
       "                                        message_body  sentiment  \\\n",
       "0                $FITB great buy at 26.00...ill wait          4   \n",
       "2  #STAAnalystAlert for $TDG : Jefferies Maintain...          4   \n",
       "3  $AMD I heard there’s a guy who knows someone w...          3   \n",
       "4                              $AMD reveal yourself!          2   \n",
       "5  $AAPL Why the drop? I warren Buffet taking out...          3   \n",
       "\n",
       "              timestamp                                  message_tokenized  \\\n",
       "0  2018-07-01T00:00:09Z                        [great, buy, at, ill, wait]   \n",
       "2  2018-07-01T00:01:24Z  [staanalystalert, for, jefferies, maintains, w...   \n",
       "3  2018-07-01T00:01:47Z  [heard, there, guy, who, know, someone, who, t...   \n",
       "4  2018-07-01T00:02:13Z                                 [reveal, yourself]   \n",
       "5  2018-07-01T00:03:10Z  [why, the, drop, warren, buffet, taking, out, ...   \n",
       "\n",
       "                                            filtered  counts  \n",
       "0                        [great, buy, at, ill, wait]       5  \n",
       "2  [staanalystalert, jefferies, maintains, with, ...      15  \n",
       "3  [heard, there, guy, who, know, someone, who, t...      12  \n",
       "4                                 [reveal, yourself]       2  \n",
       "5  [why, drop, warren, buffet, taking, out, his, ...       8  "
      ]
     },
     "execution_count": 25,
     "metadata": {},
     "output_type": "execute_result"
    }
   ],
   "source": [
    "df = df[df['counts']>0]\n",
    "df.head()"
   ]
  },
  {
   "cell_type": "markdown",
   "metadata": {},
   "source": [
    "## Prepare input for Model\n",
    "- convert the text entry to numerical values\n",
    "- Pad the numerical values to a certain length\n",
    "- convert the y labels to categorical \n",
    "- train, test, val split"
   ]
  },
  {
   "cell_type": "code",
   "execution_count": 26,
   "metadata": {},
   "outputs": [
    {
     "data": {
      "text/html": [
       "<div>\n",
       "<style scoped>\n",
       "    .dataframe tbody tr th:only-of-type {\n",
       "        vertical-align: middle;\n",
       "    }\n",
       "\n",
       "    .dataframe tbody tr th {\n",
       "        vertical-align: top;\n",
       "    }\n",
       "\n",
       "    .dataframe thead th {\n",
       "        text-align: right;\n",
       "    }\n",
       "</style>\n",
       "<table border=\"1\" class=\"dataframe\">\n",
       "  <thead>\n",
       "    <tr style=\"text-align: right;\">\n",
       "      <th></th>\n",
       "      <th>message_body</th>\n",
       "      <th>sentiment</th>\n",
       "      <th>timestamp</th>\n",
       "      <th>message_tokenized</th>\n",
       "      <th>filtered</th>\n",
       "      <th>counts</th>\n",
       "    </tr>\n",
       "  </thead>\n",
       "  <tbody>\n",
       "    <tr>\n",
       "      <th>0</th>\n",
       "      <td>$FITB great buy at 26.00...ill wait</td>\n",
       "      <td>4</td>\n",
       "      <td>2018-07-01T00:00:09Z</td>\n",
       "      <td>[great, buy, at, ill, wait]</td>\n",
       "      <td>[great, buy, at, ill, wait]</td>\n",
       "      <td>5</td>\n",
       "    </tr>\n",
       "    <tr>\n",
       "      <th>2</th>\n",
       "      <td>#STAAnalystAlert for $TDG : Jefferies Maintain...</td>\n",
       "      <td>4</td>\n",
       "      <td>2018-07-01T00:01:24Z</td>\n",
       "      <td>[staanalystalert, for, jefferies, maintains, w...</td>\n",
       "      <td>[staanalystalert, jefferies, maintains, with, ...</td>\n",
       "      <td>15</td>\n",
       "    </tr>\n",
       "  </tbody>\n",
       "</table>\n",
       "</div>"
      ],
      "text/plain": [
       "                                        message_body  sentiment  \\\n",
       "0                $FITB great buy at 26.00...ill wait          4   \n",
       "2  #STAAnalystAlert for $TDG : Jefferies Maintain...          4   \n",
       "\n",
       "              timestamp                                  message_tokenized  \\\n",
       "0  2018-07-01T00:00:09Z                        [great, buy, at, ill, wait]   \n",
       "2  2018-07-01T00:01:24Z  [staanalystalert, for, jefferies, maintains, w...   \n",
       "\n",
       "                                            filtered  counts  \n",
       "0                        [great, buy, at, ill, wait]       5  \n",
       "2  [staanalystalert, jefferies, maintains, with, ...      15  "
      ]
     },
     "execution_count": 26,
     "metadata": {},
     "output_type": "execute_result"
    }
   ],
   "source": [
    "df.head(2)"
   ]
  },
  {
   "cell_type": "code",
   "execution_count": 27,
   "metadata": {},
   "outputs": [
    {
     "data": {
      "text/plain": [
       "25"
      ]
     },
     "execution_count": 27,
     "metadata": {},
     "output_type": "execute_result"
    }
   ],
   "source": [
    "df.counts.max()"
   ]
  },
  {
   "cell_type": "code",
   "execution_count": 28,
   "metadata": {},
   "outputs": [
    {
     "name": "stdout",
     "output_type": "stream",
     "text": [
      "X_train.shape: (2628, 25) y_train.shape:(2628, 5)\n",
      "X_test.shape: (877, 25) y_test.shape:(877, 5)\n",
      "X_val.shape: (877, 25) y_val.shape:(877, 5)\n"
     ]
    }
   ],
   "source": [
    "from tensorflow.keras.utils import to_categorical\n",
    "from sklearn.model_selection import train_test_split\n",
    "\n",
    "MAX_SEQUENCE_LEN = 25\n",
    "\n",
    "def text_to_numerics(text, vocab):\n",
    "    return [vocab[word] for word in text]\n",
    "\n",
    "def pad_list(lst, max_len):\n",
    "    # pad a list with zeros at the end to make the length max_len\n",
    "    lst = lst+[0]*(max_len-len(lst))\n",
    "    return lst[:max_len]\n",
    "    \n",
    "def prepare_input_for_model(df, MAX_SEQUENCE_LEN=20):\n",
    "    df['text_to_number'] = df['filtered'].apply(text_to_numerics, vocab=vocab)\n",
    "    df[\"padded_x\"] = df['text_to_number'].apply(pad_list, max_len=MAX_SEQUENCE_LEN)\n",
    "\n",
    "    X = np.array(df[\"padded_x\"].values)\n",
    "    X = np.stack( X, axis=0 )\n",
    "    \n",
    "    y = df['sentiment'].values\n",
    "    y = to_categorical(y)\n",
    "    return (df, X, y)\n",
    "    \n",
    "def split_data(X, y):\n",
    "    X_train_, X_val, y_train_, y_val = train_test_split(X, y, test_size=0.2)\n",
    "    X_train, X_test, y_train, y_test = train_test_split(X_train_, y_train_, test_size=0.25)\n",
    "\n",
    "    print (f\"X_train.shape: {X_train.shape} y_train.shape:{y_train.shape}\" )\n",
    "    print (f\"X_test.shape: {X_test.shape} y_test.shape:{y_test.shape}\" )\n",
    "    print (f\"X_val.shape: {X_val.shape} y_val.shape:{y_val.shape}\" )\n",
    "\n",
    "    return X_train, X_test, X_val, y_train, y_test, y_val\n",
    "\n",
    "(df, X, y) = prepare_input_for_model(df, MAX_SEQUENCE_LEN=MAX_SEQUENCE_LEN)\n",
    "X_train, X_test, X_val, y_train, y_test, y_val =  split_data(X, y)\n"
   ]
  },
  {
   "cell_type": "code",
   "execution_count": 29,
   "metadata": {},
   "outputs": [
    {
     "data": {
      "text/plain": [
       "array([4, 3, 2, 0, 1])"
      ]
     },
     "execution_count": 29,
     "metadata": {},
     "output_type": "execute_result"
    }
   ],
   "source": [
    "df.sentiment.unique()"
   ]
  },
  {
   "cell_type": "markdown",
   "metadata": {},
   "source": [
    "## Model Training"
   ]
  },
  {
   "cell_type": "code",
   "execution_count": 30,
   "metadata": {},
   "outputs": [],
   "source": [
    "from tensorflow.keras.models import Sequential\n",
    "from tensorflow.keras.layers import Dense, LSTM, Dropout, Flatten\n",
    "from tensorflow.keras.layers import Conv1D, MaxPooling1D, BatchNormalization\n",
    "from tensorflow.keras.optimizers import Adam\n",
    "from tensorflow.keras import preprocessing\n",
    "from keras.layers.embeddings import Embedding\n",
    "from keras.preprocessing import sequence"
   ]
  },
  {
   "cell_type": "code",
   "execution_count": 31,
   "metadata": {},
   "outputs": [
    {
     "name": "stdout",
     "output_type": "stream",
     "text": [
      "Epoch 1/15\n",
      "165/165 [==============================] - 2s 12ms/step - loss: 1.7456 - accuracy: 0.2032 - val_loss: 1.7215 - val_accuracy: 0.2030\n",
      "Epoch 2/15\n",
      "165/165 [==============================] - 2s 10ms/step - loss: 1.5504 - accuracy: 0.3326 - val_loss: 1.5292 - val_accuracy: 0.3056\n",
      "Epoch 3/15\n",
      "165/165 [==============================] - 1s 9ms/step - loss: 1.2910 - accuracy: 0.3984 - val_loss: 1.4285 - val_accuracy: 0.3387\n",
      "Epoch 4/15\n",
      "165/165 [==============================] - 2s 9ms/step - loss: 1.1294 - accuracy: 0.4699 - val_loss: 1.5288 - val_accuracy: 0.3341\n",
      "Epoch 5/15\n",
      "165/165 [==============================] - 2s 10ms/step - loss: 1.0071 - accuracy: 0.5213 - val_loss: 1.5200 - val_accuracy: 0.3751\n",
      "Epoch 6/15\n",
      "165/165 [==============================] - 2s 10ms/step - loss: 0.8975 - accuracy: 0.5548 - val_loss: 1.6589 - val_accuracy: 0.3934\n",
      "Epoch 7/15\n",
      "165/165 [==============================] - 1s 8ms/step - loss: 0.8389 - accuracy: 0.6298 - val_loss: 1.6827 - val_accuracy: 0.4059\n",
      "Epoch 8/15\n",
      "165/165 [==============================] - 1s 9ms/step - loss: 0.7695 - accuracy: 0.6868 - val_loss: 1.8318 - val_accuracy: 0.4048\n",
      "Epoch 9/15\n",
      "165/165 [==============================] - 1s 8ms/step - loss: 0.6906 - accuracy: 0.7428 - val_loss: 1.8296 - val_accuracy: 0.4379\n",
      "Epoch 10/15\n",
      "165/165 [==============================] - 2s 10ms/step - loss: 0.6291 - accuracy: 0.7789 - val_loss: 1.8601 - val_accuracy: 0.4458\n",
      "Epoch 11/15\n",
      "165/165 [==============================] - 1s 9ms/step - loss: 0.5843 - accuracy: 0.8128 - val_loss: 1.9853 - val_accuracy: 0.4538\n",
      "Epoch 12/15\n",
      "165/165 [==============================] - 1s 9ms/step - loss: 0.5032 - accuracy: 0.8508 - val_loss: 2.0671 - val_accuracy: 0.4618\n",
      "Epoch 13/15\n",
      "165/165 [==============================] - 1s 8ms/step - loss: 0.4865 - accuracy: 0.8642 - val_loss: 1.9299 - val_accuracy: 0.4675\n",
      "Epoch 14/15\n",
      "165/165 [==============================] - 1s 8ms/step - loss: 0.4215 - accuracy: 0.8950 - val_loss: 2.0708 - val_accuracy: 0.4721\n",
      "Epoch 15/15\n",
      "165/165 [==============================] - 2s 9ms/step - loss: 0.3858 - accuracy: 0.9049 - val_loss: 2.0723 - val_accuracy: 0.4857\n"
     ]
    }
   ],
   "source": [
    "def make_model(X, y, vocab=vocab, embedding_length = 20):\n",
    "    model = Sequential()\n",
    "    model.add(Embedding(len(vocab.items())+1, embedding_length, input_length=X.shape[1]))\n",
    "    \n",
    "    # model-1\n",
    "    #model.add(LSTM(6, bias_regularizer=\"l2\", return_sequences=True))  # , dropout=.1\n",
    "    #model.add(LSTM(6, bias_regularizer=\"l2\")) #, dropout=.1\n",
    "    \n",
    "    # model-2\n",
    "    #model.add(Conv1D(filters=8, kernel_size=3, padding='same', activation='relu'))\n",
    "    #model.add(MaxPooling1D(pool_size=2))\n",
    "    #model.add(LSTM(6, activation='tanh', bias_regularizer=\"l2\",  return_sequences=True))\n",
    "    model.add(LSTM(16, activation='tanh', bias_regularizer=\"l2\")) #, dropout=.1\n",
    "\n",
    "    #model.add(Dropout(0.2))\n",
    "    model.add(Dense(y.shape[1], activation='softmax'))\n",
    "    opt = Adam(learning_rate=0.001)\n",
    "    model.compile(loss='categorical_crossentropy', optimizer=opt, metrics=['accuracy'])\n",
    "    return model\n",
    "\n",
    "model = make_model(X_train, y_train)\n",
    "history = model.fit(X_train, y_train, epochs=15, verbose=1, batch_size=16,\n",
    "                      validation_data=(X_val, y_val))"
   ]
  },
  {
   "cell_type": "code",
   "execution_count": 32,
   "metadata": {},
   "outputs": [
    {
     "data": {
      "image/png": "[encoded data removed]",
      "text/plain": [
       "<Figure size 864x288 with 2 Axes>"
      ]
     },
     "metadata": {
      "needs_background": "light"
     },
     "output_type": "display_data"
    }
   ],
   "source": [
    "plot_history(history)"
   ]
  },
  {
   "cell_type": "code",
   "execution_count": 33,
   "metadata": {},
   "outputs": [],
   "source": [
    "from sklearn.metrics import confusion_matrix"
   ]
  },
  {
   "cell_type": "code",
   "execution_count": 34,
   "metadata": {},
   "outputs": [],
   "source": [
    "ypred = model.predict(X_test)"
   ]
  },
  {
   "cell_type": "code",
   "execution_count": 35,
   "metadata": {},
   "outputs": [
    {
     "data": {
      "text/plain": [
       "array([2, 4, 0, 1, 1, 4, 1, 1, 3, 2, 2, 1, 0, 0, 4, 0, 0, 4, 0, 4, 1, 1,\n",
       "       3, 3, 2, 1, 0, 2, 2, 1, 2, 1, 1, 0, 2, 0, 1, 4, 2, 1, 1, 2, 4, 1,\n",
       "       1, 1, 0, 1, 2, 1, 4, 2, 1, 3, 4, 3, 3, 3, 2, 0, 3, 1, 3, 0, 4, 1,\n",
       "       2, 0, 4, 1, 3, 2, 2, 4, 0, 4, 4, 2, 3, 1, 3, 1, 4, 3, 0, 0, 1, 0,\n",
       "       4, 4, 1, 0, 1, 2, 3, 2, 0, 4, 0, 3, 1, 1, 1, 1, 2, 3, 4, 4, 3, 1,\n",
       "       4, 3, 4, 2, 1, 3, 0, 4, 2, 2, 2, 4, 0, 0, 0, 1, 4, 1, 0, 1, 2, 1,\n",
       "       3, 2, 0, 2, 4, 3, 0, 4, 0, 4, 3, 2, 4, 2, 4, 2, 3, 2, 0, 2, 1, 3,\n",
       "       4, 0, 1, 1, 1, 4, 0, 0, 1, 2, 1, 1, 3, 4, 2, 0, 1, 0, 1, 1, 0, 1,\n",
       "       0, 3, 3, 2, 2, 3, 4, 1, 2, 3, 1, 0, 2, 1, 4, 1, 4, 2, 1, 3, 1, 1,\n",
       "       4, 4, 4, 0, 4, 1, 2, 1, 3, 2, 0, 3, 1, 0, 3, 4, 0, 1, 0, 1, 3, 3,\n",
       "       2, 0, 1, 3, 4, 0, 4, 0, 3, 3, 3, 2, 2, 0, 0, 4, 1, 2, 0, 2, 2, 3,\n",
       "       3, 0, 3, 2, 4, 0, 1, 3, 4, 3, 4, 1, 1, 2, 4, 3, 4, 3, 1, 1, 1, 0,\n",
       "       3, 4, 2, 3, 2, 3, 1, 1, 2, 1, 4, 1, 0, 0, 0, 1, 3, 2, 0, 1, 1, 3,\n",
       "       0, 0, 2, 1, 3, 3, 4, 3, 2, 0, 0, 2, 3, 3, 1, 3, 0, 0, 0, 4, 3, 0,\n",
       "       3, 3, 2, 3, 0, 1, 0, 2, 0, 4, 0, 1, 1, 1, 3, 1, 2, 4, 0, 0, 0, 4,\n",
       "       2, 4, 0, 1, 0, 1, 3, 4, 3, 2, 4, 2, 0, 3, 4, 4, 3, 1, 1, 4, 1, 0,\n",
       "       3, 3, 3, 2, 2, 3, 3, 3, 0, 2, 2, 2, 1, 3, 3, 2, 4, 1, 4, 1, 0, 4,\n",
       "       0, 3, 3, 4, 1, 2, 4, 4, 4, 4, 3, 0, 1, 4, 2, 1, 1, 0, 4, 3, 3, 1,\n",
       "       1, 1, 2, 1, 2, 3, 3, 0, 0, 2, 1, 3, 4, 1, 4, 2, 3, 4, 3, 2, 1, 4,\n",
       "       2, 2, 4, 3, 2, 4, 4, 2, 0, 4, 4, 0, 4, 0, 2, 3, 4, 2, 1, 4, 0, 1,\n",
       "       3, 0, 0, 2, 0, 0, 2, 1, 3, 4, 0, 3, 0, 3, 4, 1, 4, 2, 2, 1, 1, 3,\n",
       "       4, 2, 0, 3, 0, 0, 0, 1, 0, 1, 1, 1, 2, 4, 1, 0, 4, 1, 1, 0, 0, 1,\n",
       "       1, 1, 1, 0, 1, 4, 4, 4, 1, 2, 2, 1, 3, 4, 1, 3, 3, 2, 4, 2, 4, 1,\n",
       "       0, 2, 4, 0, 0, 4, 2, 4, 1, 2, 4, 1, 1, 3, 4, 0, 3, 4, 0, 4, 3, 0,\n",
       "       1, 2, 0, 2, 0, 0, 4, 4, 2, 0, 1, 4, 4, 0, 4, 4, 3, 3, 3, 0, 4, 0,\n",
       "       1, 2, 1, 3, 3, 4, 1, 0, 0, 0, 3, 2, 4, 2, 4, 3, 2, 4, 2, 2, 4, 2,\n",
       "       4, 3, 3, 3, 4, 3, 3, 1, 4, 2, 1, 1, 0, 4, 4, 4, 1, 1, 4, 4, 1, 2,\n",
       "       1, 4, 3, 1, 4, 3, 1, 2, 1, 2, 1, 0, 4, 4, 3, 0, 0, 1, 2, 4, 2, 0,\n",
       "       1, 4, 0, 2, 4, 2, 3, 0, 3, 1, 2, 3, 2, 3, 3, 3, 0, 3, 2, 2, 2, 4,\n",
       "       2, 3, 3, 2, 1, 1, 4, 2, 4, 1, 1, 4, 3, 3, 4, 2, 2, 0, 1, 2, 0, 0,\n",
       "       0, 2, 0, 3, 2, 0, 0, 4, 2, 2, 1, 1, 1, 1, 2, 2, 0, 3, 0, 4, 0, 3,\n",
       "       3, 4, 0, 4, 1, 0, 4, 1, 4, 4, 1, 0, 3, 2, 0, 4, 1, 1, 0, 2, 2, 3,\n",
       "       2, 0, 2, 1, 3, 2, 2, 0, 2, 3, 0, 0, 1, 0, 2, 4, 1, 1, 4, 0, 2, 4,\n",
       "       1, 0, 1, 2, 2, 2, 1, 0, 4, 4, 0, 3, 0, 4, 1, 1, 1, 2, 3, 3, 2, 3,\n",
       "       2, 0, 1, 2, 4, 3, 3, 2, 2, 3, 2, 2, 4, 4, 3, 0, 3, 1, 4, 0, 4, 3,\n",
       "       2, 2, 3, 4, 0, 4, 1, 4, 0, 3, 0, 3, 2, 2, 0, 4, 0, 0, 3, 4, 2, 1,\n",
       "       2, 0, 0, 2, 2, 0, 0, 3, 3, 1, 0, 2, 2, 4, 2, 4, 1, 3, 3, 2, 0, 0,\n",
       "       0, 4, 2, 1, 4, 2, 1, 2, 3, 2, 1, 4, 2, 3, 4, 4, 0, 0, 4, 3, 1, 3,\n",
       "       2, 4, 3, 0, 4, 2, 1, 2, 3, 0, 0, 3, 1, 1, 1, 0, 1, 3, 3, 3, 2, 0,\n",
       "       1, 0, 3, 1, 3, 4, 4, 1, 2, 2, 4, 4, 2, 2, 1, 2, 4, 2, 2])"
      ]
     },
     "execution_count": 35,
     "metadata": {},
     "output_type": "execute_result"
    }
   ],
   "source": [
    "np.argmax(y_test,axis=1)"
   ]
  },
  {
   "cell_type": "code",
   "execution_count": 36,
   "metadata": {},
   "outputs": [],
   "source": [
    "confusionmatrix=confusion_matrix(np.argmax(y_test,axis=1),np.argmax(ypred,axis=1))"
   ]
  },
  {
   "cell_type": "code",
   "execution_count": 37,
   "metadata": {},
   "outputs": [
    {
     "data": {
      "text/plain": [
       "array([[ 96,  19,  11,  35,  13],\n",
       "       [ 38,  87,  10,  30,  24],\n",
       "       [ 23,   7,  84,  49,  15],\n",
       "       [ 30,   9,  25,  68,  30],\n",
       "       [ 23,   3,  16,  27, 105]])"
      ]
     },
     "execution_count": 37,
     "metadata": {},
     "output_type": "execute_result"
    }
   ],
   "source": [
    "confusionmatrix"
   ]
  },
  {
   "cell_type": "code",
   "execution_count": 39,
   "metadata": {},
   "outputs": [
    {
     "data": {
      "image/png": "[encoded data removed]",
      "text/plain": [
       "<Figure size 432x288 with 2 Axes>"
      ]
     },
     "metadata": {
      "needs_background": "light"
     },
     "output_type": "display_data"
    }
   ],
   "source": [
    "sns.heatmap(confusionmatrix, cmap='viridis');"
   ]
  },
  {
   "cell_type": "markdown",
   "metadata": {},
   "source": [
    "## Model saving"
   ]
  },
  {
   "cell_type": "code",
   "execution_count": 40,
   "metadata": {},
   "outputs": [
    {
     "name": "stdout",
     "output_type": "stream",
     "text": [
      "WARNING:tensorflow:From /usr/local/lib/python3.8/site-packages/tensorflow/python/training/tracking/tracking.py:111: Model.state_updates (from tensorflow.python.keras.engine.training) is deprecated and will be removed in a future version.\n",
      "Instructions for updating:\n",
      "This property should not be used in TensorFlow 2.0, as updates are applied automatically.\n",
      "WARNING:tensorflow:From /usr/local/lib/python3.8/site-packages/tensorflow/python/training/tracking/tracking.py:111: Layer.updates (from tensorflow.python.keras.engine.base_layer) is deprecated and will be removed in a future version.\n",
      "Instructions for updating:\n",
      "This property should not be used in TensorFlow 2.0, as updates are applied automatically.\n",
      "INFO:tensorflow:Assets written to: model_multiclass/assets\n"
     ]
    }
   ],
   "source": [
    "# save model and other important things\n",
    "model.save('model_multiclass')"
   ]
  },
  {
   "cell_type": "code",
   "execution_count": 41,
   "metadata": {},
   "outputs": [],
   "source": [
    "import json\n",
    "with open('vocab.json', 'w') as fp:\n",
    "    json.dump(vocab, fp)"
   ]
  },
  {
   "cell_type": "code",
   "execution_count": 42,
   "metadata": {},
   "outputs": [],
   "source": [
    "import json\n",
    "with open('words.json', 'w') as fp:\n",
    "    json.dump(filtered_words, fp)"
   ]
  },
  {
   "cell_type": "code",
   "execution_count": 43,
   "metadata": {},
   "outputs": [],
   "source": [
    "# loading the saved model, vocab, filtered_words\n",
    "from tensorflow import keras\n",
    "model = keras.models.load_model('./model_multiclass')"
   ]
  },
  {
   "cell_type": "code",
   "execution_count": 44,
   "metadata": {},
   "outputs": [],
   "source": [
    "with open('vocab.json', 'r') as fp:\n",
    "    vocab = json.load(fp)\n",
    "    \n",
    "with open('words.json', 'r') as fp:\n",
    "    filtered_words = json.load(fp)\n"
   ]
  },
  {
   "cell_type": "markdown",
   "metadata": {},
   "source": [
    "## Predictions"
   ]
  },
  {
   "cell_type": "code",
   "execution_count": 47,
   "metadata": {},
   "outputs": [],
   "source": [
    "def Prediction(text, model=model, vocab=vocab, filtered_words=filtered_words):\n",
    "    # prepare the input text\n",
    "    #text = \"Google is working on self driving cars, I'm bullish on $goog\"\n",
    "    tokens = preprocess_twt(text)\n",
    "    tokens = [word for word in tokens if word in filtered_words]\n",
    "    tokens = [vocab[word] for word in tokens] \n",
    "    X_input = np.array(pad_list(tokens, MAX_SEQUENCE_LEN)).reshape(1,-1)\n",
    "    \n",
    "    y_out = model.predict(X_input)\n",
    "    sentiment = np.argmax(y_out,axis=1)[0]+1 # to make it 1 to 5\n",
    "    \n",
    "    print (f\"The following Tweet\\n\\n {text} \\n\\n\\\n",
    "    has a number {sentiment} sentiment on a scale of 1 to 5\")\n"
   ]
  },
  {
   "cell_type": "code",
   "execution_count": 48,
   "metadata": {
    "scrolled": true
   },
   "outputs": [
    {
     "name": "stdout",
     "output_type": "stream",
     "text": [
      "The following Tweet\n",
      "\n",
      "  $AAPL had a big increase. I am really happy for this. \n",
      "\n",
      "    has a number 1 sentiment on a scale of 1 to 5\n"
     ]
    }
   ],
   "source": [
    "#text = \"Google is working on self driving cars, I'm bullish on $goog\"\n",
    "text = \" $AAPL had a big increase. I am really happy for this.\"\n",
    "#text = \" Sad to see the stocks going down.\"\n",
    "\n",
    "Prediction(text)"
   ]
  },
  {
   "cell_type": "code",
   "execution_count": null,
   "metadata": {},
   "outputs": [],
   "source": []
  },
  {
   "cell_type": "code",
   "execution_count": null,
   "metadata": {},
   "outputs": [],
   "source": []
  }
 ],
 "metadata": {
  "kernelspec": {
   "display_name": "Python 3",
   "language": "python",
   "name": "python3"
  },
  "language_info": {
   "codemirror_mode": {
    "name": "ipython",
    "version": 3
   },
   "file_extension": ".py",
   "mimetype": "text/x-python",
   "name": "python",
   "nbconvert_exporter": "python",
   "pygments_lexer": "ipython3",
   "version": "3.8.5"
  }
 },
 "nbformat": 4,
 "nbformat_minor": 4
}
