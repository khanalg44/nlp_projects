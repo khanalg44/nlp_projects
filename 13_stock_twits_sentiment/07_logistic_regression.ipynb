{
 "cells": [
  {
   "cell_type": "markdown",
   "metadata": {},
   "source": [
    "# Sentiment Analysis on StockTwits"
   ]
  },
  {
   "cell_type": "code",
   "execution_count": 1,
   "metadata": {},
   "outputs": [],
   "source": [
    "import numpy as np\n",
    "import pandas as pd\n",
    "import pylab as plt\n",
    "import seaborn as sns\n",
    "\n",
    "import json, re\n",
    "from nltk.corpus import stopwords\n",
    "from nltk.stem import PorterStemmer\n",
    "\n",
    "from scipy import sparse as sp_sparse\n",
    "\n",
    "from sklearn.model_selection import train_test_split\n",
    "\n",
    "data_dir = '../nlp_datasets/13_twitter_sentiment/'"
   ]
  },
  {
   "cell_type": "code",
   "execution_count": 2,
   "metadata": {},
   "outputs": [],
   "source": [
    "def load_data():\n",
    "    with open(data_dir+'train_twits.json', 'r') as f:\n",
    "        twits = json.load(f)\n",
    "    df = pd.DataFrame(twits['data'])\n",
    "    return df\n",
    "    \n",
    "data = load_data()"
   ]
  },
  {
   "cell_type": "code",
   "execution_count": 3,
   "metadata": {},
   "outputs": [
    {
     "name": "stdout",
     "output_type": "stream",
     "text": [
      "data shape:(1548010, 3)\n"
     ]
    },
    {
     "data": {
      "text/html": [
       "<div>\n",
       "<style scoped>\n",
       "    .dataframe tbody tr th:only-of-type {\n",
       "        vertical-align: middle;\n",
       "    }\n",
       "\n",
       "    .dataframe tbody tr th {\n",
       "        vertical-align: top;\n",
       "    }\n",
       "\n",
       "    .dataframe thead th {\n",
       "        text-align: right;\n",
       "    }\n",
       "</style>\n",
       "<table border=\"1\" class=\"dataframe\">\n",
       "  <thead>\n",
       "    <tr style=\"text-align: right;\">\n",
       "      <th></th>\n",
       "      <th>message_body</th>\n",
       "      <th>sentiment</th>\n",
       "      <th>timestamp</th>\n",
       "    </tr>\n",
       "  </thead>\n",
       "  <tbody>\n",
       "    <tr>\n",
       "      <th>0</th>\n",
       "      <td>$FITB great buy at 26.00...ill wait</td>\n",
       "      <td>2</td>\n",
       "      <td>2018-07-01T00:00:09Z</td>\n",
       "    </tr>\n",
       "    <tr>\n",
       "      <th>1</th>\n",
       "      <td>@StockTwits $MSFT</td>\n",
       "      <td>1</td>\n",
       "      <td>2018-07-01T00:00:42Z</td>\n",
       "    </tr>\n",
       "  </tbody>\n",
       "</table>\n",
       "</div>"
      ],
      "text/plain": [
       "                          message_body  sentiment             timestamp\n",
       "0  $FITB great buy at 26.00...ill wait          2  2018-07-01T00:00:09Z\n",
       "1                    @StockTwits $MSFT          1  2018-07-01T00:00:42Z"
      ]
     },
     "execution_count": 3,
     "metadata": {},
     "output_type": "execute_result"
    }
   ],
   "source": [
    "print (f\"data shape:{data.shape}\")\n",
    "data.head(2)"
   ]
  },
  {
   "cell_type": "code",
   "execution_count": 4,
   "metadata": {},
   "outputs": [],
   "source": [
    "# cut the data short to make learning faster keep only 8010 of them\n",
    "#random_indices = np.random.choice(range(df.shape[0]), size=8010)\n",
    "#df = df.loc[random_indices]\n",
    "df_top = data.loc[:500000]"
   ]
  },
  {
   "cell_type": "code",
   "execution_count": 5,
   "metadata": {},
   "outputs": [
    {
     "name": "stdout",
     "output_type": "stream",
     "text": [
      "unique sentiments: [ 2  1  0 -2 -1]\n",
      "unique sentiments: [4 3 2 0 1]\n"
     ]
    },
    {
     "data": {
      "text/html": [
       "<div>\n",
       "<style scoped>\n",
       "    .dataframe tbody tr th:only-of-type {\n",
       "        vertical-align: middle;\n",
       "    }\n",
       "\n",
       "    .dataframe tbody tr th {\n",
       "        vertical-align: top;\n",
       "    }\n",
       "\n",
       "    .dataframe thead th {\n",
       "        text-align: right;\n",
       "    }\n",
       "</style>\n",
       "<table border=\"1\" class=\"dataframe\">\n",
       "  <thead>\n",
       "    <tr style=\"text-align: right;\">\n",
       "      <th></th>\n",
       "      <th>message_body</th>\n",
       "      <th>sentiment</th>\n",
       "      <th>timestamp</th>\n",
       "    </tr>\n",
       "  </thead>\n",
       "  <tbody>\n",
       "    <tr>\n",
       "      <th>0</th>\n",
       "      <td>$FITB great buy at 26.00...ill wait</td>\n",
       "      <td>4</td>\n",
       "      <td>2018-07-01T00:00:09Z</td>\n",
       "    </tr>\n",
       "    <tr>\n",
       "      <th>1</th>\n",
       "      <td>@StockTwits $MSFT</td>\n",
       "      <td>3</td>\n",
       "      <td>2018-07-01T00:00:42Z</td>\n",
       "    </tr>\n",
       "    <tr>\n",
       "      <th>2</th>\n",
       "      <td>#STAAnalystAlert for $TDG : Jefferies Maintain...</td>\n",
       "      <td>4</td>\n",
       "      <td>2018-07-01T00:01:24Z</td>\n",
       "    </tr>\n",
       "    <tr>\n",
       "      <th>3</th>\n",
       "      <td>$AMD I heard there’s a guy who knows someone w...</td>\n",
       "      <td>3</td>\n",
       "      <td>2018-07-01T00:01:47Z</td>\n",
       "    </tr>\n",
       "  </tbody>\n",
       "</table>\n",
       "</div>"
      ],
      "text/plain": [
       "                                        message_body  sentiment  \\\n",
       "0                $FITB great buy at 26.00...ill wait          4   \n",
       "1                                  @StockTwits $MSFT          3   \n",
       "2  #STAAnalystAlert for $TDG : Jefferies Maintain...          4   \n",
       "3  $AMD I heard there’s a guy who knows someone w...          3   \n",
       "\n",
       "              timestamp  \n",
       "0  2018-07-01T00:00:09Z  \n",
       "1  2018-07-01T00:00:42Z  \n",
       "2  2018-07-01T00:01:24Z  \n",
       "3  2018-07-01T00:01:47Z  "
      ]
     },
     "execution_count": 5,
     "metadata": {},
     "output_type": "execute_result"
    }
   ],
   "source": [
    "df= df_top.copy()\n",
    "\n",
    "print ('unique sentiments:', df.sentiment.unique() )\n",
    "# convert the labels to [0-4] instead of [-2, 2]\n",
    "df['sentiment'] = df['sentiment'].apply(lambda x:x+2)\n",
    "print ('unique sentiments:', df.sentiment.unique() )\n",
    "df.head(4)"
   ]
  },
  {
   "cell_type": "markdown",
   "metadata": {},
   "source": [
    "## Class (Im)balance"
   ]
  },
  {
   "cell_type": "code",
   "execution_count": 6,
   "metadata": {},
   "outputs": [
    {
     "data": {
      "image/png": "[encoded data removed]",
      "text/plain": [
       "<Figure size 576x288 with 1 Axes>"
      ]
     },
     "metadata": {
      "needs_background": "light"
     },
     "output_type": "display_data"
    }
   ],
   "source": [
    "fig, ax = plt.subplots(1,1,figsize=(8,4));\n",
    "sns.countplot(df['sentiment'], ax=ax);\n",
    "plt.xticks(fontsize='x-large');"
   ]
  },
  {
   "cell_type": "code",
   "execution_count": 7,
   "metadata": {},
   "outputs": [
    {
     "data": {
      "text/html": [
       "<div>\n",
       "<style scoped>\n",
       "    .dataframe tbody tr th:only-of-type {\n",
       "        vertical-align: middle;\n",
       "    }\n",
       "\n",
       "    .dataframe tbody tr th {\n",
       "        vertical-align: top;\n",
       "    }\n",
       "\n",
       "    .dataframe thead th {\n",
       "        text-align: right;\n",
       "    }\n",
       "</style>\n",
       "<table border=\"1\" class=\"dataframe\">\n",
       "  <thead>\n",
       "    <tr style=\"text-align: right;\">\n",
       "      <th></th>\n",
       "      <th>message_body</th>\n",
       "      <th>timestamp</th>\n",
       "      <th>ratio (pct)</th>\n",
       "    </tr>\n",
       "    <tr>\n",
       "      <th>sentiment</th>\n",
       "      <th></th>\n",
       "      <th></th>\n",
       "      <th></th>\n",
       "    </tr>\n",
       "  </thead>\n",
       "  <tbody>\n",
       "    <tr>\n",
       "      <th>0</th>\n",
       "      <td>39432</td>\n",
       "      <td>39432</td>\n",
       "      <td>7.886384</td>\n",
       "    </tr>\n",
       "    <tr>\n",
       "      <th>1</th>\n",
       "      <td>53511</td>\n",
       "      <td>53511</td>\n",
       "      <td>10.702179</td>\n",
       "    </tr>\n",
       "    <tr>\n",
       "      <th>2</th>\n",
       "      <td>231528</td>\n",
       "      <td>231528</td>\n",
       "      <td>46.305507</td>\n",
       "    </tr>\n",
       "    <tr>\n",
       "      <th>3</th>\n",
       "      <td>102804</td>\n",
       "      <td>102804</td>\n",
       "      <td>20.560759</td>\n",
       "    </tr>\n",
       "    <tr>\n",
       "      <th>4</th>\n",
       "      <td>72726</td>\n",
       "      <td>72726</td>\n",
       "      <td>14.545171</td>\n",
       "    </tr>\n",
       "  </tbody>\n",
       "</table>\n",
       "</div>"
      ],
      "text/plain": [
       "           message_body  timestamp  ratio (pct)\n",
       "sentiment                                      \n",
       "0                 39432      39432     7.886384\n",
       "1                 53511      53511    10.702179\n",
       "2                231528     231528    46.305507\n",
       "3                102804     102804    20.560759\n",
       "4                 72726      72726    14.545171"
      ]
     },
     "execution_count": 7,
     "metadata": {},
     "output_type": "execute_result"
    }
   ],
   "source": [
    "def find_counts(df):\n",
    "    df_counts =df.groupby(\"sentiment\", axis=0).count()\n",
    "    df_counts[\"ratio (pct)\"] = 100*df_counts[\"message_body\"]/sum(df_counts[\"message_body\"])\n",
    "    return df_counts\n",
    "\n",
    "find_counts(df)"
   ]
  },
  {
   "cell_type": "code",
   "execution_count": 8,
   "metadata": {},
   "outputs": [
    {
     "name": "stdout",
     "output_type": "stream",
     "text": [
      "initial counts for each classes: {2: 231528, 3: 102804, 4: 72726, 1: 53511, 0: 39432}\n",
      "min_index: 0 min count: 39432\n"
     ]
    },
    {
     "data": {
      "text/html": [
       "<div>\n",
       "<style scoped>\n",
       "    .dataframe tbody tr th:only-of-type {\n",
       "        vertical-align: middle;\n",
       "    }\n",
       "\n",
       "    .dataframe tbody tr th {\n",
       "        vertical-align: top;\n",
       "    }\n",
       "\n",
       "    .dataframe thead th {\n",
       "        text-align: right;\n",
       "    }\n",
       "</style>\n",
       "<table border=\"1\" class=\"dataframe\">\n",
       "  <thead>\n",
       "    <tr style=\"text-align: right;\">\n",
       "      <th></th>\n",
       "      <th>message_body</th>\n",
       "      <th>timestamp</th>\n",
       "      <th>ratio (pct)</th>\n",
       "    </tr>\n",
       "    <tr>\n",
       "      <th>sentiment</th>\n",
       "      <th></th>\n",
       "      <th></th>\n",
       "      <th></th>\n",
       "    </tr>\n",
       "  </thead>\n",
       "  <tbody>\n",
       "    <tr>\n",
       "      <th>0</th>\n",
       "      <td>39432</td>\n",
       "      <td>39432</td>\n",
       "      <td>20.0</td>\n",
       "    </tr>\n",
       "    <tr>\n",
       "      <th>1</th>\n",
       "      <td>39432</td>\n",
       "      <td>39432</td>\n",
       "      <td>20.0</td>\n",
       "    </tr>\n",
       "    <tr>\n",
       "      <th>2</th>\n",
       "      <td>39432</td>\n",
       "      <td>39432</td>\n",
       "      <td>20.0</td>\n",
       "    </tr>\n",
       "    <tr>\n",
       "      <th>3</th>\n",
       "      <td>39432</td>\n",
       "      <td>39432</td>\n",
       "      <td>20.0</td>\n",
       "    </tr>\n",
       "    <tr>\n",
       "      <th>4</th>\n",
       "      <td>39432</td>\n",
       "      <td>39432</td>\n",
       "      <td>20.0</td>\n",
       "    </tr>\n",
       "  </tbody>\n",
       "</table>\n",
       "</div>"
      ],
      "text/plain": [
       "           message_body  timestamp  ratio (pct)\n",
       "sentiment                                      \n",
       "0                 39432      39432         20.0\n",
       "1                 39432      39432         20.0\n",
       "2                 39432      39432         20.0\n",
       "3                 39432      39432         20.0\n",
       "4                 39432      39432         20.0"
      ]
     },
     "execution_count": 8,
     "metadata": {},
     "output_type": "execute_result"
    }
   ],
   "source": [
    "def balance_class(df, col='sentiment'):\n",
    "    dfb=df.copy()\n",
    "    counts = dict(dfb[col].value_counts())\n",
    "    print (\"initial counts for each classes:\", counts)\n",
    "    min_count = min(counts.values())\n",
    "    min_indx  = [k for k in counts.keys() if counts[k]==min_count][0]\n",
    "    print (\"min_index:\", min_indx, \"min count:\", min_count)\n",
    "\n",
    "    for s in dfb[col].unique():\n",
    "        delete_after = dfb[dfb[col]==min_indx].shape[0] \n",
    "        indices_to_delete = dfb[dfb[col]==s].index.values[delete_after:]\n",
    "        dfb = dfb.drop(index=indices_to_delete, axis=0)\n",
    "    return dfb\n",
    "\n",
    "df=balance_class(df, col='sentiment')\n",
    "find_counts(df)\n"
   ]
  },
  {
   "cell_type": "code",
   "execution_count": 9,
   "metadata": {},
   "outputs": [
    {
     "data": {
      "image/png": "[encoded data removed]",
      "text/plain": [
       "<Figure size 576x288 with 1 Axes>"
      ]
     },
     "metadata": {
      "needs_background": "light"
     },
     "output_type": "display_data"
    }
   ],
   "source": [
    "fig, ax = plt.subplots(1,1,figsize=(8,4));\n",
    "sns.countplot(df['sentiment'], ax=ax);\n",
    "plt.xticks(fontsize='x-large');"
   ]
  },
  {
   "cell_type": "code",
   "execution_count": 10,
   "metadata": {},
   "outputs": [],
   "source": [
    "import re\n",
    "\n",
    "STOPWORDS = set(stopwords.words('english'))\n",
    "\n",
    "def text_prepare(text):\n",
    "    text = text.lower() # lowercase text\n",
    "    text = re.sub(r'https?://\\S+', ' ', text)# Replace URLs with a space\n",
    "    text = re.sub(r'\\$\\S+', ' ', text)       # Replace ticker symbols with a space\n",
    "    text = re.sub(r'\\@\\S+', ' ', text)       # Replace StockTwits usernames with a space.\n",
    "    text = re.sub(r'[^a-zA-Z]', ' ', text)   # Replace everything not a letter with a space        \n",
    "    text = ' '.join([word for word in text.split() if word not in STOPWORDS]) # delete stopwors from text\n",
    "    return text"
   ]
  },
  {
   "cell_type": "code",
   "execution_count": 11,
   "metadata": {},
   "outputs": [
    {
     "data": {
      "text/html": [
       "<div>\n",
       "<style scoped>\n",
       "    .dataframe tbody tr th:only-of-type {\n",
       "        vertical-align: middle;\n",
       "    }\n",
       "\n",
       "    .dataframe tbody tr th {\n",
       "        vertical-align: top;\n",
       "    }\n",
       "\n",
       "    .dataframe thead th {\n",
       "        text-align: right;\n",
       "    }\n",
       "</style>\n",
       "<table border=\"1\" class=\"dataframe\">\n",
       "  <thead>\n",
       "    <tr style=\"text-align: right;\">\n",
       "      <th></th>\n",
       "      <th>message_body</th>\n",
       "      <th>sentiment</th>\n",
       "      <th>timestamp</th>\n",
       "      <th>message_processed</th>\n",
       "    </tr>\n",
       "  </thead>\n",
       "  <tbody>\n",
       "    <tr>\n",
       "      <th>0</th>\n",
       "      <td>$FITB great buy at 26.00...ill wait</td>\n",
       "      <td>4</td>\n",
       "      <td>2018-07-01T00:00:09Z</td>\n",
       "      <td>great buy ill wait</td>\n",
       "    </tr>\n",
       "    <tr>\n",
       "      <th>1</th>\n",
       "      <td>@StockTwits $MSFT</td>\n",
       "      <td>3</td>\n",
       "      <td>2018-07-01T00:00:42Z</td>\n",
       "      <td></td>\n",
       "    </tr>\n",
       "  </tbody>\n",
       "</table>\n",
       "</div>"
      ],
      "text/plain": [
       "                          message_body  sentiment             timestamp  \\\n",
       "0  $FITB great buy at 26.00...ill wait          4  2018-07-01T00:00:09Z   \n",
       "1                    @StockTwits $MSFT          3  2018-07-01T00:00:42Z   \n",
       "\n",
       "    message_processed  \n",
       "0  great buy ill wait  \n",
       "1                      "
      ]
     },
     "execution_count": 11,
     "metadata": {},
     "output_type": "execute_result"
    }
   ],
   "source": [
    "df['message_processed'] = df['message_body'].apply(text_prepare)\n",
    "df.head(2)"
   ]
  },
  {
   "cell_type": "code",
   "execution_count": 12,
   "metadata": {},
   "outputs": [],
   "source": [
    "def split_data(data):\n",
    "    df_train_, df_test = train_test_split(data, test_size=0.2)\n",
    "    df_train, df_val = train_test_split(data, test_size=0.25)\n",
    "    return df_train, df_val, df_test\n",
    "\n",
    "df_train, df_val, df_test = split_data(df)"
   ]
  },
  {
   "cell_type": "code",
   "execution_count": 13,
   "metadata": {},
   "outputs": [
    {
     "data": {
      "text/html": [
       "<div>\n",
       "<style scoped>\n",
       "    .dataframe tbody tr th:only-of-type {\n",
       "        vertical-align: middle;\n",
       "    }\n",
       "\n",
       "    .dataframe tbody tr th {\n",
       "        vertical-align: top;\n",
       "    }\n",
       "\n",
       "    .dataframe thead th {\n",
       "        text-align: right;\n",
       "    }\n",
       "</style>\n",
       "<table border=\"1\" class=\"dataframe\">\n",
       "  <thead>\n",
       "    <tr style=\"text-align: right;\">\n",
       "      <th></th>\n",
       "      <th>message_body</th>\n",
       "      <th>sentiment</th>\n",
       "      <th>timestamp</th>\n",
       "      <th>message_processed</th>\n",
       "    </tr>\n",
       "  </thead>\n",
       "  <tbody>\n",
       "    <tr>\n",
       "      <th>135694</th>\n",
       "      <td>$MU  The Esports Boom Is a Memory Boom https:/...</td>\n",
       "      <td>4</td>\n",
       "      <td>2018-07-17T01:08:01Z</td>\n",
       "      <td>esports boom memory boom</td>\n",
       "    </tr>\n",
       "    <tr>\n",
       "      <th>341548</th>\n",
       "      <td>$FB lets see if it spikes up just before open ...</td>\n",
       "      <td>1</td>\n",
       "      <td>2018-07-30T13:07:56Z</td>\n",
       "      <td>lets see spikes open like last sessions</td>\n",
       "    </tr>\n",
       "  </tbody>\n",
       "</table>\n",
       "</div>"
      ],
      "text/plain": [
       "                                             message_body  sentiment  \\\n",
       "135694  $MU  The Esports Boom Is a Memory Boom https:/...          4   \n",
       "341548  $FB lets see if it spikes up just before open ...          1   \n",
       "\n",
       "                   timestamp                        message_processed  \n",
       "135694  2018-07-17T01:08:01Z                 esports boom memory boom  \n",
       "341548  2018-07-30T13:07:56Z  lets see spikes open like last sessions  "
      ]
     },
     "execution_count": 13,
     "metadata": {},
     "output_type": "execute_result"
    }
   ],
   "source": [
    "df_train.head(2)"
   ]
  },
  {
   "cell_type": "code",
   "execution_count": 14,
   "metadata": {},
   "outputs": [
    {
     "data": {
      "text/html": [
       "<div>\n",
       "<style scoped>\n",
       "    .dataframe tbody tr th:only-of-type {\n",
       "        vertical-align: middle;\n",
       "    }\n",
       "\n",
       "    .dataframe tbody tr th {\n",
       "        vertical-align: top;\n",
       "    }\n",
       "\n",
       "    .dataframe thead th {\n",
       "        text-align: right;\n",
       "    }\n",
       "</style>\n",
       "<table border=\"1\" class=\"dataframe\">\n",
       "  <thead>\n",
       "    <tr style=\"text-align: right;\">\n",
       "      <th></th>\n",
       "      <th>message_body</th>\n",
       "      <th>sentiment</th>\n",
       "      <th>timestamp</th>\n",
       "      <th>message_processed</th>\n",
       "    </tr>\n",
       "  </thead>\n",
       "  <tbody>\n",
       "    <tr>\n",
       "      <th>162211</th>\n",
       "      <td>$NFLX Limited upside probability. High downsid...</td>\n",
       "      <td>1</td>\n",
       "      <td>2018-07-18T15:29:52Z</td>\n",
       "      <td>limited upside probability high downside proba...</td>\n",
       "    </tr>\n",
       "    <tr>\n",
       "      <th>3406</th>\n",
       "      <td>$CMA analysts on Estimize are expecting 6.78% ...</td>\n",
       "      <td>1</td>\n",
       "      <td>2018-07-02T12:06:27Z</td>\n",
       "      <td>analysts estimize expecting yoy revenue growth...</td>\n",
       "    </tr>\n",
       "  </tbody>\n",
       "</table>\n",
       "</div>"
      ],
      "text/plain": [
       "                                             message_body  sentiment  \\\n",
       "162211  $NFLX Limited upside probability. High downsid...          1   \n",
       "3406    $CMA analysts on Estimize are expecting 6.78% ...          1   \n",
       "\n",
       "                   timestamp  \\\n",
       "162211  2018-07-18T15:29:52Z   \n",
       "3406    2018-07-02T12:06:27Z   \n",
       "\n",
       "                                        message_processed  \n",
       "162211  limited upside probability high downside proba...  \n",
       "3406    analysts estimize expecting yoy revenue growth...  "
      ]
     },
     "execution_count": 14,
     "metadata": {},
     "output_type": "execute_result"
    }
   ],
   "source": [
    "df_test.head(2)"
   ]
  },
  {
   "cell_type": "markdown",
   "metadata": {},
   "source": [
    "## Data Preprocessing\n"
   ]
  },
  {
   "cell_type": "code",
   "execution_count": 15,
   "metadata": {},
   "outputs": [],
   "source": [
    "from collections import Counter\n",
    "\n",
    "ALL_WORDS = [word for message in df_train['message_processed'] for word in message.split()]\n",
    "words_counts = Counter(ALL_WORDS)"
   ]
  },
  {
   "cell_type": "code",
   "execution_count": 16,
   "metadata": {},
   "outputs": [
    {
     "name": "stdout",
     "output_type": "stream",
     "text": [
      "The top 3 words: [('short', 11228), ('buy', 8660), ('q', 8146)]\n"
     ]
    }
   ],
   "source": [
    "print ( 'The top 3 words:', words_counts.most_common(3) )"
   ]
  },
  {
   "cell_type": "code",
   "execution_count": 17,
   "metadata": {},
   "outputs": [],
   "source": [
    "words_counts_sorted = sorted(words_counts.items(), key=lambda x: x[1], reverse=True)"
   ]
  },
  {
   "cell_type": "code",
   "execution_count": 18,
   "metadata": {},
   "outputs": [],
   "source": [
    "DICT_SIZE = 1000\n",
    "VOCAB = words_counts.most_common(DICT_SIZE)  # already sorted\n",
    "WORDS_TO_INDEX = {item[0]:ii for ii, item in enumerate(VOCAB) }\n",
    "INDEX_TO_WORDS = {ii:word for word, ii in WORDS_TO_INDEX.items()}"
   ]
  },
  {
   "cell_type": "code",
   "execution_count": 19,
   "metadata": {},
   "outputs": [
    {
     "name": "stdout",
     "output_type": "stream",
     "text": [
      "Top 5 items in WORDS_TO_INDEX\n",
      "short : 0\n",
      "buy : 1\n",
      "q : 2\n",
      "today : 3\n",
      "stock : 4\n",
      "\n",
      "Top 5 items in INDEX_TO_WORDS\n",
      "0 : short\n",
      "1 : buy\n",
      "2 : q\n",
      "3 : today\n",
      "4 : stock\n"
     ]
    }
   ],
   "source": [
    "print (\"Top 5 items in WORDS_TO_INDEX\")\n",
    "for k in list(WORDS_TO_INDEX.keys())[:5]:\n",
    "    print (k, \":\" ,WORDS_TO_INDEX[k])\n",
    "\n",
    "\n",
    "print (\"\\nTop 5 items in INDEX_TO_WORDS\")\n",
    "for k in list(INDEX_TO_WORDS.keys())[:5]:\n",
    "    print (k, \":\" ,INDEX_TO_WORDS[k])"
   ]
  },
  {
   "cell_type": "markdown",
   "metadata": {},
   "source": [
    "### Convert labels to categorical "
   ]
  },
  {
   "cell_type": "code",
   "execution_count": 20,
   "metadata": {},
   "outputs": [],
   "source": [
    "from sklearn.preprocessing import OneHotEncoder\n",
    "from sklearn.preprocessing import LabelEncoder\n",
    "\n",
    "onehot_encoder=OneHotEncoder(sparse=False)\n",
    "y_train = onehot_encoder.fit_transform(np.array(df_train['sentiment'].values).reshape(-1,1))\n",
    "y_val = onehot_encoder.transform(np.array(df_val['sentiment'].values).reshape(-1,1))\n",
    "y_test = onehot_encoder.transform(np.array(df_test['sentiment'].values).reshape(-1,1))\n"
   ]
  },
  {
   "cell_type": "markdown",
   "metadata": {},
   "source": [
    "## Bag of Words (BoW) method"
   ]
  },
  {
   "cell_type": "code",
   "execution_count": 21,
   "metadata": {},
   "outputs": [
    {
     "name": "stdout",
     "output_type": "stream",
     "text": [
      "Bow Method\n",
      "X_train shape  (147870, 1000)\n",
      "X_val shape  (49290, 1000)\n",
      "X_test shape  (39432, 1000)\n"
     ]
    }
   ],
   "source": [
    "def my_bag_of_words(text, words_to_index, dict_size):\n",
    "    result_vec = np.zeros(dict_size)\n",
    "    for word in text.split():\n",
    "        if word in words_to_index:\n",
    "            result_vec[words_to_index[word]] +=1\n",
    "    return result_vec\n",
    "        \n",
    "X_train_mybag = sp_sparse.vstack([sp_sparse.csr_matrix(my_bag_of_words(text, WORDS_TO_INDEX, DICT_SIZE)) for text in df_train['message_processed']])\n",
    "X_val_mybag = sp_sparse.vstack([sp_sparse.csr_matrix(my_bag_of_words(text, WORDS_TO_INDEX, DICT_SIZE)) for text in df_val['message_processed']])\n",
    "X_test_mybag = sp_sparse.vstack([sp_sparse.csr_matrix(my_bag_of_words(text, WORDS_TO_INDEX, DICT_SIZE)) for text in df_test['message_processed']])\n",
    "print (\"Bow Method\")\n",
    "print('X_train shape ', X_train_mybag.shape)\n",
    "print('X_val shape ', X_val_mybag.shape)\n",
    "print('X_test shape ', X_test_mybag.shape)\n"
   ]
  },
  {
   "cell_type": "markdown",
   "metadata": {},
   "source": [
    "## TF-IDF method"
   ]
  },
  {
   "cell_type": "code",
   "execution_count": 22,
   "metadata": {},
   "outputs": [],
   "source": [
    "from sklearn.feature_extraction.text import TfidfVectorizer\n",
    "\n",
    "def tfidf_features(X_train, X_val, X_test):\n",
    "    # max_df and min_df is to filter out too frequent and too rare words\n",
    "    tfidf_vectorizer = TfidfVectorizer(ngram_range=(1,2),\n",
    "                                 max_df=0.9, min_df=5,\n",
    "                                 token_pattern='(\\S+)' )\n",
    "    \n",
    "    X_train_tfidf = tfidf_vectorizer.fit_transform(X_train)\n",
    "    X_val_tfidf = tfidf_vectorizer.transform(X_val)\n",
    "    X_test_tfidf = tfidf_vectorizer.transform(X_test)\n",
    "    \n",
    "    return (X_train_tfidf, X_val_tfidf, X_test_tfidf, tfidf_vectorizer )\n"
   ]
  },
  {
   "cell_type": "code",
   "execution_count": 23,
   "metadata": {},
   "outputs": [],
   "source": [
    "X_train_tfidf, X_val_tfidf, X_test_tfidf, tfidf_vectorizer = tfidf_features(df_train['message_processed'],\n",
    "                                                                       df_val['message_processed'],\n",
    "                                                                       df_test['message_processed'])\n"
   ]
  },
  {
   "cell_type": "code",
   "execution_count": 24,
   "metadata": {},
   "outputs": [],
   "source": [
    "from sklearn.multiclass import OneVsRestClassifier\n",
    "from sklearn.linear_model import LogisticRegression, RidgeClassifier\n",
    "\n",
    "def train_classifier(X_train, y_train):\n",
    "    model = OneVsRestClassifier(LogisticRegression(penalty='l2', C=1.0, max_iter=500))\n",
    "    model.fit(X_train, y_train)\n",
    "    return model\n",
    "\n",
    "clf_bow = train_classifier(X_train_mybag, y_train)\n",
    "clf_tfidf = train_classifier(X_train_tfidf, y_train)\n"
   ]
  },
  {
   "cell_type": "code",
   "execution_count": 25,
   "metadata": {},
   "outputs": [],
   "source": [
    "y_val_predicted_labels_mybag = clf_bow.predict(X_val_mybag)\n",
    "y_val_predicted_scores_mybag = clf_bow.decision_function(X_val_mybag)\n",
    "\n",
    "y_val_predicted_labels_tfidf = clf_tfidf.predict(X_val_tfidf)\n",
    "y_val_predicted_scores_tfidf = clf_tfidf.decision_function(X_val_tfidf)\n"
   ]
  },
  {
   "cell_type": "code",
   "execution_count": 26,
   "metadata": {},
   "outputs": [],
   "source": [
    "y_val_labels_mybag = np.argmax(y_val_predicted_scores_mybag, axis=1)\n",
    "y_val_labels_tfidf = np.argmax(y_val_predicted_scores_tfidf, axis=1)"
   ]
  },
  {
   "cell_type": "code",
   "execution_count": 27,
   "metadata": {},
   "outputs": [],
   "source": [
    "# Accuracy measures\n",
    "y_val_actual = df_val['sentiment']"
   ]
  },
  {
   "cell_type": "code",
   "execution_count": 28,
   "metadata": {},
   "outputs": [
    {
     "name": "stdout",
     "output_type": "stream",
     "text": [
      "Bag of Words method:\n",
      "Accuracy score: 58.67 \n",
      "f1 score: 58.00\n",
      "\n",
      "TFIDF method:\n",
      "Accuracy score: 63.82 \n",
      "f1 score: 63.52\n"
     ]
    }
   ],
   "source": [
    "from sklearn.metrics import accuracy_score\n",
    "from sklearn.metrics import f1_score   #  extra arguement 'average' is required for multiclass/multilabel targets.\n",
    "from sklearn.metrics import roc_auc_score \n",
    "from sklearn.metrics import recall_score\n",
    "\n",
    "def print_evaluation_scores(y_actual, y_pred):\n",
    "    print ( f\"Accuracy score: %1.2f \" % (100*accuracy_score(y_actual, y_pred)) )\n",
    "    print ( f\"f1 score: %1.2f\" % (100*f1_score(y_actual, y_pred, average='macro')) )\n",
    "    \n",
    "print (\"Bag of Words method:\")\n",
    "print_evaluation_scores(y_val_actual, y_val_labels_mybag)\n",
    "\n",
    "print (\"\\nTFIDF method:\")\n",
    "print_evaluation_scores(y_val_actual, y_val_labels_tfidf)"
   ]
  },
  {
   "cell_type": "code",
   "execution_count": 29,
   "metadata": {
    "scrolled": false
   },
   "outputs": [
    {
     "name": "stdout",
     "output_type": "stream",
     "text": [
      "7\n"
     ]
    },
    {
     "data": {
      "image/png": "[encoded data removed]",
      "text/plain": [
       "<Figure size 720x432 with 1 Axes>"
      ]
     },
     "metadata": {
      "needs_background": "light"
     },
     "output_type": "display_data"
    }
   ],
   "source": [
    "from sklearn.metrics import roc_curve, auc \n",
    "from numpy import interp\n",
    "from itertools import cycle\n",
    "\n",
    "\n",
    "fpr = {}\n",
    "tpr = {}\n",
    "roc_auc = {}\n",
    "n_classes = 5\n",
    "for i in range(n_classes):\n",
    "    fpr[i], tpr[i], _ = roc_curve( y_val_predicted_labels_tfidf[:, i], y_val[:,i] ) \n",
    "    roc_auc[i] = auc(fpr[i], tpr[i] )\n",
    "\n",
    "# Compute micro-average ROC curve and ROC area\n",
    "fpr[\"micro\"], tpr[\"micro\"], _ = roc_curve(y_val_predicted_labels_tfidf.ravel(), y_val.ravel())\n",
    "roc_auc[\"micro\"] = auc(fpr[\"micro\"], tpr[\"micro\"])\n",
    "\n",
    "all_fpr  = np.unique(np.concatenate([fpr[i] for i in range(n_classes)]))\n",
    "mean_tpr = np.zeros_like(all_fpr)\n",
    "\n",
    "for i in range(n_classes):\n",
    "    mean_tpr += interp(all_fpr, fpr[i], tpr[i])\n",
    "    \n",
    "mean_tpr /= n_classes \n",
    "\n",
    "print ( len(all_fpr) )\n",
    "\n",
    "plt.figure(figsize=(10, 6))\n",
    "plt.plot(all_fpr, mean_tpr, '-o',\n",
    "         label='micro-average ROC curve (area = {0:0.2f})'.format(roc_auc[\"micro\"]))\n",
    "plt.plot([0,1], [0,1], ls='--', lw=2., color='k', label=\"area=0.5 Curve\")\n",
    "plt.xlim(0,1)\n",
    "plt.ylim(0,1)\n",
    "plt.xlabel('all_fpr', fontsize=\"x-large\")\n",
    "plt.ylabel('mean_tpr', fontsize=\"x-large\")\n",
    "plt.legend(fontsize='x-large', frameon=False);"
   ]
  },
  {
   "cell_type": "markdown",
   "metadata": {},
   "source": [
    "## Saving the models"
   ]
  },
  {
   "cell_type": "code",
   "execution_count": 30,
   "metadata": {},
   "outputs": [],
   "source": [
    "# saving model\n",
    "import pickle\n",
    "\n",
    "with open('model_LR_bow.pkl', 'wb') as fw:\n",
    "    pickle.dump(clf_bow, fw)\n",
    "    \n",
    "with open('model_LR_tfidf.pkl', 'wb') as fw:\n",
    "    pickle.dump(clf_tfidf, fw)\n",
    "    \n",
    "with open('vectorizer_tfidf.pkl', 'wb') as fw:\n",
    "    pickle.dump(tfidf_vectorizer, fw)"
   ]
  },
  {
   "cell_type": "markdown",
   "metadata": {},
   "source": [
    "## Predictions"
   ]
  },
  {
   "cell_type": "code",
   "execution_count": 31,
   "metadata": {},
   "outputs": [
    {
     "name": "stdout",
     "output_type": "stream",
     "text": [
      "The following tweet $AMD I heard there’s a guy who knows someone         who thinks somebody knows something - on StockTwits. \n",
      "\n",
      "has a neutral sentiment\n"
     ]
    }
   ],
   "source": [
    "def Prediction(txt, bow=True):\n",
    "    \n",
    "    model_tfidf = pickle.load(open('model_LR_tfidf.pkl', 'rb'))\n",
    "    model_bow = pickle.load(open('model_LR_bow.pkl', 'rb'))\n",
    "    tfidf_vec = pickle.load(open('vectorizer_tfidf.pkl', 'rb'))\n",
    "    \n",
    "    sentiment_dict = {0:'very bad', 1:'bad', 2:'neutral', \n",
    "                     3:'good', 4:'very good'}\n",
    "    \n",
    "    processed_text = text_prepare(txt)\n",
    "    #print (processed_text)\n",
    "    if bow:\n",
    "        x = my_bag_of_words(processed_text, WORDS_TO_INDEX, DICT_SIZE).reshape(1,-1)\n",
    "        pred = model_bow.predict(x)\n",
    "        \n",
    "    else:\n",
    "        x = tfidf_vectorizer.transform([processed_text])\n",
    "        VOCAB=tfidf_vec.vocabulary_\n",
    "        pred = model_tfidf.predict(x)\n",
    "        print (pred)\n",
    "        \n",
    "    print (f\"The following tweet {txt} \\n\\nhas a {sentiment_dict[np.argmax(pred)]} sentiment\")\n",
    "    \n",
    "txt = \"$AMD I heard there’s a guy who knows someone \\\n",
    "        who thinks somebody knows something - on StockTwits.\"\n",
    "\n",
    "Prediction(txt, bow=True)"
   ]
  },
  {
   "cell_type": "code",
   "execution_count": null,
   "metadata": {},
   "outputs": [],
   "source": []
  }
 ],
 "metadata": {
  "kernelspec": {
   "display_name": "Python 3",
   "language": "python",
   "name": "python3"
  },
  "language_info": {
   "codemirror_mode": {
    "name": "ipython",
    "version": 3
   },
   "file_extension": ".py",
   "mimetype": "text/x-python",
   "name": "python",
   "nbconvert_exporter": "python",
   "pygments_lexer": "ipython3",
   "version": "3.8.5"
  }
 },
 "nbformat": 4,
 "nbformat_minor": 4
}
