{
 "cells": [
  {
   "cell_type": "markdown",
   "metadata": {},
   "source": [
    "# Sentiment Analysis on Twiter data on Stocks"
   ]
  },
  {
   "cell_type": "code",
   "execution_count": 1,
   "metadata": {},
   "outputs": [],
   "source": [
    "import numpy as np\n",
    "import pandas as pd\n",
    "import pylab as plt\n",
    "import json, nltk\n",
    "import re\n",
    "\n",
    "data_dir = '../data/'"
   ]
  },
  {
   "cell_type": "code",
   "execution_count": 2,
   "metadata": {},
   "outputs": [],
   "source": [
    "def load_data():\n",
    "    with open(data_dir+'pr_06_twits.json', 'r') as f:\n",
    "        twits = json.load(f)\n",
    "    df = pd.DataFrame(twits['data'])\n",
    "    return df\n",
    "    \n",
    "data = load_data()"
   ]
  },
  {
   "cell_type": "code",
   "execution_count": 3,
   "metadata": {},
   "outputs": [
    {
     "name": "stdout",
     "output_type": "stream",
     "text": [
      "data shape:(1548010, 3)\n"
     ]
    },
    {
     "data": {
      "text/html": [
       "<div>\n",
       "<style scoped>\n",
       "    .dataframe tbody tr th:only-of-type {\n",
       "        vertical-align: middle;\n",
       "    }\n",
       "\n",
       "    .dataframe tbody tr th {\n",
       "        vertical-align: top;\n",
       "    }\n",
       "\n",
       "    .dataframe thead th {\n",
       "        text-align: right;\n",
       "    }\n",
       "</style>\n",
       "<table border=\"1\" class=\"dataframe\">\n",
       "  <thead>\n",
       "    <tr style=\"text-align: right;\">\n",
       "      <th></th>\n",
       "      <th>message_body</th>\n",
       "      <th>sentiment</th>\n",
       "      <th>timestamp</th>\n",
       "    </tr>\n",
       "  </thead>\n",
       "  <tbody>\n",
       "    <tr>\n",
       "      <th>0</th>\n",
       "      <td>$FITB great buy at 26.00...ill wait</td>\n",
       "      <td>2</td>\n",
       "      <td>2018-07-01T00:00:09Z</td>\n",
       "    </tr>\n",
       "    <tr>\n",
       "      <th>1</th>\n",
       "      <td>@StockTwits $MSFT</td>\n",
       "      <td>1</td>\n",
       "      <td>2018-07-01T00:00:42Z</td>\n",
       "    </tr>\n",
       "  </tbody>\n",
       "</table>\n",
       "</div>"
      ],
      "text/plain": [
       "                          message_body  sentiment             timestamp\n",
       "0  $FITB great buy at 26.00...ill wait          2  2018-07-01T00:00:09Z\n",
       "1                    @StockTwits $MSFT          1  2018-07-01T00:00:42Z"
      ]
     },
     "execution_count": 3,
     "metadata": {},
     "output_type": "execute_result"
    }
   ],
   "source": [
    "print (f\"data shape:{data.shape}\")\n",
    "data.head(2)"
   ]
  },
  {
   "cell_type": "code",
   "execution_count": 4,
   "metadata": {},
   "outputs": [],
   "source": [
    "# cut the data short to make learning faster keep only 8010 of them\n",
    "#random_indices = np.random.choice(range(df.shape[0]), size=8010)\n",
    "#df = df.loc[random_indices]\n",
    "df = data.loc[:10000]"
   ]
  },
  {
   "cell_type": "code",
   "execution_count": 5,
   "metadata": {},
   "outputs": [
    {
     "name": "stdout",
     "output_type": "stream",
     "text": [
      " new data shape:(10001, 3)\n"
     ]
    },
    {
     "data": {
      "text/html": [
       "<div>\n",
       "<style scoped>\n",
       "    .dataframe tbody tr th:only-of-type {\n",
       "        vertical-align: middle;\n",
       "    }\n",
       "\n",
       "    .dataframe tbody tr th {\n",
       "        vertical-align: top;\n",
       "    }\n",
       "\n",
       "    .dataframe thead th {\n",
       "        text-align: right;\n",
       "    }\n",
       "</style>\n",
       "<table border=\"1\" class=\"dataframe\">\n",
       "  <thead>\n",
       "    <tr style=\"text-align: right;\">\n",
       "      <th></th>\n",
       "      <th>message_body</th>\n",
       "      <th>sentiment</th>\n",
       "      <th>timestamp</th>\n",
       "    </tr>\n",
       "  </thead>\n",
       "  <tbody>\n",
       "    <tr>\n",
       "      <th>0</th>\n",
       "      <td>$FITB great buy at 26.00...ill wait</td>\n",
       "      <td>2</td>\n",
       "      <td>2018-07-01T00:00:09Z</td>\n",
       "    </tr>\n",
       "    <tr>\n",
       "      <th>1</th>\n",
       "      <td>@StockTwits $MSFT</td>\n",
       "      <td>1</td>\n",
       "      <td>2018-07-01T00:00:42Z</td>\n",
       "    </tr>\n",
       "  </tbody>\n",
       "</table>\n",
       "</div>"
      ],
      "text/plain": [
       "                          message_body  sentiment             timestamp\n",
       "0  $FITB great buy at 26.00...ill wait          2  2018-07-01T00:00:09Z\n",
       "1                    @StockTwits $MSFT          1  2018-07-01T00:00:42Z"
      ]
     },
     "execution_count": 5,
     "metadata": {},
     "output_type": "execute_result"
    }
   ],
   "source": [
    "print (f\" new data shape:{df.shape}\")\n",
    "df.head(2)"
   ]
  },
  {
   "cell_type": "code",
   "execution_count": 6,
   "metadata": {},
   "outputs": [
    {
     "name": "stderr",
     "output_type": "stream",
     "text": [
      "<ipython-input-6-1999f57a38e0>:17: SettingWithCopyWarning: \n",
      "A value is trying to be set on a copy of a slice from a DataFrame.\n",
      "Try using .loc[row_indexer,col_indexer] = value instead\n",
      "\n",
      "See the caveats in the documentation: https://pandas.pydata.org/pandas-docs/stable/user_guide/indexing.html#returning-a-view-versus-a-copy\n",
      "  df['message_tokenized'] = df[\"message_body\"].apply(preprocess)\n"
     ]
    }
   ],
   "source": [
    "def preprocess(message):    \n",
    "    text = message.lower()                   # Lowercase the twit message\n",
    "    text = re.sub(r'https?://\\S+', ' ', text)# Replace URLs with a space\n",
    "    text = re.sub(r'\\$\\S+', ' ', text)       # Replace ticker symbols with a space\n",
    "    text = re.sub(r'\\@\\S+', ' ', text)       # Replace StockTwits usernames with a space.\n",
    "    text = re.sub(r'[^a-zA-Z]', ' ', text)   # Replace everything not a letter with a space\n",
    "    \n",
    "    # Tokenize\n",
    "    tokens = nltk.tokenize.word_tokenize(text)\n",
    "\n",
    "    # Lemmatize words using the WordNetLemmatizer. You can ignore any word that is not longer than one character.\n",
    "    wnl = nltk.stem.WordNetLemmatizer()\n",
    "    tokens = [wnl.lemmatize(token) for token in tokens if len(token) > 1]\n",
    "    \n",
    "    return tokens\n",
    "\n",
    "df['message_tokenized'] = df[\"message_body\"].apply(preprocess)"
   ]
  },
  {
   "cell_type": "code",
   "execution_count": 7,
   "metadata": {},
   "outputs": [
    {
     "data": {
      "text/html": [
       "<div>\n",
       "<style scoped>\n",
       "    .dataframe tbody tr th:only-of-type {\n",
       "        vertical-align: middle;\n",
       "    }\n",
       "\n",
       "    .dataframe tbody tr th {\n",
       "        vertical-align: top;\n",
       "    }\n",
       "\n",
       "    .dataframe thead th {\n",
       "        text-align: right;\n",
       "    }\n",
       "</style>\n",
       "<table border=\"1\" class=\"dataframe\">\n",
       "  <thead>\n",
       "    <tr style=\"text-align: right;\">\n",
       "      <th></th>\n",
       "      <th>message_body</th>\n",
       "      <th>sentiment</th>\n",
       "      <th>timestamp</th>\n",
       "      <th>message_tokenized</th>\n",
       "    </tr>\n",
       "  </thead>\n",
       "  <tbody>\n",
       "    <tr>\n",
       "      <th>0</th>\n",
       "      <td>$FITB great buy at 26.00...ill wait</td>\n",
       "      <td>2</td>\n",
       "      <td>2018-07-01T00:00:09Z</td>\n",
       "      <td>[great, buy, at, ill, wait]</td>\n",
       "    </tr>\n",
       "    <tr>\n",
       "      <th>1</th>\n",
       "      <td>@StockTwits $MSFT</td>\n",
       "      <td>1</td>\n",
       "      <td>2018-07-01T00:00:42Z</td>\n",
       "      <td>[]</td>\n",
       "    </tr>\n",
       "  </tbody>\n",
       "</table>\n",
       "</div>"
      ],
      "text/plain": [
       "                          message_body  sentiment             timestamp  \\\n",
       "0  $FITB great buy at 26.00...ill wait          2  2018-07-01T00:00:09Z   \n",
       "1                    @StockTwits $MSFT          1  2018-07-01T00:00:42Z   \n",
       "\n",
       "             message_tokenized  \n",
       "0  [great, buy, at, ill, wait]  \n",
       "1                           []  "
      ]
     },
     "execution_count": 7,
     "metadata": {},
     "output_type": "execute_result"
    }
   ],
   "source": [
    "df.head(2)"
   ]
  },
  {
   "cell_type": "code",
   "execution_count": 8,
   "metadata": {},
   "outputs": [],
   "source": [
    "from collections import Counter\n",
    "\n",
    "\"\"\"\n",
    "Create a vocabulary by using Bag of words\n",
    "\"\"\"\n",
    "tokenized_words = [word for twit in df.message_tokenized for word in twit]\n",
    "bow = Counter(tokenized_words)"
   ]
  },
  {
   "cell_type": "code",
   "execution_count": 9,
   "metadata": {},
   "outputs": [
    {
     "name": "stdout",
     "output_type": "stream",
     "text": [
      "[('the', 2590), ('to', 2458), ('is', 2191)]\n"
     ]
    }
   ],
   "source": [
    "print(bow.most_common(3))"
   ]
  },
  {
   "cell_type": "code",
   "execution_count": 10,
   "metadata": {},
   "outputs": [
    {
     "data": {
      "text/plain": [
       "[('the', 2590),\n",
       " ('to', 2458),\n",
       " ('is', 2191),\n",
       " ('for', 1966),\n",
       " ('on', 1760),\n",
       " ('of', 1522),\n",
       " ('in', 1418),\n",
       " ('and', 1297),\n",
       " ('this', 1268),\n",
       " ('it', 1113),\n",
       " ('will', 833),\n",
       " ('are', 797),\n",
       " ('at', 775),\n",
       " ('short', 760),\n",
       " ('up', 718)]"
      ]
     },
     "execution_count": 10,
     "metadata": {},
     "output_type": "execute_result"
    }
   ],
   "source": [
    "bow.most_common(15)"
   ]
  },
  {
   "cell_type": "code",
   "execution_count": 11,
   "metadata": {},
   "outputs": [],
   "source": [
    "def remove_words(bow, low_cutoff=1e-5, high_cutoff=15):\n",
    "    # remove the words which are outside the cutoff range\n",
    "    # they usually are too common or too rare to make any big impact on the analysis\n",
    "    total_cnt = sum(bow.values())\n",
    "    \n",
    "    freqs = dict(bow)\n",
    "    for key in freqs:\n",
    "        freqs[key] = freqs[key]/total_cnt\n",
    "        \n",
    "    K_most_common = [word[0] for word in bow.most_common(high_cutoff)]\n",
    "    \n",
    "    filtered_words = [word for word in freqs if (freqs[word] > low_cutoff and word not in K_most_common)]\n",
    "    \n",
    "    return freqs, filtered_words\n"
   ]
  },
  {
   "cell_type": "code",
   "execution_count": 12,
   "metadata": {},
   "outputs": [],
   "source": [
    "freqs, filtered_words= remove_words(bow)"
   ]
  },
  {
   "cell_type": "code",
   "execution_count": 13,
   "metadata": {},
   "outputs": [],
   "source": [
    "def prepare_vocab_dict(filtered_words):\n",
    "    # A dictionary for the `filtered_words`.\n",
    "    vocab = {word:idx+1 for idx, word in enumerate(filtered_words)}\n",
    "    # reverse the vocab dictionary\n",
    "    id2vocab = {idx:word for word, idx in vocab.items()}\n",
    "    return vocab, id2vocab\n",
    "\n",
    "vocab, id2vocab = prepare_vocab_dict(filtered_words)"
   ]
  },
  {
   "cell_type": "code",
   "execution_count": 14,
   "metadata": {},
   "outputs": [
    {
     "name": "stdout",
     "output_type": "stream",
     "text": [
      "Top 5 word to index items\n",
      "('great', 1)\n",
      "('buy', 2)\n",
      "('ill', 3)\n",
      "('wait', 4)\n",
      "('staanalystalert', 5)\n",
      "\n",
      "Top 5 index to words items\n",
      "(1, 'great')\n",
      "(2, 'buy')\n",
      "(3, 'ill')\n",
      "(4, 'wait')\n",
      "(5, 'staanalystalert')\n"
     ]
    }
   ],
   "source": [
    "print (\"Top 5 word to index items\")\n",
    "for item in list(vocab.items())[:5]:\n",
    "    print (item)\n",
    "    \n",
    "print (\"\\nTop 5 index to words items\")\n",
    "for item in list(id2vocab.items())[:5]:\n",
    "    print (item)\n"
   ]
  },
  {
   "cell_type": "code",
   "execution_count": 15,
   "metadata": {},
   "outputs": [
    {
     "name": "stdout",
     "output_type": "stream",
     "text": [
      "['how', 'expect', 'the', 'earnings']\n"
     ]
    },
    {
     "data": {
      "text/plain": [
       "['how', 'expect', 'earnings']"
      ]
     },
     "execution_count": 15,
     "metadata": {},
     "output_type": "execute_result"
    }
   ],
   "source": [
    "def filter_twit(words, filtered_words):\n",
    "     return [word for word in words if word in filtered_words]\n",
    "\n",
    "tmp = df['message_tokenized'].values[50]\n",
    "print (tmp)\n",
    "filter_twit(tmp, filtered_words)"
   ]
  },
  {
   "cell_type": "code",
   "execution_count": 16,
   "metadata": {},
   "outputs": [
    {
     "name": "stderr",
     "output_type": "stream",
     "text": [
      "<ipython-input-16-987fad6bb275>:1: SettingWithCopyWarning: \n",
      "A value is trying to be set on a copy of a slice from a DataFrame.\n",
      "Try using .loc[row_indexer,col_indexer] = value instead\n",
      "\n",
      "See the caveats in the documentation: https://pandas.pydata.org/pandas-docs/stable/user_guide/indexing.html#returning-a-view-versus-a-copy\n",
      "  df['filtered'] = df['message_tokenized'].apply(filter_twit, filtered_words=filtered_words)\n"
     ]
    }
   ],
   "source": [
    "df['filtered'] = df['message_tokenized'].apply(filter_twit, filtered_words=filtered_words)"
   ]
  },
  {
   "cell_type": "code",
   "execution_count": 17,
   "metadata": {},
   "outputs": [
    {
     "data": {
      "text/html": [
       "<div>\n",
       "<style scoped>\n",
       "    .dataframe tbody tr th:only-of-type {\n",
       "        vertical-align: middle;\n",
       "    }\n",
       "\n",
       "    .dataframe tbody tr th {\n",
       "        vertical-align: top;\n",
       "    }\n",
       "\n",
       "    .dataframe thead th {\n",
       "        text-align: right;\n",
       "    }\n",
       "</style>\n",
       "<table border=\"1\" class=\"dataframe\">\n",
       "  <thead>\n",
       "    <tr style=\"text-align: right;\">\n",
       "      <th></th>\n",
       "      <th>message_body</th>\n",
       "      <th>sentiment</th>\n",
       "      <th>timestamp</th>\n",
       "      <th>message_tokenized</th>\n",
       "      <th>filtered</th>\n",
       "    </tr>\n",
       "  </thead>\n",
       "  <tbody>\n",
       "    <tr>\n",
       "      <th>0</th>\n",
       "      <td>$FITB great buy at 26.00...ill wait</td>\n",
       "      <td>2</td>\n",
       "      <td>2018-07-01T00:00:09Z</td>\n",
       "      <td>[great, buy, at, ill, wait]</td>\n",
       "      <td>[great, buy, ill, wait]</td>\n",
       "    </tr>\n",
       "    <tr>\n",
       "      <th>1</th>\n",
       "      <td>@StockTwits $MSFT</td>\n",
       "      <td>1</td>\n",
       "      <td>2018-07-01T00:00:42Z</td>\n",
       "      <td>[]</td>\n",
       "      <td>[]</td>\n",
       "    </tr>\n",
       "  </tbody>\n",
       "</table>\n",
       "</div>"
      ],
      "text/plain": [
       "                          message_body  sentiment             timestamp  \\\n",
       "0  $FITB great buy at 26.00...ill wait          2  2018-07-01T00:00:09Z   \n",
       "1                    @StockTwits $MSFT          1  2018-07-01T00:00:42Z   \n",
       "\n",
       "             message_tokenized                 filtered  \n",
       "0  [great, buy, at, ill, wait]  [great, buy, ill, wait]  \n",
       "1                           []                       []  "
      ]
     },
     "execution_count": 17,
     "metadata": {},
     "output_type": "execute_result"
    }
   ],
   "source": [
    "df.head(2)"
   ]
  },
  {
   "cell_type": "markdown",
   "metadata": {},
   "source": [
    "### Balancing the classes"
   ]
  },
  {
   "cell_type": "code",
   "execution_count": 18,
   "metadata": {},
   "outputs": [
    {
     "name": "stdout",
     "output_type": "stream",
     "text": [
      "[ 2  1  0 -2 -1]\n",
      "[4 3 2 0 1]\n"
     ]
    },
    {
     "name": "stderr",
     "output_type": "stream",
     "text": [
      "<ipython-input-18-a0a1ae79df60>:2: SettingWithCopyWarning: \n",
      "A value is trying to be set on a copy of a slice from a DataFrame.\n",
      "Try using .loc[row_indexer,col_indexer] = value instead\n",
      "\n",
      "See the caveats in the documentation: https://pandas.pydata.org/pandas-docs/stable/user_guide/indexing.html#returning-a-view-versus-a-copy\n",
      "  df['sentiment'] = df['sentiment']+2\n"
     ]
    }
   ],
   "source": [
    "print ( df.sentiment.unique() )\n",
    "df['sentiment'] = df['sentiment']+2\n",
    "print ( df.sentiment.unique() )"
   ]
  },
  {
   "cell_type": "code",
   "execution_count": 19,
   "metadata": {},
   "outputs": [
    {
     "data": {
      "text/html": [
       "<div>\n",
       "<style scoped>\n",
       "    .dataframe tbody tr th:only-of-type {\n",
       "        vertical-align: middle;\n",
       "    }\n",
       "\n",
       "    .dataframe tbody tr th {\n",
       "        vertical-align: top;\n",
       "    }\n",
       "\n",
       "    .dataframe thead th {\n",
       "        text-align: right;\n",
       "    }\n",
       "</style>\n",
       "<table border=\"1\" class=\"dataframe\">\n",
       "  <thead>\n",
       "    <tr style=\"text-align: right;\">\n",
       "      <th></th>\n",
       "      <th>message_body</th>\n",
       "      <th>timestamp</th>\n",
       "      <th>message_tokenized</th>\n",
       "      <th>filtered</th>\n",
       "      <th>ratio (pct)</th>\n",
       "    </tr>\n",
       "    <tr>\n",
       "      <th>sentiment</th>\n",
       "      <th></th>\n",
       "      <th></th>\n",
       "      <th></th>\n",
       "      <th></th>\n",
       "      <th></th>\n",
       "    </tr>\n",
       "  </thead>\n",
       "  <tbody>\n",
       "    <tr>\n",
       "      <th>0</th>\n",
       "      <td>902</td>\n",
       "      <td>902</td>\n",
       "      <td>902</td>\n",
       "      <td>902</td>\n",
       "      <td>9.019098</td>\n",
       "    </tr>\n",
       "    <tr>\n",
       "      <th>1</th>\n",
       "      <td>1127</td>\n",
       "      <td>1127</td>\n",
       "      <td>1127</td>\n",
       "      <td>1127</td>\n",
       "      <td>11.268873</td>\n",
       "    </tr>\n",
       "    <tr>\n",
       "      <th>2</th>\n",
       "      <td>4799</td>\n",
       "      <td>4799</td>\n",
       "      <td>4799</td>\n",
       "      <td>4799</td>\n",
       "      <td>47.985201</td>\n",
       "    </tr>\n",
       "    <tr>\n",
       "      <th>3</th>\n",
       "      <td>1806</td>\n",
       "      <td>1806</td>\n",
       "      <td>1806</td>\n",
       "      <td>1806</td>\n",
       "      <td>18.058194</td>\n",
       "    </tr>\n",
       "    <tr>\n",
       "      <th>4</th>\n",
       "      <td>1367</td>\n",
       "      <td>1367</td>\n",
       "      <td>1367</td>\n",
       "      <td>1367</td>\n",
       "      <td>13.668633</td>\n",
       "    </tr>\n",
       "  </tbody>\n",
       "</table>\n",
       "</div>"
      ],
      "text/plain": [
       "           message_body  timestamp  message_tokenized  filtered  ratio (pct)\n",
       "sentiment                                                                   \n",
       "0                   902        902                902       902     9.019098\n",
       "1                  1127       1127               1127      1127    11.268873\n",
       "2                  4799       4799               4799      4799    47.985201\n",
       "3                  1806       1806               1806      1806    18.058194\n",
       "4                  1367       1367               1367      1367    13.668633"
      ]
     },
     "execution_count": 19,
     "metadata": {},
     "output_type": "execute_result"
    }
   ],
   "source": [
    "def find_counts(df):\n",
    "    df_counts =df.groupby(\"sentiment\", axis=0).count()\n",
    "    df_counts[\"ratio (pct)\"] = 100*df_counts[\"message_body\"]/sum(df_counts[\"message_body\"])\n",
    "    return df_counts\n",
    "\n",
    "find_counts(df)"
   ]
  },
  {
   "cell_type": "markdown",
   "metadata": {},
   "source": [
    "this means almost half of the tweets are neutral in the sentiment. a classic example of unbalanced data set. One way to treat this is to remove the neutral data so that the class becomes more or less neutral. Here we'll make the counts of sentiment 2 and sentiment 3 equal."
   ]
  },
  {
   "cell_type": "code",
   "execution_count": 20,
   "metadata": {},
   "outputs": [],
   "source": [
    "def balance_classes(df):\n",
    "    delete_after = df[df['sentiment']==3].shape[0] \n",
    "    indices_to_delete = df[df['sentiment']==2].index.values[delete_after:]\n",
    "    #indices_to_delete = np.random.choice(df[df['sentiment']==2].index.values,\n",
    "    #                                     len(df[df['sentiment']==2].index.values)-val)\n",
    "    df = df.drop(index=indices_to_delete, axis=0)\n",
    "    return df\n",
    "    \n",
    "df = balance_classes(df)"
   ]
  },
  {
   "cell_type": "code",
   "execution_count": 21,
   "metadata": {},
   "outputs": [
    {
     "data": {
      "text/html": [
       "<div>\n",
       "<style scoped>\n",
       "    .dataframe tbody tr th:only-of-type {\n",
       "        vertical-align: middle;\n",
       "    }\n",
       "\n",
       "    .dataframe tbody tr th {\n",
       "        vertical-align: top;\n",
       "    }\n",
       "\n",
       "    .dataframe thead th {\n",
       "        text-align: right;\n",
       "    }\n",
       "</style>\n",
       "<table border=\"1\" class=\"dataframe\">\n",
       "  <thead>\n",
       "    <tr style=\"text-align: right;\">\n",
       "      <th></th>\n",
       "      <th>message_body</th>\n",
       "      <th>timestamp</th>\n",
       "      <th>message_tokenized</th>\n",
       "      <th>filtered</th>\n",
       "      <th>ratio (pct)</th>\n",
       "    </tr>\n",
       "    <tr>\n",
       "      <th>sentiment</th>\n",
       "      <th></th>\n",
       "      <th></th>\n",
       "      <th></th>\n",
       "      <th></th>\n",
       "      <th></th>\n",
       "    </tr>\n",
       "  </thead>\n",
       "  <tbody>\n",
       "    <tr>\n",
       "      <th>0</th>\n",
       "      <td>902</td>\n",
       "      <td>902</td>\n",
       "      <td>902</td>\n",
       "      <td>902</td>\n",
       "      <td>12.871005</td>\n",
       "    </tr>\n",
       "    <tr>\n",
       "      <th>1</th>\n",
       "      <td>1127</td>\n",
       "      <td>1127</td>\n",
       "      <td>1127</td>\n",
       "      <td>1127</td>\n",
       "      <td>16.081621</td>\n",
       "    </tr>\n",
       "    <tr>\n",
       "      <th>2</th>\n",
       "      <td>1806</td>\n",
       "      <td>1806</td>\n",
       "      <td>1806</td>\n",
       "      <td>1806</td>\n",
       "      <td>25.770548</td>\n",
       "    </tr>\n",
       "    <tr>\n",
       "      <th>3</th>\n",
       "      <td>1806</td>\n",
       "      <td>1806</td>\n",
       "      <td>1806</td>\n",
       "      <td>1806</td>\n",
       "      <td>25.770548</td>\n",
       "    </tr>\n",
       "    <tr>\n",
       "      <th>4</th>\n",
       "      <td>1367</td>\n",
       "      <td>1367</td>\n",
       "      <td>1367</td>\n",
       "      <td>1367</td>\n",
       "      <td>19.506279</td>\n",
       "    </tr>\n",
       "  </tbody>\n",
       "</table>\n",
       "</div>"
      ],
      "text/plain": [
       "           message_body  timestamp  message_tokenized  filtered  ratio (pct)\n",
       "sentiment                                                                   \n",
       "0                   902        902                902       902    12.871005\n",
       "1                  1127       1127               1127      1127    16.081621\n",
       "2                  1806       1806               1806      1806    25.770548\n",
       "3                  1806       1806               1806      1806    25.770548\n",
       "4                  1367       1367               1367      1367    19.506279"
      ]
     },
     "execution_count": 21,
     "metadata": {},
     "output_type": "execute_result"
    }
   ],
   "source": [
    "find_counts(df)"
   ]
  },
  {
   "cell_type": "code",
   "execution_count": 22,
   "metadata": {},
   "outputs": [
    {
     "data": {
      "text/html": [
       "<div>\n",
       "<style scoped>\n",
       "    .dataframe tbody tr th:only-of-type {\n",
       "        vertical-align: middle;\n",
       "    }\n",
       "\n",
       "    .dataframe tbody tr th {\n",
       "        vertical-align: top;\n",
       "    }\n",
       "\n",
       "    .dataframe thead th {\n",
       "        text-align: right;\n",
       "    }\n",
       "</style>\n",
       "<table border=\"1\" class=\"dataframe\">\n",
       "  <thead>\n",
       "    <tr style=\"text-align: right;\">\n",
       "      <th></th>\n",
       "      <th>message_body</th>\n",
       "      <th>sentiment</th>\n",
       "      <th>timestamp</th>\n",
       "      <th>message_tokenized</th>\n",
       "      <th>filtered</th>\n",
       "      <th>counts</th>\n",
       "    </tr>\n",
       "  </thead>\n",
       "  <tbody>\n",
       "    <tr>\n",
       "      <th>0</th>\n",
       "      <td>$FITB great buy at 26.00...ill wait</td>\n",
       "      <td>4</td>\n",
       "      <td>2018-07-01T00:00:09Z</td>\n",
       "      <td>[great, buy, at, ill, wait]</td>\n",
       "      <td>[great, buy, ill, wait]</td>\n",
       "      <td>4</td>\n",
       "    </tr>\n",
       "    <tr>\n",
       "      <th>1</th>\n",
       "      <td>@StockTwits $MSFT</td>\n",
       "      <td>3</td>\n",
       "      <td>2018-07-01T00:00:42Z</td>\n",
       "      <td>[]</td>\n",
       "      <td>[]</td>\n",
       "      <td>0</td>\n",
       "    </tr>\n",
       "    <tr>\n",
       "      <th>2</th>\n",
       "      <td>#STAAnalystAlert for $TDG : Jefferies Maintain...</td>\n",
       "      <td>4</td>\n",
       "      <td>2018-07-01T00:01:24Z</td>\n",
       "      <td>[staanalystalert, for, jefferies, maintains, w...</td>\n",
       "      <td>[staanalystalert, jefferies, maintains, with, ...</td>\n",
       "      <td>14</td>\n",
       "    </tr>\n",
       "    <tr>\n",
       "      <th>3</th>\n",
       "      <td>$AMD I heard there’s a guy who knows someone w...</td>\n",
       "      <td>3</td>\n",
       "      <td>2018-07-01T00:01:47Z</td>\n",
       "      <td>[heard, there, guy, who, know, someone, who, t...</td>\n",
       "      <td>[heard, there, guy, who, know, someone, who, t...</td>\n",
       "      <td>12</td>\n",
       "    </tr>\n",
       "    <tr>\n",
       "      <th>4</th>\n",
       "      <td>$AMD reveal yourself!</td>\n",
       "      <td>2</td>\n",
       "      <td>2018-07-01T00:02:13Z</td>\n",
       "      <td>[reveal, yourself]</td>\n",
       "      <td>[reveal, yourself]</td>\n",
       "      <td>2</td>\n",
       "    </tr>\n",
       "  </tbody>\n",
       "</table>\n",
       "</div>"
      ],
      "text/plain": [
       "                                        message_body  sentiment  \\\n",
       "0                $FITB great buy at 26.00...ill wait          4   \n",
       "1                                  @StockTwits $MSFT          3   \n",
       "2  #STAAnalystAlert for $TDG : Jefferies Maintain...          4   \n",
       "3  $AMD I heard there’s a guy who knows someone w...          3   \n",
       "4                              $AMD reveal yourself!          2   \n",
       "\n",
       "              timestamp                                  message_tokenized  \\\n",
       "0  2018-07-01T00:00:09Z                        [great, buy, at, ill, wait]   \n",
       "1  2018-07-01T00:00:42Z                                                 []   \n",
       "2  2018-07-01T00:01:24Z  [staanalystalert, for, jefferies, maintains, w...   \n",
       "3  2018-07-01T00:01:47Z  [heard, there, guy, who, know, someone, who, t...   \n",
       "4  2018-07-01T00:02:13Z                                 [reveal, yourself]   \n",
       "\n",
       "                                            filtered  counts  \n",
       "0                            [great, buy, ill, wait]       4  \n",
       "1                                                 []       0  \n",
       "2  [staanalystalert, jefferies, maintains, with, ...      14  \n",
       "3  [heard, there, guy, who, know, someone, who, t...      12  \n",
       "4                                 [reveal, yourself]       2  "
      ]
     },
     "execution_count": 22,
     "metadata": {},
     "output_type": "execute_result"
    }
   ],
   "source": [
    "# delete texts with zero length\n",
    "df['counts'] = df.filtered.apply(len)\n",
    "df.head()"
   ]
  },
  {
   "cell_type": "code",
   "execution_count": 23,
   "metadata": {},
   "outputs": [
    {
     "data": {
      "text/html": [
       "<div>\n",
       "<style scoped>\n",
       "    .dataframe tbody tr th:only-of-type {\n",
       "        vertical-align: middle;\n",
       "    }\n",
       "\n",
       "    .dataframe tbody tr th {\n",
       "        vertical-align: top;\n",
       "    }\n",
       "\n",
       "    .dataframe thead th {\n",
       "        text-align: right;\n",
       "    }\n",
       "</style>\n",
       "<table border=\"1\" class=\"dataframe\">\n",
       "  <thead>\n",
       "    <tr style=\"text-align: right;\">\n",
       "      <th></th>\n",
       "      <th>message_body</th>\n",
       "      <th>sentiment</th>\n",
       "      <th>timestamp</th>\n",
       "      <th>message_tokenized</th>\n",
       "      <th>filtered</th>\n",
       "      <th>counts</th>\n",
       "    </tr>\n",
       "  </thead>\n",
       "  <tbody>\n",
       "    <tr>\n",
       "      <th>0</th>\n",
       "      <td>$FITB great buy at 26.00...ill wait</td>\n",
       "      <td>4</td>\n",
       "      <td>2018-07-01T00:00:09Z</td>\n",
       "      <td>[great, buy, at, ill, wait]</td>\n",
       "      <td>[great, buy, ill, wait]</td>\n",
       "      <td>4</td>\n",
       "    </tr>\n",
       "    <tr>\n",
       "      <th>2</th>\n",
       "      <td>#STAAnalystAlert for $TDG : Jefferies Maintain...</td>\n",
       "      <td>4</td>\n",
       "      <td>2018-07-01T00:01:24Z</td>\n",
       "      <td>[staanalystalert, for, jefferies, maintains, w...</td>\n",
       "      <td>[staanalystalert, jefferies, maintains, with, ...</td>\n",
       "      <td>14</td>\n",
       "    </tr>\n",
       "    <tr>\n",
       "      <th>3</th>\n",
       "      <td>$AMD I heard there’s a guy who knows someone w...</td>\n",
       "      <td>3</td>\n",
       "      <td>2018-07-01T00:01:47Z</td>\n",
       "      <td>[heard, there, guy, who, know, someone, who, t...</td>\n",
       "      <td>[heard, there, guy, who, know, someone, who, t...</td>\n",
       "      <td>12</td>\n",
       "    </tr>\n",
       "    <tr>\n",
       "      <th>4</th>\n",
       "      <td>$AMD reveal yourself!</td>\n",
       "      <td>2</td>\n",
       "      <td>2018-07-01T00:02:13Z</td>\n",
       "      <td>[reveal, yourself]</td>\n",
       "      <td>[reveal, yourself]</td>\n",
       "      <td>2</td>\n",
       "    </tr>\n",
       "    <tr>\n",
       "      <th>5</th>\n",
       "      <td>$AAPL Why the drop? I warren Buffet taking out...</td>\n",
       "      <td>3</td>\n",
       "      <td>2018-07-01T00:03:10Z</td>\n",
       "      <td>[why, the, drop, warren, buffet, taking, out, ...</td>\n",
       "      <td>[why, drop, warren, buffet, taking, out, his, ...</td>\n",
       "      <td>8</td>\n",
       "    </tr>\n",
       "  </tbody>\n",
       "</table>\n",
       "</div>"
      ],
      "text/plain": [
       "                                        message_body  sentiment  \\\n",
       "0                $FITB great buy at 26.00...ill wait          4   \n",
       "2  #STAAnalystAlert for $TDG : Jefferies Maintain...          4   \n",
       "3  $AMD I heard there’s a guy who knows someone w...          3   \n",
       "4                              $AMD reveal yourself!          2   \n",
       "5  $AAPL Why the drop? I warren Buffet taking out...          3   \n",
       "\n",
       "              timestamp                                  message_tokenized  \\\n",
       "0  2018-07-01T00:00:09Z                        [great, buy, at, ill, wait]   \n",
       "2  2018-07-01T00:01:24Z  [staanalystalert, for, jefferies, maintains, w...   \n",
       "3  2018-07-01T00:01:47Z  [heard, there, guy, who, know, someone, who, t...   \n",
       "4  2018-07-01T00:02:13Z                                 [reveal, yourself]   \n",
       "5  2018-07-01T00:03:10Z  [why, the, drop, warren, buffet, taking, out, ...   \n",
       "\n",
       "                                            filtered  counts  \n",
       "0                            [great, buy, ill, wait]       4  \n",
       "2  [staanalystalert, jefferies, maintains, with, ...      14  \n",
       "3  [heard, there, guy, who, know, someone, who, t...      12  \n",
       "4                                 [reveal, yourself]       2  \n",
       "5  [why, drop, warren, buffet, taking, out, his, ...       8  "
      ]
     },
     "execution_count": 23,
     "metadata": {},
     "output_type": "execute_result"
    }
   ],
   "source": [
    "df = df[df['counts']>0]\n",
    "df.head()"
   ]
  },
  {
   "cell_type": "code",
   "execution_count": 24,
   "metadata": {},
   "outputs": [
    {
     "data": {
      "text/html": [
       "<div>\n",
       "<style scoped>\n",
       "    .dataframe tbody tr th:only-of-type {\n",
       "        vertical-align: middle;\n",
       "    }\n",
       "\n",
       "    .dataframe tbody tr th {\n",
       "        vertical-align: top;\n",
       "    }\n",
       "\n",
       "    .dataframe thead th {\n",
       "        text-align: right;\n",
       "    }\n",
       "</style>\n",
       "<table border=\"1\" class=\"dataframe\">\n",
       "  <thead>\n",
       "    <tr style=\"text-align: right;\">\n",
       "      <th></th>\n",
       "      <th>message_body</th>\n",
       "      <th>timestamp</th>\n",
       "      <th>message_tokenized</th>\n",
       "      <th>filtered</th>\n",
       "      <th>counts</th>\n",
       "      <th>ratio (pct)</th>\n",
       "    </tr>\n",
       "    <tr>\n",
       "      <th>sentiment</th>\n",
       "      <th></th>\n",
       "      <th></th>\n",
       "      <th></th>\n",
       "      <th></th>\n",
       "      <th></th>\n",
       "      <th></th>\n",
       "    </tr>\n",
       "  </thead>\n",
       "  <tbody>\n",
       "    <tr>\n",
       "      <th>0</th>\n",
       "      <td>890</td>\n",
       "      <td>890</td>\n",
       "      <td>890</td>\n",
       "      <td>890</td>\n",
       "      <td>890</td>\n",
       "      <td>13.165680</td>\n",
       "    </tr>\n",
       "    <tr>\n",
       "      <th>1</th>\n",
       "      <td>1112</td>\n",
       "      <td>1112</td>\n",
       "      <td>1112</td>\n",
       "      <td>1112</td>\n",
       "      <td>1112</td>\n",
       "      <td>16.449704</td>\n",
       "    </tr>\n",
       "    <tr>\n",
       "      <th>2</th>\n",
       "      <td>1676</td>\n",
       "      <td>1676</td>\n",
       "      <td>1676</td>\n",
       "      <td>1676</td>\n",
       "      <td>1676</td>\n",
       "      <td>24.792899</td>\n",
       "    </tr>\n",
       "    <tr>\n",
       "      <th>3</th>\n",
       "      <td>1726</td>\n",
       "      <td>1726</td>\n",
       "      <td>1726</td>\n",
       "      <td>1726</td>\n",
       "      <td>1726</td>\n",
       "      <td>25.532544</td>\n",
       "    </tr>\n",
       "    <tr>\n",
       "      <th>4</th>\n",
       "      <td>1356</td>\n",
       "      <td>1356</td>\n",
       "      <td>1356</td>\n",
       "      <td>1356</td>\n",
       "      <td>1356</td>\n",
       "      <td>20.059172</td>\n",
       "    </tr>\n",
       "  </tbody>\n",
       "</table>\n",
       "</div>"
      ],
      "text/plain": [
       "           message_body  timestamp  message_tokenized  filtered  counts  \\\n",
       "sentiment                                                                 \n",
       "0                   890        890                890       890     890   \n",
       "1                  1112       1112               1112      1112    1112   \n",
       "2                  1676       1676               1676      1676    1676   \n",
       "3                  1726       1726               1726      1726    1726   \n",
       "4                  1356       1356               1356      1356    1356   \n",
       "\n",
       "           ratio (pct)  \n",
       "sentiment               \n",
       "0            13.165680  \n",
       "1            16.449704  \n",
       "2            24.792899  \n",
       "3            25.532544  \n",
       "4            20.059172  "
      ]
     },
     "execution_count": 24,
     "metadata": {},
     "output_type": "execute_result"
    }
   ],
   "source": [
    "find_counts(df)"
   ]
  },
  {
   "cell_type": "markdown",
   "metadata": {},
   "source": [
    "## Prepare input for Model\n",
    "- convert the text entry to numerical values\n",
    "- Pad the numerical values to a certain length\n",
    "- convert the y labels to categorical \n",
    "- train, test, val split"
   ]
  },
  {
   "cell_type": "code",
   "execution_count": 46,
   "metadata": {},
   "outputs": [
    {
     "name": "stdout",
     "output_type": "stream",
     "text": [
      "X_train.shape: (3050, 20) y_train.shape:(3050, 5)\n",
      "X_test.shape: (1017, 20) y_test.shape:(1017, 5)\n",
      "X_val.shape: (1017, 20) y_val.shape:(1017, 5)\n"
     ]
    }
   ],
   "source": [
    "from tensorflow.keras.utils import to_categorical\n",
    "from sklearn.model_selection import train_test_split\n",
    "\n",
    "def text_to_numerics(text, vocab):\n",
    "    return [vocab[word] for word in text]\n",
    "\n",
    "def pad_list(lst, max_len):\n",
    "    # pad a list with zeros at the end to make the length max_len\n",
    "    lst = lst+[0]*(max_len-len(lst))\n",
    "    return lst[:max_len]\n",
    "    \n",
    "def prepare_input_for_model(df):\n",
    "    df['text_to_number'] = df['filtered'].apply(text_to_numerics, vocab=vocab)\n",
    "    df[\"padded_x\"] = df['text_to_number'].apply(pad_list, max_len=20)\n",
    "\n",
    "    X = np.array(df[\"padded_x\"].values)\n",
    "    X = np.stack( X, axis=0 )\n",
    "    \n",
    "    y = df['sentiment'].values\n",
    "    y = to_categorical(y)\n",
    "    return (df, X, y)\n",
    "    \n",
    "def split_data(X, y):\n",
    "    X_train_, X_val, y_train_, y_val = train_test_split(X, y, test_size=0.2)\n",
    "    X_train, X_test, y_train, y_test = train_test_split(X_train_, y_train_, test_size=0.25)\n",
    "\n",
    "    print (f\"X_train.shape: {X_train.shape} y_train.shape:{y_train.shape}\" )\n",
    "    print (f\"X_test.shape: {X_test.shape} y_test.shape:{y_test.shape}\" )\n",
    "    print (f\"X_val.shape: {X_val.shape} y_val.shape:{y_val.shape}\" )\n",
    "\n",
    "    return X_train, X_test, X_val, y_train, y_test, y_val\n",
    "\n",
    "(df, X, y) = prepare_input_for_model(df)\n",
    "X_train, X_test, X_val, y_train, y_test, y_val =  split_data(X, y)\n"
   ]
  },
  {
   "cell_type": "markdown",
   "metadata": {},
   "source": [
    "## Model Training"
   ]
  },
  {
   "cell_type": "code",
   "execution_count": 26,
   "metadata": {},
   "outputs": [],
   "source": [
    "from tensorflow.keras.models import Sequential\n",
    "from tensorflow.keras.layers import Dense, LSTM, Dropout, Conv1D, MaxPooling1D\n",
    "from tensorflow.keras.optimizers import Adam\n",
    "from tensorflow.keras import preprocessing\n",
    "from keras.layers.embeddings import Embedding\n",
    "from keras.preprocessing import sequence\n"
   ]
  },
  {
   "cell_type": "code",
   "execution_count": 36,
   "metadata": {},
   "outputs": [],
   "source": [
    "def plot_history(history):\n",
    "    \n",
    "    plt.figure(figsize=(12,4))\n",
    "    plt.subplot(121)\n",
    "    plt.plot(history.history['loss'], label='Training loss')\n",
    "    plt.plot(history.history['val_loss'], label='validation loss')\n",
    "    plt.grid()\n",
    "    plt.legend()\n",
    "\n",
    "    plt.subplot(122)\n",
    "    plt.plot(history.history['accuracy'], label='Training accuracy')\n",
    "    plt.plot(history.history['val_accuracy'], label='validation accuracy')\n",
    "    plt.grid()\n",
    "    plt.legend()"
   ]
  },
  {
   "cell_type": "markdown",
   "metadata": {},
   "source": [
    "## Modeling for a binary classification\n",
    "- remove the neutral tweets and relabel the 0 and 1 as 0 and 3 and 4 as 1"
   ]
  },
  {
   "cell_type": "code",
   "execution_count": 57,
   "metadata": {},
   "outputs": [
    {
     "name": "stdout",
     "output_type": "stream",
     "text": [
      "X_train.shape: (3050, 20) y_train.shape:(3050,)\n",
      "X_test.shape: (1017, 20) y_test.shape:(1017,)\n",
      "X_val.shape: (1017, 20) y_val.shape:(1017,)\n"
     ]
    }
   ],
   "source": [
    "def prepare_input_for_binary_model(df):\n",
    "    df = df[df['sentiment']!=2]\n",
    "    # 0 for positive sentiment\n",
    "    # 1 for negative sentiment\n",
    "    df['sentiment_bin'] = df['sentiment'].apply(lambda x: int(x<2))\n",
    "\n",
    "    X = np.array(df[\"padded_x\"].values)\n",
    "    X = np.stack( X, axis=0 )\n",
    "    \n",
    "    y = df['sentiment_bin'].values\n",
    "\n",
    "    return (df, X, y)\n",
    "    \n",
    "(df, X, y) = prepare_input_for_binary_model(df)\n",
    "X_train, X_test, X_val, y_train, y_test, y_val =  split_data(X, y_bin)"
   ]
  },
  {
   "cell_type": "code",
   "execution_count": 58,
   "metadata": {},
   "outputs": [
    {
     "data": {
      "text/html": [
       "<div>\n",
       "<style scoped>\n",
       "    .dataframe tbody tr th:only-of-type {\n",
       "        vertical-align: middle;\n",
       "    }\n",
       "\n",
       "    .dataframe tbody tr th {\n",
       "        vertical-align: top;\n",
       "    }\n",
       "\n",
       "    .dataframe thead th {\n",
       "        text-align: right;\n",
       "    }\n",
       "</style>\n",
       "<table border=\"1\" class=\"dataframe\">\n",
       "  <thead>\n",
       "    <tr style=\"text-align: right;\">\n",
       "      <th></th>\n",
       "      <th>message_body</th>\n",
       "      <th>sentiment</th>\n",
       "      <th>timestamp</th>\n",
       "      <th>message_tokenized</th>\n",
       "      <th>filtered</th>\n",
       "      <th>counts</th>\n",
       "      <th>text_to_number</th>\n",
       "      <th>padded_x</th>\n",
       "      <th>sentiment_bin</th>\n",
       "    </tr>\n",
       "  </thead>\n",
       "  <tbody>\n",
       "    <tr>\n",
       "      <th>0</th>\n",
       "      <td>$FITB great buy at 26.00...ill wait</td>\n",
       "      <td>4</td>\n",
       "      <td>2018-07-01T00:00:09Z</td>\n",
       "      <td>[great, buy, at, ill, wait]</td>\n",
       "      <td>[great, buy, ill, wait]</td>\n",
       "      <td>4</td>\n",
       "      <td>[1, 2, 3, 4]</td>\n",
       "      <td>[1, 2, 3, 4, 0, 0, 0, 0, 0, 0, 0, 0, 0, 0, 0, ...</td>\n",
       "      <td>0</td>\n",
       "    </tr>\n",
       "    <tr>\n",
       "      <th>2</th>\n",
       "      <td>#STAAnalystAlert for $TDG : Jefferies Maintain...</td>\n",
       "      <td>4</td>\n",
       "      <td>2018-07-01T00:01:24Z</td>\n",
       "      <td>[staanalystalert, for, jefferies, maintains, w...</td>\n",
       "      <td>[staanalystalert, jefferies, maintains, with, ...</td>\n",
       "      <td>14</td>\n",
       "      <td>[5, 6, 7, 8, 9, 10, 11, 12, 13, 14, 15, 16, 17...</td>\n",
       "      <td>[5, 6, 7, 8, 9, 10, 11, 12, 13, 14, 15, 16, 17...</td>\n",
       "      <td>0</td>\n",
       "    </tr>\n",
       "  </tbody>\n",
       "</table>\n",
       "</div>"
      ],
      "text/plain": [
       "                                        message_body  sentiment  \\\n",
       "0                $FITB great buy at 26.00...ill wait          4   \n",
       "2  #STAAnalystAlert for $TDG : Jefferies Maintain...          4   \n",
       "\n",
       "              timestamp                                  message_tokenized  \\\n",
       "0  2018-07-01T00:00:09Z                        [great, buy, at, ill, wait]   \n",
       "2  2018-07-01T00:01:24Z  [staanalystalert, for, jefferies, maintains, w...   \n",
       "\n",
       "                                            filtered  counts  \\\n",
       "0                            [great, buy, ill, wait]       4   \n",
       "2  [staanalystalert, jefferies, maintains, with, ...      14   \n",
       "\n",
       "                                      text_to_number  \\\n",
       "0                                       [1, 2, 3, 4]   \n",
       "2  [5, 6, 7, 8, 9, 10, 11, 12, 13, 14, 15, 16, 17...   \n",
       "\n",
       "                                            padded_x  sentiment_bin  \n",
       "0  [1, 2, 3, 4, 0, 0, 0, 0, 0, 0, 0, 0, 0, 0, 0, ...              0  \n",
       "2  [5, 6, 7, 8, 9, 10, 11, 12, 13, 14, 15, 16, 17...              0  "
      ]
     },
     "execution_count": 58,
     "metadata": {},
     "output_type": "execute_result"
    }
   ],
   "source": [
    "df.head(2)"
   ]
  },
  {
   "cell_type": "code",
   "execution_count": 65,
   "metadata": {},
   "outputs": [
    {
     "name": "stdout",
     "output_type": "stream",
     "text": [
      "Model: \"sequential_6\"\n",
      "_________________________________________________________________\n",
      "Layer (type)                 Output Shape              Param #   \n",
      "=================================================================\n",
      "embedding_6 (Embedding)      (None, 20, 10)            39940     \n",
      "_________________________________________________________________\n",
      "lstm_6 (LSTM)                (None, 20, 6)             408       \n",
      "_________________________________________________________________\n",
      "lstm_7 (LSTM)                (None, 6)                 312       \n",
      "_________________________________________________________________\n",
      "dropout_6 (Dropout)          (None, 6)                 0         \n",
      "_________________________________________________________________\n",
      "dense_6 (Dense)              (None, 1)                 7         \n",
      "=================================================================\n",
      "Total params: 40,667\n",
      "Trainable params: 40,667\n",
      "Non-trainable params: 0\n",
      "_________________________________________________________________\n"
     ]
    }
   ],
   "source": [
    "def make_model_binary(X, y, vocab=vocab, embedding_length=10):\n",
    "    model = Sequential()\n",
    "    model.add(Embedding(len(vocab.items())+1, embedding_length, input_length=X.shape[1]))\n",
    "    model.add(LSTM(6, bias_regularizer=\"l2\", dropout=.1, recurrent_dropout=0.2, return_sequences=True))\n",
    "    model.add(LSTM(6, bias_regularizer=\"l2\", dropout=.1, recurrent_dropout=0.2))\n",
    "    model.add(Dropout(.2))\n",
    "    model.add(Dense(1, activation='sigmoid'))\n",
    "    opt = Adam(learning_rate=0.0001)\n",
    "    model.compile(loss='binary_crossentropy', optimizer=opt, metrics=['accuracy'])\n",
    "    return model\n",
    "\n",
    "model2 = make_model_binary(X_train, y_train)\n",
    "model2.summary()"
   ]
  },
  {
   "cell_type": "code",
   "execution_count": 69,
   "metadata": {},
   "outputs": [
    {
     "name": "stdout",
     "output_type": "stream",
     "text": [
      "Epoch 1/20\n",
      "382/382 [==============================] - 11s 28ms/step - loss: 0.3394 - accuracy: 0.9256 - val_loss: 0.6057 - val_accuracy: 0.7768\n",
      "Epoch 2/20\n",
      "382/382 [==============================] - 9s 25ms/step - loss: 0.3252 - accuracy: 0.9285 - val_loss: 0.6078 - val_accuracy: 0.7738\n",
      "Epoch 3/20\n",
      "382/382 [==============================] - 9s 24ms/step - loss: 0.3118 - accuracy: 0.9354 - val_loss: 0.6281 - val_accuracy: 0.7788\n",
      "Epoch 4/20\n",
      "382/382 [==============================] - 11s 28ms/step - loss: 0.3043 - accuracy: 0.9341 - val_loss: 0.6296 - val_accuracy: 0.7788\n",
      "Epoch 5/20\n",
      "382/382 [==============================] - 10s 27ms/step - loss: 0.2904 - accuracy: 0.9357 - val_loss: 0.6199 - val_accuracy: 0.7788\n",
      "Epoch 6/20\n",
      "382/382 [==============================] - 10s 26ms/step - loss: 0.2767 - accuracy: 0.9377 - val_loss: 0.6320 - val_accuracy: 0.7778\n",
      "Epoch 7/20\n",
      "382/382 [==============================] - 10s 26ms/step - loss: 0.2654 - accuracy: 0.9413 - val_loss: 0.6407 - val_accuracy: 0.7729\n",
      "Epoch 8/20\n",
      "382/382 [==============================] - 11s 28ms/step - loss: 0.2649 - accuracy: 0.9403 - val_loss: 0.6441 - val_accuracy: 0.7679\n",
      "Epoch 9/20\n",
      "382/382 [==============================] - 10s 26ms/step - loss: 0.2512 - accuracy: 0.9443 - val_loss: 0.6457 - val_accuracy: 0.7689\n",
      "Epoch 10/20\n",
      "382/382 [==============================] - 10s 25ms/step - loss: 0.2418 - accuracy: 0.9485 - val_loss: 0.6605 - val_accuracy: 0.7709\n",
      "Epoch 11/20\n",
      "382/382 [==============================] - 9s 24ms/step - loss: 0.2396 - accuracy: 0.9489 - val_loss: 0.6597 - val_accuracy: 0.7738\n",
      "Epoch 12/20\n",
      "382/382 [==============================] - 8s 22ms/step - loss: 0.2267 - accuracy: 0.9521 - val_loss: 0.6656 - val_accuracy: 0.7601\n",
      "Epoch 13/20\n",
      "382/382 [==============================] - 11s 28ms/step - loss: 0.2267 - accuracy: 0.9479 - val_loss: 0.6723 - val_accuracy: 0.7660\n",
      "Epoch 14/20\n",
      "382/382 [==============================] - 10s 26ms/step - loss: 0.2304 - accuracy: 0.9489 - val_loss: 0.6758 - val_accuracy: 0.7660\n",
      "Epoch 15/20\n",
      "382/382 [==============================] - 11s 29ms/step - loss: 0.2115 - accuracy: 0.9557 - val_loss: 0.6843 - val_accuracy: 0.7679\n",
      "Epoch 16/20\n",
      "382/382 [==============================] - 11s 29ms/step - loss: 0.2110 - accuracy: 0.9557 - val_loss: 0.6947 - val_accuracy: 0.7689\n",
      "Epoch 17/20\n",
      "382/382 [==============================] - 14s 36ms/step - loss: 0.1978 - accuracy: 0.9561 - val_loss: 0.7020 - val_accuracy: 0.7709\n",
      "Epoch 18/20\n",
      "382/382 [==============================] - 15s 39ms/step - loss: 0.1937 - accuracy: 0.9616 - val_loss: 0.7152 - val_accuracy: 0.7630\n",
      "Epoch 19/20\n",
      "382/382 [==============================] - 9s 23ms/step - loss: 0.1923 - accuracy: 0.9590 - val_loss: 0.7194 - val_accuracy: 0.7660\n",
      "Epoch 20/20\n",
      "382/382 [==============================] - 9s 24ms/step - loss: 0.2010 - accuracy: 0.9544 - val_loss: 0.7314 - val_accuracy: 0.7699\n"
     ]
    }
   ],
   "source": [
    "history2 = model2.fit(X_train, y_train, epochs=10, verbose=1, batch_size=4,\n",
    "                      validation_data=(X_val, y_val))"
   ]
  },
  {
   "cell_type": "code",
   "execution_count": 70,
   "metadata": {},
   "outputs": [
    {
     "data": {
      "image/png": "[encoded data removed]",
      "text/plain": [
       "<Figure size 864x288 with 2 Axes>"
      ]
     },
     "metadata": {
      "needs_background": "light"
     },
     "output_type": "display_data"
    }
   ],
   "source": [
    "plot_history(history2)"
   ]
  },
  {
   "cell_type": "code",
   "execution_count": 68,
   "metadata": {},
   "outputs": [
    {
     "data": {
      "image/png": "[encoded data removed]",
      "text/plain": [
       "<Figure size 864x288 with 2 Axes>"
      ]
     },
     "metadata": {
      "needs_background": "light"
     },
     "output_type": "display_data"
    }
   ],
   "source": [
    "plot_history(history2)"
   ]
  },
  {
   "cell_type": "code",
   "execution_count": 64,
   "metadata": {},
   "outputs": [
    {
     "data": {
      "image/png": "[encoded data removed]",
      "text/plain": [
       "<Figure size 864x288 with 2 Axes>"
      ]
     },
     "metadata": {
      "needs_background": "light"
     },
     "output_type": "display_data"
    }
   ],
   "source": [
    "plot_history(history2)"
   ]
  },
  {
   "cell_type": "code",
   "execution_count": 50,
   "metadata": {},
   "outputs": [],
   "source": [
    "\n",
    "text = \"Google is working on self driving cars, I'm bullish on $goog\"\n",
    "\n",
    "tokens = preprocess(text)\n",
    "tokens = [word for word in tokens if word in filtered_words]\n",
    "tokens = [vocab[word] for word in tokens] \n",
    "X_input = pad_list(tokens, max_len=20)"
   ]
  },
  {
   "cell_type": "code",
   "execution_count": 53,
   "metadata": {},
   "outputs": [
    {
     "name": "stdout",
     "output_type": "stream",
     "text": [
      "WARNING:tensorflow:From <ipython-input-53-5488d89273e5>:1: Sequential.predict_classes (from tensorflow.python.keras.engine.sequential) is deprecated and will be removed after 2021-01-01.\n",
      "Instructions for updating:\n",
      "Please use instead:* `np.argmax(model.predict(x), axis=-1)`,   if your model does multi-class classification   (e.g. if it uses a `softmax` last-layer activation).* `(model.predict(x) > 0.5).astype(\"int32\")`,   if your model does binary classification   (e.g. if it uses a `sigmoid` last-layer activation).\n"
     ]
    },
    {
     "data": {
      "text/plain": [
       "array([3, 4, 4, 4, 4, 4, 4, 4, 4, 4, 4, 4, 4, 4, 4, 4, 4, 4, 4, 4])"
      ]
     },
     "execution_count": 53,
     "metadata": {},
     "output_type": "execute_result"
    }
   ],
   "source": [
    "model1.predict(X_input)"
   ]
  },
  {
   "cell_type": "code",
   "execution_count": null,
   "metadata": {},
   "outputs": [],
   "source": [
    "def predict(text, model, vocab):\n",
    "    \n",
    "    # TODO Implement\n",
    "    tokens = preprocess(text)\n",
    "    tokens = [word for word in tokens if word in filtered_words]\n",
    "    tokens = [vocab[word] for word in tokens] \n",
    "    padded_tokens = pad_list(tokens, max_len=20)\n",
    "    \n",
    "\n",
    "    text_input = torch.tensor(tokens).unsqueeze(0)\n",
    "    \n",
    "    if train_on_gpu:\n",
    "        text_input = text_input.cuda()\n",
    "        model.cuda()\n",
    "    # Get the NN output\n",
    "    hidden = model.init_hidden(text_input.size(0))\n",
    "    logps, _ = model.forward(text_input, hidden)\n",
    "    # Take the exponent of the NN output to get a range of 0 to 1 for each label.\n",
    "    pred = torch.exp(logps)\n",
    "    \n",
    "    return pred"
   ]
  },
  {
   "cell_type": "code",
   "execution_count": null,
   "metadata": {},
   "outputs": [],
   "source": []
  },
  {
   "cell_type": "code",
   "execution_count": null,
   "metadata": {},
   "outputs": [],
   "source": []
  }
 ],
 "metadata": {
  "kernelspec": {
   "display_name": "Python 3",
   "language": "python",
   "name": "python3"
  },
  "language_info": {
   "codemirror_mode": {
    "name": "ipython",
    "version": 3
   },
   "file_extension": ".py",
   "mimetype": "text/x-python",
   "name": "python",
   "nbconvert_exporter": "python",
   "pygments_lexer": "ipython3",
   "version": "3.8.5"
  }
 },
 "nbformat": 4,
 "nbformat_minor": 4
}
