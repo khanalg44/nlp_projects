{
 "cells": [
  {
   "cell_type": "markdown",
   "metadata": {
    "id": "IM2ldeeVkqpr"
   },
   "source": [
    "# Sentiment Analysis Stock-Twits"
   ]
  },
  {
   "cell_type": "code",
   "execution_count": 15,
   "metadata": {
    "executionInfo": {
     "elapsed": 799,
     "status": "ok",
     "timestamp": 1613422164160,
     "user": {
      "displayName": "Ghanashyam Khanal",
      "photoUrl": "https://lh3.googleusercontent.com/a-/AOh14GjNFB_3XwLB8BEW17lVypQ54QKRq7KnQZVd8M-QU9c=s64",
      "userId": "16880718905978803098"
     },
     "user_tz": 300
    },
    "id": "nlA_TAfqkqpx"
   },
   "outputs": [],
   "source": [
    "import numpy as np\n",
    "import pandas as pd\n",
    "import pylab as plt\n",
    "import seaborn as sns\n",
    "\n",
    "import json, re\n",
    "from nltk.corpus import stopwords\n",
    "from nltk.stem import PorterStemmer\n",
    "\n",
    "from helper import *\n",
    "\n",
    "from scipy import sparse as sp_sparse\n",
    "\n",
    "from sklearn.model_selection import train_test_split\n",
    "\n",
    "data_dir = './'"
   ]
  },
  {
   "cell_type": "code",
   "execution_count": 5,
   "metadata": {},
   "outputs": [
    {
     "data": {
      "text/html": [
       "<div>\n",
       "<style scoped>\n",
       "    .dataframe tbody tr th:only-of-type {\n",
       "        vertical-align: middle;\n",
       "    }\n",
       "\n",
       "    .dataframe tbody tr th {\n",
       "        vertical-align: top;\n",
       "    }\n",
       "\n",
       "    .dataframe thead th {\n",
       "        text-align: right;\n",
       "    }\n",
       "</style>\n",
       "<table border=\"1\" class=\"dataframe\">\n",
       "  <thead>\n",
       "    <tr style=\"text-align: right;\">\n",
       "      <th></th>\n",
       "      <th>message_body</th>\n",
       "      <th>sentiment</th>\n",
       "      <th>timestamp</th>\n",
       "      <th>message_processed</th>\n",
       "    </tr>\n",
       "  </thead>\n",
       "  <tbody>\n",
       "    <tr>\n",
       "      <th>0</th>\n",
       "      <td>$FITB great buy at 26.00...ill wait</td>\n",
       "      <td>4</td>\n",
       "      <td>2018-07-01T00:00:09Z</td>\n",
       "      <td>great buy ill wait</td>\n",
       "    </tr>\n",
       "    <tr>\n",
       "      <th>1</th>\n",
       "      <td>#STAAnalystAlert for $TDG : Jefferies Maintain...</td>\n",
       "      <td>4</td>\n",
       "      <td>2018-07-01T00:01:24Z</td>\n",
       "      <td>staanalystalert jefferies maintains rating hol...</td>\n",
       "    </tr>\n",
       "  </tbody>\n",
       "</table>\n",
       "</div>"
      ],
      "text/plain": [
       "                                        message_body  sentiment  \\\n",
       "0                $FITB great buy at 26.00...ill wait          4   \n",
       "1  #STAAnalystAlert for $TDG : Jefferies Maintain...          4   \n",
       "\n",
       "              timestamp                                  message_processed  \n",
       "0  2018-07-01T00:00:09Z                                 great buy ill wait  \n",
       "1  2018-07-01T00:01:24Z  staanalystalert jefferies maintains rating hol...  "
      ]
     },
     "execution_count": 5,
     "metadata": {},
     "output_type": "execute_result"
    }
   ],
   "source": [
    "df = pd.read_csv(data_dir+'stock_twits_processed.csv')\n",
    "df.head(2)"
   ]
  },
  {
   "cell_type": "markdown",
   "metadata": {},
   "source": [
    "## Bag of Words Method"
   ]
  },
  {
   "cell_type": "code",
   "execution_count": 6,
   "metadata": {},
   "outputs": [],
   "source": [
    "from collections import Counter\n",
    "ALL_WORDS = [word for text in df['message_processed'] for word in text.split() ]\n",
    "words_counts = Counter(ALL_WORDS)\n"
   ]
  },
  {
   "cell_type": "code",
   "execution_count": 7,
   "metadata": {},
   "outputs": [],
   "source": [
    "DICT_SIZE = 1000\n",
    "VOCAB = words_counts.most_common(DICT_SIZE)\n",
    "WORDS_TO_INDEX = {item[0]:ii for ii, item in enumerate(VOCAB) }\n",
    "INDEX_TO_WORDS = {ii:word for word, ii in WORDS_TO_INDEX.items()}"
   ]
  },
  {
   "cell_type": "code",
   "execution_count": 10,
   "metadata": {},
   "outputs": [
    {
     "name": "stdout",
     "output_type": "stream",
     "text": [
      "X_train shape  (514796, 1000)\n",
      "X_test shape  (128700, 1000)\n",
      "y_train shape  (514796,)\n",
      "y_test shape  (128700,)\n"
     ]
    }
   ],
   "source": [
    "from collections import Counter\n",
    "from scipy import sparse as sp_sparse\n",
    "\n",
    "ALL_WORDS = [word for text in df['message_processed'] for word in text.split() ]\n",
    "words_counts = Counter(ALL_WORDS)\n",
    "\n",
    "def bag_of_words(text, words_to_index):\n",
    "    result_vec = np.zeros(len(words_to_index.keys()))\n",
    "    for word in text.split():\n",
    "        if word in words_to_index:\n",
    "            result_vec[words_to_index[word]] +=1\n",
    "    return result_vec\n",
    "\n",
    "def prepare_BOW(df, col):\n",
    "    df_train, df_test = train_test_split(df, test_size=0.2, random_state = 8848)\n",
    "    X_train_bow = sp_sparse.vstack([ sp_sparse.csr_matrix(bag_of_words(text,\n",
    "                                                                       WORDS_TO_INDEX)) for text in df_train[col]])\n",
    "    X_test_bow = sp_sparse.vstack([ sp_sparse.csr_matrix(bag_of_words(text,\n",
    "                                                                      WORDS_TO_INDEX)) for text in df_test[col]])\n",
    "\n",
    "    y_train = df_train['sentiment'].values\n",
    "    y_test  = df_test['sentiment'].values\n",
    "    \n",
    "    print('X_train shape ', X_train_bow.shape)\n",
    "    print('X_test shape ',  X_test_bow.shape)\n",
    "    print('y_train shape ', y_train.shape)\n",
    "    print('y_test shape ',  y_test.shape)\n",
    "    \n",
    "    return X_train_bow, X_test_bow, y_train, y_test\n",
    "\n",
    "X_train_bow, X_test_bow, y_train_bow, y_test_bow = prepare_BOW(df, \"message_processed\")"
   ]
  },
  {
   "cell_type": "markdown",
   "metadata": {},
   "source": [
    "## Model : Logistic Regression for BOW method"
   ]
  },
  {
   "cell_type": "code",
   "execution_count": 12,
   "metadata": {},
   "outputs": [
    {
     "name": "stdout",
     "output_type": "stream",
     "text": [
      "[LibLinear]"
     ]
    },
    {
     "data": {
      "text/plain": [
       "LogisticRegression(max_iter=500, random_state=8848, solver='liblinear',\n",
       "                   verbose=1)"
      ]
     },
     "execution_count": 12,
     "metadata": {},
     "output_type": "execute_result"
    }
   ],
   "source": [
    "from sklearn.linear_model import LogisticRegression\n",
    "\n",
    "model_bow = LogisticRegression(verbose=1, solver='liblinear',\n",
    "                           random_state=8848, max_iter=500)\n",
    "model_bow.fit(X_train_bow, y_train_bow)"
   ]
  },
  {
   "cell_type": "markdown",
   "metadata": {},
   "source": [
    "## Prediction"
   ]
  },
  {
   "cell_type": "code",
   "execution_count": 17,
   "metadata": {},
   "outputs": [],
   "source": [
    "def calc_prediction(model, X_test, y_test, categorical=False, ax=None, title=None):\n",
    "    data_dir=\"./\"\n",
    "\n",
    "    y_pred = model.predict(X_test)\n",
    "        \n",
    "    if categorical:\n",
    "        y_pred = np.argmax(y_pred, axis=1)\n",
    "        y_test = np.argmax(y_test, axis=1)\n",
    "                \n",
    "    report = classification_report(y_test, y_pred)\n",
    "\n",
    "    if title: print (\"Method:\",title)\n",
    "    print (\"Classification Report:\\n\", report)\n",
    "    print ()\n",
    "    confusionmatrix=confusion_matrix( y_test, y_pred)\n",
    "    if ax==None:\n",
    "        (fig, ax) = plt.subplots(1,1,figsize=(6,6))\n",
    "    sns.heatmap(confusionmatrix, cmap='viridis', annot=True, cbar=False, ax=ax)\n",
    "    ax.set_title(title, fontsize=16)"
   ]
  },
  {
   "cell_type": "code",
   "execution_count": 21,
   "metadata": {},
   "outputs": [
    {
     "name": "stdout",
     "output_type": "stream",
     "text": [
      "Classification Report:\n",
      "               precision    recall  f1-score   support\n",
      "\n",
      "           0       0.67      0.63      0.65     25721\n",
      "           1       0.59      0.47      0.52     26005\n",
      "           2       0.51      0.77      0.61     25212\n",
      "           3       0.54      0.38      0.44     25489\n",
      "           4       0.65      0.69      0.67     26273\n",
      "\n",
      "    accuracy                           0.59    128700\n",
      "   macro avg       0.59      0.59      0.58    128700\n",
      "weighted avg       0.59      0.59      0.58    128700\n",
      "\n",
      "\n"
     ]
    },
    {
     "data": {
      "image/png": "[encoded data removed]",
      "text/plain": [
       "<Figure size 720x720 with 1 Axes>"
      ]
     },
     "metadata": {
      "needs_background": "light"
     },
     "output_type": "display_data"
    }
   ],
   "source": [
    "(fig, ax) = plt.subplots(1,1,figsize=(10,10))\n",
    "calc_prediction(model_bow, X_test_bow, y_test_bow, categorical=False, ax=ax, title=None)"
   ]
  },
  {
   "cell_type": "markdown",
   "metadata": {
    "id": "MpNN3GVtkqp5"
   },
   "source": [
    "## Tf-IDF method\n",
    "- train, test, val split\n",
    "- tokenize the text\n",
    "- Use TFIDF features from sklearn"
   ]
  },
  {
   "cell_type": "code",
   "execution_count": 23,
   "metadata": {},
   "outputs": [],
   "source": [
    "from sklearn.feature_extraction.text import CountVectorizer,TfidfVectorizer\n",
    "\n",
    "def prepare_TFIDF(df, col):\n",
    "    df_train, df_test = train_test_split(df, test_size=0.2, random_state = 8848)\n",
    "    \n",
    "    vectorizer = TfidfVectorizer(use_idf=True, max_df=0.95)\n",
    "    vectorizer.fit_transform(df_train[col].values)\n",
    "    \n",
    "    X_train = vectorizer.transform(df_train[col].values)\n",
    "    X_test  = vectorizer.transform(df_test[col].values)\n",
    "    \n",
    "    y_train = df_train['sentiment'].values\n",
    "    y_test  = df_test['sentiment'].values\n",
    "\n",
    "    return X_train, X_test, y_train, y_test, vectorizer\n",
    "\n",
    "X_train_tf, X_test_tf, y_train_tf, y_test_tf, vectorizer= prepare_TFIDF(df, \"message_processed\")"
   ]
  },
  {
   "cell_type": "markdown",
   "metadata": {},
   "source": [
    "## Model : Logistic Regression for TFIDF method"
   ]
  },
  {
   "cell_type": "code",
   "execution_count": 24,
   "metadata": {},
   "outputs": [
    {
     "name": "stdout",
     "output_type": "stream",
     "text": [
      "[LibLinear]"
     ]
    },
    {
     "data": {
      "text/plain": [
       "LogisticRegression(max_iter=500, random_state=8848, solver='liblinear',\n",
       "                   verbose=1)"
      ]
     },
     "execution_count": 24,
     "metadata": {},
     "output_type": "execute_result"
    }
   ],
   "source": [
    "model_tf = LogisticRegression(verbose=1, solver='liblinear',\n",
    "                           random_state=8848, max_iter=500)\n",
    "model_tf.fit(X_train_tf, y_train_tf)"
   ]
  },
  {
   "cell_type": "markdown",
   "metadata": {},
   "source": [
    "## Prediction"
   ]
  },
  {
   "cell_type": "code",
   "execution_count": 25,
   "metadata": {},
   "outputs": [
    {
     "name": "stdout",
     "output_type": "stream",
     "text": [
      "Classification Report:\n",
      "               precision    recall  f1-score   support\n",
      "\n",
      "           0       0.70      0.69      0.69     25721\n",
      "           1       0.60      0.55      0.57     26005\n",
      "           2       0.62      0.72      0.66     25212\n",
      "           3       0.54      0.46      0.50     25489\n",
      "           4       0.67      0.72      0.69     26273\n",
      "\n",
      "    accuracy                           0.63    128700\n",
      "   macro avg       0.62      0.63      0.62    128700\n",
      "weighted avg       0.62      0.63      0.62    128700\n",
      "\n",
      "\n"
     ]
    },
    {
     "data": {
      "image/png": "[encoded data removed]",
      "text/plain": [
       "<Figure size 432x432 with 1 Axes>"
      ]
     },
     "metadata": {
      "needs_background": "light"
     },
     "output_type": "display_data"
    }
   ],
   "source": [
    "calc_prediction(model_tf, X_test_tf, y_test_tf, categorical=False, ax=None, title=None)"
   ]
  },
  {
   "cell_type": "markdown",
   "metadata": {
    "id": "CzzdkrRIkqp_"
   },
   "source": [
    "## Predictions for new texts"
   ]
  },
  {
   "cell_type": "code",
   "execution_count": 29,
   "metadata": {},
   "outputs": [],
   "source": [
    "def Prediction_tf(doc, model=model_tf, vectorizer=vectorizer):    \n",
    "    doc_processed = process_text(doc)\n",
    "    X_in = vectorizer.transform([doc_processed])\n",
    "    y_out = model.predict(X_in)[0]    \n",
    "    print (f\"TFIDF Prediction \\t {y_out}\")"
   ]
  },
  {
   "cell_type": "code",
   "execution_count": 30,
   "metadata": {},
   "outputs": [],
   "source": [
    "def Prediction_bow(doc, model=model_bow, WORDS_TO_INDEX=WORDS_TO_INDEX):\n",
    "    doc_processed = process_text(doc)\n",
    "    X_in = sp_sparse.vstack([ sp_sparse.csr_matrix(bag_of_words(doc_processed,\n",
    "                                                                WORDS_TO_INDEX)) ])\n",
    "    y_out = model_bow.predict(X_in)[0]\n",
    "    print (f\"Bag of Words Prediction \\t {y_out}\")"
   ]
  },
  {
   "cell_type": "code",
   "execution_count": 31,
   "metadata": {},
   "outputs": [
    {
     "name": "stdout",
     "output_type": "stream",
     "text": [
      "Bag of Words Prediction \t 2\n",
      "TFIDF Prediction \t 2\n"
     ]
    }
   ],
   "source": [
    "twit1=\"$NIO $TSLA car spontaneously catches fire. \\\n",
    "    NIO car catches fire while being worked on in a \\\n",
    "    service factory. Which is more concerning? \"\n",
    "\n",
    "Prediction_bow(twit1)\n",
    "Prediction_tf(twit1)"
   ]
  },
  {
   "cell_type": "code",
   "execution_count": null,
   "metadata": {},
   "outputs": [],
   "source": []
  }
 ],
 "metadata": {
  "accelerator": "GPU",
  "colab": {
   "collapsed_sections": [],
   "name": "04_sentiment_analysis_TF.ipynb",
   "provenance": []
  },
  "kernelspec": {
   "display_name": "Python 3",
   "language": "python",
   "name": "python3"
  },
  "language_info": {
   "codemirror_mode": {
    "name": "ipython",
    "version": 3
   },
   "file_extension": ".py",
   "mimetype": "text/x-python",
   "name": "python",
   "nbconvert_exporter": "python",
   "pygments_lexer": "ipython3",
   "version": "3.8.5"
  }
 },
 "nbformat": 4,
 "nbformat_minor": 1
}
