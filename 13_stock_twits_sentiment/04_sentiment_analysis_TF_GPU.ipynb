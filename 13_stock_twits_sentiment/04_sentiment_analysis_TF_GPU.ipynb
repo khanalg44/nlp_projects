{
 "cells": [
  {
   "cell_type": "markdown",
   "metadata": {
    "id": "IM2ldeeVkqpr"
   },
   "source": [
    "# Sentiment Analysis on StockTwits"
   ]
  },
  {
   "cell_type": "code",
   "execution_count": 22,
   "metadata": {
    "executionInfo": {
     "elapsed": 799,
     "status": "ok",
     "timestamp": 1613422164160,
     "user": {
      "displayName": "Ghanashyam Khanal",
      "photoUrl": "https://lh3.googleusercontent.com/a-/AOh14GjNFB_3XwLB8BEW17lVypQ54QKRq7KnQZVd8M-QU9c=s64",
      "userId": "16880718905978803098"
     },
     "user_tz": 300
    },
    "id": "nlA_TAfqkqpx"
   },
   "outputs": [],
   "source": [
    "import numpy as np\n",
    "import pandas as pd\n",
    "import pylab as plt\n",
    "\n",
    "import json, re\n",
    "from nltk.corpus import stopwords\n",
    "from nltk.stem import PorterStemmer\n",
    "\n",
    "from sklearn.model_selection import train_test_split\n",
    "\n",
    "#from helper import plot_history\n",
    "\n",
    "from tensorflow.keras.preprocessing.text import Tokenizer\n",
    "from tensorflow.keras.preprocessing.sequence import pad_sequences\n",
    "from tensorflow.keras.utils import to_categorical\n",
    "\n",
    "\n",
    "data_dir = '../nlp_datasets/12_twitter_sentiment/'"
   ]
  },
  {
   "cell_type": "code",
   "execution_count": 23,
   "metadata": {
    "colab": {
     "base_uri": "https://localhost:8080/"
    },
    "executionInfo": {
     "elapsed": 1796,
     "status": "ok",
     "timestamp": 1613422165169,
     "user": {
      "displayName": "Ghanashyam Khanal",
      "photoUrl": "https://lh3.googleusercontent.com/a-/AOh14GjNFB_3XwLB8BEW17lVypQ54QKRq7KnQZVd8M-QU9c=s64",
      "userId": "16880718905978803098"
     },
     "user_tz": 300
    },
    "id": "yLxVZJ_0k3Ta",
    "outputId": "7279834e-975c-4e78-d6ba-4b21dd56b90b"
   },
   "outputs": [
    {
     "name": "stdout",
     "output_type": "stream",
     "text": [
      "Drive already mounted at /content/drive; to attempt to forcibly remount, call drive.mount(\"/content/drive\", force_remount=True).\n",
      "04_sentiment_analysis_TF.ipynb\ttest_twits.json  train_twits.json\n"
     ]
    }
   ],
   "source": [
    "from google.colab import drive\n",
    "drive.mount('/content/drive')\n",
    "! ls /content/drive/MyDrive/ml_notebooks/nlp_twits/\n",
    "! cp /content/drive/MyDrive/ml_notebooks/nlp_twits/train_twits.json ."
   ]
  },
  {
   "cell_type": "code",
   "execution_count": 24,
   "metadata": {
    "colab": {
     "base_uri": "https://localhost:8080/"
    },
    "executionInfo": {
     "elapsed": 1784,
     "status": "ok",
     "timestamp": 1613422165172,
     "user": {
      "displayName": "Ghanashyam Khanal",
      "photoUrl": "https://lh3.googleusercontent.com/a-/AOh14GjNFB_3XwLB8BEW17lVypQ54QKRq7KnQZVd8M-QU9c=s64",
      "userId": "16880718905978803098"
     },
     "user_tz": 300
    },
    "id": "VW2-k1j_lVvD",
    "outputId": "8d63a4c9-63f1-47c6-cead-0923a99de15d"
   },
   "outputs": [
    {
     "name": "stdout",
     "output_type": "stream",
     "text": [
      "./train_twits.json\n",
      "\n",
      "./drive:\n",
      "MyDrive\n",
      "\n",
      "./sample_data:\n",
      "anscombe.json\t\t      mnist_test.csv\n",
      "california_housing_test.csv   mnist_train_small.csv\n",
      "california_housing_train.csv  README.md\n"
     ]
    }
   ],
   "source": [
    "data_dir = './'\n",
    "!ls ./*"
   ]
  },
  {
   "cell_type": "code",
   "execution_count": 25,
   "metadata": {
    "executionInfo": {
     "elapsed": 5443,
     "status": "ok",
     "timestamp": 1613422168840,
     "user": {
      "displayName": "Ghanashyam Khanal",
      "photoUrl": "https://lh3.googleusercontent.com/a-/AOh14GjNFB_3XwLB8BEW17lVypQ54QKRq7KnQZVd8M-QU9c=s64",
      "userId": "16880718905978803098"
     },
     "user_tz": 300
    },
    "id": "Y_nLaqVIkqpz"
   },
   "outputs": [],
   "source": [
    "def load_data():\n",
    "    with open(data_dir+'train_twits.json', 'r') as f:\n",
    "        twits = json.load(f)\n",
    "    df = pd.DataFrame(twits['data'])\n",
    "    return df\n",
    "    \n",
    "data = load_data()"
   ]
  },
  {
   "cell_type": "code",
   "execution_count": 26,
   "metadata": {
    "colab": {
     "base_uri": "https://localhost:8080/",
     "height": 123
    },
    "executionInfo": {
     "elapsed": 5429,
     "status": "ok",
     "timestamp": 1613422168846,
     "user": {
      "displayName": "Ghanashyam Khanal",
      "photoUrl": "https://lh3.googleusercontent.com/a-/AOh14GjNFB_3XwLB8BEW17lVypQ54QKRq7KnQZVd8M-QU9c=s64",
      "userId": "16880718905978803098"
     },
     "user_tz": 300
    },
    "id": "u4WNoCCdkqpz",
    "outputId": "63816fd7-4574-415d-e0d0-1bb0e6bb5378"
   },
   "outputs": [
    {
     "name": "stdout",
     "output_type": "stream",
     "text": [
      "data shape:(1548010, 3)\n"
     ]
    },
    {
     "data": {
      "text/html": [
       "<div>\n",
       "<style scoped>\n",
       "    .dataframe tbody tr th:only-of-type {\n",
       "        vertical-align: middle;\n",
       "    }\n",
       "\n",
       "    .dataframe tbody tr th {\n",
       "        vertical-align: top;\n",
       "    }\n",
       "\n",
       "    .dataframe thead th {\n",
       "        text-align: right;\n",
       "    }\n",
       "</style>\n",
       "<table border=\"1\" class=\"dataframe\">\n",
       "  <thead>\n",
       "    <tr style=\"text-align: right;\">\n",
       "      <th></th>\n",
       "      <th>message_body</th>\n",
       "      <th>sentiment</th>\n",
       "      <th>timestamp</th>\n",
       "    </tr>\n",
       "  </thead>\n",
       "  <tbody>\n",
       "    <tr>\n",
       "      <th>0</th>\n",
       "      <td>$FITB great buy at 26.00...ill wait</td>\n",
       "      <td>2</td>\n",
       "      <td>2018-07-01T00:00:09Z</td>\n",
       "    </tr>\n",
       "    <tr>\n",
       "      <th>1</th>\n",
       "      <td>@StockTwits $MSFT</td>\n",
       "      <td>1</td>\n",
       "      <td>2018-07-01T00:00:42Z</td>\n",
       "    </tr>\n",
       "  </tbody>\n",
       "</table>\n",
       "</div>"
      ],
      "text/plain": [
       "                          message_body  sentiment             timestamp\n",
       "0  $FITB great buy at 26.00...ill wait          2  2018-07-01T00:00:09Z\n",
       "1                    @StockTwits $MSFT          1  2018-07-01T00:00:42Z"
      ]
     },
     "execution_count": 26,
     "metadata": {
      "tags": []
     },
     "output_type": "execute_result"
    }
   ],
   "source": [
    "print (f\"data shape:{data.shape}\")\n",
    "data.head(2)"
   ]
  },
  {
   "cell_type": "code",
   "execution_count": 27,
   "metadata": {
    "executionInfo": {
     "elapsed": 5417,
     "status": "ok",
     "timestamp": 1613422168850,
     "user": {
      "displayName": "Ghanashyam Khanal",
      "photoUrl": "https://lh3.googleusercontent.com/a-/AOh14GjNFB_3XwLB8BEW17lVypQ54QKRq7KnQZVd8M-QU9c=s64",
      "userId": "16880718905978803098"
     },
     "user_tz": 300
    },
    "id": "eknsmfl4kqp0"
   },
   "outputs": [],
   "source": [
    "# cut the data short to make learning faster keep only 8010 of them\n",
    "#random_indices = np.random.choice(range(df.shape[0]), size=8010)\n",
    "#df = df.loc[random_indices]\n",
    "df_top = data.loc[:500000]"
   ]
  },
  {
   "cell_type": "code",
   "execution_count": 28,
   "metadata": {
    "colab": {
     "base_uri": "https://localhost:8080/"
    },
    "executionInfo": {
     "elapsed": 5621,
     "status": "ok",
     "timestamp": 1613422169060,
     "user": {
      "displayName": "Ghanashyam Khanal",
      "photoUrl": "https://lh3.googleusercontent.com/a-/AOh14GjNFB_3XwLB8BEW17lVypQ54QKRq7KnQZVd8M-QU9c=s64",
      "userId": "16880718905978803098"
     },
     "user_tz": 300
    },
    "id": "UWS8Art3kqp0",
    "outputId": "04c7b09d-2d8f-40d7-c231-1b4a0fd755b2"
   },
   "outputs": [
    {
     "data": {
      "text/plain": [
       "array([ 2,  1,  0, -2, -1])"
      ]
     },
     "execution_count": 28,
     "metadata": {
      "tags": []
     },
     "output_type": "execute_result"
    }
   ],
   "source": [
    "df= df_top.copy()\n",
    "df.sentiment.unique()"
   ]
  },
  {
   "cell_type": "code",
   "execution_count": 29,
   "metadata": {
    "executionInfo": {
     "elapsed": 5903,
     "status": "ok",
     "timestamp": 1613422169348,
     "user": {
      "displayName": "Ghanashyam Khanal",
      "photoUrl": "https://lh3.googleusercontent.com/a-/AOh14GjNFB_3XwLB8BEW17lVypQ54QKRq7KnQZVd8M-QU9c=s64",
      "userId": "16880718905978803098"
     },
     "user_tz": 300
    },
    "id": "KUm4zxSNkqp1"
   },
   "outputs": [],
   "source": [
    "# convert the labels to [0-4] instead of [-2, 2]\n",
    "df['sentiment'] = df['sentiment'].apply(lambda x:x+2)"
   ]
  },
  {
   "cell_type": "code",
   "execution_count": 30,
   "metadata": {
    "colab": {
     "base_uri": "https://localhost:8080/",
     "height": 229
    },
    "executionInfo": {
     "elapsed": 5943,
     "status": "ok",
     "timestamp": 1613422169356,
     "user": {
      "displayName": "Ghanashyam Khanal",
      "photoUrl": "https://lh3.googleusercontent.com/a-/AOh14GjNFB_3XwLB8BEW17lVypQ54QKRq7KnQZVd8M-QU9c=s64",
      "userId": "16880718905978803098"
     },
     "user_tz": 300
    },
    "id": "7kIbWbkykqp1",
    "outputId": "1d8fd57a-b120-49d4-b48e-583e6f4f4ab5"
   },
   "outputs": [
    {
     "name": "stdout",
     "output_type": "stream",
     "text": [
      "unique sentiments: [4 3 2 0 1]\n",
      "data shape:(500001, 3)\n"
     ]
    },
    {
     "data": {
      "text/html": [
       "<div>\n",
       "<style scoped>\n",
       "    .dataframe tbody tr th:only-of-type {\n",
       "        vertical-align: middle;\n",
       "    }\n",
       "\n",
       "    .dataframe tbody tr th {\n",
       "        vertical-align: top;\n",
       "    }\n",
       "\n",
       "    .dataframe thead th {\n",
       "        text-align: right;\n",
       "    }\n",
       "</style>\n",
       "<table border=\"1\" class=\"dataframe\">\n",
       "  <thead>\n",
       "    <tr style=\"text-align: right;\">\n",
       "      <th></th>\n",
       "      <th>message_body</th>\n",
       "      <th>sentiment</th>\n",
       "      <th>timestamp</th>\n",
       "    </tr>\n",
       "  </thead>\n",
       "  <tbody>\n",
       "    <tr>\n",
       "      <th>0</th>\n",
       "      <td>$FITB great buy at 26.00...ill wait</td>\n",
       "      <td>4</td>\n",
       "      <td>2018-07-01T00:00:09Z</td>\n",
       "    </tr>\n",
       "    <tr>\n",
       "      <th>1</th>\n",
       "      <td>@StockTwits $MSFT</td>\n",
       "      <td>3</td>\n",
       "      <td>2018-07-01T00:00:42Z</td>\n",
       "    </tr>\n",
       "    <tr>\n",
       "      <th>2</th>\n",
       "      <td>#STAAnalystAlert for $TDG : Jefferies Maintain...</td>\n",
       "      <td>4</td>\n",
       "      <td>2018-07-01T00:01:24Z</td>\n",
       "    </tr>\n",
       "    <tr>\n",
       "      <th>3</th>\n",
       "      <td>$AMD I heard there’s a guy who knows someone w...</td>\n",
       "      <td>3</td>\n",
       "      <td>2018-07-01T00:01:47Z</td>\n",
       "    </tr>\n",
       "    <tr>\n",
       "      <th>4</th>\n",
       "      <td>$AMD reveal yourself!</td>\n",
       "      <td>2</td>\n",
       "      <td>2018-07-01T00:02:13Z</td>\n",
       "    </tr>\n",
       "  </tbody>\n",
       "</table>\n",
       "</div>"
      ],
      "text/plain": [
       "                                        message_body  ...             timestamp\n",
       "0                $FITB great buy at 26.00...ill wait  ...  2018-07-01T00:00:09Z\n",
       "1                                  @StockTwits $MSFT  ...  2018-07-01T00:00:42Z\n",
       "2  #STAAnalystAlert for $TDG : Jefferies Maintain...  ...  2018-07-01T00:01:24Z\n",
       "3  $AMD I heard there’s a guy who knows someone w...  ...  2018-07-01T00:01:47Z\n",
       "4                              $AMD reveal yourself!  ...  2018-07-01T00:02:13Z\n",
       "\n",
       "[5 rows x 3 columns]"
      ]
     },
     "execution_count": 30,
     "metadata": {
      "tags": []
     },
     "output_type": "execute_result"
    }
   ],
   "source": [
    "print ( \"unique sentiments:\",df.sentiment.unique() )\n",
    "print (f\"data shape:{df.shape}\")\n",
    "df.head(5)"
   ]
  },
  {
   "cell_type": "code",
   "execution_count": 31,
   "metadata": {
    "colab": {
     "base_uri": "https://localhost:8080/",
     "height": 123
    },
    "executionInfo": {
     "elapsed": 5943,
     "status": "ok",
     "timestamp": 1613422169412,
     "user": {
      "displayName": "Ghanashyam Khanal",
      "photoUrl": "https://lh3.googleusercontent.com/a-/AOh14GjNFB_3XwLB8BEW17lVypQ54QKRq7KnQZVd8M-QU9c=s64",
      "userId": "16880718905978803098"
     },
     "user_tz": 300
    },
    "id": "NEmcvKpqkqp2",
    "outputId": "d741b74d-26c9-4dc6-8b5d-cdaa6c92db62"
   },
   "outputs": [
    {
     "name": "stdout",
     "output_type": "stream",
     "text": [
      " new data shape:(500001, 3)\n"
     ]
    },
    {
     "data": {
      "text/html": [
       "<div>\n",
       "<style scoped>\n",
       "    .dataframe tbody tr th:only-of-type {\n",
       "        vertical-align: middle;\n",
       "    }\n",
       "\n",
       "    .dataframe tbody tr th {\n",
       "        vertical-align: top;\n",
       "    }\n",
       "\n",
       "    .dataframe thead th {\n",
       "        text-align: right;\n",
       "    }\n",
       "</style>\n",
       "<table border=\"1\" class=\"dataframe\">\n",
       "  <thead>\n",
       "    <tr style=\"text-align: right;\">\n",
       "      <th></th>\n",
       "      <th>message_body</th>\n",
       "      <th>sentiment</th>\n",
       "      <th>timestamp</th>\n",
       "    </tr>\n",
       "  </thead>\n",
       "  <tbody>\n",
       "    <tr>\n",
       "      <th>0</th>\n",
       "      <td>$FITB great buy at 26.00...ill wait</td>\n",
       "      <td>4</td>\n",
       "      <td>2018-07-01T00:00:09Z</td>\n",
       "    </tr>\n",
       "    <tr>\n",
       "      <th>1</th>\n",
       "      <td>@StockTwits $MSFT</td>\n",
       "      <td>3</td>\n",
       "      <td>2018-07-01T00:00:42Z</td>\n",
       "    </tr>\n",
       "  </tbody>\n",
       "</table>\n",
       "</div>"
      ],
      "text/plain": [
       "                          message_body  sentiment             timestamp\n",
       "0  $FITB great buy at 26.00...ill wait          4  2018-07-01T00:00:09Z\n",
       "1                    @StockTwits $MSFT          3  2018-07-01T00:00:42Z"
      ]
     },
     "execution_count": 31,
     "metadata": {
      "tags": []
     },
     "output_type": "execute_result"
    }
   ],
   "source": [
    "print (f\" new data shape:{df.shape}\")\n",
    "df.head(2)"
   ]
  },
  {
   "cell_type": "code",
   "execution_count": 32,
   "metadata": {
    "colab": {
     "base_uri": "https://localhost:8080/"
    },
    "executionInfo": {
     "elapsed": 5933,
     "status": "ok",
     "timestamp": 1613422169417,
     "user": {
      "displayName": "Ghanashyam Khanal",
      "photoUrl": "https://lh3.googleusercontent.com/a-/AOh14GjNFB_3XwLB8BEW17lVypQ54QKRq7KnQZVd8M-QU9c=s64",
      "userId": "16880718905978803098"
     },
     "user_tz": 300
    },
    "id": "VyXB2EECkqp2",
    "outputId": "27cb74ce-5560-4057-90e4-cf3d61ba9eee"
   },
   "outputs": [
    {
     "name": "stdout",
     "output_type": "stream",
     "text": [
      "Tweets with sentiment:  4\n",
      "$INTC just like that in few hours lost 5K. all losses are offset by gain in $AMD in AH.  might buy more INTC in the morning. it is cheap\n",
      "\n",
      "Trade alert, 82% chance,$PSX will close above $121.66 support by end of session. Bullish. http://tradespoon.com/s.php?t=$PSX\n",
      "\n",
      "===================\n",
      "\n",
      "Tweets with sentiment:  3\n",
      "$BAC peeps will be running to the safety of $BAC\n",
      "\n",
      "$SOXL only 17% is semi-equipment but they are pulling their weight $MKSI $LRCX $AMAT $KLAC\n",
      "\n",
      "===================\n",
      "\n",
      "Tweets with sentiment:  2\n",
      "$NFLX RSI 31 wow\n",
      "\n",
      "$AAPL If Apple hadn&#39;t split it would be  $1400 dollar stoxk\n",
      "\n",
      "===================\n",
      "\n",
      "Tweets with sentiment:  0\n",
      "$NFLX dump to 390.00 before close\n",
      "\n",
      "$INTC DROPPING BELOW 49 LOL\n",
      "\n",
      "===================\n",
      "\n",
      "Tweets with sentiment:  1\n",
      "2018-07-09 Short sale volume (not short interest) for $ROST is 61%. http://shortvolumes.com/?t=ROST via @shortvolumes\n",
      "\n",
      "Short sale volume (not short interest) for $HES at 2018-07-12 is 31%. http://shortvolumes.com/?t=HES via @shortvolumes\n",
      "\n",
      "===================\n",
      "\n"
     ]
    }
   ],
   "source": [
    "def print_twts():\n",
    "    Ntwt=2\n",
    "    for i in df.sentiment.unique():\n",
    "        print (\"Tweets with sentiment: \", i)\n",
    "        twt=df[df['sentiment']==i].sample(Ntwt)['message_body'].values\n",
    "        for i in range(Ntwt):\n",
    "            print (twt[i])\n",
    "            print ()\n",
    "        print (\"===================\")\n",
    "        print ()\n",
    "        \n",
    "print_twts()"
   ]
  },
  {
   "cell_type": "code",
   "execution_count": 33,
   "metadata": {
    "colab": {
     "base_uri": "https://localhost:8080/"
    },
    "executionInfo": {
     "elapsed": 5927,
     "status": "ok",
     "timestamp": 1613422169418,
     "user": {
      "displayName": "Ghanashyam Khanal",
      "photoUrl": "https://lh3.googleusercontent.com/a-/AOh14GjNFB_3XwLB8BEW17lVypQ54QKRq7KnQZVd8M-QU9c=s64",
      "userId": "16880718905978803098"
     },
     "user_tz": 300
    },
    "id": "y8DIJYMskqp3",
    "outputId": "63d74a4f-8d73-4145-94b7-bf92758078ed"
   },
   "outputs": [
    {
     "name": "stdout",
     "output_type": "stream",
     "text": [
      "[nltk_data] Downloading package stopwords to /root/nltk_data...\n",
      "[nltk_data]   Package stopwords is already up-to-date!\n",
      "original  twt: \t $TSLA $DIS BMW, Hyundai Join GM in Pressing U.S. to Forgo Auto Tariffs via http://www.hvper.com/?ref=stw\n",
      "processed twt:\t bmw hyundai join gm press u forgo auto tariff via\n"
     ]
    }
   ],
   "source": [
    "import nltk\n",
    "nltk.download('stopwords')\n",
    "from nltk.corpus import stopwords\n",
    "\n",
    "STOPWORDS = set(stopwords.words('english'))\n",
    "\n",
    "st =  PorterStemmer()\n",
    "\n",
    "def process_twt(twt):\n",
    "    twt = twt.lower()                   # Lowercase the twit message\n",
    "    twt = re.sub(r'https?://\\S+', ' ', twt)# Replace URLs with a space\n",
    "    twt = re.sub(r'\\$\\S+', ' ', twt)       # Replace ticker symbols with a space\n",
    "    twt = re.sub(r'\\@\\S+', ' ', twt)       # Replace StockTwits usernames with a space.\n",
    "    twt = re.sub(r'[^a-zA-Z]', ' ', twt)   # Replace everything not a letter with a space    \n",
    "    #remove stopwords and stemmize\n",
    "    twt=\" \".join(st.stem(w) for w in twt.split() if w not in STOPWORDS)\n",
    "    return twt\n",
    "\n",
    "txt=df.message_body.values[1112]\n",
    "print (\"original  twt: \\t\", txt)\n",
    "print (\"processed twt:\\t\", process_twt(txt) )\n"
   ]
  },
  {
   "cell_type": "code",
   "execution_count": 34,
   "metadata": {
    "colab": {
     "base_uri": "https://localhost:8080/",
     "height": 166
    },
    "executionInfo": {
     "elapsed": 59899,
     "status": "ok",
     "timestamp": 1613422223399,
     "user": {
      "displayName": "Ghanashyam Khanal",
      "photoUrl": "https://lh3.googleusercontent.com/a-/AOh14GjNFB_3XwLB8BEW17lVypQ54QKRq7KnQZVd8M-QU9c=s64",
      "userId": "16880718905978803098"
     },
     "user_tz": 300
    },
    "id": "JH-AjwRFkqp4",
    "outputId": "50b1efe0-2dcc-493e-a8fc-3140dd079ff2"
   },
   "outputs": [
    {
     "data": {
      "text/html": [
       "<div>\n",
       "<style scoped>\n",
       "    .dataframe tbody tr th:only-of-type {\n",
       "        vertical-align: middle;\n",
       "    }\n",
       "\n",
       "    .dataframe tbody tr th {\n",
       "        vertical-align: top;\n",
       "    }\n",
       "\n",
       "    .dataframe thead th {\n",
       "        text-align: right;\n",
       "    }\n",
       "</style>\n",
       "<table border=\"1\" class=\"dataframe\">\n",
       "  <thead>\n",
       "    <tr style=\"text-align: right;\">\n",
       "      <th></th>\n",
       "      <th>sentiment</th>\n",
       "      <th>message_body</th>\n",
       "      <th>message_processed</th>\n",
       "    </tr>\n",
       "  </thead>\n",
       "  <tbody>\n",
       "    <tr>\n",
       "      <th>0</th>\n",
       "      <td>4</td>\n",
       "      <td>$FITB great buy at 26.00...ill wait</td>\n",
       "      <td>great buy ill wait</td>\n",
       "    </tr>\n",
       "    <tr>\n",
       "      <th>2</th>\n",
       "      <td>4</td>\n",
       "      <td>#STAAnalystAlert for $TDG : Jefferies Maintain...</td>\n",
       "      <td>staanalystalert jefferi maintain rate hold set...</td>\n",
       "    </tr>\n",
       "    <tr>\n",
       "      <th>3</th>\n",
       "      <td>3</td>\n",
       "      <td>$AMD I heard there’s a guy who knows someone w...</td>\n",
       "      <td>heard guy know someon think somebodi know some...</td>\n",
       "    </tr>\n",
       "    <tr>\n",
       "      <th>4</th>\n",
       "      <td>2</td>\n",
       "      <td>$AMD reveal yourself!</td>\n",
       "      <td>reveal</td>\n",
       "    </tr>\n",
       "  </tbody>\n",
       "</table>\n",
       "</div>"
      ],
      "text/plain": [
       "   sentiment  ...                                  message_processed\n",
       "0          4  ...                                 great buy ill wait\n",
       "2          4  ...  staanalystalert jefferi maintain rate hold set...\n",
       "3          3  ...  heard guy know someon think somebodi know some...\n",
       "4          2  ...                                             reveal\n",
       "\n",
       "[4 rows x 3 columns]"
      ]
     },
     "execution_count": 34,
     "metadata": {
      "tags": []
     },
     "output_type": "execute_result"
    }
   ],
   "source": [
    "df['message_processed'] = df[\"message_body\"].apply(process_twt)\n",
    "# remove columns with empty message after processing\n",
    "df = df[df['message_processed']!='']\n",
    "# drop unneccessary columns\n",
    "df = df[['sentiment', 'message_body', 'message_processed']]\n",
    "df.head(4)"
   ]
  },
  {
   "cell_type": "code",
   "execution_count": 35,
   "metadata": {
    "colab": {
     "base_uri": "https://localhost:8080/",
     "height": 225
    },
    "executionInfo": {
     "elapsed": 60420,
     "status": "ok",
     "timestamp": 1613422223938,
     "user": {
      "displayName": "Ghanashyam Khanal",
      "photoUrl": "https://lh3.googleusercontent.com/a-/AOh14GjNFB_3XwLB8BEW17lVypQ54QKRq7KnQZVd8M-QU9c=s64",
      "userId": "16880718905978803098"
     },
     "user_tz": 300
    },
    "id": "aPoR44bfkqp4",
    "outputId": "14f9e8c7-c1f0-46d1-904e-965c1b1fed07"
   },
   "outputs": [
    {
     "data": {
      "text/html": [
       "<div>\n",
       "<style scoped>\n",
       "    .dataframe tbody tr th:only-of-type {\n",
       "        vertical-align: middle;\n",
       "    }\n",
       "\n",
       "    .dataframe tbody tr th {\n",
       "        vertical-align: top;\n",
       "    }\n",
       "\n",
       "    .dataframe thead th {\n",
       "        text-align: right;\n",
       "    }\n",
       "</style>\n",
       "<table border=\"1\" class=\"dataframe\">\n",
       "  <thead>\n",
       "    <tr style=\"text-align: right;\">\n",
       "      <th></th>\n",
       "      <th>message_body</th>\n",
       "      <th>message_processed</th>\n",
       "      <th>ratio (pct)</th>\n",
       "    </tr>\n",
       "    <tr>\n",
       "      <th>sentiment</th>\n",
       "      <th></th>\n",
       "      <th></th>\n",
       "      <th></th>\n",
       "    </tr>\n",
       "  </thead>\n",
       "  <tbody>\n",
       "    <tr>\n",
       "      <th>0</th>\n",
       "      <td>38941</td>\n",
       "      <td>38941</td>\n",
       "      <td>8.060817</td>\n",
       "    </tr>\n",
       "    <tr>\n",
       "      <th>1</th>\n",
       "      <td>52820</td>\n",
       "      <td>52820</td>\n",
       "      <td>10.933780</td>\n",
       "    </tr>\n",
       "    <tr>\n",
       "      <th>2</th>\n",
       "      <td>219989</td>\n",
       "      <td>219989</td>\n",
       "      <td>45.537891</td>\n",
       "    </tr>\n",
       "    <tr>\n",
       "      <th>3</th>\n",
       "      <td>99560</td>\n",
       "      <td>99560</td>\n",
       "      <td>20.608996</td>\n",
       "    </tr>\n",
       "    <tr>\n",
       "      <th>4</th>\n",
       "      <td>71780</td>\n",
       "      <td>71780</td>\n",
       "      <td>14.858515</td>\n",
       "    </tr>\n",
       "  </tbody>\n",
       "</table>\n",
       "</div>"
      ],
      "text/plain": [
       "           message_body  message_processed  ratio (pct)\n",
       "sentiment                                              \n",
       "0                 38941              38941     8.060817\n",
       "1                 52820              52820    10.933780\n",
       "2                219989             219989    45.537891\n",
       "3                 99560              99560    20.608996\n",
       "4                 71780              71780    14.858515"
      ]
     },
     "execution_count": 35,
     "metadata": {
      "tags": []
     },
     "output_type": "execute_result"
    }
   ],
   "source": [
    "def find_counts(df):\n",
    "    df_counts =df.groupby(\"sentiment\", axis=0).count()\n",
    "    df_counts[\"ratio (pct)\"] = 100*df_counts[\"message_body\"]/sum(df_counts[\"message_body\"])\n",
    "    return df_counts\n",
    "\n",
    "find_counts(df)"
   ]
  },
  {
   "cell_type": "code",
   "execution_count": 36,
   "metadata": {
    "colab": {
     "base_uri": "https://localhost:8080/",
     "height": 106
    },
    "executionInfo": {
     "elapsed": 60449,
     "status": "ok",
     "timestamp": 1613422223985,
     "user": {
      "displayName": "Ghanashyam Khanal",
      "photoUrl": "https://lh3.googleusercontent.com/a-/AOh14GjNFB_3XwLB8BEW17lVypQ54QKRq7KnQZVd8M-QU9c=s64",
      "userId": "16880718905978803098"
     },
     "user_tz": 300
    },
    "id": "uT4hDWP1kqp4",
    "outputId": "b4249494-00e7-402f-a87e-79e2b703e86c",
    "scrolled": true
   },
   "outputs": [
    {
     "data": {
      "text/html": [
       "<div>\n",
       "<style scoped>\n",
       "    .dataframe tbody tr th:only-of-type {\n",
       "        vertical-align: middle;\n",
       "    }\n",
       "\n",
       "    .dataframe tbody tr th {\n",
       "        vertical-align: top;\n",
       "    }\n",
       "\n",
       "    .dataframe thead th {\n",
       "        text-align: right;\n",
       "    }\n",
       "</style>\n",
       "<table border=\"1\" class=\"dataframe\">\n",
       "  <thead>\n",
       "    <tr style=\"text-align: right;\">\n",
       "      <th></th>\n",
       "      <th>sentiment</th>\n",
       "      <th>message_body</th>\n",
       "      <th>message_processed</th>\n",
       "    </tr>\n",
       "  </thead>\n",
       "  <tbody>\n",
       "    <tr>\n",
       "      <th>0</th>\n",
       "      <td>4</td>\n",
       "      <td>$FITB great buy at 26.00...ill wait</td>\n",
       "      <td>great buy ill wait</td>\n",
       "    </tr>\n",
       "    <tr>\n",
       "      <th>2</th>\n",
       "      <td>4</td>\n",
       "      <td>#STAAnalystAlert for $TDG : Jefferies Maintain...</td>\n",
       "      <td>staanalystalert jefferi maintain rate hold set...</td>\n",
       "    </tr>\n",
       "  </tbody>\n",
       "</table>\n",
       "</div>"
      ],
      "text/plain": [
       "   sentiment  ...                                  message_processed\n",
       "0          4  ...                                 great buy ill wait\n",
       "2          4  ...  staanalystalert jefferi maintain rate hold set...\n",
       "\n",
       "[2 rows x 3 columns]"
      ]
     },
     "execution_count": 36,
     "metadata": {
      "tags": []
     },
     "output_type": "execute_result"
    }
   ],
   "source": [
    "df.head(2)"
   ]
  },
  {
   "cell_type": "code",
   "execution_count": 37,
   "metadata": {
    "colab": {
     "base_uri": "https://localhost:8080/",
     "height": 258
    },
    "executionInfo": {
     "elapsed": 60519,
     "status": "ok",
     "timestamp": 1613422224066,
     "user": {
      "displayName": "Ghanashyam Khanal",
      "photoUrl": "https://lh3.googleusercontent.com/a-/AOh14GjNFB_3XwLB8BEW17lVypQ54QKRq7KnQZVd8M-QU9c=s64",
      "userId": "16880718905978803098"
     },
     "user_tz": 300
    },
    "id": "oFla_dMzkqp5",
    "outputId": "8436e9c9-4fdf-45c4-909a-ebd4ef4426a8"
   },
   "outputs": [
    {
     "name": "stdout",
     "output_type": "stream",
     "text": [
      "initial counts for each classes: {2: 219989, 3: 99560, 4: 71780, 1: 52820, 0: 38941}\n",
      "min_index: 0 min count: 38941\n"
     ]
    },
    {
     "data": {
      "text/html": [
       "<div>\n",
       "<style scoped>\n",
       "    .dataframe tbody tr th:only-of-type {\n",
       "        vertical-align: middle;\n",
       "    }\n",
       "\n",
       "    .dataframe tbody tr th {\n",
       "        vertical-align: top;\n",
       "    }\n",
       "\n",
       "    .dataframe thead th {\n",
       "        text-align: right;\n",
       "    }\n",
       "</style>\n",
       "<table border=\"1\" class=\"dataframe\">\n",
       "  <thead>\n",
       "    <tr style=\"text-align: right;\">\n",
       "      <th></th>\n",
       "      <th>message_body</th>\n",
       "      <th>message_processed</th>\n",
       "      <th>ratio (pct)</th>\n",
       "    </tr>\n",
       "    <tr>\n",
       "      <th>sentiment</th>\n",
       "      <th></th>\n",
       "      <th></th>\n",
       "      <th></th>\n",
       "    </tr>\n",
       "  </thead>\n",
       "  <tbody>\n",
       "    <tr>\n",
       "      <th>0</th>\n",
       "      <td>38941</td>\n",
       "      <td>38941</td>\n",
       "      <td>20.0</td>\n",
       "    </tr>\n",
       "    <tr>\n",
       "      <th>1</th>\n",
       "      <td>38941</td>\n",
       "      <td>38941</td>\n",
       "      <td>20.0</td>\n",
       "    </tr>\n",
       "    <tr>\n",
       "      <th>2</th>\n",
       "      <td>38941</td>\n",
       "      <td>38941</td>\n",
       "      <td>20.0</td>\n",
       "    </tr>\n",
       "    <tr>\n",
       "      <th>3</th>\n",
       "      <td>38941</td>\n",
       "      <td>38941</td>\n",
       "      <td>20.0</td>\n",
       "    </tr>\n",
       "    <tr>\n",
       "      <th>4</th>\n",
       "      <td>38941</td>\n",
       "      <td>38941</td>\n",
       "      <td>20.0</td>\n",
       "    </tr>\n",
       "  </tbody>\n",
       "</table>\n",
       "</div>"
      ],
      "text/plain": [
       "           message_body  message_processed  ratio (pct)\n",
       "sentiment                                              \n",
       "0                 38941              38941         20.0\n",
       "1                 38941              38941         20.0\n",
       "2                 38941              38941         20.0\n",
       "3                 38941              38941         20.0\n",
       "4                 38941              38941         20.0"
      ]
     },
     "execution_count": 37,
     "metadata": {
      "tags": []
     },
     "output_type": "execute_result"
    }
   ],
   "source": [
    "def balance_class(df, col='sentiment'):\n",
    "    dfb=df.copy()\n",
    "    counts = dict(dfb[col].value_counts())\n",
    "    print (\"initial counts for each classes:\", counts)\n",
    "    min_count = min(counts.values())\n",
    "    min_indx  = [k for k in counts.keys() if counts[k]==min_count][0]\n",
    "    print (\"min_index:\", min_indx, \"min count:\", min_count)\n",
    "\n",
    "    for s in dfb[col].unique():\n",
    "        delete_after = dfb[dfb[col]==min_indx].shape[0] \n",
    "        indices_to_delete = dfb[dfb[col]==s].index.values[delete_after:]\n",
    "        dfb = dfb.drop(index=indices_to_delete, axis=0)\n",
    "    return dfb\n",
    "\n",
    "df=balance_class(df, col='sentiment')\n",
    "find_counts(df)\n"
   ]
  },
  {
   "cell_type": "markdown",
   "metadata": {
    "id": "MpNN3GVtkqp5"
   },
   "source": [
    "## Prepare input for Model\n",
    "- train, test, val split\n",
    "- tokenize the text\n",
    "- Pad the Sequences to a certain length\n",
    "- convert the y labels to categorical"
   ]
  },
  {
   "cell_type": "code",
   "execution_count": 38,
   "metadata": {
    "executionInfo": {
     "elapsed": 60508,
     "status": "ok",
     "timestamp": 1613422224067,
     "user": {
      "displayName": "Ghanashyam Khanal",
      "photoUrl": "https://lh3.googleusercontent.com/a-/AOh14GjNFB_3XwLB8BEW17lVypQ54QKRq7KnQZVd8M-QU9c=s64",
      "userId": "16880718905978803098"
     },
     "user_tz": 300
    },
    "id": "djDkrTJ_kqp5"
   },
   "outputs": [],
   "source": [
    "def split_data(data):\n",
    "    X_train_, X_test, y_train_, y_test = train_test_split(data['message_processed'].values, data['sentiment'].values, test_size=0.2)\n",
    "    X_train,  X_val, y_train, y_val = train_test_split(X_train_, y_train_, test_size=0.25)\n",
    "    return X_train, X_val, X_test, y_train, y_val, y_test\n",
    "\n",
    "X_train, X_val, X_test, y_train, y_val, y_test = split_data(df)"
   ]
  },
  {
   "cell_type": "code",
   "execution_count": 39,
   "metadata": {
    "colab": {
     "base_uri": "https://localhost:8080/"
    },
    "executionInfo": {
     "elapsed": 64097,
     "status": "ok",
     "timestamp": 1613422227662,
     "user": {
      "displayName": "Ghanashyam Khanal",
      "photoUrl": "https://lh3.googleusercontent.com/a-/AOh14GjNFB_3XwLB8BEW17lVypQ54QKRq7KnQZVd8M-QU9c=s64",
      "userId": "16880718905978803098"
     },
     "user_tz": 300
    },
    "id": "TKlgYyHRkqp6",
    "outputId": "01a19ddf-2b07-415b-add7-da3621dda156"
   },
   "outputs": [
    {
     "name": "stdout",
     "output_type": "stream",
     "text": [
      "X_train.shape: (116823, 30) y_train.shape:(116823, 5)\n",
      "X_test.shape: (38941, 30) y_test.shape:(38941, 5)\n",
      "X_val.shape: (38941, 30) y_val.shape:(38941, 5)\n"
     ]
    }
   ],
   "source": [
    "MAX_SEQ_LEN = 30   # length of each twt\n",
    "MAX_WORDS   = 3000  # use only this many max used words\n",
    "\n",
    "def prepare_data_for_model(X_train, X_val, X_test, y_train, y_val, y_test):\n",
    "    tokenizer = Tokenizer(num_words=MAX_WORDS)\n",
    "    tokenizer.fit_on_texts(X_train)\n",
    "    X_train = tokenizer.texts_to_sequences(X_train)\n",
    "    X_val   = tokenizer.texts_to_sequences(X_val)    \n",
    "    X_test  = tokenizer.texts_to_sequences(X_test)\n",
    "    \n",
    "    X_train = pad_sequences(X_train, maxlen=MAX_SEQ_LEN, padding='post', truncating='post')\n",
    "    X_val   = pad_sequences(X_val,   maxlen=MAX_SEQ_LEN, padding='post', truncating='post')\n",
    "    X_test  = pad_sequences(X_test,  maxlen=MAX_SEQ_LEN, padding='post', truncating='post')\n",
    "    \n",
    "    y_train = to_categorical(y_train)\n",
    "    y_val   = to_categorical(y_val)\n",
    "    y_test  = to_categorical(y_test)\n",
    "\n",
    "    print (f\"X_train.shape: {X_train.shape} y_train.shape:{y_train.shape}\" )\n",
    "    print (f\"X_test.shape: {X_test.shape} y_test.shape:{y_test.shape}\" )\n",
    "    print (f\"X_val.shape: {X_val.shape} y_val.shape:{y_val.shape}\" )\n",
    "    \n",
    "    return (X_train, X_val, X_test, y_train, y_val, y_test, tokenizer)\n",
    "\n",
    "    \n",
    "(X_train, X_val, X_test, y_train, y_val, y_test, tokenizer) = prepare_data_for_model(X_train, X_val, X_test, \n",
    "                                                             y_train, y_val, y_test)"
   ]
  },
  {
   "cell_type": "code",
   "execution_count": 40,
   "metadata": {
    "executionInfo": {
     "elapsed": 64085,
     "status": "ok",
     "timestamp": 1613422227663,
     "user": {
      "displayName": "Ghanashyam Khanal",
      "photoUrl": "https://lh3.googleusercontent.com/a-/AOh14GjNFB_3XwLB8BEW17lVypQ54QKRq7KnQZVd8M-QU9c=s64",
      "userId": "16880718905978803098"
     },
     "user_tz": 300
    },
    "id": "NDzrHVQfkqp6"
   },
   "outputs": [],
   "source": [
    "from keras.models import Sequential\n",
    "from keras.layers import Dense, Dropout, Flatten, LSTM, Bidirectional\n",
    "from keras.layers import Conv1D, MaxPooling1D, GlobalMaxPool1D, BatchNormalization\n",
    "from keras.layers.embeddings import Embedding"
   ]
  },
  {
   "cell_type": "code",
   "execution_count": 41,
   "metadata": {
    "colab": {
     "base_uri": "https://localhost:8080/"
    },
    "executionInfo": {
     "elapsed": 64369,
     "status": "ok",
     "timestamp": 1613422227953,
     "user": {
      "displayName": "Ghanashyam Khanal",
      "photoUrl": "https://lh3.googleusercontent.com/a-/AOh14GjNFB_3XwLB8BEW17lVypQ54QKRq7KnQZVd8M-QU9c=s64",
      "userId": "16880718905978803098"
     },
     "user_tz": 300
    },
    "id": "jOgmIjpukqp6",
    "outputId": "28b15a68-b9e1-4e1b-f9a0-af13da3a1d50"
   },
   "outputs": [
    {
     "name": "stdout",
     "output_type": "stream",
     "text": [
      "WARNING:tensorflow:Layer lstm_1 will not use cuDNN kernel since it doesn't meet the cuDNN kernel criteria. It will use generic GPU kernel as fallback when running on GPU\n",
      "Model: \"sequential_1\"\n",
      "_________________________________________________________________\n",
      "Layer (type)                 Output Shape              Param #   \n",
      "=================================================================\n",
      "embedding_1 (Embedding)      (None, 30, 16)            48000     \n",
      "_________________________________________________________________\n",
      "lstm_1 (LSTM)                (None, 16)                2112      \n",
      "_________________________________________________________________\n",
      "dropout_1 (Dropout)          (None, 16)                0         \n",
      "_________________________________________________________________\n",
      "batch_normalization_1 (Batch (None, 16)                64        \n",
      "_________________________________________________________________\n",
      "dense_1 (Dense)              (None, 5)                 85        \n",
      "=================================================================\n",
      "Total params: 50,261\n",
      "Trainable params: 50,229\n",
      "Non-trainable params: 32\n",
      "_________________________________________________________________\n"
     ]
    }
   ],
   "source": [
    "def make_model(X, y, embedding_length = 16):\n",
    "    model = Sequential()\n",
    "    model.add(Embedding(MAX_WORDS, embedding_length, input_length=X.shape[1]))\n",
    "    model.add(LSTM(16, activation='relu'))#, return_sequences=True))\n",
    "    model.add(Dropout(0.2))\n",
    "    model.add(BatchNormalization())\n",
    "    #model.add(Flatten())\n",
    "    model.add(Dense(y.shape[1], activation='softmax'))\n",
    "    model.compile(loss='categorical_crossentropy', optimizer='adam', metrics=['accuracy'])\n",
    "    return model\n",
    "\n",
    "model1 = make_model(X_train, y_train)\n",
    "model1.summary()"
   ]
  },
  {
   "cell_type": "code",
   "execution_count": 42,
   "metadata": {
    "colab": {
     "base_uri": "https://localhost:8080/"
    },
    "executionInfo": {
     "elapsed": 1935195,
     "status": "ok",
     "timestamp": 1613424098802,
     "user": {
      "displayName": "Ghanashyam Khanal",
      "photoUrl": "https://lh3.googleusercontent.com/a-/AOh14GjNFB_3XwLB8BEW17lVypQ54QKRq7KnQZVd8M-QU9c=s64",
      "userId": "16880718905978803098"
     },
     "user_tz": 300
    },
    "id": "JfQJUzbWkqp7",
    "outputId": "d4d16816-fa34-4b48-ed98-73868b0301d6",
    "scrolled": false
   },
   "outputs": [
    {
     "name": "stdout",
     "output_type": "stream",
     "text": [
      "Epoch 1/5\n",
      "7302/7302 [==============================] - 376s 51ms/step - loss: 1.3549 - accuracy: 0.4042 - val_loss: 1.0048 - val_accuracy: 0.6269\n",
      "Epoch 2/5\n",
      "7302/7302 [==============================] - 366s 50ms/step - loss: 1.0251 - accuracy: 0.6173 - val_loss: 0.9841 - val_accuracy: 0.6132\n",
      "Epoch 3/5\n",
      "7302/7302 [==============================] - 376s 52ms/step - loss: 0.9731 - accuracy: 0.6375 - val_loss: 0.9103 - val_accuracy: 0.6548\n",
      "Epoch 4/5\n",
      "7302/7302 [==============================] - 377s 52ms/step - loss: 0.9508 - accuracy: 0.6482 - val_loss: 0.9086 - val_accuracy: 0.6578\n",
      "Epoch 5/5\n",
      "7302/7302 [==============================] - 376s 51ms/step - loss: 0.9301 - accuracy: 0.6570 - val_loss: 0.9043 - val_accuracy: 0.6581\n"
     ]
    }
   ],
   "source": [
    "history1 = model1.fit(X_train, y_train,\n",
    "                    validation_data=(X_val, y_val), \n",
    "                    epochs=5,\n",
    "                    batch_size=16,\n",
    "                    verbose=1)"
   ]
  },
  {
   "cell_type": "code",
   "execution_count": 59,
   "metadata": {
    "colab": {
     "base_uri": "https://localhost:8080/",
     "height": 265
    },
    "executionInfo": {
     "elapsed": 993,
     "status": "ok",
     "timestamp": 1613427784037,
     "user": {
      "displayName": "Ghanashyam Khanal",
      "photoUrl": "https://lh3.googleusercontent.com/a-/AOh14GjNFB_3XwLB8BEW17lVypQ54QKRq7KnQZVd8M-QU9c=s64",
      "userId": "16880718905978803098"
     },
     "user_tz": 300
    },
    "id": "gzc7xP-doai7",
    "outputId": "c5ee61e9-c4e5-42d1-9cbb-00e72aca1154"
   },
   "outputs": [
    {
     "data": {
      "image/png": "[encoded data removed]",
      "text/plain": [
       "<Figure size 864x288 with 2 Axes>"
      ]
     },
     "metadata": {
      "needs_background": "light",
      "tags": []
     },
     "output_type": "display_data"
    }
   ],
   "source": [
    "def plot_history(history):\n",
    "    \n",
    "    plt.figure(figsize=(12,4))\n",
    "    plt.subplot(121)\n",
    "    plt.plot(history.history['loss'], label='Training loss')\n",
    "    plt.plot(history.history['val_loss'], label='validation loss')\n",
    "    plt.grid()\n",
    "    plt.legend()\n",
    "\n",
    "    plt.subplot(122)\n",
    "    plt.plot(history.history['accuracy'], label='Training accuracy')\n",
    "    plt.plot(history.history['val_accuracy'], label='validation accuracy')\n",
    "    plt.grid()\n",
    "    plt.legend()\n",
    "\n",
    "plot_history(history1)"
   ]
  },
  {
   "cell_type": "code",
   "execution_count": 44,
   "metadata": {
    "colab": {
     "base_uri": "https://localhost:8080/"
    },
    "executionInfo": {
     "elapsed": 1935674,
     "status": "ok",
     "timestamp": 1613424099294,
     "user": {
      "displayName": "Ghanashyam Khanal",
      "photoUrl": "https://lh3.googleusercontent.com/a-/AOh14GjNFB_3XwLB8BEW17lVypQ54QKRq7KnQZVd8M-QU9c=s64",
      "userId": "16880718905978803098"
     },
     "user_tz": 300
    },
    "id": "0qESUtH4kqp7",
    "outputId": "6725c0f1-763b-4f3e-e195-5499c5779d5b",
    "scrolled": true
   },
   "outputs": [
    {
     "name": "stdout",
     "output_type": "stream",
     "text": [
      "WARNING:tensorflow:Layer lstm_2 will not use cuDNN kernel since it doesn't meet the cuDNN kernel criteria. It will use generic GPU kernel as fallback when running on GPU\n",
      "WARNING:tensorflow:Layer lstm_2 will not use cuDNN kernel since it doesn't meet the cuDNN kernel criteria. It will use generic GPU kernel as fallback when running on GPU\n",
      "WARNING:tensorflow:Layer lstm_2 will not use cuDNN kernel since it doesn't meet the cuDNN kernel criteria. It will use generic GPU kernel as fallback when running on GPU\n",
      "Model: \"sequential_2\"\n",
      "_________________________________________________________________\n",
      "Layer (type)                 Output Shape              Param #   \n",
      "=================================================================\n",
      "embedding_2 (Embedding)      (None, 30, 16)            48000     \n",
      "_________________________________________________________________\n",
      "bidirectional (Bidirectional (None, 30, 64)            12544     \n",
      "_________________________________________________________________\n",
      "conv1d (Conv1D)              (None, 28, 32)            6176      \n",
      "_________________________________________________________________\n",
      "global_max_pooling1d (Global (None, 32)                0         \n",
      "_________________________________________________________________\n",
      "dense_2 (Dense)              (None, 5)                 165       \n",
      "=================================================================\n",
      "Total params: 66,885\n",
      "Trainable params: 66,885\n",
      "Non-trainable params: 0\n",
      "_________________________________________________________________\n"
     ]
    }
   ],
   "source": [
    "def make_model_bidirectional(X, y, embedding_length = 16):\n",
    "    model = Sequential()\n",
    "    model.add(Embedding(MAX_WORDS, embedding_length, input_length=X.shape[1]))\n",
    "    model.add(Bidirectional(LSTM(32, return_sequences=True, dropout=0.2, recurrent_dropout=0.2)))\n",
    "    model.add(Conv1D(32, kernel_size = 3, padding = \"valid\"))\n",
    "    model.add(GlobalMaxPool1D())\n",
    "    #model.add(Dense(16, activation='sigmoid'))\n",
    "    model.add(Dense(y.shape[1], activation='softmax'))\n",
    "    model.compile(loss='categorical_crossentropy', optimizer='adam', metrics=['accuracy'])\n",
    "    return model\n",
    "\n",
    "model2 = make_model_bidirectional(X_train, y_train)\n",
    "model2.summary()"
   ]
  },
  {
   "cell_type": "code",
   "execution_count": 45,
   "metadata": {
    "colab": {
     "base_uri": "https://localhost:8080/"
    },
    "executionInfo": {
     "elapsed": 5569312,
     "status": "ok",
     "timestamp": 1613427732937,
     "user": {
      "displayName": "Ghanashyam Khanal",
      "photoUrl": "https://lh3.googleusercontent.com/a-/AOh14GjNFB_3XwLB8BEW17lVypQ54QKRq7KnQZVd8M-QU9c=s64",
      "userId": "16880718905978803098"
     },
     "user_tz": 300
    },
    "id": "59UF2xKDkqp7",
    "outputId": "84658536-b69d-482e-c1fb-66ffc5ca8ab3"
   },
   "outputs": [
    {
     "name": "stdout",
     "output_type": "stream",
     "text": [
      "Epoch 1/2\n",
      "7302/7302 [==============================] - 1823s 248ms/step - loss: 1.1395 - accuracy: 0.5339 - val_loss: 0.9123 - val_accuracy: 0.6501\n",
      "Epoch 2/2\n",
      "7302/7302 [==============================] - 1811s 248ms/step - loss: 0.8993 - accuracy: 0.6553 - val_loss: 0.8788 - val_accuracy: 0.6639\n"
     ]
    }
   ],
   "source": [
    "history2 = model2.fit(X_train, y_train,\n",
    "                    validation_data=(X_val, y_val), \n",
    "                    epochs=2,\n",
    "                    batch_size=16,\n",
    "                    verbose=1)"
   ]
  },
  {
   "cell_type": "code",
   "execution_count": 46,
   "metadata": {
    "colab": {
     "base_uri": "https://localhost:8080/",
     "height": 298
    },
    "executionInfo": {
     "elapsed": 5590926,
     "status": "ok",
     "timestamp": 1613427754557,
     "user": {
      "displayName": "Ghanashyam Khanal",
      "photoUrl": "https://lh3.googleusercontent.com/a-/AOh14GjNFB_3XwLB8BEW17lVypQ54QKRq7KnQZVd8M-QU9c=s64",
      "userId": "16880718905978803098"
     },
     "user_tz": 300
    },
    "id": "TM9FPYRrkqp7",
    "outputId": "c4009a15-fa65-42dd-f151-268cd8d04bca",
    "scrolled": true
   },
   "outputs": [
    {
     "name": "stdout",
     "output_type": "stream",
     "text": [
      "1217/1217 [==============================] - 21s 17ms/step - loss: 0.8907 - accuracy: 0.6589\n",
      "Test accuracy: 65.89%\n"
     ]
    },
    {
     "data": {
      "image/png": "[encoded data removed]",
      "text/plain": [
       "<Figure size 864x288 with 2 Axes>"
      ]
     },
     "metadata": {
      "needs_background": "light",
      "tags": []
     },
     "output_type": "display_data"
    }
   ],
   "source": [
    "score = model2.evaluate(X_test, y_test)\n",
    "print(\"Test accuracy: %.2f%%\" % (score[1]*100))\n",
    "plot_history(history1)"
   ]
  },
  {
   "cell_type": "code",
   "execution_count": 47,
   "metadata": {
    "executionInfo": {
     "elapsed": 5590923,
     "status": "ok",
     "timestamp": 1613427754559,
     "user": {
      "displayName": "Ghanashyam Khanal",
      "photoUrl": "https://lh3.googleusercontent.com/a-/AOh14GjNFB_3XwLB8BEW17lVypQ54QKRq7KnQZVd8M-QU9c=s64",
      "userId": "16880718905978803098"
     },
     "user_tz": 300
    },
    "id": "puIVeyB4kqp8"
   },
   "outputs": [],
   "source": [
    "from sklearn.metrics import confusion_matrix"
   ]
  },
  {
   "cell_type": "code",
   "execution_count": 48,
   "metadata": {
    "executionInfo": {
     "elapsed": 5607800,
     "status": "ok",
     "timestamp": 1613427771441,
     "user": {
      "displayName": "Ghanashyam Khanal",
      "photoUrl": "https://lh3.googleusercontent.com/a-/AOh14GjNFB_3XwLB8BEW17lVypQ54QKRq7KnQZVd8M-QU9c=s64",
      "userId": "16880718905978803098"
     },
     "user_tz": 300
    },
    "id": "ERAwdU_-kqp8"
   },
   "outputs": [],
   "source": [
    "ypred = model2.predict(X_test)"
   ]
  },
  {
   "cell_type": "code",
   "execution_count": 49,
   "metadata": {
    "colab": {
     "base_uri": "https://localhost:8080/"
    },
    "executionInfo": {
     "elapsed": 5607792,
     "status": "ok",
     "timestamp": 1613427771442,
     "user": {
      "displayName": "Ghanashyam Khanal",
      "photoUrl": "https://lh3.googleusercontent.com/a-/AOh14GjNFB_3XwLB8BEW17lVypQ54QKRq7KnQZVd8M-QU9c=s64",
      "userId": "16880718905978803098"
     },
     "user_tz": 300
    },
    "id": "aCmz2PHfkqp8",
    "outputId": "7f8ba074-abd2-44f0-83cf-03b6798d1843"
   },
   "outputs": [
    {
     "data": {
      "text/plain": [
       "array([0, 1, 2, ..., 2, 0, 0])"
      ]
     },
     "execution_count": 49,
     "metadata": {
      "tags": []
     },
     "output_type": "execute_result"
    }
   ],
   "source": [
    "np.argmax(y_test,axis=1)"
   ]
  },
  {
   "cell_type": "code",
   "execution_count": 50,
   "metadata": {
    "executionInfo": {
     "elapsed": 5607784,
     "status": "ok",
     "timestamp": 1613427771442,
     "user": {
      "displayName": "Ghanashyam Khanal",
      "photoUrl": "https://lh3.googleusercontent.com/a-/AOh14GjNFB_3XwLB8BEW17lVypQ54QKRq7KnQZVd8M-QU9c=s64",
      "userId": "16880718905978803098"
     },
     "user_tz": 300
    },
    "id": "Mhxt8Q7Pkqp9"
   },
   "outputs": [],
   "source": [
    "confusionmatrix=confusion_matrix(np.argmax(y_test,axis=1),np.argmax(ypred,axis=1))"
   ]
  },
  {
   "cell_type": "code",
   "execution_count": 51,
   "metadata": {
    "colab": {
     "base_uri": "https://localhost:8080/"
    },
    "executionInfo": {
     "elapsed": 5607777,
     "status": "ok",
     "timestamp": 1613427771443,
     "user": {
      "displayName": "Ghanashyam Khanal",
      "photoUrl": "https://lh3.googleusercontent.com/a-/AOh14GjNFB_3XwLB8BEW17lVypQ54QKRq7KnQZVd8M-QU9c=s64",
      "userId": "16880718905978803098"
     },
     "user_tz": 300
    },
    "id": "fQZd5Bo_kqp9",
    "outputId": "156c6513-9ef1-4038-8b82-2e94d240e79c"
   },
   "outputs": [
    {
     "data": {
      "text/plain": [
       "array([[5450, 1051,  406,  306,  555],\n",
       "       [ 711, 4716,  998,  820,  562],\n",
       "       [ 319,  656, 5778,  761,  343],\n",
       "       [ 532,  961, 1383, 3991,  840],\n",
       "       [ 334,  193,  417, 1133, 5725]])"
      ]
     },
     "execution_count": 51,
     "metadata": {
      "tags": []
     },
     "output_type": "execute_result"
    }
   ],
   "source": [
    "confusionmatrix"
   ]
  },
  {
   "cell_type": "code",
   "execution_count": 52,
   "metadata": {
    "colab": {
     "base_uri": "https://localhost:8080/",
     "height": 282
    },
    "executionInfo": {
     "elapsed": 5607898,
     "status": "ok",
     "timestamp": 1613427771571,
     "user": {
      "displayName": "Ghanashyam Khanal",
      "photoUrl": "https://lh3.googleusercontent.com/a-/AOh14GjNFB_3XwLB8BEW17lVypQ54QKRq7KnQZVd8M-QU9c=s64",
      "userId": "16880718905978803098"
     },
     "user_tz": 300
    },
    "id": "WjzFNuMCkqp9",
    "outputId": "86eaeea8-d7d3-4e3b-d811-7b8e85819d97"
   },
   "outputs": [
    {
     "data": {
      "text/plain": [
       "<matplotlib.image.AxesImage at 0x7f1a98e2d4a8>"
      ]
     },
     "execution_count": 52,
     "metadata": {
      "tags": []
     },
     "output_type": "execute_result"
    },
    {
     "data": {
      "image/png": "[encoded data removed]",
      "text/plain": [
       "<Figure size 432x288 with 1 Axes>"
      ]
     },
     "metadata": {
      "needs_background": "light",
      "tags": []
     },
     "output_type": "display_data"
    }
   ],
   "source": [
    "plt.imshow(confusionmatrix)"
   ]
  },
  {
   "cell_type": "markdown",
   "metadata": {
    "id": "3FD1_RKNkqp-"
   },
   "source": [
    "## Save the Model, tokenizer and configs"
   ]
  },
  {
   "cell_type": "code",
   "execution_count": 53,
   "metadata": {
    "colab": {
     "base_uri": "https://localhost:8080/"
    },
    "executionInfo": {
     "elapsed": 5615405,
     "status": "ok",
     "timestamp": 1613427779085,
     "user": {
      "displayName": "Ghanashyam Khanal",
      "photoUrl": "https://lh3.googleusercontent.com/a-/AOh14GjNFB_3XwLB8BEW17lVypQ54QKRq7KnQZVd8M-QU9c=s64",
      "userId": "16880718905978803098"
     },
     "user_tz": 300
    },
    "id": "0CqAVDwRkqp-",
    "outputId": "45c761d7-cc5a-439f-d7b9-f74c05a545c0"
   },
   "outputs": [
    {
     "name": "stdout",
     "output_type": "stream",
     "text": [
      "INFO:tensorflow:Assets written to: model_biLSTM/assets\n"
     ]
    }
   ],
   "source": [
    "import pickle\n",
    "import json\n",
    "\n",
    "model2.save('model_biLSTM')\n",
    "\n",
    "\n",
    "with open('tokenizer.pkl', 'wb') as fp:\n",
    "    pickle.dump(tokenizer, fp)\n",
    "\n",
    "config = {\"MAX_WORDS\": MAX_WORDS, \n",
    "          'MAX_SEQ_LEN': MAX_SEQ_LEN}\n",
    "\n",
    "with open('config.json', 'w') as fp:\n",
    "    json.dump(config, fp, indent = 4)"
   ]
  },
  {
   "cell_type": "markdown",
   "metadata": {
    "id": "6PBOoRMtkqp-"
   },
   "source": [
    "## Load the saved Model, tokenizer and configs"
   ]
  },
  {
   "cell_type": "code",
   "execution_count": 54,
   "metadata": {
    "colab": {
     "base_uri": "https://localhost:8080/"
    },
    "executionInfo": {
     "elapsed": 5619206,
     "status": "ok",
     "timestamp": 1613427782892,
     "user": {
      "displayName": "Ghanashyam Khanal",
      "photoUrl": "https://lh3.googleusercontent.com/a-/AOh14GjNFB_3XwLB8BEW17lVypQ54QKRq7KnQZVd8M-QU9c=s64",
      "userId": "16880718905978803098"
     },
     "user_tz": 300
    },
    "id": "ueJ9PXSrkqp-",
    "outputId": "1bb018be-1f2b-4b4d-bd56-dc1445002aff"
   },
   "outputs": [
    {
     "name": "stdout",
     "output_type": "stream",
     "text": [
      "WARNING:tensorflow:Layer lstm_2 will not use cuDNN kernel since it doesn't meet the cuDNN kernel criteria. It will use generic GPU kernel as fallback when running on GPU\n",
      "WARNING:tensorflow:Layer lstm_2 will not use cuDNN kernel since it doesn't meet the cuDNN kernel criteria. It will use generic GPU kernel as fallback when running on GPU\n",
      "WARNING:tensorflow:Layer lstm_2 will not use cuDNN kernel since it doesn't meet the cuDNN kernel criteria. It will use generic GPU kernel as fallback when running on GPU\n",
      "Model Loaded.\n"
     ]
    }
   ],
   "source": [
    "# loading the saved model, vocab, filtered_words\n",
    "from tensorflow.keras.models import load_model\n",
    "model = load_model('./model_biLSTM')\n",
    "\n",
    "with open('tokenizer.pkl', 'rb') as fp:\n",
    "    tokenizer=pickle.load(fp) \n",
    "    \n",
    "with open('config.json', 'r') as fp:\n",
    "    config=json.load(fp)\n",
    "    MAX_SEQ_LEN = config['MAX_SEQ_LEN']\n",
    "    MAX_WORDS = config['MAX_WORDS']\n",
    "\n",
    "print (\"Model Loaded.\")"
   ]
  },
  {
   "cell_type": "markdown",
   "metadata": {
    "id": "CzzdkrRIkqp_"
   },
   "source": [
    "## Predictions"
   ]
  },
  {
   "cell_type": "code",
   "execution_count": 55,
   "metadata": {
    "colab": {
     "base_uri": "https://localhost:8080/"
    },
    "executionInfo": {
     "elapsed": 5619201,
     "status": "ok",
     "timestamp": 1613427782893,
     "user": {
      "displayName": "Ghanashyam Khanal",
      "photoUrl": "https://lh3.googleusercontent.com/a-/AOh14GjNFB_3XwLB8BEW17lVypQ54QKRq7KnQZVd8M-QU9c=s64",
      "userId": "16880718905978803098"
     },
     "user_tz": 300
    },
    "id": "YT1hx_k_kqp_",
    "outputId": "fb8da961-d27e-4a04-b322-6f33213a9db0"
   },
   "outputs": [
    {
     "name": "stdout",
     "output_type": "stream",
     "text": [
      "The following text\n",
      "\n",
      "  $AAPL had a big increase. I am really happy for this. \n",
      "\n",
      "    has a sentiment \n",
      " 3 (good)\n",
      "\n",
      " on the following scale\n",
      "\n",
      "    {0: 'very_bad', 1: 'bad', 2: 'neutral', 3: 'good', 4: 'very_good'}\n"
     ]
    }
   ],
   "source": [
    "def Prediction(txt_orig, model=model2, tokenizer=tokenizer, MAX_SEQ_LEN=MAX_SEQ_LEN):\n",
    "    sent_dict={0:'very_bad', 1:'bad', 2:'neutral', 3:'good', 4:'very_good'}\n",
    "    txt = process_twt(txt_orig)\n",
    "    X_in = tokenizer.texts_to_sequences([txt])\n",
    "    X_in = pad_sequences(X_in, maxlen=MAX_SEQ_LEN, padding='post', truncating='post')\n",
    "    y_out = model.predict(X_in)\n",
    "    sent = np.argmax(y_out,axis=1)[0]\n",
    "\n",
    "    print (f\"The following text\\n\\n {txt_orig} \\n\\n\\\n",
    "    has a sentiment \\n {sent} ({sent_dict[sent]})\\n\\n on the following scale\\n\\n\\\n",
    "    {sent_dict}\")\n",
    "\n",
    "text1 = \" $AAPL had a big increase. I am really happy for this.\"\n",
    "Prediction(text1)"
   ]
  },
  {
   "cell_type": "code",
   "execution_count": 56,
   "metadata": {
    "colab": {
     "base_uri": "https://localhost:8080/"
    },
    "executionInfo": {
     "elapsed": 5619197,
     "status": "ok",
     "timestamp": 1613427782894,
     "user": {
      "displayName": "Ghanashyam Khanal",
      "photoUrl": "https://lh3.googleusercontent.com/a-/AOh14GjNFB_3XwLB8BEW17lVypQ54QKRq7KnQZVd8M-QU9c=s64",
      "userId": "16880718905978803098"
     },
     "user_tz": 300
    },
    "id": "CeOhY0BJt1W5",
    "outputId": "36c1f91e-40bd-4000-fa27-5fada574bc08"
   },
   "outputs": [
    {
     "name": "stdout",
     "output_type": "stream",
     "text": [
      "The following text\n",
      "\n",
      "  It was an okay ride for the $GOOG stock this week \n",
      "\n",
      "    has a sentiment \n",
      " 2 (neutral)\n",
      "\n",
      " on the following scale\n",
      "\n",
      "    {0: 'very_bad', 1: 'bad', 2: 'neutral', 3: 'good', 4: 'very_good'}\n"
     ]
    }
   ],
   "source": [
    "text = \" It was an okay ride for the $GOOG stock this week\"\n",
    "Prediction(text)"
   ]
  },
  {
   "cell_type": "code",
   "execution_count": 57,
   "metadata": {
    "colab": {
     "base_uri": "https://localhost:8080/"
    },
    "executionInfo": {
     "elapsed": 5619191,
     "status": "ok",
     "timestamp": 1613427782894,
     "user": {
      "displayName": "Ghanashyam Khanal",
      "photoUrl": "https://lh3.googleusercontent.com/a-/AOh14GjNFB_3XwLB8BEW17lVypQ54QKRq7KnQZVd8M-QU9c=s64",
      "userId": "16880718905978803098"
     },
     "user_tz": 300
    },
    "id": "KiM6UHeekqp_",
    "outputId": "41ee6916-7c22-4c46-98fc-2fc85b698648"
   },
   "outputs": [
    {
     "name": "stdout",
     "output_type": "stream",
     "text": [
      "The following text\n",
      "\n",
      "  It was an okay ride for the $GOOG stock this week. But still an increase in the share price. \n",
      "\n",
      "    has a sentiment \n",
      " 3 (good)\n",
      "\n",
      " on the following scale\n",
      "\n",
      "    {0: 'very_bad', 1: 'bad', 2: 'neutral', 3: 'good', 4: 'very_good'}\n"
     ]
    }
   ],
   "source": [
    "text = \" It was an okay ride for the $GOOG stock this week. But still an increase in the share price.\"\n",
    "Prediction(text)"
   ]
  },
  {
   "cell_type": "code",
   "execution_count": 58,
   "metadata": {
    "colab": {
     "base_uri": "https://localhost:8080/"
    },
    "executionInfo": {
     "elapsed": 5619306,
     "status": "ok",
     "timestamp": 1613427783014,
     "user": {
      "displayName": "Ghanashyam Khanal",
      "photoUrl": "https://lh3.googleusercontent.com/a-/AOh14GjNFB_3XwLB8BEW17lVypQ54QKRq7KnQZVd8M-QU9c=s64",
      "userId": "16880718905978803098"
     },
     "user_tz": 300
    },
    "id": "_0KQMOg8kqp_",
    "outputId": "9c2268bd-784f-4cca-823f-e054ab6faa57"
   },
   "outputs": [
    {
     "name": "stdout",
     "output_type": "stream",
     "text": [
      "The following text\n",
      "\n",
      "  Not a great week for $AAPL stock this week. \n",
      "\n",
      "    has a sentiment \n",
      " 2 (neutral)\n",
      "\n",
      " on the following scale\n",
      "\n",
      "    {0: 'very_bad', 1: 'bad', 2: 'neutral', 3: 'good', 4: 'very_good'}\n"
     ]
    }
   ],
   "source": [
    "text = \" Not a great week for $AAPL stock this week.\"\n",
    "Prediction(text)"
   ]
  },
  {
   "cell_type": "code",
   "execution_count": 58,
   "metadata": {
    "executionInfo": {
     "elapsed": 5619301,
     "status": "ok",
     "timestamp": 1613427783015,
     "user": {
      "displayName": "Ghanashyam Khanal",
      "photoUrl": "https://lh3.googleusercontent.com/a-/AOh14GjNFB_3XwLB8BEW17lVypQ54QKRq7KnQZVd8M-QU9c=s64",
      "userId": "16880718905978803098"
     },
     "user_tz": 300
    },
    "id": "U6GEWE0AuLvA"
   },
   "outputs": [],
   "source": []
  }
 ],
 "metadata": {
  "accelerator": "GPU",
  "colab": {
   "collapsed_sections": [],
   "name": "04_sentiment_analysis_TF.ipynb",
   "provenance": []
  },
  "kernelspec": {
   "display_name": "Python 3",
   "language": "python",
   "name": "python3"
  },
  "language_info": {
   "codemirror_mode": {
    "name": "ipython",
    "version": 3
   },
   "file_extension": ".py",
   "mimetype": "text/x-python",
   "name": "python",
   "nbconvert_exporter": "python",
   "pygments_lexer": "ipython3",
   "version": "3.8.5"
  }
 },
 "nbformat": 4,
 "nbformat_minor": 1
}
