{
 "cells": [
  {
   "cell_type": "markdown",
   "metadata": {},
   "source": [
    "## Step 0: Latent Dirichlet Allocation ##\n",
    "\n",
    "LDA is used to classify text in a document to a particular topic. It builds a topic per document model and words per topic model, modeled as Dirichlet distributions. \n",
    "\n",
    "* Each document is modeled as a multinomial distribution of topics and each topic is modeled as a multinomial distribution of words.\n",
    "* LDA assumes that the every chunk of text we feed into it will contain words that are somehow related. Therefore choosing the right corpus of data is crucial. \n",
    "* It also assumes documents are produced from a mixture of topics. Those topics then generate words based on their probability distribution. "
   ]
  },
  {
   "cell_type": "markdown",
   "metadata": {},
   "source": [
    "## Step 1: Load the dataset\n",
    "\n",
    "The dataset we'll use is a list of over one million news headlines published over a period of 15 years. We'll start by loading it from the `abcnews-date-text.csv` file."
   ]
  },
  {
   "cell_type": "code",
   "execution_count": 1,
   "metadata": {},
   "outputs": [],
   "source": [
    "import numpy as np\n",
    "import pylab as plt\n",
    "import pandas as pd\n",
    "import seaborn as sns\n",
    "\n",
    "sns.set(style='white')\n",
    "\n",
    "data_dir = './datasets/'"
   ]
  },
  {
   "cell_type": "code",
   "execution_count": 2,
   "metadata": {},
   "outputs": [
    {
     "name": "stdout",
     "output_type": "stream",
     "text": [
      "data.shape:(999999, 2)\n"
     ]
    }
   ],
   "source": [
    "data = pd.read_csv(data_dir+'abcnews-date-text.csv', error_bad_lines=False);\n",
    "print ( f\"data.shape:{data.shape}\")"
   ]
  },
  {
   "cell_type": "code",
   "execution_count": 3,
   "metadata": {},
   "outputs": [
    {
     "data": {
      "text/html": [
       "<div>\n",
       "<style scoped>\n",
       "    .dataframe tbody tr th:only-of-type {\n",
       "        vertical-align: middle;\n",
       "    }\n",
       "\n",
       "    .dataframe tbody tr th {\n",
       "        vertical-align: top;\n",
       "    }\n",
       "\n",
       "    .dataframe thead th {\n",
       "        text-align: right;\n",
       "    }\n",
       "</style>\n",
       "<table border=\"1\" class=\"dataframe\">\n",
       "  <thead>\n",
       "    <tr style=\"text-align: right;\">\n",
       "      <th></th>\n",
       "      <th>headline_text</th>\n",
       "      <th>index</th>\n",
       "    </tr>\n",
       "  </thead>\n",
       "  <tbody>\n",
       "    <tr>\n",
       "      <th>0</th>\n",
       "      <td>aba decides against community broadcasting lic...</td>\n",
       "      <td>0</td>\n",
       "    </tr>\n",
       "    <tr>\n",
       "      <th>1</th>\n",
       "      <td>act fire witnesses must be aware of defamation</td>\n",
       "      <td>1</td>\n",
       "    </tr>\n",
       "    <tr>\n",
       "      <th>2</th>\n",
       "      <td>a g calls for infrastructure protection summit</td>\n",
       "      <td>2</td>\n",
       "    </tr>\n",
       "    <tr>\n",
       "      <th>3</th>\n",
       "      <td>air nz staff in aust strike for pay rise</td>\n",
       "      <td>3</td>\n",
       "    </tr>\n",
       "    <tr>\n",
       "      <th>4</th>\n",
       "      <td>air nz strike to affect australian travellers</td>\n",
       "      <td>4</td>\n",
       "    </tr>\n",
       "  </tbody>\n",
       "</table>\n",
       "</div>"
      ],
      "text/plain": [
       "                                       headline_text  index\n",
       "0  aba decides against community broadcasting lic...      0\n",
       "1     act fire witnesses must be aware of defamation      1\n",
       "2     a g calls for infrastructure protection summit      2\n",
       "3           air nz staff in aust strike for pay rise      3\n",
       "4      air nz strike to affect australian travellers      4"
      ]
     },
     "execution_count": 3,
     "metadata": {},
     "output_type": "execute_result"
    }
   ],
   "source": [
    "# cut the data only to take first 100000 lines\n",
    "\n",
    "# we could also take samples randomly \n",
    "# That might be necessary sometimes (in ordered data)\n",
    "\n",
    "df = data[:100000][['headline_text']];\n",
    "df['index'] = df.index\n",
    "\n",
    "df.head()"
   ]
  },
  {
   "cell_type": "markdown",
   "metadata": {},
   "source": [
    "Let's glance at the dataset:"
   ]
  },
  {
   "cell_type": "code",
   "execution_count": 4,
   "metadata": {},
   "outputs": [
    {
     "name": "stdout",
     "output_type": "stream",
     "text": [
      "df.shape:(100000, 2)\n"
     ]
    }
   ],
   "source": [
    "print ( f\"df.shape:{df.shape}\")"
   ]
  },
  {
   "cell_type": "markdown",
   "metadata": {},
   "source": [
    "## Step 2: Data Preprocessing ##\n",
    "\n",
    "We will perform the following steps:\n",
    "\n",
    "* **Tokenization**: Split the text into sentences and the sentences into words. Lowercase the words and remove punctuation.\n",
    "* Words that have fewer than 3 characters are removed.\n",
    "* All **stopwords** are removed.\n",
    "* Words are **lemmatized** - words in third person are changed to first person and verbs in past and future tenses are changed into present.\n",
    "* Words are **stemmed** - words are reduced to their root form.\n"
   ]
  },
  {
   "cell_type": "code",
   "execution_count": 5,
   "metadata": {},
   "outputs": [],
   "source": [
    "#!pip3 install gensim\n",
    "import gensim\n",
    "from gensim.utils import simple_preprocess\n",
    "from gensim.parsing.preprocessing import STOPWORDS\n",
    "from nltk.stem import WordNetLemmatizer, SnowballStemmer\n",
    "from nltk.stem.porter import *\n",
    "import numpy as np\n",
    "np.random.seed(8848)"
   ]
  },
  {
   "cell_type": "code",
   "execution_count": 6,
   "metadata": {},
   "outputs": [
    {
     "name": "stderr",
     "output_type": "stream",
     "text": [
      "[nltk_data] Downloading package wordnet to /Users/gshyam/nltk_data...\n",
      "[nltk_data]   Package wordnet is already up-to-date!\n"
     ]
    },
    {
     "data": {
      "text/plain": [
       "True"
      ]
     },
     "execution_count": 6,
     "metadata": {},
     "output_type": "execute_result"
    }
   ],
   "source": [
    "import nltk\n",
    "nltk.download('wordnet')"
   ]
  },
  {
   "cell_type": "markdown",
   "metadata": {},
   "source": [
    "### Lemmatizer Example\n",
    "Before preprocessing our dataset, let's first look at an lemmatizing example. What would be the output if we lemmatized the word 'went':"
   ]
  },
  {
   "cell_type": "code",
   "execution_count": 7,
   "metadata": {},
   "outputs": [
    {
     "name": "stdout",
     "output_type": "stream",
     "text": [
      "go\n"
     ]
    }
   ],
   "source": [
    "print(WordNetLemmatizer().lemmatize('went', pos = 'v')) # past tense to present tense"
   ]
  },
  {
   "cell_type": "markdown",
   "metadata": {},
   "source": [
    "### Stemmer Example\n",
    "Let's also look at a stemming example. Let's throw a number of words at the stemmer and see how it deals with each one:"
   ]
  },
  {
   "cell_type": "code",
   "execution_count": 8,
   "metadata": {},
   "outputs": [
    {
     "data": {
      "text/html": [
       "<div>\n",
       "<style scoped>\n",
       "    .dataframe tbody tr th:only-of-type {\n",
       "        vertical-align: middle;\n",
       "    }\n",
       "\n",
       "    .dataframe tbody tr th {\n",
       "        vertical-align: top;\n",
       "    }\n",
       "\n",
       "    .dataframe thead th {\n",
       "        text-align: right;\n",
       "    }\n",
       "</style>\n",
       "<table border=\"1\" class=\"dataframe\">\n",
       "  <thead>\n",
       "    <tr style=\"text-align: right;\">\n",
       "      <th></th>\n",
       "      <th>original word</th>\n",
       "      <th>stemmed</th>\n",
       "    </tr>\n",
       "  </thead>\n",
       "  <tbody>\n",
       "    <tr>\n",
       "      <th>0</th>\n",
       "      <td>caresses</td>\n",
       "      <td>caress</td>\n",
       "    </tr>\n",
       "    <tr>\n",
       "      <th>1</th>\n",
       "      <td>flies</td>\n",
       "      <td>fli</td>\n",
       "    </tr>\n",
       "    <tr>\n",
       "      <th>2</th>\n",
       "      <td>dies</td>\n",
       "      <td>die</td>\n",
       "    </tr>\n",
       "    <tr>\n",
       "      <th>3</th>\n",
       "      <td>mules</td>\n",
       "      <td>mule</td>\n",
       "    </tr>\n",
       "    <tr>\n",
       "      <th>4</th>\n",
       "      <td>denied</td>\n",
       "      <td>deni</td>\n",
       "    </tr>\n",
       "    <tr>\n",
       "      <th>5</th>\n",
       "      <td>died</td>\n",
       "      <td>die</td>\n",
       "    </tr>\n",
       "    <tr>\n",
       "      <th>6</th>\n",
       "      <td>agreed</td>\n",
       "      <td>agre</td>\n",
       "    </tr>\n",
       "    <tr>\n",
       "      <th>7</th>\n",
       "      <td>owned</td>\n",
       "      <td>own</td>\n",
       "    </tr>\n",
       "    <tr>\n",
       "      <th>8</th>\n",
       "      <td>humbled</td>\n",
       "      <td>humbl</td>\n",
       "    </tr>\n",
       "    <tr>\n",
       "      <th>9</th>\n",
       "      <td>sized</td>\n",
       "      <td>size</td>\n",
       "    </tr>\n",
       "    <tr>\n",
       "      <th>10</th>\n",
       "      <td>meeting</td>\n",
       "      <td>meet</td>\n",
       "    </tr>\n",
       "    <tr>\n",
       "      <th>11</th>\n",
       "      <td>stating</td>\n",
       "      <td>state</td>\n",
       "    </tr>\n",
       "    <tr>\n",
       "      <th>12</th>\n",
       "      <td>siezing</td>\n",
       "      <td>siez</td>\n",
       "    </tr>\n",
       "    <tr>\n",
       "      <th>13</th>\n",
       "      <td>itemization</td>\n",
       "      <td>item</td>\n",
       "    </tr>\n",
       "    <tr>\n",
       "      <th>14</th>\n",
       "      <td>sensational</td>\n",
       "      <td>sensat</td>\n",
       "    </tr>\n",
       "    <tr>\n",
       "      <th>15</th>\n",
       "      <td>traditional</td>\n",
       "      <td>tradit</td>\n",
       "    </tr>\n",
       "    <tr>\n",
       "      <th>16</th>\n",
       "      <td>reference</td>\n",
       "      <td>refer</td>\n",
       "    </tr>\n",
       "    <tr>\n",
       "      <th>17</th>\n",
       "      <td>colonizer</td>\n",
       "      <td>colon</td>\n",
       "    </tr>\n",
       "    <tr>\n",
       "      <th>18</th>\n",
       "      <td>plotted</td>\n",
       "      <td>plot</td>\n",
       "    </tr>\n",
       "  </tbody>\n",
       "</table>\n",
       "</div>"
      ],
      "text/plain": [
       "   original word stemmed\n",
       "0       caresses  caress\n",
       "1          flies     fli\n",
       "2           dies     die\n",
       "3          mules    mule\n",
       "4         denied    deni\n",
       "5           died     die\n",
       "6         agreed    agre\n",
       "7          owned     own\n",
       "8        humbled   humbl\n",
       "9          sized    size\n",
       "10       meeting    meet\n",
       "11       stating   state\n",
       "12       siezing    siez\n",
       "13   itemization    item\n",
       "14   sensational  sensat\n",
       "15   traditional  tradit\n",
       "16     reference   refer\n",
       "17     colonizer   colon\n",
       "18       plotted    plot"
      ]
     },
     "execution_count": 8,
     "metadata": {},
     "output_type": "execute_result"
    }
   ],
   "source": [
    "stemmer = SnowballStemmer(\"english\")\n",
    "original_words = ['caresses', 'flies', 'dies', 'mules', 'denied','died', 'agreed', 'owned', \n",
    "           'humbled', 'sized','meeting', 'stating', 'siezing', 'itemization','sensational', \n",
    "           'traditional', 'reference', 'colonizer','plotted']\n",
    "singles = [stemmer.stem(plural) for plural in original_words]\n",
    "\n",
    "pd.DataFrame(data={'original word':original_words, 'stemmed':singles })"
   ]
  },
  {
   "cell_type": "code",
   "execution_count": 9,
   "metadata": {},
   "outputs": [],
   "source": [
    "'''\n",
    "Write a function to perform the pre processing steps on the entire dataset\n",
    "'''\n",
    "\n",
    "\n",
    "from gensim.parsing.preprocessing import STOPWORDS\n",
    "from gensim.utils import simple_preprocess\n",
    "from gensim.parsing.preprocessing import STOPWORDS\n",
    "\n",
    "# Tokenize and lemmatize\n",
    "\n",
    "\n",
    "def lemmatize_stemming(text):\n",
    "    return stemmer.stem(WordNetLemmatizer().lemmatize(text, pos='v'))\n",
    "\n",
    "def preprocess(text):\n",
    "    return [lemmatize_stemming(token) for token in simple_preprocess(text) if (token not in STOPWORDS and len(token) > 3)]"
   ]
  },
  {
   "cell_type": "code",
   "execution_count": 10,
   "metadata": {},
   "outputs": [
    {
     "name": "stdout",
     "output_type": "stream",
     "text": [
      "Sample doc: \t rain helps dampen bushfires\n",
      "\n",
      "Words involved: ['rain', 'helps', 'dampen', 'bushfires']\n",
      "\n",
      "Tokenized and Lemmatized doc: ['rain', 'help', 'dampen', 'bushfir']\n",
      "\n"
     ]
    }
   ],
   "source": [
    "# tesst a random headline\n",
    "sample = df.iloc[4310].values[0]\n",
    "words = sample.split()\n",
    "\n",
    "print (f\"Sample doc: \\t {sample}\\n\")\n",
    "print (f\"Words involved: {words}\\n\")\n",
    "print(f\"Tokenized and Lemmatized doc: {preprocess(sample)}\\n\")\n"
   ]
  },
  {
   "cell_type": "markdown",
   "metadata": {},
   "source": [
    "Let's now preprocess all the news headlines we have. To do that, let's use the [map](https://pandas.pydata.org/pandas-docs/stable/generated/pandas.Series.map.html) function from pandas to apply `preprocess()` to the `headline_text` column\n",
    "\n",
    "**Note**: This may take a few minutes"
   ]
  },
  {
   "cell_type": "code",
   "execution_count": 11,
   "metadata": {},
   "outputs": [],
   "source": [
    "processed_docs = df['headline_text'].map(preprocess)"
   ]
  },
  {
   "cell_type": "code",
   "execution_count": 12,
   "metadata": {},
   "outputs": [
    {
     "data": {
      "text/plain": [
       "0            [decid, communiti, broadcast, licenc]\n",
       "1                               [wit, awar, defam]\n",
       "2           [call, infrastructur, protect, summit]\n",
       "3                      [staff, aust, strike, rise]\n",
       "4             [strike, affect, australian, travel]\n",
       "5               [ambiti, olsson, win, tripl, jump]\n",
       "6           [antic, delight, record, break, barca]\n",
       "7    [aussi, qualifi, stosur, wast, memphi, match]\n",
       "8            [aust, address, secur, council, iraq]\n",
       "9                         [australia, lock, timet]\n",
       "Name: headline_text, dtype: object"
      ]
     },
     "execution_count": 12,
     "metadata": {},
     "output_type": "execute_result"
    }
   ],
   "source": [
    "'''\n",
    "Preview 'processed_docs'\n",
    "'''\n",
    "processed_docs[:10]"
   ]
  },
  {
   "cell_type": "markdown",
   "metadata": {},
   "source": [
    "## Step 3.1: Bag of words on the dataset\n",
    "\n",
    "Now let's create a dictionary from 'processed_docs' containing the number of times a word appears in the training set. To do that, let's pass `processed_docs` to [`gensim.corpora.Dictionary()`](https://radimrehurek.com/gensim/corpora/dictionary.html) and call it '`dictionary`'."
   ]
  },
  {
   "cell_type": "code",
   "execution_count": 13,
   "metadata": {},
   "outputs": [],
   "source": [
    "'''\n",
    "Create a dictionary from 'processed_docs' containing the number of times a word appears \n",
    "in the training set using gensim.corpora.Dictionary and call it 'dictionary'\n",
    "'''\n",
    "\n",
    "from gensim.corpora import Dictionary\n",
    "dictionary = Dictionary(processed_docs)"
   ]
  },
  {
   "cell_type": "code",
   "execution_count": 14,
   "metadata": {},
   "outputs": [
    {
     "name": "stdout",
     "output_type": "stream",
     "text": [
      "0 broadcast\n",
      "1 communiti\n",
      "2 decid\n",
      "3 licenc\n",
      "4 awar\n",
      "5 defam\n",
      "6 wit\n",
      "7 call\n",
      "8 infrastructur\n",
      "9 protect\n",
      "10 summit\n"
     ]
    }
   ],
   "source": [
    "'''\n",
    "Checking dictionary created\n",
    "'''\n",
    "count = 0\n",
    "for k, v in dictionary.iteritems():\n",
    "    print(k, v)\n",
    "    count += 1\n",
    "    if count > 10:\n",
    "        break"
   ]
  },
  {
   "cell_type": "markdown",
   "metadata": {},
   "source": [
    "** Gensim filter_extremes **\n",
    "\n",
    "[`filter_extremes(no_below=5, no_above=0.5, keep_n=100000)`](https://radimrehurek.com/gensim/corpora/dictionary.html#gensim.corpora.dictionary.Dictionary.filter_extremes)\n",
    "\n",
    "Filter out tokens that appear in\n",
    "\n",
    "* less than no_below documents (absolute number) or\n",
    "* more than no_above documents (fraction of total corpus size, not absolute number).\n",
    "* after (1) and (2), keep only the first keep_n most frequent tokens (or keep all if None)."
   ]
  },
  {
   "cell_type": "code",
   "execution_count": 15,
   "metadata": {},
   "outputs": [],
   "source": [
    "'''\n",
    "OPTIONAL STEP\n",
    "Remove very rare and very common words:\n",
    "\n",
    "- words appearing less than 15 times\n",
    "- words appearing in more than 10% of all documents\n",
    "'''\n",
    "# TODO: apply dictionary.filter_extremes() with the parameters mentioned above\n",
    "dictionary.filter_extremes(no_below=15, no_above=0.1, keep_n=100000)"
   ]
  },
  {
   "cell_type": "markdown",
   "metadata": {},
   "source": [
    "** Gensim doc2bow **\n",
    "\n",
    "[`doc2bow(document)`](https://radimrehurek.com/gensim/corpora/dictionary.html#gensim.corpora.dictionary.Dictionary.doc2bow)\n",
    "\n",
    "* Convert document (a list of words) into the bag-of-words format = list of (token_id, token_count) 2-tuples. Each word is assumed to be a tokenized and normalized string (either unicode or utf8-encoded). No further preprocessing is done on the words in document; apply tokenization, stemming etc. before calling this method."
   ]
  },
  {
   "cell_type": "code",
   "execution_count": 16,
   "metadata": {},
   "outputs": [],
   "source": [
    "'''\n",
    "Create the Bag-of-words model for each document i.e for each document we create a dictionary reporting how many\n",
    "words and how many times those words appear. Save this to 'bow_corpus'\n",
    "'''\n",
    "bow_corpus = [dictionary.doc2bow(doc) for doc in processed_docs]"
   ]
  },
  {
   "cell_type": "code",
   "execution_count": 17,
   "metadata": {},
   "outputs": [
    {
     "data": {
      "text/plain": [
       "[(67, 1), (100, 1), (436, 1), (2813, 1)]"
      ]
     },
     "execution_count": 17,
     "metadata": {},
     "output_type": "execute_result"
    }
   ],
   "source": [
    "'''\n",
    "Checking Bag of Words corpus for our sample document --> (token_id, token_count)\n",
    "'''\n",
    "bow_corpus[4310]"
   ]
  },
  {
   "cell_type": "code",
   "execution_count": null,
   "metadata": {},
   "outputs": [],
   "source": []
  },
  {
   "cell_type": "code",
   "execution_count": 18,
   "metadata": {},
   "outputs": [
    {
     "name": "stdout",
     "output_type": "stream",
     "text": [
      "Word 67 (\"bushfir\") appears 1 time.\n",
      "Word 100 (\"help\") appears 1 time.\n",
      "Word 436 (\"rain\") appears 1 time.\n",
      "Word 2813 (\"dampen\") appears 1 time.\n"
     ]
    }
   ],
   "source": [
    "'''\n",
    "Preview BOW for our sample preprocessed document\n",
    "'''\n",
    "# Here document_num is document number 4310 which we have checked in Step 2\n",
    "bow_doc_4310 = bow_corpus[4310]\n",
    "\n",
    "for i in range(len(bow_doc_4310)):\n",
    "    print(\"Word {} (\\\"{}\\\") appears {} time.\".format(bow_doc_4310[i][0], \n",
    "                                                     dictionary[bow_doc_4310[i][0]], \n",
    "                                                     bow_doc_4310[i][1]))"
   ]
  },
  {
   "cell_type": "markdown",
   "metadata": {},
   "source": [
    "## Step 3.2: TF-IDF on our document set ##\n",
    "\n",
    "While performing TF-IDF on the corpus is not necessary for LDA implemention using the gensim model, it is recemmended. TF-IDF expects a bag-of-words (integer values) training corpus during initialization. During transformation, it will take a vector and return another vector of the same dimensionality.\n",
    "\n",
    "*Please note: The author of Gensim dictates the standard procedure for LDA to be using the Bag of Words model.*"
   ]
  },
  {
   "cell_type": "markdown",
   "metadata": {},
   "source": [
    "** TF-IDF stands for \"Term Frequency, Inverse Document Frequency\".**\n",
    "\n",
    "* It is a way to score the importance of words (or \"terms\") in a document based on how frequently they appear across multiple documents.\n",
    "* If a word appears frequently in a document, it's important. Give the word a high score. But if a word appears in many documents, it's not a unique identifier. Give the word a low score.\n",
    "* Therefore, common words like \"the\" and \"for\", which appear in many documents, will be scaled down. Words that appear frequently in a single document will be scaled up.\n",
    "\n",
    "In other words:\n",
    "\n",
    "* TF(w) = `(Number of times term w appears in a document) / (Total number of terms in the document)`.\n",
    "* IDF(w) = `log_e(Total number of documents / Number of documents with term w in it)`.\n",
    "\n",
    "** For example **\n",
    "\n",
    "* Consider a document containing `100` words wherein the word 'tiger' appears 3 times. \n",
    "* The term frequency (i.e., tf) for 'tiger' is then: \n",
    "    - `TF = (3 / 100) = 0.03`. \n",
    "\n",
    "* Now, assume we have `10 million` documents and the word 'tiger' appears in `1000` of these. Then, the inverse document frequency (i.e., idf) is calculated as:\n",
    "    - `IDF = log(10,000,000 / 1,000) = 4`. \n",
    "\n",
    "* Thus, the Tf-idf weight is the product of these quantities: \n",
    "    - `TF-IDF = 0.03 * 4 = 0.12`."
   ]
  },
  {
   "cell_type": "code",
   "execution_count": 19,
   "metadata": {},
   "outputs": [],
   "source": [
    "'''\n",
    "Create tf-idf model object using models.TfidfModel on 'bow_corpus' and save it to 'tfidf'\n",
    "'''\n",
    "from gensim import corpora, models\n",
    "tfidf = models.TfidfModel(bow_corpus)"
   ]
  },
  {
   "cell_type": "code",
   "execution_count": 20,
   "metadata": {},
   "outputs": [],
   "source": [
    "'''\n",
    "Apply transformation to the entire corpus and call it 'corpus_tfidf'\n",
    "'''\n",
    "corpus_tfidf = tfidf[bow_corpus]"
   ]
  },
  {
   "cell_type": "code",
   "execution_count": 21,
   "metadata": {},
   "outputs": [
    {
     "name": "stdout",
     "output_type": "stream",
     "text": [
      "[(0, 0.5694032272086778),\n",
      " (1, 0.40633999001577825),\n",
      " (2, 0.48769022144343),\n",
      " (3, 0.5223275076681089)]\n"
     ]
    }
   ],
   "source": [
    "'''\n",
    "Preview TF-IDF scores for our first document --> --> (token_id, tfidf score)\n",
    "'''\n",
    "from pprint import pprint\n",
    "for doc in corpus_tfidf:\n",
    "    pprint(doc)\n",
    "    break"
   ]
  },
  {
   "cell_type": "markdown",
   "metadata": {},
   "source": [
    "## Step 4.1: Running LDA using Bag of Words ##\n",
    "\n",
    "We are going for 10 topics in the document corpus.\n",
    "\n",
    "** We will be running LDA using all CPU cores to parallelize and speed up model training.**\n",
    "\n",
    "Some of the parameters we will be tweaking are:\n",
    "\n",
    "* **num_topics** is the number of requested latent topics to be extracted from the training corpus.\n",
    "* **id2word** is a mapping from word ids (integers) to words (strings). It is used to determine the vocabulary size, as well as for debugging and topic printing.\n",
    "* **workers** is the number of extra processes to use for parallelization. Uses all available cores by default.\n",
    "* **alpha** and **eta** are hyperparameters that affect sparsity of the document-topic (theta) and topic-word (lambda) distributions. We will let these be the default values for now(default value is `1/num_topics`)\n",
    "    - Alpha is the per document topic distribution.\n",
    "        * High alpha: Every document has a mixture of all topics(documents appear similar to each other).\n",
    "        * Low alpha: Every document has a mixture of very few topics\n",
    "\n",
    "    - Eta is the per topic word distribution.\n",
    "        * High eta: Each topic has a mixture of most words(topics appear similar to each other).\n",
    "        * Low eta: Each topic has a mixture of few words.\n",
    "\n",
    "* ** passes ** is the number of training passes through the corpus. For  example, if the training corpus has 50,000 documents, chunksize is  10,000, passes is 2, then online training is done in 10 updates: \n",
    "    * `#1 documents 0-9,999 `\n",
    "    * `#2 documents 10,000-19,999 `\n",
    "    * `#3 documents 20,000-29,999 `\n",
    "    * `#4 documents 30,000-39,999 `\n",
    "    * `#5 documents 40,000-49,999 `\n",
    "    * `#6 documents 0-9,999 `\n",
    "    * `#7 documents 10,000-19,999 `\n",
    "    * `#8 documents 20,000-29,999 `\n",
    "    * `#9 documents 30,000-39,999 `\n",
    "    * `#10 documents 40,000-49,999` "
   ]
  },
  {
   "cell_type": "code",
   "execution_count": 22,
   "metadata": {},
   "outputs": [],
   "source": [
    "from gensim.models import LdaMulticore\n",
    "\n",
    "lda_model = LdaMulticore(bow_corpus, \n",
    "                         num_topics=10, \n",
    "                         id2word = dictionary, \n",
    "                         passes = 2, \n",
    "                         workers=2)"
   ]
  },
  {
   "cell_type": "code",
   "execution_count": 23,
   "metadata": {},
   "outputs": [
    {
     "data": {
      "text/plain": [
       "[(0,\n",
       "  '0.037*\"plan\" + 0.036*\"council\" + 0.022*\"water\" + 0.021*\"group\" + 0.020*\"seek\" + 0.015*\"govt\" + 0.014*\"hospit\" + 0.013*\"urg\" + 0.011*\"meet\" + 0.011*\"fund\"'),\n",
       " (1,\n",
       "  '0.021*\"report\" + 0.021*\"crash\" + 0.018*\"want\" + 0.013*\"say\" + 0.012*\"time\" + 0.011*\"ahead\" + 0.011*\"england\" + 0.011*\"elect\" + 0.010*\"announc\" + 0.010*\"nation\"'),\n",
       " (2,\n",
       "  '0.017*\"urg\" + 0.016*\"appeal\" + 0.015*\"home\" + 0.015*\"question\" + 0.015*\"look\" + 0.013*\"abus\" + 0.009*\"move\" + 0.009*\"black\" + 0.009*\"presid\" + 0.009*\"visit\"'),\n",
       " (3,\n",
       "  '0.041*\"iraq\" + 0.035*\"kill\" + 0.019*\"attack\" + 0.017*\"rise\" + 0.015*\"deal\" + 0.015*\"iraqi\" + 0.013*\"trade\" + 0.013*\"troop\" + 0.013*\"talk\" + 0.013*\"terror\"'),\n",
       " (4,\n",
       "  '0.020*\"jail\" + 0.017*\"hear\" + 0.017*\"power\" + 0.014*\"worker\" + 0.014*\"strike\" + 0.013*\"record\" + 0.013*\"murder\" + 0.011*\"stay\" + 0.011*\"work\" + 0.011*\"second\"'),\n",
       " (5,\n",
       "  '0.079*\"polic\" + 0.022*\"probe\" + 0.018*\"investig\" + 0.014*\"charg\" + 0.014*\"drug\" + 0.013*\"death\" + 0.013*\"test\" + 0.012*\"shoot\" + 0.012*\"coast\" + 0.012*\"sydney\"'),\n",
       " (6,\n",
       "  '0.018*\"return\" + 0.012*\"close\" + 0.012*\"final\" + 0.011*\"year\" + 0.011*\"centr\" + 0.010*\"student\" + 0.009*\"name\" + 0.008*\"win\" + 0.008*\"celebr\" + 0.007*\"injuri\"'),\n",
       " (7,\n",
       "  '0.020*\"secur\" + 0.018*\"prison\" + 0.017*\"miss\" + 0.016*\"chief\" + 0.015*\"search\" + 0.014*\"studi\" + 0.011*\"road\" + 0.010*\"fail\" + 0.010*\"servic\" + 0.009*\"find\"'),\n",
       " (8,\n",
       "  '0.035*\"claim\" + 0.031*\"court\" + 0.028*\"govt\" + 0.028*\"face\" + 0.023*\"health\" + 0.020*\"charg\" + 0.019*\"fund\" + 0.015*\"budget\" + 0.015*\"reject\" + 0.015*\"accus\"'),\n",
       " (9,\n",
       "  '0.021*\"concern\" + 0.017*\"welcom\" + 0.016*\"industri\" + 0.015*\"union\" + 0.014*\"high\" + 0.014*\"take\" + 0.014*\"govt\" + 0.013*\"price\" + 0.012*\"decis\" + 0.012*\"push\"')]"
      ]
     },
     "execution_count": 23,
     "metadata": {},
     "output_type": "execute_result"
    }
   ],
   "source": [
    "lda_model.print_topics()"
   ]
  },
  {
   "cell_type": "markdown",
   "metadata": {},
   "source": [
    "### Classification of the topics ###\n",
    "\n",
    "Using the words in each topic and their corresponding weights, what categories were you able to infer?\n",
    "\n",
    "* 0: \n",
    "* 1: \n",
    "* 2: \n",
    "* 3: \n",
    "* 4: \n",
    "* 5: \n",
    "* 6: \n",
    "* 7:  \n",
    "* 8: \n",
    "* 9: "
   ]
  },
  {
   "cell_type": "markdown",
   "metadata": {},
   "source": [
    "## Step 4.2 Running LDA using TF-IDF ##"
   ]
  },
  {
   "cell_type": "code",
   "execution_count": 24,
   "metadata": {},
   "outputs": [],
   "source": [
    "'''\n",
    "Define lda model using corpus_tfidf\n",
    "'''\n",
    "# TODO\n",
    "lda_model_tfidf = LdaMulticore(corpus_tfidf, \n",
    "                               num_topics=10, \n",
    "                               id2word = dictionary, \n",
    "                               passes = 2, \n",
    "                               workers=4)"
   ]
  },
  {
   "cell_type": "code",
   "execution_count": 25,
   "metadata": {},
   "outputs": [
    {
     "data": {
      "text/plain": [
       "[(0,\n",
       "  '0.010*\"coast\" + 0.008*\"south\" + 0.008*\"gold\" + 0.006*\"nuclear\" + 0.006*\"north\" + 0.006*\"korea\" + 0.006*\"polic\" + 0.005*\"hospit\" + 0.005*\"iran\" + 0.005*\"west\"'),\n",
       " (1,\n",
       "  '0.012*\"accid\" + 0.011*\"die\" + 0.010*\"woman\" + 0.008*\"blaze\" + 0.007*\"polic\" + 0.006*\"kill\" + 0.006*\"court\" + 0.005*\"crash\" + 0.005*\"firefight\" + 0.005*\"driver\"'),\n",
       " (2,\n",
       "  '0.007*\"industri\" + 0.007*\"award\" + 0.006*\"govt\" + 0.005*\"plan\" + 0.005*\"doubt\" + 0.004*\"benefit\" + 0.004*\"sugar\" + 0.004*\"offer\" + 0.004*\"film\" + 0.004*\"council\"'),\n",
       " (3,\n",
       "  '0.018*\"polic\" + 0.013*\"charg\" + 0.010*\"search\" + 0.009*\"murder\" + 0.009*\"miss\" + 0.009*\"drug\" + 0.008*\"court\" + 0.008*\"servic\" + 0.006*\"face\" + 0.006*\"arrest\"'),\n",
       " (4,\n",
       "  '0.009*\"shoot\" + 0.008*\"polic\" + 0.008*\"jail\" + 0.008*\"crash\" + 0.008*\"kill\" + 0.007*\"dead\" + 0.007*\"iraqi\" + 0.006*\"fund\" + 0.006*\"plane\" + 0.005*\"govt\"'),\n",
       " (5,\n",
       "  '0.007*\"aussi\" + 0.006*\"stand\" + 0.006*\"world\" + 0.005*\"say\" + 0.005*\"rebel\" + 0.005*\"council\" + 0.005*\"zimbabw\" + 0.004*\"super\" + 0.004*\"sale\" + 0.004*\"india\"'),\n",
       " (6,\n",
       "  '0.010*\"lead\" + 0.006*\"bird\" + 0.005*\"england\" + 0.005*\"black\" + 0.005*\"open\" + 0.005*\"season\" + 0.005*\"make\" + 0.004*\"clash\" + 0.004*\"spot\" + 0.004*\"warrior\"'),\n",
       " (7,\n",
       "  '0.008*\"kill\" + 0.007*\"water\" + 0.006*\"injur\" + 0.006*\"restrict\" + 0.005*\"teacher\" + 0.005*\"plan\" + 0.005*\"govt\" + 0.005*\"blast\" + 0.005*\"strike\" + 0.005*\"sheep\"'),\n",
       " (8,\n",
       "  '0.008*\"latham\" + 0.008*\"iraq\" + 0.006*\"plan\" + 0.005*\"chang\" + 0.005*\"solomon\" + 0.005*\"merger\" + 0.005*\"unit\" + 0.005*\"govt\" + 0.004*\"council\" + 0.004*\"troop\"'),\n",
       " (9,\n",
       "  '0.011*\"rise\" + 0.008*\"govt\" + 0.008*\"terror\" + 0.006*\"appeal\" + 0.006*\"prison\" + 0.006*\"council\" + 0.006*\"toll\" + 0.005*\"deal\" + 0.005*\"fear\" + 0.005*\"trade\"')]"
      ]
     },
     "execution_count": 25,
     "metadata": {},
     "output_type": "execute_result"
    }
   ],
   "source": [
    "#print topics and its relative weight\n",
    "lda_model_tfidf.print_topics()"
   ]
  },
  {
   "cell_type": "code",
   "execution_count": 26,
   "metadata": {},
   "outputs": [
    {
     "data": {
      "text/plain": [
       "'0.012*\"accid\" + 0.011*\"die\" + 0.010*\"woman\" + 0.008*\"blaze\" + 0.007*\"polic\" + 0.006*\"kill\" + 0.006*\"court\" + 0.005*\"crash\" + 0.005*\"firefight\" + 0.005*\"driver\"'"
      ]
     },
     "execution_count": 26,
     "metadata": {},
     "output_type": "execute_result"
    }
   ],
   "source": [
    "#print topics and its relative weight\n",
    "lda_model_tfidf.print_topic(1)"
   ]
  },
  {
   "cell_type": "markdown",
   "metadata": {},
   "source": [
    "### Classification of the topics ###\n",
    "\n",
    "As we can see, when using tf-idf, heavier weights are given to words that are not as frequent which results in nouns being factored in. That makes it harder to figure out the categories as nouns can be hard to categorize. This goes to show that the models we apply depend on the type of corpus of text we are dealing with. \n",
    "\n",
    "Using the words in each topic and their corresponding weights, what categories could you find?\n",
    "\n",
    "* 0: \n",
    "* 1:  \n",
    "* 2: \n",
    "* 3: \n",
    "* 4:  \n",
    "* 5: \n",
    "* 6: \n",
    "* 7: \n",
    "* 8: \n",
    "* 9: "
   ]
  },
  {
   "cell_type": "markdown",
   "metadata": {},
   "source": [
    "## Step 5.1: Performance evaluation by classifying sample document using LDA Bag of Words model##\n",
    "\n",
    "We will check to see where our test document would be classified. "
   ]
  },
  {
   "cell_type": "code",
   "execution_count": 29,
   "metadata": {},
   "outputs": [
    {
     "data": {
      "text/plain": [
       "['rain', 'help', 'dampen', 'bushfir']"
      ]
     },
     "execution_count": 29,
     "metadata": {},
     "output_type": "execute_result"
    }
   ],
   "source": [
    "'''\n",
    "Text of sample document 4310\n",
    "'''\n",
    "document_num=4310\n",
    "processed_docs[document_num]"
   ]
  },
  {
   "cell_type": "code",
   "execution_count": 30,
   "metadata": {},
   "outputs": [
    {
     "name": "stdout",
     "output_type": "stream",
     "text": [
      "\n",
      "Score: 0.29290565848350525\t \n",
      "Topic: 0.021*\"concern\" + 0.017*\"welcom\" + 0.016*\"industri\" + 0.015*\"union\" + 0.014*\"high\" + 0.014*\"take\" + 0.014*\"govt\" + 0.013*\"price\" + 0.012*\"decis\" + 0.012*\"push\"\n",
      "\n",
      "Score: 0.2914659380912781\t \n",
      "Topic: 0.079*\"polic\" + 0.022*\"probe\" + 0.018*\"investig\" + 0.014*\"charg\" + 0.014*\"drug\" + 0.013*\"death\" + 0.013*\"test\" + 0.012*\"shoot\" + 0.012*\"coast\" + 0.012*\"sydney\"\n",
      "\n",
      "Score: 0.27559369802474976\t \n",
      "Topic: 0.037*\"plan\" + 0.036*\"council\" + 0.022*\"water\" + 0.021*\"group\" + 0.020*\"seek\" + 0.015*\"govt\" + 0.014*\"hospit\" + 0.013*\"urg\" + 0.011*\"meet\" + 0.011*\"fund\"\n",
      "\n",
      "Score: 0.02000635303556919\t \n",
      "Topic: 0.020*\"secur\" + 0.018*\"prison\" + 0.017*\"miss\" + 0.016*\"chief\" + 0.015*\"search\" + 0.014*\"studi\" + 0.011*\"road\" + 0.010*\"fail\" + 0.010*\"servic\" + 0.009*\"find\"\n",
      "\n",
      "Score: 0.02000591531395912\t \n",
      "Topic: 0.017*\"urg\" + 0.016*\"appeal\" + 0.015*\"home\" + 0.015*\"question\" + 0.015*\"look\" + 0.013*\"abus\" + 0.009*\"move\" + 0.009*\"black\" + 0.009*\"presid\" + 0.009*\"visit\"\n",
      "\n",
      "Score: 0.020004533231258392\t \n",
      "Topic: 0.021*\"report\" + 0.021*\"crash\" + 0.018*\"want\" + 0.013*\"say\" + 0.012*\"time\" + 0.011*\"ahead\" + 0.011*\"england\" + 0.011*\"elect\" + 0.010*\"announc\" + 0.010*\"nation\"\n",
      "\n",
      "Score: 0.020004479214549065\t \n",
      "Topic: 0.020*\"jail\" + 0.017*\"hear\" + 0.017*\"power\" + 0.014*\"worker\" + 0.014*\"strike\" + 0.013*\"record\" + 0.013*\"murder\" + 0.011*\"stay\" + 0.011*\"work\" + 0.011*\"second\"\n",
      "\n",
      "Score: 0.02000446245074272\t \n",
      "Topic: 0.035*\"claim\" + 0.031*\"court\" + 0.028*\"govt\" + 0.028*\"face\" + 0.023*\"health\" + 0.020*\"charg\" + 0.019*\"fund\" + 0.015*\"budget\" + 0.015*\"reject\" + 0.015*\"accus\"\n",
      "\n",
      "Score: 0.020004458725452423\t \n",
      "Topic: 0.041*\"iraq\" + 0.035*\"kill\" + 0.019*\"attack\" + 0.017*\"rise\" + 0.015*\"deal\" + 0.015*\"iraqi\" + 0.013*\"trade\" + 0.013*\"troop\" + 0.013*\"talk\" + 0.013*\"terror\"\n",
      "\n",
      "Score: 0.020004458725452423\t \n",
      "Topic: 0.018*\"return\" + 0.012*\"close\" + 0.012*\"final\" + 0.011*\"year\" + 0.011*\"centr\" + 0.010*\"student\" + 0.009*\"name\" + 0.008*\"win\" + 0.008*\"celebr\" + 0.007*\"injuri\"\n"
     ]
    }
   ],
   "source": [
    "'''\n",
    "Check which topic our test document belongs to using the LDA Bag of Words model.\n",
    "'''\n",
    "\n",
    "# Our test document is document number 4310\n",
    "for index, score in sorted(lda_model[bow_corpus[document_num]], key=lambda tup: -1*tup[1]):\n",
    "    print(\"\\nScore: {}\\t \\nTopic: {}\".format(score, lda_model.print_topic(index, 10)))"
   ]
  },
  {
   "cell_type": "markdown",
   "metadata": {},
   "source": [
    "### It has the highest probability (`x`) to be  part of the topic that we assigned as X, which is the accurate classification. ###"
   ]
  },
  {
   "cell_type": "markdown",
   "metadata": {},
   "source": [
    "## Step 5.2: Performance evaluation by classifying sample document using LDA TF-IDF model##"
   ]
  },
  {
   "cell_type": "code",
   "execution_count": 31,
   "metadata": {},
   "outputs": [
    {
     "name": "stdout",
     "output_type": "stream",
     "text": [
      "\n",
      "Score: 0.534644365310669\t \n",
      "Topic: 0.010*\"lead\" + 0.006*\"bird\" + 0.005*\"england\" + 0.005*\"black\" + 0.005*\"open\" + 0.005*\"season\" + 0.005*\"make\" + 0.004*\"clash\" + 0.004*\"spot\" + 0.004*\"warrior\"\n",
      "\n",
      "Score: 0.3053092360496521\t \n",
      "Topic: 0.007*\"industri\" + 0.007*\"award\" + 0.006*\"govt\" + 0.005*\"plan\" + 0.005*\"doubt\" + 0.004*\"benefit\" + 0.004*\"sugar\" + 0.004*\"offer\" + 0.004*\"film\" + 0.004*\"council\"\n",
      "\n",
      "Score: 0.020009998232126236\t \n",
      "Topic: 0.008*\"kill\" + 0.007*\"water\" + 0.006*\"injur\" + 0.006*\"restrict\" + 0.005*\"teacher\" + 0.005*\"plan\" + 0.005*\"govt\" + 0.005*\"blast\" + 0.005*\"strike\" + 0.005*\"sheep\"\n",
      "\n",
      "Score: 0.020007168874144554\t \n",
      "Topic: 0.011*\"rise\" + 0.008*\"govt\" + 0.008*\"terror\" + 0.006*\"appeal\" + 0.006*\"prison\" + 0.006*\"council\" + 0.006*\"toll\" + 0.005*\"deal\" + 0.005*\"fear\" + 0.005*\"trade\"\n",
      "\n",
      "Score: 0.020006464794278145\t \n",
      "Topic: 0.018*\"polic\" + 0.013*\"charg\" + 0.010*\"search\" + 0.009*\"murder\" + 0.009*\"miss\" + 0.009*\"drug\" + 0.008*\"court\" + 0.008*\"servic\" + 0.006*\"face\" + 0.006*\"arrest\"\n",
      "\n",
      "Score: 0.02000533789396286\t \n",
      "Topic: 0.008*\"latham\" + 0.008*\"iraq\" + 0.006*\"plan\" + 0.005*\"chang\" + 0.005*\"solomon\" + 0.005*\"merger\" + 0.005*\"unit\" + 0.005*\"govt\" + 0.004*\"council\" + 0.004*\"troop\"\n",
      "\n",
      "Score: 0.020004617050290108\t \n",
      "Topic: 0.009*\"shoot\" + 0.008*\"polic\" + 0.008*\"jail\" + 0.008*\"crash\" + 0.008*\"kill\" + 0.007*\"dead\" + 0.007*\"iraqi\" + 0.006*\"fund\" + 0.006*\"plane\" + 0.005*\"govt\"\n",
      "\n",
      "Score: 0.020004604011774063\t \n",
      "Topic: 0.007*\"aussi\" + 0.006*\"stand\" + 0.006*\"world\" + 0.005*\"say\" + 0.005*\"rebel\" + 0.005*\"council\" + 0.005*\"zimbabw\" + 0.004*\"super\" + 0.004*\"sale\" + 0.004*\"india\"\n",
      "\n",
      "Score: 0.020004263147711754\t \n",
      "Topic: 0.012*\"accid\" + 0.011*\"die\" + 0.010*\"woman\" + 0.008*\"blaze\" + 0.007*\"polic\" + 0.006*\"kill\" + 0.006*\"court\" + 0.005*\"crash\" + 0.005*\"firefight\" + 0.005*\"driver\"\n",
      "\n",
      "Score: 0.02000398188829422\t \n",
      "Topic: 0.010*\"coast\" + 0.008*\"south\" + 0.008*\"gold\" + 0.006*\"nuclear\" + 0.006*\"north\" + 0.006*\"korea\" + 0.006*\"polic\" + 0.005*\"hospit\" + 0.005*\"iran\" + 0.005*\"west\"\n"
     ]
    }
   ],
   "source": [
    "'''\n",
    "Check which topic our test document belongs to using the LDA TF-IDF model.\n",
    "'''\n",
    "for index, score in sorted(lda_model_tfidf[bow_corpus[document_num]], key=lambda tup: -1*tup[1]):\n",
    "    print(\"\\nScore: {}\\t \\nTopic: {}\".format(score, lda_model_tfidf.print_topic(index, 10)))"
   ]
  },
  {
   "cell_type": "markdown",
   "metadata": {},
   "source": [
    "### It has the highest probability (`x%`) to be  part of the topic that we assigned as X. ###"
   ]
  },
  {
   "cell_type": "markdown",
   "metadata": {},
   "source": [
    "## Step 6: Testing model on unseen document ##"
   ]
  },
  {
   "cell_type": "code",
   "execution_count": 32,
   "metadata": {},
   "outputs": [
    {
     "name": "stdout",
     "output_type": "stream",
     "text": [
      "Score: 0.4218541979789734\t Topic: 0.021*\"report\" + 0.021*\"crash\" + 0.018*\"want\" + 0.013*\"say\" + 0.012*\"time\"\n",
      "Score: 0.4181063175201416\t Topic: 0.018*\"return\" + 0.012*\"close\" + 0.012*\"final\" + 0.011*\"year\" + 0.011*\"centr\"\n",
      "Score: 0.02000945806503296\t Topic: 0.017*\"urg\" + 0.016*\"appeal\" + 0.015*\"home\" + 0.015*\"question\" + 0.015*\"look\"\n",
      "Score: 0.020006049424409866\t Topic: 0.020*\"secur\" + 0.018*\"prison\" + 0.017*\"miss\" + 0.016*\"chief\" + 0.015*\"search\"\n",
      "Score: 0.02000446990132332\t Topic: 0.035*\"claim\" + 0.031*\"court\" + 0.028*\"govt\" + 0.028*\"face\" + 0.023*\"health\"\n",
      "Score: 0.0200043972581625\t Topic: 0.079*\"polic\" + 0.022*\"probe\" + 0.018*\"investig\" + 0.014*\"charg\" + 0.014*\"drug\"\n",
      "Score: 0.02000419981777668\t Topic: 0.037*\"plan\" + 0.036*\"council\" + 0.022*\"water\" + 0.021*\"group\" + 0.020*\"seek\"\n",
      "Score: 0.020003730431199074\t Topic: 0.021*\"concern\" + 0.017*\"welcom\" + 0.016*\"industri\" + 0.015*\"union\" + 0.014*\"high\"\n",
      "Score: 0.020003607496619225\t Topic: 0.041*\"iraq\" + 0.035*\"kill\" + 0.019*\"attack\" + 0.017*\"rise\" + 0.015*\"deal\"\n",
      "Score: 0.020003607496619225\t Topic: 0.020*\"jail\" + 0.017*\"hear\" + 0.017*\"power\" + 0.014*\"worker\" + 0.014*\"strike\"\n"
     ]
    }
   ],
   "source": [
    "unseen_document = \"My favorite sports activities are running and swimming.\"\n",
    "\n",
    "# Data preprocessing step for the unseen document\n",
    "bow_vector = dictionary.doc2bow(preprocess(unseen_document))\n",
    "\n",
    "for index, score in sorted(lda_model[bow_vector], key=lambda tup: -1*tup[1]):\n",
    "    print(\"Score: {}\\t Topic: {}\".format(score, lda_model.print_topic(index, 5)))"
   ]
  },
  {
   "cell_type": "markdown",
   "metadata": {},
   "source": [
    "The model correctly classifies the unseen document with 'x'% probability to the X category."
   ]
  }
 ],
 "metadata": {
  "kernelspec": {
   "display_name": "Python 3",
   "language": "python",
   "name": "python3"
  },
  "language_info": {
   "codemirror_mode": {
    "name": "ipython",
    "version": 3
   },
   "file_extension": ".py",
   "mimetype": "text/x-python",
   "name": "python",
   "nbconvert_exporter": "python",
   "pygments_lexer": "ipython3",
   "version": "3.8.4"
  }
 },
 "nbformat": 4,
 "nbformat_minor": 2
}
