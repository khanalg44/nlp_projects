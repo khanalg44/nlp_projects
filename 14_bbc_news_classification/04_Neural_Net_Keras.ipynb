{
 "cells": [
  {
   "cell_type": "markdown",
   "metadata": {
    "id": "IM2ldeeVkqpr"
   },
   "source": [
    "# Category Prediction on BBC-news data"
   ]
  },
  {
   "cell_type": "code",
   "execution_count": 1,
   "metadata": {
    "executionInfo": {
     "elapsed": 799,
     "status": "ok",
     "timestamp": 1613422164160,
     "user": {
      "displayName": "Ghanashyam Khanal",
      "photoUrl": "https://lh3.googleusercontent.com/a-/AOh14GjNFB_3XwLB8BEW17lVypQ54QKRq7KnQZVd8M-QU9c=s64",
      "userId": "16880718905978803098"
     },
     "user_tz": 300
    },
    "id": "nlA_TAfqkqpx"
   },
   "outputs": [
    {
     "name": "stderr",
     "output_type": "stream",
     "text": [
      "[nltk_data] Downloading package stopwords to\n",
      "[nltk_data]     /Users/gshyam/nltk_data...\n",
      "[nltk_data]   Package stopwords is already up-to-date!\n"
     ]
    }
   ],
   "source": [
    "import numpy as np\n",
    "import pandas as pd\n",
    "import pylab as plt\n",
    "import seaborn as sns\n",
    "\n",
    "import json, re\n",
    "from nltk.corpus import stopwords\n",
    "from nltk.stem import PorterStemmer\n",
    "\n",
    "from sklearn.model_selection import train_test_split\n",
    "from helper import plot_history, calc_prediction, process_text\n",
    "\n",
    "\n",
    "from tensorflow.keras.preprocessing.text import Tokenizer\n",
    "from tensorflow.keras.preprocessing.sequence import pad_sequences\n",
    "from tensorflow.keras.utils import to_categorical\n",
    "\n",
    "from sklearn.metrics import accuracy_score, confusion_matrix, f1_score, roc_auc_score \n",
    "from sklearn.metrics import average_precision_score, recall_score\n",
    "\n",
    "data_dir = './'"
   ]
  },
  {
   "cell_type": "code",
   "execution_count": 2,
   "metadata": {
    "colab": {
     "base_uri": "https://localhost:8080/"
    },
    "executionInfo": {
     "elapsed": 1796,
     "status": "ok",
     "timestamp": 1613422165169,
     "user": {
      "displayName": "Ghanashyam Khanal",
      "photoUrl": "https://lh3.googleusercontent.com/a-/AOh14GjNFB_3XwLB8BEW17lVypQ54QKRq7KnQZVd8M-QU9c=s64",
      "userId": "16880718905978803098"
     },
     "user_tz": 300
    },
    "id": "yLxVZJ_0k3Ta",
    "outputId": "7279834e-975c-4e78-d6ba-4b21dd56b90b"
   },
   "outputs": [
    {
     "name": "stdout",
     "output_type": "stream",
     "text": [
      "{'tech': 0, 'business': 1, 'sport': 2, 'entertainment': 3, 'politics': 4} {'0': 'tech', '1': 'business', '2': 'sport', '3': 'entertainment', '4': 'politics'}\n",
      "data.shape: (2225, 5)\n"
     ]
    },
    {
     "data": {
      "text/html": [
       "<div>\n",
       "<style scoped>\n",
       "    .dataframe tbody tr th:only-of-type {\n",
       "        vertical-align: middle;\n",
       "    }\n",
       "\n",
       "    .dataframe tbody tr th {\n",
       "        vertical-align: top;\n",
       "    }\n",
       "\n",
       "    .dataframe thead th {\n",
       "        text-align: right;\n",
       "    }\n",
       "</style>\n",
       "<table border=\"1\" class=\"dataframe\">\n",
       "  <thead>\n",
       "    <tr style=\"text-align: right;\">\n",
       "      <th></th>\n",
       "      <th>category</th>\n",
       "      <th>text</th>\n",
       "      <th>label</th>\n",
       "      <th>text_processed</th>\n",
       "      <th>text_len</th>\n",
       "    </tr>\n",
       "  </thead>\n",
       "  <tbody>\n",
       "    <tr>\n",
       "      <th>0</th>\n",
       "      <td>tech</td>\n",
       "      <td>tv future in the hands of viewers with home th...</td>\n",
       "      <td>0</td>\n",
       "      <td>tv futur hand viewer home theatr system plasma...</td>\n",
       "      <td>407</td>\n",
       "    </tr>\n",
       "    <tr>\n",
       "      <th>1</th>\n",
       "      <td>business</td>\n",
       "      <td>worldcom boss  left books alone  former worldc...</td>\n",
       "      <td>1</td>\n",
       "      <td>worldcom boss left book alon former worldcom b...</td>\n",
       "      <td>186</td>\n",
       "    </tr>\n",
       "  </tbody>\n",
       "</table>\n",
       "</div>"
      ],
      "text/plain": [
       "   category                                               text  label  \\\n",
       "0      tech  tv future in the hands of viewers with home th...      0   \n",
       "1  business  worldcom boss  left books alone  former worldc...      1   \n",
       "\n",
       "                                      text_processed  text_len  \n",
       "0  tv futur hand viewer home theatr system plasma...       407  \n",
       "1  worldcom boss left book alon former worldcom b...       186  "
      ]
     },
     "execution_count": 2,
     "metadata": {},
     "output_type": "execute_result"
    }
   ],
   "source": [
    "import json\n",
    "\n",
    "with open(data_dir+\"label_dict.json\", 'r') as fp:\n",
    "    label_dict = json.load(fp)\n",
    "\n",
    "with open(data_dir+\"label_dict_reversed.json\", 'r') as fp:\n",
    "    label_dict_reversed = json.load(fp)\n",
    "\n",
    "print (label_dict, label_dict_reversed)\n",
    "\n",
    "df = pd.read_csv(data_dir+'bbc_text_processed.csv')\n",
    "print ('data.shape:',df.shape)\n",
    "df.head(2)"
   ]
  },
  {
   "cell_type": "code",
   "execution_count": 3,
   "metadata": {},
   "outputs": [],
   "source": [
    "MAX_SEQ_LEN = 2000 # length of each text\n",
    "MAX_WORDS   = 1000 # use only this many max used words\n",
    "\n",
    "def prepare_inputs(df, column, text_to_matrix=False):\n",
    "    X_train_, X_test, y_train_, y_test = train_test_split(df[column].values,\n",
    "                                                          df['label'].values,\n",
    "                                                          test_size=0.2)\n",
    "    X_train,  X_val, y_train, y_val = train_test_split(X_train_,\n",
    "                                                       y_train_,\n",
    "                                                       test_size=0.25)\n",
    "    \n",
    "    tokenizer = Tokenizer(num_words=MAX_WORDS)\n",
    "    tokenizer.fit_on_texts(X_train)\n",
    "\n",
    "    if text_to_matrix:\n",
    "        X_train = tokenizer.texts_to_matrix(X_train)\n",
    "        X_val   = tokenizer.texts_to_matrix(X_val)    \n",
    "        X_test  = tokenizer.texts_to_matrix(X_test)\n",
    "    else:\n",
    "        X_train = tokenizer.texts_to_sequences(X_train)\n",
    "        X_val   = tokenizer.texts_to_sequences(X_val)    \n",
    "        X_test  = tokenizer.texts_to_sequences(X_test)\n",
    "\n",
    "        X_train = pad_sequences(X_train, maxlen=MAX_SEQ_LEN,\n",
    "                                padding='post', truncating='post')\n",
    "        X_val   = pad_sequences(X_val,   maxlen=MAX_SEQ_LEN,\n",
    "                                padding='post', truncating='post')\n",
    "        X_test  = pad_sequences(X_test,  maxlen=MAX_SEQ_LEN,\n",
    "                                padding='post', truncating='post')\n",
    "    \n",
    "    y_train = to_categorical(y_train)\n",
    "    y_val   = to_categorical(y_val)\n",
    "    y_test  = to_categorical(y_test)\n",
    "\n",
    "    print (f\"X_train.shape: {X_train.shape} y_train.shape:{y_train.shape}\" )\n",
    "    print (f\"X_test.shape: {X_test.shape} y_test.shape:{y_test.shape}\" )\n",
    "    print (f\"X_val.shape: {X_val.shape} y_val.shape:{y_val.shape}\" )\n",
    "    \n",
    "    return (X_train, X_val, X_test, y_train, y_val, y_test, tokenizer)\n"
   ]
  },
  {
   "cell_type": "code",
   "execution_count": 4,
   "metadata": {},
   "outputs": [
    {
     "name": "stdout",
     "output_type": "stream",
     "text": [
      "X_train.shape: (1335, 1000) y_train.shape:(1335, 5)\n",
      "X_test.shape: (445, 1000) y_test.shape:(445, 5)\n",
      "X_val.shape: (445, 1000) y_val.shape:(445, 5)\n"
     ]
    }
   ],
   "source": [
    "(X_train_m, X_val_m, X_test_m, y_train_m,\n",
    " y_val_m, y_test_m, tokenizer_m) = prepare_inputs(df, \n",
    "                                                \"text_processed\",\n",
    "                                                text_to_matrix=True)"
   ]
  },
  {
   "cell_type": "code",
   "execution_count": 5,
   "metadata": {},
   "outputs": [
    {
     "name": "stdout",
     "output_type": "stream",
     "text": [
      "X_train.shape: (1335, 2000) y_train.shape:(1335, 5)\n",
      "X_test.shape: (445, 2000) y_test.shape:(445, 5)\n",
      "X_val.shape: (445, 2000) y_val.shape:(445, 5)\n"
     ]
    }
   ],
   "source": [
    "(X_train_s, X_val_s, X_test_s, y_train_s,\n",
    " y_val_s, y_test_s, tokenizer) = prepare_inputs(df, \n",
    "                                                \"text_processed\",\n",
    "                                                text_to_matrix=False)"
   ]
  },
  {
   "cell_type": "markdown",
   "metadata": {},
   "source": [
    "# Models: Dense Layers, LSTM layers"
   ]
  },
  {
   "cell_type": "code",
   "execution_count": 6,
   "metadata": {},
   "outputs": [],
   "source": [
    "from keras.models import Sequential\n",
    "from keras.optimizers import Adam\n",
    "from keras.layers import Dense, Dropout, Flatten, LSTM, Bidirectional\n",
    "from keras.layers import Conv1D, MaxPooling1D, GlobalMaxPool1D, BatchNormalization\n",
    "from keras.layers.embeddings import Embedding"
   ]
  },
  {
   "cell_type": "code",
   "execution_count": 7,
   "metadata": {},
   "outputs": [],
   "source": [
    "def make_model_dense(X_train, y_train):\n",
    "    model = Sequential()\n",
    "    model.add(Dense(16, input_shape=(X_train.shape[1],), activation='relu'))\n",
    "    #model.add(Dropout(0.5))\n",
    "    model.add(Dense(y_train.shape[1], activation='softmax'))\n",
    "    opt = Adam(learning_rate=0.001)\n",
    "    model.compile(loss='categorical_crossentropy', optimizer=opt, metrics=['accuracy'])\n",
    "    return model\n",
    "\n",
    "def make_model_lstm(X_train, y_train, embedding_length = 16):\n",
    "    model = Sequential()\n",
    "    model.add(Embedding(MAX_WORDS, embedding_length, input_length=2000))#input_length=X_train.shape[1]))\n",
    "    model.add(LSTM(16, activation='relu'))#, return_sequences=True))\n",
    "    model.add(Dropout(0.2))\n",
    "    model.add(BatchNormalization())\n",
    "    model.add(Flatten())\n",
    "    model.add(Dense(y_train.shape[1], activation='softmax'))\n",
    "    model.compile(loss='categorical_crossentropy', optimizer='adam', metrics=['accuracy'])\n",
    "    return model"
   ]
  },
  {
   "cell_type": "code",
   "execution_count": 8,
   "metadata": {},
   "outputs": [
    {
     "name": "stdout",
     "output_type": "stream",
     "text": [
      "Model: \"sequential\"\n",
      "_________________________________________________________________\n",
      "Layer (type)                 Output Shape              Param #   \n",
      "=================================================================\n",
      "dense (Dense)                (None, 16)                16016     \n",
      "_________________________________________________________________\n",
      "dense_1 (Dense)              (None, 5)                 85        \n",
      "=================================================================\n",
      "Total params: 16,101\n",
      "Trainable params: 16,101\n",
      "Non-trainable params: 0\n",
      "_________________________________________________________________\n"
     ]
    }
   ],
   "source": [
    "model_dense_m = make_model_dense(X_train_m, y_train_m)\n",
    "model_dense_m.summary()"
   ]
  },
  {
   "cell_type": "code",
   "execution_count": 9,
   "metadata": {},
   "outputs": [
    {
     "data": {
      "image/png": "[encoded data removed]",
      "text/plain": [
       "<Figure size 864x288 with 2 Axes>"
      ]
     },
     "metadata": {
      "needs_background": "light"
     },
     "output_type": "display_data"
    }
   ],
   "source": [
    "history_dense_m = model_dense_m.fit(X_train_m, y_train_m,\n",
    "                                    validation_data=(X_val_m, y_val_m), \n",
    "                                    epochs=5, batch_size=32, verbose=0)\n",
    "\n",
    "plot_history(history_dense_m)"
   ]
  },
  {
   "cell_type": "code",
   "execution_count": null,
   "metadata": {},
   "outputs": [],
   "source": []
  },
  {
   "cell_type": "code",
   "execution_count": 10,
   "metadata": {},
   "outputs": [],
   "source": [
    "# model_dense_s = make_model_dense(X_train_s, y_train_s)\n",
    "# model_dense_s.summary()\n",
    "\n",
    "# history_dense_s = model_dense_m.fit(X_train_s, y_train_s,\n",
    "#                                     validation_data=(X_val_s, y_val_s), \n",
    "#                                     epochs=5, batch_size=32, verbose=1)\n",
    "\n",
    "# plot_history(history_dense_s)"
   ]
  },
  {
   "cell_type": "code",
   "execution_count": null,
   "metadata": {},
   "outputs": [],
   "source": []
  },
  {
   "cell_type": "markdown",
   "metadata": {},
   "source": [
    "# Model: LSTM+Dense"
   ]
  },
  {
   "cell_type": "code",
   "execution_count": 11,
   "metadata": {},
   "outputs": [
    {
     "name": "stdout",
     "output_type": "stream",
     "text": [
      "Model: \"sequential_1\"\n",
      "_________________________________________________________________\n",
      "Layer (type)                 Output Shape              Param #   \n",
      "=================================================================\n",
      "embedding (Embedding)        (None, 2000, 16)          16000     \n",
      "_________________________________________________________________\n",
      "lstm (LSTM)                  (None, 16)                2112      \n",
      "_________________________________________________________________\n",
      "dropout (Dropout)            (None, 16)                0         \n",
      "_________________________________________________________________\n",
      "batch_normalization (BatchNo (None, 16)                64        \n",
      "_________________________________________________________________\n",
      "flatten (Flatten)            (None, 16)                0         \n",
      "_________________________________________________________________\n",
      "dense_2 (Dense)              (None, 5)                 85        \n",
      "=================================================================\n",
      "Total params: 18,261\n",
      "Trainable params: 18,229\n",
      "Non-trainable params: 32\n",
      "_________________________________________________________________\n"
     ]
    }
   ],
   "source": [
    "def make_model(X, y, embedding_length = 16):\n",
    "    model = Sequential()\n",
    "    model.add(Embedding(MAX_WORDS, embedding_length, input_length=X.shape[1]))\n",
    "    model.add(LSTM(16, activation='relu'))#, return_sequences=True))\n",
    "    model.add(Dropout(0.2))\n",
    "    model.add(BatchNormalization())\n",
    "    model.add(Flatten())\n",
    "    model.add(Dense(y.shape[1], activation='softmax'))\n",
    "    model.compile(loss='categorical_crossentropy', optimizer='adam', metrics=['accuracy'])\n",
    "    return model\n",
    "\n",
    "model2 = make_model(X_train_s, y_train_s)\n",
    "model2.summary()"
   ]
  },
  {
   "cell_type": "code",
   "execution_count": 12,
   "metadata": {},
   "outputs": [
    {
     "name": "stdout",
     "output_type": "stream",
     "text": [
      "Epoch 1/5\n",
      "84/84 [==============================] - 59s 698ms/step - loss: 1.6123 - accuracy: 0.2165 - val_loss: 1.6064 - val_accuracy: 0.2157\n",
      "Epoch 2/5\n",
      "84/84 [==============================] - 50s 597ms/step - loss: 1.6025 - accuracy: 0.2382 - val_loss: 1.6061 - val_accuracy: 0.2157\n",
      "Epoch 3/5\n",
      "84/84 [==============================] - 51s 601ms/step - loss: 1.6005 - accuracy: 0.2360 - val_loss: 1.6062 - val_accuracy: 0.2157\n",
      "Epoch 4/5\n",
      "84/84 [==============================] - 50s 601ms/step - loss: 1.6019 - accuracy: 0.2412 - val_loss: 1.6068 - val_accuracy: 0.2157\n",
      "Epoch 5/5\n",
      "84/84 [==============================] - 46s 549ms/step - loss: 1.6004 - accuracy: 0.2404 - val_loss: 1.6071 - val_accuracy: 0.2157\n"
     ]
    }
   ],
   "source": [
    "history2 = model2.fit(X_train_s, y_train_s,\n",
    "                    validation_data=(X_val_s, y_val_s), \n",
    "                    epochs=5,\n",
    "                    batch_size=16,\n",
    "                    verbose=1)"
   ]
  },
  {
   "cell_type": "code",
   "execution_count": 13,
   "metadata": {},
   "outputs": [
    {
     "data": {
      "image/png": "[encoded data removed]",
      "text/plain": [
       "<Figure size 864x288 with 2 Axes>"
      ]
     },
     "metadata": {
      "needs_background": "light"
     },
     "output_type": "display_data"
    }
   ],
   "source": [
    "plot_history(history2)"
   ]
  },
  {
   "cell_type": "markdown",
   "metadata": {},
   "source": [
    "Not extirely sure why LSTM performs so poorly for this dataset (only 20% validation accuracy). I should understand LSTM better, I guess.\n",
    "\n",
    "Anyway, let's continue with model1 for prediction on test data."
   ]
  },
  {
   "cell_type": "markdown",
   "metadata": {},
   "source": [
    "## Prediction"
   ]
  },
  {
   "cell_type": "code",
   "execution_count": 14,
   "metadata": {},
   "outputs": [
    {
     "name": "stdout",
     "output_type": "stream",
     "text": [
      "Classification Report:\n",
      "               precision    recall  f1-score   support\n",
      "\n",
      "           0       0.00      0.00      0.00        75\n",
      "           1       0.21      1.00      0.35        93\n",
      "           2       0.00      0.00      0.00       106\n",
      "           3       0.00      0.00      0.00        78\n",
      "           4       0.00      0.00      0.00        93\n",
      "\n",
      "    accuracy                           0.21       445\n",
      "   macro avg       0.04      0.20      0.07       445\n",
      "weighted avg       0.04      0.21      0.07       445\n",
      "\n",
      "\n"
     ]
    },
    {
     "name": "stderr",
     "output_type": "stream",
     "text": [
      "/usr/local/lib/python3.8/site-packages/sklearn/metrics/_classification.py:1221: UndefinedMetricWarning: Precision and F-score are ill-defined and being set to 0.0 in labels with no predicted samples. Use `zero_division` parameter to control this behavior.\n",
      "  _warn_prf(average, modifier, msg_start, len(result))\n"
     ]
    },
    {
     "data": {
      "image/png": "[encoded data removed]",
      "text/plain": [
       "<Figure size 432x432 with 1 Axes>"
      ]
     },
     "metadata": {
      "needs_background": "light"
     },
     "output_type": "display_data"
    }
   ],
   "source": [
    "calc_prediction(model2, X_test_s, y_test_s, categorical=True, ax=None)"
   ]
  },
  {
   "cell_type": "code",
   "execution_count": 15,
   "metadata": {},
   "outputs": [
    {
     "name": "stdout",
     "output_type": "stream",
     "text": [
      "Classification Report:\n",
      "               precision    recall  f1-score   support\n",
      "\n",
      "           0       0.94      0.95      0.95        84\n",
      "           1       0.96      0.95      0.95       100\n",
      "           2       1.00      1.00      1.00       101\n",
      "           3       0.97      0.95      0.96        79\n",
      "           4       0.95      0.98      0.96        81\n",
      "\n",
      "    accuracy                           0.97       445\n",
      "   macro avg       0.97      0.97      0.97       445\n",
      "weighted avg       0.97      0.97      0.97       445\n",
      "\n",
      "\n"
     ]
    },
    {
     "data": {
      "image/png": "[encoded data removed]",
      "text/plain": [
       "<Figure size 432x432 with 1 Axes>"
      ]
     },
     "metadata": {
      "needs_background": "light"
     },
     "output_type": "display_data"
    }
   ],
   "source": [
    "calc_prediction(model_dense_m, X_test_m, y_test_m, categorical=True, ax=None)"
   ]
  },
  {
   "cell_type": "markdown",
   "metadata": {
    "id": "3FD1_RKNkqp-"
   },
   "source": [
    "## Save the Model, tokenizer and configs"
   ]
  },
  {
   "cell_type": "code",
   "execution_count": 16,
   "metadata": {
    "colab": {
     "base_uri": "https://localhost:8080/"
    },
    "executionInfo": {
     "elapsed": 5615405,
     "status": "ok",
     "timestamp": 1613427779085,
     "user": {
      "displayName": "Ghanashyam Khanal",
      "photoUrl": "https://lh3.googleusercontent.com/a-/AOh14GjNFB_3XwLB8BEW17lVypQ54QKRq7KnQZVd8M-QU9c=s64",
      "userId": "16880718905978803098"
     },
     "user_tz": 300
    },
    "id": "0CqAVDwRkqp-",
    "outputId": "45c761d7-cc5a-439f-d7b9-f74c05a545c0"
   },
   "outputs": [
    {
     "name": "stdout",
     "output_type": "stream",
     "text": [
      "WARNING:tensorflow:From /usr/local/lib/python3.8/site-packages/tensorflow/python/training/tracking/tracking.py:111: Model.state_updates (from tensorflow.python.keras.engine.training) is deprecated and will be removed in a future version.\n",
      "Instructions for updating:\n",
      "This property should not be used in TensorFlow 2.0, as updates are applied automatically.\n",
      "WARNING:tensorflow:From /usr/local/lib/python3.8/site-packages/tensorflow/python/training/tracking/tracking.py:111: Layer.updates (from tensorflow.python.keras.engine.base_layer) is deprecated and will be removed in a future version.\n",
      "Instructions for updating:\n",
      "This property should not be used in TensorFlow 2.0, as updates are applied automatically.\n",
      "INFO:tensorflow:Assets written to: model_dense/assets\n"
     ]
    }
   ],
   "source": [
    "import pickle\n",
    "import json\n",
    "\n",
    "model_dense_m.save('model_dense')\n",
    "\n",
    "with open('tokenizer.pkl', 'wb') as fp:\n",
    "    pickle.dump(tokenizer, fp)\n",
    "\n",
    "with open('label_dict.json', 'w') as fp:\n",
    "    json.dump(label_dict, fp, indent = 4)"
   ]
  },
  {
   "cell_type": "markdown",
   "metadata": {
    "id": "6PBOoRMtkqp-"
   },
   "source": [
    "## Load the saved Model, tokenizer and configs"
   ]
  },
  {
   "cell_type": "code",
   "execution_count": 17,
   "metadata": {
    "colab": {
     "base_uri": "https://localhost:8080/"
    },
    "executionInfo": {
     "elapsed": 5619206,
     "status": "ok",
     "timestamp": 1613427782892,
     "user": {
      "displayName": "Ghanashyam Khanal",
      "photoUrl": "https://lh3.googleusercontent.com/a-/AOh14GjNFB_3XwLB8BEW17lVypQ54QKRq7KnQZVd8M-QU9c=s64",
      "userId": "16880718905978803098"
     },
     "user_tz": 300
    },
    "id": "ueJ9PXSrkqp-",
    "outputId": "1bb018be-1f2b-4b4d-bd56-dc1445002aff"
   },
   "outputs": [
    {
     "name": "stdout",
     "output_type": "stream",
     "text": [
      "Model Loaded.\n"
     ]
    }
   ],
   "source": [
    "# loading the saved model, vocab, filtered_words\n",
    "from tensorflow.keras.models import load_model\n",
    "model = load_model('./model_dense')\n",
    "\n",
    "with open('tokenizer.pkl', 'rb') as fp:\n",
    "    tokenizer=pickle.load(fp) \n",
    "    \n",
    "with open('label_dict.json', 'r') as fp:\n",
    "    label_dict=json.load(fp)\n",
    "\n",
    "print (\"Model Loaded.\")"
   ]
  },
  {
   "cell_type": "markdown",
   "metadata": {
    "id": "CzzdkrRIkqp_"
   },
   "source": [
    "## Predictions"
   ]
  },
  {
   "cell_type": "code",
   "execution_count": 18,
   "metadata": {},
   "outputs": [],
   "source": [
    "def Prediction(doc, model=model, tokenizer=tokenizer, label_dict=label_dict):\n",
    "    doc_processed = process_text(doc)\n",
    "    X_in = tokenizer.texts_to_matrix([doc_processed])\n",
    "    y_out = model.predict(X_in)\n",
    "    category_indx = np.argmax(y_out,axis=1)[0]\n",
    "    category = [i for i in list(label_dict.keys()) if label_dict[i]==category_indx][0]\n",
    "    print (f\"The following text\\n\\n {doc} \\n\\n\\\n",
    "    is categorized as \\n\\n {category}\")"
   ]
  },
  {
   "cell_type": "code",
   "execution_count": 19,
   "metadata": {},
   "outputs": [],
   "source": [
    "doc=\"Mr Trump responded on Tuesday with his lengthiest statement since he left office a month\\\n",
    "ago. The Republican Party can never again be respected or strong with \\\n",
    "political 'leaders' like Senator Mitch McConnell at its helm, the press release reads.\""
   ]
  },
  {
   "cell_type": "code",
   "execution_count": 20,
   "metadata": {},
   "outputs": [
    {
     "name": "stdout",
     "output_type": "stream",
     "text": [
      "The following text\n",
      "\n",
      " Mr Trump responded on Tuesday with his lengthiest statement since he left office a monthago. The Republican Party can never again be respected or strong with political 'leaders' like Senator Mitch McConnell at its helm, the press release reads. \n",
      "\n",
      "    is categorized as \n",
      "\n",
      " politics\n"
     ]
    }
   ],
   "source": [
    "Prediction(doc)"
   ]
  },
  {
   "cell_type": "code",
   "execution_count": 21,
   "metadata": {},
   "outputs": [
    {
     "name": "stdout",
     "output_type": "stream",
     "text": [
      "The following text\n",
      "\n",
      "  R. Ashwin took 5 wickets in what became the last innings of the seriesto secure an innings and a 25 runs. \n",
      "\n",
      "    is categorized as \n",
      "\n",
      " entertainment\n"
     ]
    }
   ],
   "source": [
    "doc=\" R. Ashwin took 5 wickets in what became the last innings of the series\\\n",
    "to secure an innings and a 25 runs.\"\n",
    "Prediction(doc)"
   ]
  },
  {
   "cell_type": "code",
   "execution_count": null,
   "metadata": {},
   "outputs": [],
   "source": []
  },
  {
   "cell_type": "code",
   "execution_count": null,
   "metadata": {},
   "outputs": [],
   "source": []
  }
 ],
 "metadata": {
  "accelerator": "GPU",
  "colab": {
   "collapsed_sections": [],
   "name": "04_sentiment_analysis_TF.ipynb",
   "provenance": []
  },
  "kernelspec": {
   "display_name": "Python 3",
   "language": "python",
   "name": "python3"
  },
  "language_info": {
   "codemirror_mode": {
    "name": "ipython",
    "version": 3
   },
   "file_extension": ".py",
   "mimetype": "text/x-python",
   "name": "python",
   "nbconvert_exporter": "python",
   "pygments_lexer": "ipython3",
   "version": "3.8.5"
  }
 },
 "nbformat": 4,
 "nbformat_minor": 1
}
