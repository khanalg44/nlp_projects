{
 "cells": [
  {
   "cell_type": "markdown",
   "metadata": {
    "id": "IM2ldeeVkqpr"
   },
   "source": [
    "# Category Prediction on BBC-news data"
   ]
  },
  {
   "cell_type": "code",
   "execution_count": 1,
   "metadata": {
    "executionInfo": {
     "elapsed": 799,
     "status": "ok",
     "timestamp": 1613422164160,
     "user": {
      "displayName": "Ghanashyam Khanal",
      "photoUrl": "https://lh3.googleusercontent.com/a-/AOh14GjNFB_3XwLB8BEW17lVypQ54QKRq7KnQZVd8M-QU9c=s64",
      "userId": "16880718905978803098"
     },
     "user_tz": 300
    },
    "id": "nlA_TAfqkqpx"
   },
   "outputs": [],
   "source": [
    "import numpy as np\n",
    "import pandas as pd\n",
    "import pylab as plt\n",
    "import seaborn as sns\n",
    "\n",
    "import json, re\n",
    "from nltk.corpus import stopwords\n",
    "from nltk.stem import PorterStemmer\n",
    "\n",
    "from sklearn.model_selection import train_test_split\n",
    "from helper import plot_history\n",
    "\n",
    "from tensorflow.keras.preprocessing.text import Tokenizer\n",
    "from tensorflow.keras.preprocessing.sequence import pad_sequences\n",
    "from tensorflow.keras.utils import to_categorical\n",
    "\n",
    "data_dir = '../nlp_datasets/13_bbc_news_category/'"
   ]
  },
  {
   "cell_type": "code",
   "execution_count": 2,
   "metadata": {
    "colab": {
     "base_uri": "https://localhost:8080/"
    },
    "executionInfo": {
     "elapsed": 1796,
     "status": "ok",
     "timestamp": 1613422165169,
     "user": {
      "displayName": "Ghanashyam Khanal",
      "photoUrl": "https://lh3.googleusercontent.com/a-/AOh14GjNFB_3XwLB8BEW17lVypQ54QKRq7KnQZVd8M-QU9c=s64",
      "userId": "16880718905978803098"
     },
     "user_tz": 300
    },
    "id": "yLxVZJ_0k3Ta",
    "outputId": "7279834e-975c-4e78-d6ba-4b21dd56b90b"
   },
   "outputs": [
    {
     "name": "stdout",
     "output_type": "stream",
     "text": [
      "data.shape: (2225, 2)\n"
     ]
    },
    {
     "data": {
      "text/html": [
       "<div>\n",
       "<style scoped>\n",
       "    .dataframe tbody tr th:only-of-type {\n",
       "        vertical-align: middle;\n",
       "    }\n",
       "\n",
       "    .dataframe tbody tr th {\n",
       "        vertical-align: top;\n",
       "    }\n",
       "\n",
       "    .dataframe thead th {\n",
       "        text-align: right;\n",
       "    }\n",
       "</style>\n",
       "<table border=\"1\" class=\"dataframe\">\n",
       "  <thead>\n",
       "    <tr style=\"text-align: right;\">\n",
       "      <th></th>\n",
       "      <th>category</th>\n",
       "      <th>text</th>\n",
       "    </tr>\n",
       "  </thead>\n",
       "  <tbody>\n",
       "    <tr>\n",
       "      <th>0</th>\n",
       "      <td>tech</td>\n",
       "      <td>tv future in the hands of viewers with home th...</td>\n",
       "    </tr>\n",
       "    <tr>\n",
       "      <th>1</th>\n",
       "      <td>business</td>\n",
       "      <td>worldcom boss  left books alone  former worldc...</td>\n",
       "    </tr>\n",
       "  </tbody>\n",
       "</table>\n",
       "</div>"
      ],
      "text/plain": [
       "   category                                               text\n",
       "0      tech  tv future in the hands of viewers with home th...\n",
       "1  business  worldcom boss  left books alone  former worldc..."
      ]
     },
     "execution_count": 2,
     "metadata": {},
     "output_type": "execute_result"
    }
   ],
   "source": [
    "df = pd.read_csv(data_dir+'bbc-text.csv')\n",
    "print ('data.shape:',df.shape)\n",
    "df.head(2)"
   ]
  },
  {
   "cell_type": "code",
   "execution_count": 3,
   "metadata": {},
   "outputs": [
    {
     "data": {
      "text/plain": [
       "sport            511\n",
       "business         510\n",
       "politics         417\n",
       "tech             401\n",
       "entertainment    386\n",
       "Name: category, dtype: int64"
      ]
     },
     "execution_count": 3,
     "metadata": {},
     "output_type": "execute_result"
    }
   ],
   "source": [
    "df['category'].value_counts()"
   ]
  },
  {
   "cell_type": "code",
   "execution_count": 45,
   "metadata": {},
   "outputs": [
    {
     "data": {
      "image/png": "[encoded data removed]",
      "text/plain": [
       "<Figure size 576x288 with 1 Axes>"
      ]
     },
     "metadata": {
      "needs_background": "light"
     },
     "output_type": "display_data"
    }
   ],
   "source": [
    "fig, ax = plt.subplots(1,1,figsize=(8,4));\n",
    "sns.countplot(df['category'], ax=ax);\n",
    "plt.xticks(fontsize='x-large');"
   ]
  },
  {
   "cell_type": "markdown",
   "metadata": {},
   "source": [
    "## Label Encoding\n",
    "\n",
    "- convert the labels to numerical labels\n",
    "- can use sklearn.preprocessing import LabelEncoder()\n",
    "- but here implement your own. it's simple\n"
   ]
  },
  {
   "cell_type": "code",
   "execution_count": 5,
   "metadata": {},
   "outputs": [
    {
     "data": {
      "text/plain": [
       "{'tech': 0, 'business': 1, 'sport': 2, 'entertainment': 3, 'politics': 4}"
      ]
     },
     "execution_count": 5,
     "metadata": {},
     "output_type": "execute_result"
    }
   ],
   "source": [
    "label_dict = {df.category.unique()[i]:i for i in range(len(df.category.unique()))}\n",
    "label_dict"
   ]
  },
  {
   "cell_type": "code",
   "execution_count": 6,
   "metadata": {},
   "outputs": [
    {
     "data": {
      "text/html": [
       "<div>\n",
       "<style scoped>\n",
       "    .dataframe tbody tr th:only-of-type {\n",
       "        vertical-align: middle;\n",
       "    }\n",
       "\n",
       "    .dataframe tbody tr th {\n",
       "        vertical-align: top;\n",
       "    }\n",
       "\n",
       "    .dataframe thead th {\n",
       "        text-align: right;\n",
       "    }\n",
       "</style>\n",
       "<table border=\"1\" class=\"dataframe\">\n",
       "  <thead>\n",
       "    <tr style=\"text-align: right;\">\n",
       "      <th></th>\n",
       "      <th>category</th>\n",
       "      <th>text</th>\n",
       "      <th>label</th>\n",
       "    </tr>\n",
       "  </thead>\n",
       "  <tbody>\n",
       "    <tr>\n",
       "      <th>0</th>\n",
       "      <td>tech</td>\n",
       "      <td>tv future in the hands of viewers with home th...</td>\n",
       "      <td>0</td>\n",
       "    </tr>\n",
       "    <tr>\n",
       "      <th>1</th>\n",
       "      <td>business</td>\n",
       "      <td>worldcom boss  left books alone  former worldc...</td>\n",
       "      <td>1</td>\n",
       "    </tr>\n",
       "    <tr>\n",
       "      <th>2</th>\n",
       "      <td>sport</td>\n",
       "      <td>tigers wary of farrell  gamble  leicester say ...</td>\n",
       "      <td>2</td>\n",
       "    </tr>\n",
       "    <tr>\n",
       "      <th>3</th>\n",
       "      <td>sport</td>\n",
       "      <td>yeading face newcastle in fa cup premiership s...</td>\n",
       "      <td>2</td>\n",
       "    </tr>\n",
       "    <tr>\n",
       "      <th>4</th>\n",
       "      <td>entertainment</td>\n",
       "      <td>ocean s twelve raids box office ocean s twelve...</td>\n",
       "      <td>3</td>\n",
       "    </tr>\n",
       "  </tbody>\n",
       "</table>\n",
       "</div>"
      ],
      "text/plain": [
       "        category                                               text  label\n",
       "0           tech  tv future in the hands of viewers with home th...      0\n",
       "1       business  worldcom boss  left books alone  former worldc...      1\n",
       "2          sport  tigers wary of farrell  gamble  leicester say ...      2\n",
       "3          sport  yeading face newcastle in fa cup premiership s...      2\n",
       "4  entertainment  ocean s twelve raids box office ocean s twelve...      3"
      ]
     },
     "execution_count": 6,
     "metadata": {},
     "output_type": "execute_result"
    }
   ],
   "source": [
    "df['label'] = df['category'].apply(lambda x:label_dict[x])\n",
    "df.head(5)"
   ]
  },
  {
   "cell_type": "code",
   "execution_count": 7,
   "metadata": {},
   "outputs": [
    {
     "name": "stderr",
     "output_type": "stream",
     "text": [
      "[nltk_data] Downloading package stopwords to\n",
      "[nltk_data]     /Users/gshyam/nltk_data...\n",
      "[nltk_data]   Package stopwords is already up-to-date!\n"
     ]
    }
   ],
   "source": [
    "import nltk, re\n",
    "nltk.download('stopwords')\n",
    "from nltk.corpus import stopwords\n",
    "STOPWORDS = set(stopwords.words('english'))\n",
    "st=PorterStemmer()\n",
    "\n",
    "def process_text(text):\n",
    "    text = text.lower()\n",
    "    \n",
    "    text = re.sub(r'[/(){}\\[\\]\\|@,;]', '', text)\n",
    "    text = re.sub(r'[^0-9a-z #+_]', '', text)\n",
    "    text = re.sub(r'https?://\\S+', ' ', text)\n",
    "    text = re.sub(r'[0-9+]', '', text)\n",
    "    #remove stopwords and stemmize\n",
    "    text=\" \".join(st.stem(w) for w in text.split() if w not in STOPWORDS)\n",
    "    return text"
   ]
  },
  {
   "cell_type": "code",
   "execution_count": 8,
   "metadata": {},
   "outputs": [
    {
     "name": "stdout",
     "output_type": "stream",
     "text": [
      "original text: crude oil prices back above $50 cold weather across parts of the united states and much of europe ha\n",
      "processed text: crude oil price back cold weather across part unit state much europ ha\n"
     ]
    }
   ],
   "source": [
    "print ( \"original text:\", df.text[12][:100])\n",
    "print (\"processed text:\", process_text(df.text[12][:100])) "
   ]
  },
  {
   "cell_type": "code",
   "execution_count": 9,
   "metadata": {},
   "outputs": [
    {
     "data": {
      "text/html": [
       "<div>\n",
       "<style scoped>\n",
       "    .dataframe tbody tr th:only-of-type {\n",
       "        vertical-align: middle;\n",
       "    }\n",
       "\n",
       "    .dataframe tbody tr th {\n",
       "        vertical-align: top;\n",
       "    }\n",
       "\n",
       "    .dataframe thead th {\n",
       "        text-align: right;\n",
       "    }\n",
       "</style>\n",
       "<table border=\"1\" class=\"dataframe\">\n",
       "  <thead>\n",
       "    <tr style=\"text-align: right;\">\n",
       "      <th></th>\n",
       "      <th>category</th>\n",
       "      <th>text</th>\n",
       "      <th>label</th>\n",
       "      <th>text_processed</th>\n",
       "      <th>text_len</th>\n",
       "    </tr>\n",
       "  </thead>\n",
       "  <tbody>\n",
       "    <tr>\n",
       "      <th>0</th>\n",
       "      <td>tech</td>\n",
       "      <td>tv future in the hands of viewers with home th...</td>\n",
       "      <td>0</td>\n",
       "      <td>tv future in the hands of viewers with home th...</td>\n",
       "      <td>737</td>\n",
       "    </tr>\n",
       "    <tr>\n",
       "      <th>1</th>\n",
       "      <td>business</td>\n",
       "      <td>worldcom boss  left books alone  former worldc...</td>\n",
       "      <td>1</td>\n",
       "      <td>worldcom boss  left books alone  former worldc...</td>\n",
       "      <td>300</td>\n",
       "    </tr>\n",
       "    <tr>\n",
       "      <th>2</th>\n",
       "      <td>sport</td>\n",
       "      <td>tigers wary of farrell  gamble  leicester say ...</td>\n",
       "      <td>2</td>\n",
       "      <td>tigers wary of farrell  gamble  leicester say ...</td>\n",
       "      <td>246</td>\n",
       "    </tr>\n",
       "    <tr>\n",
       "      <th>3</th>\n",
       "      <td>sport</td>\n",
       "      <td>yeading face newcastle in fa cup premiership s...</td>\n",
       "      <td>2</td>\n",
       "      <td>yeading face newcastle in fa cup premiership s...</td>\n",
       "      <td>341</td>\n",
       "    </tr>\n",
       "  </tbody>\n",
       "</table>\n",
       "</div>"
      ],
      "text/plain": [
       "   category                                               text  label  \\\n",
       "0      tech  tv future in the hands of viewers with home th...      0   \n",
       "1  business  worldcom boss  left books alone  former worldc...      1   \n",
       "2     sport  tigers wary of farrell  gamble  leicester say ...      2   \n",
       "3     sport  yeading face newcastle in fa cup premiership s...      2   \n",
       "\n",
       "                                      text_processed  text_len  \n",
       "0  tv future in the hands of viewers with home th...       737  \n",
       "1  worldcom boss  left books alone  former worldc...       300  \n",
       "2  tigers wary of farrell  gamble  leicester say ...       246  \n",
       "3  yeading face newcastle in fa cup premiership s...       341  "
      ]
     },
     "execution_count": 9,
     "metadata": {},
     "output_type": "execute_result"
    }
   ],
   "source": [
    "df['text_processed'] = df['text']#.apply(process_text)\n",
    "df['text_len'] = df['text_processed'].apply(lambda x: len(x.split()))\n",
    "\n",
    "df.head(4)"
   ]
  },
  {
   "cell_type": "markdown",
   "metadata": {
    "id": "MpNN3GVtkqp5"
   },
   "source": [
    "## Prepare input for Model\n",
    "- train, test, val split\n",
    "- tokenize the text\n",
    "- Pad the Sequences to a certain length\n",
    "- convert the y labels to categorical"
   ]
  },
  {
   "cell_type": "code",
   "execution_count": 10,
   "metadata": {},
   "outputs": [],
   "source": [
    "def split_data(data):\n",
    "    X_train_, X_test, y_train_, y_test = train_test_split(data['text_processed'].values, data['label'].values, test_size=0.2)\n",
    "    X_train,  X_val, y_train, y_val = train_test_split(X_train_, y_train_, test_size=0.25)\n",
    "    return X_train, X_val, X_test, y_train, y_val, y_test\n",
    "\n",
    "X_train, X_val, X_test, y_train, y_val, y_test = split_data(df)"
   ]
  },
  {
   "cell_type": "code",
   "execution_count": 11,
   "metadata": {},
   "outputs": [
    {
     "data": {
      "text/plain": [
       "4492"
      ]
     },
     "execution_count": 11,
     "metadata": {},
     "output_type": "execute_result"
    }
   ],
   "source": [
    "df.text_len.max()"
   ]
  },
  {
   "cell_type": "code",
   "execution_count": 12,
   "metadata": {},
   "outputs": [],
   "source": [
    "MAX_SEQ_LEN = 2000 # length of each text\n",
    "MAX_WORDS   = 1000 # use only this many max used words\n",
    "\n",
    "def prepare_data_for_model(X_train, X_val, X_test,\n",
    "                               y_train, y_val, y_test, \n",
    "                               text_to_matrix=False):\n",
    "    \n",
    "    tokenizer = Tokenizer(num_words=MAX_WORDS)\n",
    "    tokenizer.fit_on_texts(X_train)\n",
    "\n",
    "    if text_to_matrix:\n",
    "        X_train = tokenizer.texts_to_matrix(X_train)\n",
    "        X_val   = tokenizer.texts_to_matrix(X_val)    \n",
    "        X_test  = tokenizer.texts_to_matrix(X_test)\n",
    "    else:\n",
    "        X_train = tokenizer.texts_to_sequences(X_train)\n",
    "        X_val   = tokenizer.texts_to_sequences(X_val)    \n",
    "        X_test  = tokenizer.texts_to_sequences(X_test)\n",
    "\n",
    "        X_train = pad_sequences(X_train, maxlen=MAX_SEQ_LEN, padding='post', truncating='post')\n",
    "        X_val   = pad_sequences(X_val,   maxlen=MAX_SEQ_LEN, padding='post', truncating='post')\n",
    "        X_test  = pad_sequences(X_test,  maxlen=MAX_SEQ_LEN, padding='post', truncating='post')\n",
    "    \n",
    "    y_train = to_categorical(y_train)\n",
    "    y_val   = to_categorical(y_val)\n",
    "    y_test  = to_categorical(y_test)\n",
    "\n",
    "    print (f\"X_train.shape: {X_train.shape} y_train.shape:{y_train.shape}\" )\n",
    "    print (f\"X_test.shape: {X_test.shape} y_test.shape:{y_test.shape}\" )\n",
    "    print (f\"X_val.shape: {X_val.shape} y_val.shape:{y_val.shape}\" )\n",
    "    \n",
    "    return (X_train, X_val, X_test, y_train, y_val, y_test, tokenizer)"
   ]
  },
  {
   "cell_type": "markdown",
   "metadata": {},
   "source": [
    "# Model: Dense Layers only"
   ]
  },
  {
   "cell_type": "code",
   "execution_count": 13,
   "metadata": {},
   "outputs": [],
   "source": [
    "from keras.models import Sequential\n",
    "from keras.optimizers import Adam\n",
    "from keras.layers import Dense, Dropout, Flatten, LSTM, Bidirectional\n",
    "from keras.layers import Conv1D, MaxPooling1D, GlobalMaxPool1D, BatchNormalization\n",
    "from keras.layers.embeddings import Embedding"
   ]
  },
  {
   "cell_type": "code",
   "execution_count": 14,
   "metadata": {},
   "outputs": [
    {
     "name": "stdout",
     "output_type": "stream",
     "text": [
      "X_train.shape: (1335, 1000) y_train.shape:(1335, 5)\n",
      "X_test.shape: (445, 1000) y_test.shape:(445, 5)\n",
      "X_val.shape: (445, 1000) y_val.shape:(445, 5)\n"
     ]
    }
   ],
   "source": [
    "(X_train, X_val, X_test,\n",
    " y_train, y_val, y_test,\n",
    " tokenizer) = prepare_data_for_model(X_train, X_val, X_test,\n",
    "                                     y_train, y_val, y_test,\n",
    "                                     text_to_matrix=True)"
   ]
  },
  {
   "cell_type": "code",
   "execution_count": 18,
   "metadata": {},
   "outputs": [
    {
     "name": "stdout",
     "output_type": "stream",
     "text": [
      "Model: \"sequential_1\"\n",
      "_________________________________________________________________\n",
      "Layer (type)                 Output Shape              Param #   \n",
      "=================================================================\n",
      "dense_2 (Dense)              (None, 16)                16016     \n",
      "_________________________________________________________________\n",
      "dense_3 (Dense)              (None, 5)                 85        \n",
      "=================================================================\n",
      "Total params: 16,101\n",
      "Trainable params: 16,101\n",
      "Non-trainable params: 0\n",
      "_________________________________________________________________\n"
     ]
    }
   ],
   "source": [
    "def make_model(X, y):\n",
    "    model = Sequential()\n",
    "    model.add(Dense(16, input_shape=(X.shape[1],), activation='relu'))\n",
    "    #model.add(Dropout(0.5))\n",
    "    model.add(Dense(y.shape[1], activation='softmax'))\n",
    "    opt = Adam(learning_rate=0.001)\n",
    "    model.compile(loss='categorical_crossentropy', optimizer=opt, metrics=['accuracy'])\n",
    "    return model\n",
    "\n",
    "model1 = make_model(X_train, y_train)\n",
    "model1.summary()"
   ]
  },
  {
   "cell_type": "code",
   "execution_count": 19,
   "metadata": {},
   "outputs": [
    {
     "name": "stdout",
     "output_type": "stream",
     "text": [
      "Epoch 1/5\n",
      "42/42 [==============================] - 0s 4ms/step - loss: 1.2813 - accuracy: 0.5723 - val_loss: 0.8686 - val_accuracy: 0.8112\n",
      "Epoch 2/5\n",
      "42/42 [==============================] - 0s 2ms/step - loss: 0.5751 - accuracy: 0.9206 - val_loss: 0.4226 - val_accuracy: 0.9213\n",
      "Epoch 3/5\n",
      "42/42 [==============================] - 0s 2ms/step - loss: 0.2810 - accuracy: 0.9678 - val_loss: 0.2774 - val_accuracy: 0.9438\n",
      "Epoch 4/5\n",
      "42/42 [==============================] - 0s 2ms/step - loss: 0.1716 - accuracy: 0.9835 - val_loss: 0.2163 - val_accuracy: 0.9528\n",
      "Epoch 5/5\n",
      "42/42 [==============================] - 0s 1ms/step - loss: 0.1154 - accuracy: 0.9910 - val_loss: 0.1851 - val_accuracy: 0.9528\n"
     ]
    }
   ],
   "source": [
    "history1 = model1.fit(X_train, y_train,\n",
    "                      validation_data=(X_val, y_val), \n",
    "                      epochs=5, batch_size=32, verbose=1)"
   ]
  },
  {
   "cell_type": "code",
   "execution_count": 17,
   "metadata": {},
   "outputs": [
    {
     "data": {
      "image/png": "[encoded data removed]",
      "text/plain": [
       "<Figure size 864x288 with 2 Axes>"
      ]
     },
     "metadata": {
      "needs_background": "light"
     },
     "output_type": "display_data"
    }
   ],
   "source": [
    "plot_history(history1)"
   ]
  },
  {
   "cell_type": "markdown",
   "metadata": {},
   "source": [
    "# Model: LSTM+Dense"
   ]
  },
  {
   "cell_type": "code",
   "execution_count": null,
   "metadata": {},
   "outputs": [],
   "source": [
    "(X_train, X_val, X_test,\n",
    " y_train, y_val, y_test,\n",
    " tokenizer) = prepare_data_for_model(X_train, X_val, X_test,\n",
    "                                     y_train, y_val, y_test,\n",
    "                                     text_to_matrix=False)"
   ]
  },
  {
   "cell_type": "code",
   "execution_count": null,
   "metadata": {},
   "outputs": [],
   "source": [
    "def make_model(X, y, embedding_length = 16):\n",
    "    model = Sequential()\n",
    "    model.add(Embedding(MAX_WORDS, embedding_length, input_length=X.shape[1]))\n",
    "    model.add(LSTM(16, activation='relu'))#, return_sequences=True))\n",
    "    model.add(Dropout(0.2))\n",
    "    model.add(BatchNormalization())\n",
    "    model.add(Flatten())\n",
    "    model.add(Dense(y.shape[1], activation='softmax'))\n",
    "    model.compile(loss='categorical_crossentropy', optimizer='adam', metrics=['accuracy'])\n",
    "    return model\n",
    "\n",
    "model2 = make_model(X_train, y_train)\n",
    "model2.summary()"
   ]
  },
  {
   "cell_type": "code",
   "execution_count": null,
   "metadata": {},
   "outputs": [],
   "source": [
    "history2 = model2.fit(X_train, y_train,\n",
    "                    validation_data=(X_val, y_val), \n",
    "                    epochs=5,\n",
    "                    batch_size=16,\n",
    "                    verbose=1)"
   ]
  },
  {
   "cell_type": "code",
   "execution_count": null,
   "metadata": {},
   "outputs": [],
   "source": [
    "plot_history(history2)"
   ]
  },
  {
   "cell_type": "markdown",
   "metadata": {},
   "source": [
    "Not extirely sure why LSTM performs so poorly for this dataset (only 20% validation accuracy). I should understand LSTM better, I guess.\n",
    "\n",
    "Anyway, let's continue with model1 for prediction on test data."
   ]
  },
  {
   "cell_type": "markdown",
   "metadata": {},
   "source": [
    "## Prediction"
   ]
  },
  {
   "cell_type": "code",
   "execution_count": 20,
   "metadata": {},
   "outputs": [],
   "source": [
    "from sklearn.metrics import accuracy_score\n",
    "from sklearn.metrics import f1_score\n",
    "from sklearn.metrics import roc_auc_score \n",
    "from sklearn.metrics import average_precision_score\n",
    "from sklearn.metrics import recall_score"
   ]
  },
  {
   "cell_type": "code",
   "execution_count": 21,
   "metadata": {},
   "outputs": [],
   "source": [
    "y_pred = model1.predict(X_test)"
   ]
  },
  {
   "cell_type": "code",
   "execution_count": 22,
   "metadata": {},
   "outputs": [],
   "source": [
    "from sklearn.metrics import confusion_matrix"
   ]
  },
  {
   "cell_type": "code",
   "execution_count": 25,
   "metadata": {},
   "outputs": [
    {
     "name": "stdout",
     "output_type": "stream",
     "text": [
      "test set size: (445,) (445,)\n",
      "[2 2 4 0 3 0 3 2 2 3] [2 2 4 0 3 0 3 2 2 3]\n"
     ]
    }
   ],
   "source": [
    "y_test_ = np.argmax(y_test,axis=1)\n",
    "y_pred_ = np.argmax(y_pred,axis=1)\n",
    "print (\"test set size:\", y_test_.shape, y_pred_.shape)\n",
    "print ( y_test_[:10], y_pred_[:10] )"
   ]
  },
  {
   "cell_type": "code",
   "execution_count": 26,
   "metadata": {},
   "outputs": [
    {
     "name": "stdout",
     "output_type": "stream",
     "text": [
      "[[ 67   0   1   1   1]\n",
      " [  2  98   0   0   2]\n",
      " [  0   0 105   2   1]\n",
      " [  1   1   1  85   1]\n",
      " [  1   2   0   1  72]]\n"
     ]
    },
    {
     "data": {
      "text/plain": [
       "<AxesSubplot:>"
      ]
     },
     "execution_count": 26,
     "metadata": {},
     "output_type": "execute_result"
    },
    {
     "data": {
      "image/png": "[encoded data removed]",
      "text/plain": [
       "<Figure size 432x288 with 2 Axes>"
      ]
     },
     "metadata": {
      "needs_background": "light"
     },
     "output_type": "display_data"
    }
   ],
   "source": [
    "confusionmatrix=confusion_matrix( y_test_, y_pred_)\n",
    "print (confusionmatrix)\n",
    "sns.heatmap(confusionmatrix, cmap='viridis')"
   ]
  },
  {
   "cell_type": "code",
   "execution_count": 27,
   "metadata": {},
   "outputs": [
    {
     "name": "stdout",
     "output_type": "stream",
     "text": [
      "Test set accuracy score: 95.96\n",
      "Test set f1 score: 95.78 \n"
     ]
    }
   ],
   "source": [
    "acc_test=accuracy_score(y_test_, y_pred_)\n",
    "f1_macro=f1_score(y_test_, y_pred_, average='macro')\n",
    "print (\"Test set accuracy score: %1.2f\" % (100*acc_test))\n",
    "print (\"Test set f1 score: %1.2f \" % (100*f1_macro))"
   ]
  },
  {
   "cell_type": "markdown",
   "metadata": {
    "id": "3FD1_RKNkqp-"
   },
   "source": [
    "## Save the Model, tokenizer and configs"
   ]
  },
  {
   "cell_type": "code",
   "execution_count": 28,
   "metadata": {
    "colab": {
     "base_uri": "https://localhost:8080/"
    },
    "executionInfo": {
     "elapsed": 5615405,
     "status": "ok",
     "timestamp": 1613427779085,
     "user": {
      "displayName": "Ghanashyam Khanal",
      "photoUrl": "https://lh3.googleusercontent.com/a-/AOh14GjNFB_3XwLB8BEW17lVypQ54QKRq7KnQZVd8M-QU9c=s64",
      "userId": "16880718905978803098"
     },
     "user_tz": 300
    },
    "id": "0CqAVDwRkqp-",
    "outputId": "45c761d7-cc5a-439f-d7b9-f74c05a545c0"
   },
   "outputs": [
    {
     "name": "stdout",
     "output_type": "stream",
     "text": [
      "WARNING:tensorflow:From /usr/local/lib/python3.8/site-packages/tensorflow/python/training/tracking/tracking.py:111: Model.state_updates (from tensorflow.python.keras.engine.training) is deprecated and will be removed in a future version.\n",
      "Instructions for updating:\n",
      "This property should not be used in TensorFlow 2.0, as updates are applied automatically.\n",
      "WARNING:tensorflow:From /usr/local/lib/python3.8/site-packages/tensorflow/python/training/tracking/tracking.py:111: Layer.updates (from tensorflow.python.keras.engine.base_layer) is deprecated and will be removed in a future version.\n",
      "Instructions for updating:\n",
      "This property should not be used in TensorFlow 2.0, as updates are applied automatically.\n",
      "INFO:tensorflow:Assets written to: model_dense/assets\n"
     ]
    }
   ],
   "source": [
    "import pickle\n",
    "import json\n",
    "\n",
    "model1.save('model_dense')\n",
    "\n",
    "with open('tokenizer.pkl', 'wb') as fp:\n",
    "    pickle.dump(tokenizer, fp)\n",
    "\n",
    "with open('label_dict.json', 'w') as fp:\n",
    "    json.dump(label_dict, fp, indent = 4)"
   ]
  },
  {
   "cell_type": "markdown",
   "metadata": {
    "id": "6PBOoRMtkqp-"
   },
   "source": [
    "## Load the saved Model, tokenizer and configs"
   ]
  },
  {
   "cell_type": "code",
   "execution_count": 29,
   "metadata": {
    "colab": {
     "base_uri": "https://localhost:8080/"
    },
    "executionInfo": {
     "elapsed": 5619206,
     "status": "ok",
     "timestamp": 1613427782892,
     "user": {
      "displayName": "Ghanashyam Khanal",
      "photoUrl": "https://lh3.googleusercontent.com/a-/AOh14GjNFB_3XwLB8BEW17lVypQ54QKRq7KnQZVd8M-QU9c=s64",
      "userId": "16880718905978803098"
     },
     "user_tz": 300
    },
    "id": "ueJ9PXSrkqp-",
    "outputId": "1bb018be-1f2b-4b4d-bd56-dc1445002aff"
   },
   "outputs": [
    {
     "name": "stdout",
     "output_type": "stream",
     "text": [
      "Model Loaded.\n"
     ]
    }
   ],
   "source": [
    "# loading the saved model, vocab, filtered_words\n",
    "from tensorflow.keras.models import load_model\n",
    "model = load_model('./model_dense')\n",
    "\n",
    "with open('tokenizer.pkl', 'rb') as fp:\n",
    "    tokenizer=pickle.load(fp) \n",
    "    \n",
    "with open('label_dict.json', 'r') as fp:\n",
    "    label_dict=json.load(fp)\n",
    "\n",
    "print (\"Model Loaded.\")"
   ]
  },
  {
   "cell_type": "markdown",
   "metadata": {
    "id": "CzzdkrRIkqp_"
   },
   "source": [
    "## Predictions"
   ]
  },
  {
   "cell_type": "code",
   "execution_count": 40,
   "metadata": {},
   "outputs": [],
   "source": [
    "def Prediction(doc, model=model, tokenizer=tokenizer, label_dict=label_dict):\n",
    "    doc_processed = process_text(doc)\n",
    "    X_in = tokenizer.texts_to_matrix([doc_processed])\n",
    "    y_out = model.predict(X_in)\n",
    "    category_indx = np.argmax(y_out,axis=1)[0]\n",
    "    category = [i for i in list(label_dict.keys()) if label_dict[i]==category_indx][0]\n",
    "    print (f\"The following text\\n\\n {doc} \\n\\n\\\n",
    "    is categorized as \\n\\n {category}\")"
   ]
  },
  {
   "cell_type": "code",
   "execution_count": 41,
   "metadata": {},
   "outputs": [],
   "source": [
    "# some current news from bbc news website\n",
    "doc=\"Mr Trump responded on Tuesday with his lengthiest statement since he left office a month ago. The Republican Party can never again be respected or strong with political 'leaders' like Senator Mitch McConnell at its helm, the press release reads.\\\n",
    "Mr McConnell's lack of political insight, wisdom, skill, and personality had cost the Republicans control of the Senate following last November's elections, he said.\\\n",
    "The former president said the Republican leader begged for his endorsement in his own Senate race, without which Mr Trump claimed Mr McConnell would have lost.\\\n",
    "Mr Trump took aim at Mr McConnell's stated intentions to stand in the way of future Trump-backed candidates.\\\n",
    "The former president said he would back Republican primary challengers who espouse Making America Great Again and our policy of America First.\\\n",
    "Mr McConnell will never do what needs to be done, or what is right for our Country, said Mr Trump.\\\n",
    "We know our America First agenda is a winner, not McConnell's Beltway First agenda or Biden's America Last.\""
   ]
  },
  {
   "cell_type": "code",
   "execution_count": 42,
   "metadata": {},
   "outputs": [
    {
     "name": "stdout",
     "output_type": "stream",
     "text": [
      "The following text\n",
      "\n",
      " Mr Trump responded on Tuesday with his lengthiest statement since he left office a month ago. The Republican Party can never again be respected or strong with political 'leaders' like Senator Mitch McConnell at its helm, the press release reads.Mr McConnell's lack of political insight, wisdom, skill, and personality had cost the Republicans control of the Senate following last November's elections, he said.The former president said the Republican leader begged for his endorsement in his own Senate race, without which Mr Trump claimed Mr McConnell would have lost.Mr Trump took aim at Mr McConnell's stated intentions to stand in the way of future Trump-backed candidates.The former president said he would back Republican primary challengers who espouse Making America Great Again and our policy of America First.Mr McConnell will never do what needs to be done, or what is right for our Country, said Mr Trump.We know our America First agenda is a winner, not McConnell's Beltway First agenda or Biden's America Last. \n",
      "\n",
      "    is categorized as \n",
      "\n",
      " politics\n"
     ]
    }
   ],
   "source": [
    "Prediction(doc)"
   ]
  },
  {
   "cell_type": "code",
   "execution_count": 43,
   "metadata": {},
   "outputs": [],
   "source": [
    "doc=\"England were bowled out for 134 and 164, losing all 10 second-innings wickets to spin as India levelled the four-match series at 1-1.\\\n",
    "A dry pitch was heavily criticised for offering extravagant spin throughout.\\Conditions were challenging for both sides but we showed more application, grit and determination to battle it out, Kohli said.\\We didn't panic looking at the amount of turn and bounce on that pitch.\\\n",
    "We trusted our defence, got into the game and scored 600 in two innings combined.\""
   ]
  },
  {
   "cell_type": "code",
   "execution_count": 44,
   "metadata": {},
   "outputs": [
    {
     "name": "stdout",
     "output_type": "stream",
     "text": [
      "The following text\n",
      "\n",
      " England were bowled out for 134 and 164, losing all 10 second-innings wickets to spin as India levelled the four-match series at 1-1.A dry pitch was heavily criticised for offering extravagant spin throughout.\\Conditions were challenging for both sides but we showed more application, grit and determination to battle it out, Kohli said.\\We didn't panic looking at the amount of turn and bounce on that pitch.We trusted our defence, got into the game and scored 600 in two innings combined. \n",
      "\n",
      "    is categorized as \n",
      "\n",
      " sport\n"
     ]
    }
   ],
   "source": [
    "Prediction(doc)"
   ]
  },
  {
   "cell_type": "code",
   "execution_count": null,
   "metadata": {},
   "outputs": [],
   "source": []
  }
 ],
 "metadata": {
  "accelerator": "GPU",
  "colab": {
   "collapsed_sections": [],
   "name": "04_sentiment_analysis_TF.ipynb",
   "provenance": []
  },
  "kernelspec": {
   "display_name": "Python 3",
   "language": "python",
   "name": "python3"
  },
  "language_info": {
   "codemirror_mode": {
    "name": "ipython",
    "version": 3
   },
   "file_extension": ".py",
   "mimetype": "text/x-python",
   "name": "python",
   "nbconvert_exporter": "python",
   "pygments_lexer": "ipython3",
   "version": "3.8.5"
  }
 },
 "nbformat": 4,
 "nbformat_minor": 1
}
