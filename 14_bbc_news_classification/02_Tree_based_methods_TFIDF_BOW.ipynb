{
 "cells": [
  {
   "cell_type": "markdown",
   "metadata": {
    "id": "IM2ldeeVkqpr"
   },
   "source": [
    "# Category Prediction on BBC-news data"
   ]
  },
  {
   "cell_type": "code",
   "execution_count": 1,
   "metadata": {
    "executionInfo": {
     "elapsed": 799,
     "status": "ok",
     "timestamp": 1613422164160,
     "user": {
      "displayName": "Ghanashyam Khanal",
      "photoUrl": "https://lh3.googleusercontent.com/a-/AOh14GjNFB_3XwLB8BEW17lVypQ54QKRq7KnQZVd8M-QU9c=s64",
      "userId": "16880718905978803098"
     },
     "user_tz": 300
    },
    "id": "nlA_TAfqkqpx"
   },
   "outputs": [
    {
     "name": "stderr",
     "output_type": "stream",
     "text": [
      "[nltk_data] Downloading package stopwords to\n",
      "[nltk_data]     /Users/gshyam/nltk_data...\n",
      "[nltk_data]   Package stopwords is already up-to-date!\n"
     ]
    }
   ],
   "source": [
    "import numpy as np\n",
    "import pandas as pd\n",
    "import pylab as plt\n",
    "import seaborn as sns\n",
    "\n",
    "import json, re\n",
    "from nltk.corpus import stopwords\n",
    "from nltk.stem import PorterStemmer\n",
    "\n",
    "from sklearn.model_selection import train_test_split\n",
    "from sklearn.metrics import accuracy_score, confusion_matrix, f1_score\n",
    "\n",
    "from xgboost import XGBClassifier\n",
    "\n",
    "from helper import plot_history, calc_prediction, process_text\n",
    "\n",
    "data_dir = './'"
   ]
  },
  {
   "cell_type": "code",
   "execution_count": 2,
   "metadata": {
    "colab": {
     "base_uri": "https://localhost:8080/"
    },
    "executionInfo": {
     "elapsed": 1796,
     "status": "ok",
     "timestamp": 1613422165169,
     "user": {
      "displayName": "Ghanashyam Khanal",
      "photoUrl": "https://lh3.googleusercontent.com/a-/AOh14GjNFB_3XwLB8BEW17lVypQ54QKRq7KnQZVd8M-QU9c=s64",
      "userId": "16880718905978803098"
     },
     "user_tz": 300
    },
    "id": "yLxVZJ_0k3Ta",
    "outputId": "7279834e-975c-4e78-d6ba-4b21dd56b90b"
   },
   "outputs": [
    {
     "name": "stdout",
     "output_type": "stream",
     "text": [
      "{'tech': 0, 'business': 1, 'sport': 2, 'entertainment': 3, 'politics': 4} {'0': 'tech', '1': 'business', '2': 'sport', '3': 'entertainment', '4': 'politics'}\n",
      "data.shape: (2225, 5)\n"
     ]
    },
    {
     "data": {
      "text/html": [
       "<div>\n",
       "<style scoped>\n",
       "    .dataframe tbody tr th:only-of-type {\n",
       "        vertical-align: middle;\n",
       "    }\n",
       "\n",
       "    .dataframe tbody tr th {\n",
       "        vertical-align: top;\n",
       "    }\n",
       "\n",
       "    .dataframe thead th {\n",
       "        text-align: right;\n",
       "    }\n",
       "</style>\n",
       "<table border=\"1\" class=\"dataframe\">\n",
       "  <thead>\n",
       "    <tr style=\"text-align: right;\">\n",
       "      <th></th>\n",
       "      <th>category</th>\n",
       "      <th>text</th>\n",
       "      <th>label</th>\n",
       "      <th>text_processed</th>\n",
       "      <th>text_len</th>\n",
       "    </tr>\n",
       "  </thead>\n",
       "  <tbody>\n",
       "    <tr>\n",
       "      <th>0</th>\n",
       "      <td>tech</td>\n",
       "      <td>tv future in the hands of viewers with home th...</td>\n",
       "      <td>0</td>\n",
       "      <td>tv futur hand viewer home theatr system plasma...</td>\n",
       "      <td>407</td>\n",
       "    </tr>\n",
       "    <tr>\n",
       "      <th>1</th>\n",
       "      <td>business</td>\n",
       "      <td>worldcom boss  left books alone  former worldc...</td>\n",
       "      <td>1</td>\n",
       "      <td>worldcom boss left book alon former worldcom b...</td>\n",
       "      <td>186</td>\n",
       "    </tr>\n",
       "  </tbody>\n",
       "</table>\n",
       "</div>"
      ],
      "text/plain": [
       "   category                                               text  label  \\\n",
       "0      tech  tv future in the hands of viewers with home th...      0   \n",
       "1  business  worldcom boss  left books alone  former worldc...      1   \n",
       "\n",
       "                                      text_processed  text_len  \n",
       "0  tv futur hand viewer home theatr system plasma...       407  \n",
       "1  worldcom boss left book alon former worldcom b...       186  "
      ]
     },
     "execution_count": 2,
     "metadata": {},
     "output_type": "execute_result"
    }
   ],
   "source": [
    "import json\n",
    "\n",
    "with open(data_dir+\"label_dict.json\", 'r') as fp:\n",
    "    label_dict = json.load(fp)\n",
    "\n",
    "with open(data_dir+\"label_dict_reversed.json\", 'r') as fp:\n",
    "    label_dict_reversed = json.load(fp)\n",
    "\n",
    "print (label_dict, label_dict_reversed)\n",
    "df = pd.read_csv(data_dir+'bbc_text_processed.csv')\n",
    "print ('data.shape:',df.shape)\n",
    "df.head(2)"
   ]
  },
  {
   "cell_type": "markdown",
   "metadata": {},
   "source": [
    "## Bag of Words Method"
   ]
  },
  {
   "cell_type": "code",
   "execution_count": 3,
   "metadata": {},
   "outputs": [],
   "source": [
    "from collections import Counter\n",
    "ALL_WORDS = [word for text in df['text_processed'] for word in text.split() ]\n",
    "words_counts = Counter(ALL_WORDS)"
   ]
  },
  {
   "cell_type": "code",
   "execution_count": 4,
   "metadata": {},
   "outputs": [],
   "source": [
    "DICT_SIZE = 1000\n",
    "VOCAB = words_counts.most_common(DICT_SIZE)\n",
    "WORDS_TO_INDEX = {item[0]:ii for ii, item in enumerate(VOCAB) }\n",
    "INDEX_TO_WORDS = {ii:word for word, ii in WORDS_TO_INDEX.items()}"
   ]
  },
  {
   "cell_type": "code",
   "execution_count": 5,
   "metadata": {},
   "outputs": [
    {
     "name": "stdout",
     "output_type": "stream",
     "text": [
      "X_train shape  (1780, 1000)\n",
      "X_test shape  (445, 1000)\n",
      "y_train shape  (1780,)\n",
      "y_test shape  (445,)\n"
     ]
    }
   ],
   "source": [
    "from collections import Counter\n",
    "from scipy import sparse as sp_sparse\n",
    "\n",
    "ALL_WORDS = [word for text in df['text_processed'] for word in text.split() ]\n",
    "words_counts = Counter(ALL_WORDS)\n",
    "\n",
    "def bag_of_words(text, words_to_index):\n",
    "    result_vec = np.zeros(len(words_to_index.keys()))\n",
    "    for word in text.split():\n",
    "        if word in words_to_index:\n",
    "            result_vec[words_to_index[word]] +=1\n",
    "    return result_vec\n",
    "\n",
    "def prepare_BOW(df, col):\n",
    "    df_train, df_test = train_test_split(df, test_size=0.2, random_state = 8848)\n",
    "    X_train_bow = sp_sparse.vstack([ sp_sparse.csr_matrix(bag_of_words(text,\n",
    "                                                                       WORDS_TO_INDEX)) for text in df_train[col]])\n",
    "    X_test_bow = sp_sparse.vstack([ sp_sparse.csr_matrix(bag_of_words(text,\n",
    "                                                                      WORDS_TO_INDEX)) for text in df_test[col]])\n",
    "\n",
    "    y_train = df_train['label'].values\n",
    "    y_test  = df_test['label'].values\n",
    "    \n",
    "    print('X_train shape ', X_train_bow.shape)\n",
    "    print('X_test shape ',  X_test_bow.shape)\n",
    "    print('y_train shape ', y_train.shape)\n",
    "    print('y_test shape ',  y_test.shape)\n",
    "    \n",
    "    return X_train_bow, X_test_bow, y_train, y_test\n",
    "\n",
    "X_train_bow, X_test_bow, y_train_bow, y_test_bow = prepare_BOW(df, \"text_processed\")"
   ]
  },
  {
   "cell_type": "markdown",
   "metadata": {},
   "source": [
    "## Model : XGBoost for BOW method"
   ]
  },
  {
   "cell_type": "code",
   "execution_count": 6,
   "metadata": {},
   "outputs": [
    {
     "data": {
      "text/plain": [
       "XGBClassifier(base_score=0.5, booster='gbtree', colsample_bylevel=1,\n",
       "              colsample_bynode=1, colsample_bytree=0.6, gamma=0, gpu_id=-1,\n",
       "              importance_type='gain', interaction_constraints='',\n",
       "              learning_rate=0.300000012, max_delta_step=0, max_depth=6,\n",
       "              min_child_weight=1, missing=nan, monotone_constraints='()',\n",
       "              n_estimators=100, n_jobs=0, num_parallel_tree=1,\n",
       "              objective='multi:softprob', random_state=42, reg_alpha=0,\n",
       "              reg_lambda=1, scale_pos_weight=None, seed=2, subsample=0.7,\n",
       "              tree_method='exact', validate_parameters=1, verbosity=None)"
      ]
     },
     "execution_count": 6,
     "metadata": {},
     "output_type": "execute_result"
    }
   ],
   "source": [
    "model_xgb = XGBClassifier(random_state=42, seed=2, colsample_bytree=0.6, subsample=0.7)\n",
    "model_xgb.fit(X_train_bow, y_train_bow)"
   ]
  },
  {
   "cell_type": "markdown",
   "metadata": {},
   "source": [
    "## Prediction"
   ]
  },
  {
   "cell_type": "code",
   "execution_count": 7,
   "metadata": {},
   "outputs": [
    {
     "name": "stdout",
     "output_type": "stream",
     "text": [
      "Test set accuracy score: 97.75\n",
      "Test set f1 score: 97.72 \n"
     ]
    },
    {
     "data": {
      "image/png": "[encoded data removed]",
      "text/plain": [
       "<Figure size 432x432 with 1 Axes>"
      ]
     },
     "metadata": {
      "needs_background": "light"
     },
     "output_type": "display_data"
    }
   ],
   "source": [
    "calc_prediction(model_xgb, X_test_bow, y_test_bow, categorical=False, ax=None, title=None)"
   ]
  },
  {
   "cell_type": "markdown",
   "metadata": {
    "id": "MpNN3GVtkqp5"
   },
   "source": [
    "## Tf-IDF method\n",
    "- train, test, val split\n",
    "- tokenize the text\n",
    "- Use TFIDF features from sklearn"
   ]
  },
  {
   "cell_type": "code",
   "execution_count": 8,
   "metadata": {},
   "outputs": [],
   "source": [
    "from sklearn.linear_model import LogisticRegression\n",
    "from sklearn.feature_extraction.text import CountVectorizer,TfidfVectorizer\n",
    "\n",
    "def prepare_TFIDF(df, col):\n",
    "    df_train, df_test = train_test_split(df, test_size=0.2, random_state = 8848)\n",
    "\n",
    "    \"\"\"Extract features for given field and using different methods\"\"\"\n",
    "    vectorizer = TfidfVectorizer(use_idf=True, max_df=0.95)\n",
    "    vectorizer.fit_transform(df_train[col].values)\n",
    "    \n",
    "    X_train = vectorizer.transform(df_train[col].values)\n",
    "    X_test  = vectorizer.transform(df_test[col].values)\n",
    "    \n",
    "    y_train = df_train['label'].values\n",
    "    y_test  = df_test['label'].values\n",
    "\n",
    "    return X_train, X_test, y_train, y_test, vectorizer\n",
    "\n",
    "X_train_tf, X_test_tf, y_train_tf, y_test_tf, vectorizer= prepare_TFIDF(df, \"text_processed\")"
   ]
  },
  {
   "cell_type": "markdown",
   "metadata": {},
   "source": [
    "## Model : XGBoost for TFIDF method"
   ]
  },
  {
   "cell_type": "code",
   "execution_count": 9,
   "metadata": {},
   "outputs": [
    {
     "data": {
      "text/plain": [
       "XGBClassifier(base_score=0.5, booster='gbtree', colsample_bylevel=1,\n",
       "              colsample_bynode=1, colsample_bytree=0.6, gamma=0, gpu_id=-1,\n",
       "              importance_type='gain', interaction_constraints='',\n",
       "              learning_rate=0.300000012, max_delta_step=0, max_depth=6,\n",
       "              min_child_weight=1, missing=nan, monotone_constraints='()',\n",
       "              n_estimators=100, n_jobs=0, num_parallel_tree=1,\n",
       "              objective='multi:softprob', random_state=42, reg_alpha=0,\n",
       "              reg_lambda=1, scale_pos_weight=None, seed=2, subsample=0.7,\n",
       "              tree_method='exact', validate_parameters=1, verbosity=None)"
      ]
     },
     "execution_count": 9,
     "metadata": {},
     "output_type": "execute_result"
    }
   ],
   "source": [
    "model_xgb_tf = XGBClassifier(random_state=42, seed=2, colsample_bytree=0.6, subsample=0.7)\n",
    "model_xgb_tf.fit(X_train_tf, y_train_tf)"
   ]
  },
  {
   "cell_type": "markdown",
   "metadata": {},
   "source": [
    "## Prediction"
   ]
  },
  {
   "cell_type": "code",
   "execution_count": 10,
   "metadata": {},
   "outputs": [
    {
     "name": "stdout",
     "output_type": "stream",
     "text": [
      "Test set accuracy score: 98.20\n",
      "Test set f1 score: 98.18 \n"
     ]
    },
    {
     "data": {
      "image/png": "[encoded data removed]",
      "text/plain": [
       "<Figure size 432x432 with 1 Axes>"
      ]
     },
     "metadata": {
      "needs_background": "light"
     },
     "output_type": "display_data"
    }
   ],
   "source": [
    "calc_prediction(model_xgb_tf, X_test_tf, y_test_tf, categorical=False, ax=None, title=None)"
   ]
  },
  {
   "cell_type": "markdown",
   "metadata": {
    "id": "CzzdkrRIkqp_"
   },
   "source": [
    "## Predictions for new texts"
   ]
  },
  {
   "cell_type": "code",
   "execution_count": 11,
   "metadata": {},
   "outputs": [],
   "source": [
    "def Prediction_tf(doc, model=model_xgb_tf, vectorizer=vectorizer):    \n",
    "    doc_processed = process_text(doc)\n",
    "    X_in = vectorizer.transform([doc_processed])\n",
    "    y_out = model.predict(X_in)[0]\n",
    "    category = label_dict_reversed[str(y_out)]\n",
    "    \n",
    "    print (f\"\\nTFIDF Prediction \\n\\n {category}\")"
   ]
  },
  {
   "cell_type": "code",
   "execution_count": 12,
   "metadata": {},
   "outputs": [],
   "source": [
    "def Prediction_bow(doc, model=model_xgb, WORDS_TO_INDEX=WORDS_TO_INDEX):\n",
    "    doc_processed = process_text(doc)\n",
    "    X_in = sp_sparse.vstack([ sp_sparse.csr_matrix(bag_of_words(doc_processed,\n",
    "                                                                WORDS_TO_INDEX)) ])\n",
    "    y_out = model.predict(X_in)[0]\n",
    "    category = label_dict_reversed[str(y_out)]\n",
    "    \n",
    "    #print (f\"The following text\\n\\n {doc} \\n\\n\\\n",
    "    print (f\"\\nBag of Words Prediction \\n\\n {category}\")"
   ]
  },
  {
   "cell_type": "code",
   "execution_count": 13,
   "metadata": {},
   "outputs": [
    {
     "name": "stdout",
     "output_type": "stream",
     "text": [
      "The given doc : Mr Trump responded on Tuesday with his lengthiest statement since he left office a monthago. The Republican Party can never again be respected or stro ...\n",
      "\n",
      "\n",
      "Bag of Words Prediction \n",
      "\n",
      " politics\n",
      "\n",
      "TFIDF Prediction \n",
      "\n",
      " politics\n"
     ]
    }
   ],
   "source": [
    "doc=\"Mr Trump responded on Tuesday with his lengthiest statement since he left office a month\\\n",
    "ago. The Republican Party can never again be respected or strong with \\\n",
    "political 'leaders' like Senator Mitch McConnell at its helm, the press release reads\"\n",
    "\n",
    "print (\"The given doc :\",doc[:150],\"...\\n\")\n",
    "Prediction_bow(doc)\n",
    "Prediction_tf(doc)"
   ]
  },
  {
   "cell_type": "code",
   "execution_count": 14,
   "metadata": {},
   "outputs": [
    {
     "name": "stdout",
     "output_type": "stream",
     "text": [
      "The given doc : England were bowled out for 134 and 164, losing all 10 second-innings wickets to spin as India levelled the four-match series at 1-1. A dry pitch was  ...\n",
      "\n",
      "\n",
      "Bag of Words Prediction \n",
      "\n",
      " sport\n",
      "\n",
      "TFIDF Prediction \n",
      "\n",
      " sport\n"
     ]
    }
   ],
   "source": [
    "doc=\"England were bowled out for 134 and 164, losing all 10 second-innings wickets to \\\n",
    "spin as India levelled the four-match series at 1-1. A dry pitch was heavily criticised\\\n",
    "for offering extravagant spin throughout.\\Conditions were challenging for both sides but\\\n",
    "we showed more application, grit and determination to battle it out, Kohli said. We\\\n",
    "didn't panic looking at the amount of turn and bounce on that pitch.\\\n",
    "We trusted our defence, got into the game and scored 600 in two innings combined.\"\n",
    "\n",
    "print (\"The given doc :\",doc[:150],\"...\\n\")\n",
    "Prediction_bow(doc)\n",
    "Prediction_tf(doc)"
   ]
  },
  {
   "cell_type": "code",
   "execution_count": 15,
   "metadata": {},
   "outputs": [
    {
     "name": "stdout",
     "output_type": "stream",
     "text": [
      "The given doc :  R. Ashwin took 5 wickets in what became the last innings of the seriesto secure an innings and a 25 runs. ...\n",
      "\n",
      "\n",
      "Bag of Words Prediction \n",
      "\n",
      " sport\n",
      "\n",
      "TFIDF Prediction \n",
      "\n",
      " sport\n"
     ]
    }
   ],
   "source": [
    "doc=\" R. Ashwin took 5 wickets in what became the last innings of the series\\\n",
    "to secure an innings and a 25 runs.\"\n",
    "\n",
    "print (\"The given doc :\",doc[:150],\"...\\n\")\n",
    "Prediction_bow(doc)\n",
    "Prediction_tf(doc)"
   ]
  },
  {
   "cell_type": "code",
   "execution_count": 16,
   "metadata": {},
   "outputs": [
    {
     "name": "stdout",
     "output_type": "stream",
     "text": [
      "The given doc : True Thompson makes an adorable cameo in Khloe Kardashian's new makeup tutorial video. Many people didn't like it. ...\n",
      "\n",
      "\n",
      "Bag of Words Prediction \n",
      "\n",
      " sport\n",
      "\n",
      "TFIDF Prediction \n",
      "\n",
      " sport\n"
     ]
    }
   ],
   "source": [
    "doc=\"True Thompson makes an adorable cameo in Khloe \\\n",
    "Kardashian's new makeup tutorial video. Many people didn't like it.\"\n",
    "\n",
    "print (\"The given doc :\",doc[:150],\"...\\n\")\n",
    "Prediction_bow(doc)\n",
    "Prediction_tf(doc)"
   ]
  },
  {
   "cell_type": "code",
   "execution_count": null,
   "metadata": {},
   "outputs": [],
   "source": []
  },
  {
   "cell_type": "code",
   "execution_count": null,
   "metadata": {},
   "outputs": [],
   "source": []
  },
  {
   "cell_type": "code",
   "execution_count": null,
   "metadata": {},
   "outputs": [],
   "source": []
  },
  {
   "cell_type": "code",
   "execution_count": null,
   "metadata": {},
   "outputs": [],
   "source": []
  },
  {
   "cell_type": "code",
   "execution_count": null,
   "metadata": {},
   "outputs": [],
   "source": []
  }
 ],
 "metadata": {
  "accelerator": "GPU",
  "colab": {
   "collapsed_sections": [],
   "name": "04_sentiment_analysis_TF.ipynb",
   "provenance": []
  },
  "kernelspec": {
   "display_name": "Python 3",
   "language": "python",
   "name": "python3"
  },
  "language_info": {
   "codemirror_mode": {
    "name": "ipython",
    "version": 3
   },
   "file_extension": ".py",
   "mimetype": "text/x-python",
   "name": "python",
   "nbconvert_exporter": "python",
   "pygments_lexer": "ipython3",
   "version": "3.8.5"
  }
 },
 "nbformat": 4,
 "nbformat_minor": 1
}
