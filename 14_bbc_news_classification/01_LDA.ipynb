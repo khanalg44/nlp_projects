{
 "cells": [
  {
   "cell_type": "markdown",
   "metadata": {
    "id": "IM2ldeeVkqpr"
   },
   "source": [
    "# Category Prediction on BBC-news data"
   ]
  },
  {
   "cell_type": "code",
   "execution_count": 8,
   "metadata": {
    "executionInfo": {
     "elapsed": 799,
     "status": "ok",
     "timestamp": 1613422164160,
     "user": {
      "displayName": "Ghanashyam Khanal",
      "photoUrl": "https://lh3.googleusercontent.com/a-/AOh14GjNFB_3XwLB8BEW17lVypQ54QKRq7KnQZVd8M-QU9c=s64",
      "userId": "16880718905978803098"
     },
     "user_tz": 300
    },
    "id": "nlA_TAfqkqpx"
   },
   "outputs": [],
   "source": [
    "import numpy as np\n",
    "import pandas as pd\n",
    "import pylab as plt\n",
    "import seaborn as sns\n",
    "\n",
    "from sklearn.model_selection import train_test_split\n",
    "from sklearn.discriminant_analysis import LinearDiscriminantAnalysis as LDA\n",
    "\n",
    "from helper import *\n",
    "\n",
    "from sklearn.metrics import accuracy_score, confusion_matrix, f1_score, roc_auc_score \n",
    "from sklearn.metrics import average_precision_score, recall_score\n",
    "\n",
    "data_dir = './'"
   ]
  },
  {
   "cell_type": "code",
   "execution_count": 2,
   "metadata": {},
   "outputs": [
    {
     "name": "stdout",
     "output_type": "stream",
     "text": [
      "{'tech': 0, 'business': 1, 'sport': 2, 'entertainment': 3, 'politics': 4} {'0': 'tech', '1': 'business', '2': 'sport', '3': 'entertainment', '4': 'politics'}\n",
      "data.shape: (2225, 5)\n"
     ]
    },
    {
     "data": {
      "text/html": [
       "<div>\n",
       "<style scoped>\n",
       "    .dataframe tbody tr th:only-of-type {\n",
       "        vertical-align: middle;\n",
       "    }\n",
       "\n",
       "    .dataframe tbody tr th {\n",
       "        vertical-align: top;\n",
       "    }\n",
       "\n",
       "    .dataframe thead th {\n",
       "        text-align: right;\n",
       "    }\n",
       "</style>\n",
       "<table border=\"1\" class=\"dataframe\">\n",
       "  <thead>\n",
       "    <tr style=\"text-align: right;\">\n",
       "      <th></th>\n",
       "      <th>category</th>\n",
       "      <th>text</th>\n",
       "      <th>label</th>\n",
       "      <th>text_processed</th>\n",
       "      <th>text_len</th>\n",
       "    </tr>\n",
       "  </thead>\n",
       "  <tbody>\n",
       "    <tr>\n",
       "      <th>0</th>\n",
       "      <td>tech</td>\n",
       "      <td>tv future in the hands of viewers with home th...</td>\n",
       "      <td>0</td>\n",
       "      <td>tv futur hand viewer home theatr system plasma...</td>\n",
       "      <td>407</td>\n",
       "    </tr>\n",
       "    <tr>\n",
       "      <th>1</th>\n",
       "      <td>business</td>\n",
       "      <td>worldcom boss  left books alone  former worldc...</td>\n",
       "      <td>1</td>\n",
       "      <td>worldcom boss left book alon former worldcom b...</td>\n",
       "      <td>186</td>\n",
       "    </tr>\n",
       "  </tbody>\n",
       "</table>\n",
       "</div>"
      ],
      "text/plain": [
       "   category                                               text  label  \\\n",
       "0      tech  tv future in the hands of viewers with home th...      0   \n",
       "1  business  worldcom boss  left books alone  former worldc...      1   \n",
       "\n",
       "                                      text_processed  text_len  \n",
       "0  tv futur hand viewer home theatr system plasma...       407  \n",
       "1  worldcom boss left book alon former worldcom b...       186  "
      ]
     },
     "execution_count": 2,
     "metadata": {},
     "output_type": "execute_result"
    }
   ],
   "source": [
    "import json\n",
    "\n",
    "with open(data_dir+\"label_dict.json\", 'r') as fp:\n",
    "    label_dict = json.load(fp)\n",
    "\n",
    "with open(data_dir+\"label_dict_reversed.json\", 'r') as fp:\n",
    "    label_dict_reversed = json.load(fp)\n",
    "\n",
    "print (label_dict, label_dict_reversed)\n",
    "df = pd.read_csv(data_dir+'bbc_text_processed.csv')\n",
    "print ('data.shape:',df.shape)\n",
    "df.head(2)"
   ]
  },
  {
   "cell_type": "markdown",
   "metadata": {},
   "source": [
    "## Bag of Words Method"
   ]
  },
  {
   "cell_type": "code",
   "execution_count": 3,
   "metadata": {},
   "outputs": [],
   "source": [
    "from collections import Counter\n",
    "ALL_WORDS = [word for text in df['text_processed'] for word in text.split() ]\n",
    "words_counts = Counter(ALL_WORDS)\n"
   ]
  },
  {
   "cell_type": "code",
   "execution_count": 4,
   "metadata": {},
   "outputs": [],
   "source": [
    "DICT_SIZE = 1000\n",
    "VOCAB = words_counts.most_common(DICT_SIZE)\n",
    "WORDS_TO_INDEX = {item[0]:ii for ii, item in enumerate(VOCAB) }\n",
    "INDEX_TO_WORDS = {ii:word for word, ii in WORDS_TO_INDEX.items()}"
   ]
  },
  {
   "cell_type": "code",
   "execution_count": 5,
   "metadata": {},
   "outputs": [
    {
     "name": "stdout",
     "output_type": "stream",
     "text": [
      "X_train shape  (1780, 1000)\n",
      "X_test shape  (445, 1000)\n",
      "y_train shape  (1780,)\n",
      "y_test shape  (445,)\n"
     ]
    }
   ],
   "source": [
    "from collections import Counter\n",
    "from scipy import sparse as sp_sparse\n",
    "\n",
    "ALL_WORDS = [word for text in df['text_processed'] for word in text.split() ]\n",
    "words_counts = Counter(ALL_WORDS)\n",
    "\n",
    "def bag_of_words(text, words_to_index):\n",
    "    result_vec = np.zeros(len(words_to_index.keys()))\n",
    "    for word in text.split():\n",
    "        if word in words_to_index:\n",
    "            result_vec[words_to_index[word]] +=1\n",
    "    return result_vec\n",
    "\n",
    "def prepare_BOW(df, col):\n",
    "    df_train, df_test = train_test_split(df, test_size=0.2, random_state = 8848)\n",
    "    X_train_bow = sp_sparse.vstack([ sp_sparse.csr_matrix(bag_of_words(text,\n",
    "                                                                       WORDS_TO_INDEX)) for text in df_train[col]])\n",
    "    X_test_bow = sp_sparse.vstack([ sp_sparse.csr_matrix(bag_of_words(text,\n",
    "                                                                      WORDS_TO_INDEX)) for text in df_test[col]])\n",
    "\n",
    "    y_train = df_train['label'].values\n",
    "    y_test  = df_test['label'].values\n",
    "    \n",
    "    print('X_train shape ', X_train_bow.shape)\n",
    "    print('X_test shape ',  X_test_bow.shape)\n",
    "    print('y_train shape ', y_train.shape)\n",
    "    print('y_test shape ',  y_test.shape)\n",
    "    \n",
    "    return X_train_bow, X_test_bow, y_train, y_test\n",
    "\n",
    "X_train_bow, X_test_bow, y_train_bow, y_test_bow = prepare_BOW(df, \"text_processed\")"
   ]
  },
  {
   "cell_type": "markdown",
   "metadata": {},
   "source": [
    "## Model : Linear Discriminant Analysis (LDA) for  BOW method"
   ]
  },
  {
   "cell_type": "code",
   "execution_count": 6,
   "metadata": {},
   "outputs": [
    {
     "data": {
      "text/plain": [
       "array([[1., 0., 0., ..., 0., 0., 0.],\n",
       "       [3., 3., 1., ..., 0., 0., 0.],\n",
       "       [2., 0., 0., ..., 0., 0., 0.],\n",
       "       ...,\n",
       "       [1., 0., 1., ..., 0., 0., 0.],\n",
       "       [0., 0., 0., ..., 0., 0., 2.],\n",
       "       [1., 0., 3., ..., 0., 0., 0.]])"
      ]
     },
     "execution_count": 6,
     "metadata": {},
     "output_type": "execute_result"
    }
   ],
   "source": [
    "X_train_bow.toarray()"
   ]
  },
  {
   "cell_type": "code",
   "execution_count": 9,
   "metadata": {},
   "outputs": [
    {
     "data": {
      "text/plain": [
       "LinearDiscriminantAnalysis()"
      ]
     },
     "execution_count": 9,
     "metadata": {},
     "output_type": "execute_result"
    }
   ],
   "source": [
    "model_LDA = LDA()\n",
    "model_LDA.fit(X_train_bow.toarray(), y_train_bow)"
   ]
  },
  {
   "cell_type": "code",
   "execution_count": 10,
   "metadata": {},
   "outputs": [
    {
     "name": "stdout",
     "output_type": "stream",
     "text": [
      "Classification Report:\n",
      "               precision    recall  f1-score   support\n",
      "\n",
      "           0       0.96      0.90      0.93        81\n",
      "           1       0.87      0.87      0.87        89\n",
      "           2       0.84      0.96      0.90        94\n",
      "           3       0.88      0.94      0.91        94\n",
      "           4       0.92      0.77      0.84        87\n",
      "\n",
      "    accuracy                           0.89       445\n",
      "   macro avg       0.89      0.89      0.89       445\n",
      "weighted avg       0.89      0.89      0.89       445\n",
      "\n",
      "\n"
     ]
    },
    {
     "data": {
      "image/png": "[encoded data removed]",
      "text/plain": [
       "<Figure size 432x432 with 1 Axes>"
      ]
     },
     "metadata": {
      "needs_background": "light"
     },
     "output_type": "display_data"
    }
   ],
   "source": [
    "calc_prediction(model_LDA, X_test_bow, y_test_bow, categorical=False, ax=None, title=None)"
   ]
  },
  {
   "cell_type": "markdown",
   "metadata": {
    "id": "CzzdkrRIkqp_"
   },
   "source": [
    "## Predictions for new texts"
   ]
  },
  {
   "cell_type": "code",
   "execution_count": 22,
   "metadata": {},
   "outputs": [],
   "source": [
    "def Prediction_bow(doc, model=model_LDA, WORDS_TO_INDEX=WORDS_TO_INDEX):\n",
    "    doc_processed = process_text(doc)\n",
    "    X_in = sp_sparse.vstack([ sp_sparse.csr_matrix(bag_of_words(doc_processed,\n",
    "                                                                WORDS_TO_INDEX)) ])\n",
    "    y_out = model.predict(X_in)[0]\n",
    "    #print (y_out, label_dict_reversed)\n",
    "    category = label_dict_reversed[str(y_out)]\n",
    "    \n",
    "    #print (f\"The following text\\n\\n {doc} \\n\\n\\\n",
    "    print (f\"Bag of Words Prediction \\t {category}\")"
   ]
  },
  {
   "cell_type": "code",
   "execution_count": 23,
   "metadata": {},
   "outputs": [
    {
     "name": "stdout",
     "output_type": "stream",
     "text": [
      "The given doc :\n",
      " Mr Trump responded on Tuesday with his lengthiest statement since he left office a month ago. The Republican Party can never again be respected or str ...\n",
      "\n",
      "Bag of Words Prediction \t sport\n",
      "\n",
      "The given doc :\n",
      " England were bowled out for 134 and 164, losing all 10 second-innings wickets to spin as India levelled the four-match series at 1-1. A dry pitch was  ...\n",
      "\n",
      "Bag of Words Prediction \t sport\n",
      "\n",
      "The given doc :\n",
      "  R. Ashwin took 5 wickets in what became the last innings of the series to secure an innings and a 25 runs. ...\n",
      "\n",
      "Bag of Words Prediction \t sport\n",
      "\n",
      "The given doc :\n",
      " True Thompson makes an adorable cameo in Khloe Kardashian's new makeup tutorial video. Many people didn't like it. ...\n",
      "\n",
      "Bag of Words Prediction \t sport\n",
      "\n"
     ]
    }
   ],
   "source": [
    "test_docs = get_test_doc()\n",
    "\n",
    "for doc in test_docs:\n",
    "    print (\"The given doc :\\n\",doc[:150],\"...\\n\")\n",
    "    Prediction_bow(doc)\n",
    "    print ()"
   ]
  },
  {
   "cell_type": "code",
   "execution_count": null,
   "metadata": {},
   "outputs": [],
   "source": []
  }
 ],
 "metadata": {
  "accelerator": "GPU",
  "colab": {
   "collapsed_sections": [],
   "name": "04_sentiment_analysis_TF.ipynb",
   "provenance": []
  },
  "kernelspec": {
   "display_name": "Python 3",
   "language": "python",
   "name": "python3"
  },
  "language_info": {
   "codemirror_mode": {
    "name": "ipython",
    "version": 3
   },
   "file_extension": ".py",
   "mimetype": "text/x-python",
   "name": "python",
   "nbconvert_exporter": "python",
   "pygments_lexer": "ipython3",
   "version": "3.8.5"
  }
 },
 "nbformat": 4,
 "nbformat_minor": 1
}
